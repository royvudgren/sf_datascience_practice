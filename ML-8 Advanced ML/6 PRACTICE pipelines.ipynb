{
 "cells": [
  {
   "cell_type": "markdown",
   "metadata": {},
   "source": [
    "# **Пайплайны. Практика**"
   ]
  },
  {
   "cell_type": "markdown",
   "metadata": {},
   "source": [
    "Импорт библиотек и данных"
   ]
  },
  {
   "cell_type": "code",
   "execution_count": 17,
   "metadata": {},
   "outputs": [],
   "source": [
    "import pandas as pd\n",
    "import numpy as np\n",
    "from sklearn.pipeline import Pipeline\n",
    "from sklearn.pipeline import make_pipeline\n",
    "from sklearn.ensemble import RandomForestRegressor\n",
    "from sklearn.preprocessing import StandardScaler, OneHotEncoder, OrdinalEncoder\n",
    "\n",
    "from sklearn.tree import DecisionTreeRegressor\n",
    "from sklearn.ensemble import StackingRegressor\n",
    "from sklearn.linear_model import RidgeCV\n",
    "\n",
    "from sklearn.datasets import fetch_california_housing\n",
    "from sklearn.metrics import r2_score, mean_squared_error\n",
    "from sklearn.model_selection import train_test_split\n",
    "from sklearn.model_selection import GridSearchCV\n",
    "\n",
    "from sklearn.compose import make_column_transformer, make_column_selector\n",
    "import joblib"
   ]
  },
  {
   "cell_type": "code",
   "execution_count": 5,
   "metadata": {},
   "outputs": [
    {
     "data": {
      "text/html": [
       "<div>\n",
       "<style scoped>\n",
       "    .dataframe tbody tr th:only-of-type {\n",
       "        vertical-align: middle;\n",
       "    }\n",
       "\n",
       "    .dataframe tbody tr th {\n",
       "        vertical-align: top;\n",
       "    }\n",
       "\n",
       "    .dataframe thead th {\n",
       "        text-align: right;\n",
       "    }\n",
       "</style>\n",
       "<table border=\"1\" class=\"dataframe\">\n",
       "  <thead>\n",
       "    <tr style=\"text-align: right;\">\n",
       "      <th></th>\n",
       "      <th>Name</th>\n",
       "      <th>Country</th>\n",
       "      <th>Region</th>\n",
       "      <th>Winery</th>\n",
       "      <th>Rating</th>\n",
       "      <th>NumberOfRatings</th>\n",
       "      <th>Price</th>\n",
       "      <th>Year</th>\n",
       "    </tr>\n",
       "  </thead>\n",
       "  <tbody>\n",
       "    <tr>\n",
       "      <th>0</th>\n",
       "      <td>Lirac 2017</td>\n",
       "      <td>France</td>\n",
       "      <td>Lirac</td>\n",
       "      <td>Château Mont-Redon</td>\n",
       "      <td>4.3</td>\n",
       "      <td>100</td>\n",
       "      <td>15.50</td>\n",
       "      <td>2017</td>\n",
       "    </tr>\n",
       "    <tr>\n",
       "      <th>1</th>\n",
       "      <td>Erta e China Rosso di Toscana 2015</td>\n",
       "      <td>Italy</td>\n",
       "      <td>Toscana</td>\n",
       "      <td>Renzo Masi</td>\n",
       "      <td>3.9</td>\n",
       "      <td>100</td>\n",
       "      <td>7.45</td>\n",
       "      <td>2015</td>\n",
       "    </tr>\n",
       "    <tr>\n",
       "      <th>2</th>\n",
       "      <td>Bardolino 2019</td>\n",
       "      <td>Italy</td>\n",
       "      <td>Bardolino</td>\n",
       "      <td>Cavalchina</td>\n",
       "      <td>3.5</td>\n",
       "      <td>100</td>\n",
       "      <td>8.72</td>\n",
       "      <td>2019</td>\n",
       "    </tr>\n",
       "    <tr>\n",
       "      <th>3</th>\n",
       "      <td>Ried Scheibner Pinot Noir 2016</td>\n",
       "      <td>Austria</td>\n",
       "      <td>Carnuntum</td>\n",
       "      <td>Markowitsch</td>\n",
       "      <td>3.9</td>\n",
       "      <td>100</td>\n",
       "      <td>29.15</td>\n",
       "      <td>2016</td>\n",
       "    </tr>\n",
       "    <tr>\n",
       "      <th>4</th>\n",
       "      <td>Capatosta 2015</td>\n",
       "      <td>Italy</td>\n",
       "      <td>Toscana</td>\n",
       "      <td>Poggio Argentiera</td>\n",
       "      <td>3.8</td>\n",
       "      <td>101</td>\n",
       "      <td>19.90</td>\n",
       "      <td>2015</td>\n",
       "    </tr>\n",
       "  </tbody>\n",
       "</table>\n",
       "</div>"
      ],
      "text/plain": [
       "                                 Name  Country     Region              Winery  \\\n",
       "0                          Lirac 2017   France      Lirac  Château Mont-Redon   \n",
       "1  Erta e China Rosso di Toscana 2015    Italy    Toscana          Renzo Masi   \n",
       "2                      Bardolino 2019    Italy  Bardolino          Cavalchina   \n",
       "3      Ried Scheibner Pinot Noir 2016  Austria  Carnuntum         Markowitsch   \n",
       "4                      Capatosta 2015    Italy    Toscana   Poggio Argentiera   \n",
       "\n",
       "   Rating  NumberOfRatings  Price  Year  \n",
       "0     4.3              100  15.50  2017  \n",
       "1     3.9              100   7.45  2015  \n",
       "2     3.5              100   8.72  2019  \n",
       "3     3.9              100  29.15  2016  \n",
       "4     3.8              101  19.90  2015  "
      ]
     },
     "execution_count": 5,
     "metadata": {},
     "output_type": "execute_result"
    }
   ],
   "source": [
    "df_wine= pd.read_csv('data/Red.csv')\n",
    "df_wine.head()\n",
    "\n",
    "df_wine_test= pd.read_csv('data/Red_test.csv')\n",
    "df_wine_test.head()"
   ]
  },
  {
   "cell_type": "markdown",
   "metadata": {},
   "source": [
    "### **Задание 6.1**\n",
    "\n",
    "Вам следует выполнить следующее:\n",
    "\n",
    "* Добавить обработку столбца **'Region'** в пайплайн, полученный ранее в модуле, с использованием **OrdinalEncoder**.\n",
    "  Важно! Для совпадения результатов процесс трансформации столбцов должен выполняться в следующей последовательности:\n",
    "  1. Кодирование столбца 'Region'.\n",
    "  2. Стандартизация столбца 'Price'.\n",
    "  3. Кодирование столбца 'Country'.\n",
    "\n",
    "\n",
    "* Обучить на тренировочном наборе данных пайплайн и оценить качество модели по метрике **RMSE** на тестовом наборе (файл Red_test.csv ).\n",
    "* Зафиксировать random_state=42.\n",
    "* Сохранить пайплайн в файл pipeline_wine.pkl."
   ]
  },
  {
   "cell_type": "code",
   "execution_count": 12,
   "metadata": {},
   "outputs": [
    {
     "name": "stdout",
     "output_type": "stream",
     "text": [
      "Качество по RSME: 0.0765\n"
     ]
    },
    {
     "data": {
      "text/plain": [
       "['data/pipeline_wine.pkl']"
      ]
     },
     "execution_count": 12,
     "metadata": {},
     "output_type": "execute_result"
    }
   ],
   "source": [
    "def rmse(y_hat, y):\n",
    "    return mean_squared_error(y_hat, y, squared = False)\n",
    "random_state = 42\n",
    "\n",
    "ct = make_column_transformer(\n",
    "    (OrdinalEncoder(), ['Region']),\n",
    "    (StandardScaler(), ['Price']),\n",
    "    (OneHotEncoder(), ['Country']))\n",
    "\n",
    "pipeline = Pipeline([('ct', ct), ('rf', RandomForestRegressor(random_state=random_state))])\n",
    "X = df_wine[['Country', 'Price', 'Region']]\n",
    "y = df_wine['Rating']\n",
    "pipeline.fit(X, y)\n",
    "\n",
    "X_test = df_wine_test[['Country', 'Price', 'Region']]\n",
    "y_test = df_wine_test['Rating']\n",
    "y_pred = pipeline.predict(X_test)\n",
    "print(f'Качество по RSME: {round(rmse(y_test, y_pred),4)}')\n",
    "\n",
    "joblib.dump(pipeline, 'data/pipeline_wine.pkl')"
   ]
  },
  {
   "cell_type": "markdown",
   "metadata": {},
   "source": [
    "### **Задание 6.2**\n",
    "\n",
    "Теперь попробуем изменить параметры случайного леса в пайплайне, полученном в предыдущем задании.\n",
    "\n",
    "Измените параметр **n_estimators** в случайном лесу со значения по умолчанию до 200 , используя метод **set_params**.\n",
    "\n",
    "В качестве ответа на задание введите в поле ниже полученный результат по метрике RMSE, округленный до четвёртого знака после запятой."
   ]
  },
  {
   "cell_type": "code",
   "execution_count": 15,
   "metadata": {},
   "outputs": [
    {
     "name": "stdout",
     "output_type": "stream",
     "text": [
      "200\n",
      "Качество по RSME: 0.0761\n"
     ]
    }
   ],
   "source": [
    "pipeline.set_params(rf__n_estimators = 200)\n",
    "print(pipeline[1].n_estimators)\n",
    "pipeline.fit(X, y)\n",
    "y_pred = pipeline.predict(X_test)\n",
    "print(f'Качество по RSME: {round(rmse(y_test, y_pred),4)}')"
   ]
  },
  {
   "cell_type": "markdown",
   "metadata": {},
   "source": [
    "### **Задание 6.3**\n",
    "\n",
    "Теперь попробуем добавить стекинг в качестве модели в пайплайн.\n",
    "\n",
    "Вам следует выполнить следующее:\n",
    "\n",
    "* Собрать **StackingRegressor**:\n",
    "  1. В качестве базовых моделей возьмите ридж-регрессию **RidgeCV()** и решающее дерево.\n",
    "  2. В качестве метамодели возьмите случайный лес с настройками (количество базовых моделей 10).\n",
    "  3. Все базовые модели стекинга модели должны быть с настройками по умолчанию (кроме **random_state**).\n",
    "* Зафиксировать **random_state=42** (для всех моделей).\n",
    "* Заменить в пайплайне задачи 6.1 случайный лес на **StackingRegressor**.\n",
    "* Обучить модель на тренировочной выборке.\n",
    "\n",
    "В качестве ответа на задание введите в поле ниже полученный результат по метрике **RMSE**, округлённый до второго знака после запятой."
   ]
  },
  {
   "cell_type": "code",
   "execution_count": 21,
   "metadata": {},
   "outputs": [
    {
     "name": "stdout",
     "output_type": "stream",
     "text": [
      "Качество по RSME: 0.18\n"
     ]
    }
   ],
   "source": [
    "#Создаем список кортежей вида: (наименование модели, модель)\n",
    "estimators = [\n",
    "    ('rcv', RidgeCV()),\n",
    "    ('dtr',  DecisionTreeRegressor(random_state=random_state))\n",
    "]\n",
    "\n",
    "#Создаем объект класса стекинг\n",
    "reg = StackingRegressor(\n",
    "    estimators=estimators,\n",
    "    final_estimator=RandomForestRegressor(n_estimators=10,\n",
    "                                          random_state=42)\n",
    ")\n",
    "\n",
    "pipeline = Pipeline([('ct', ct), ('reg', reg)])\n",
    "X = df_wine[['Country', 'Price', 'Region']]\n",
    "y = df_wine['Rating']\n",
    "pipeline.fit(X, y)\n",
    "\n",
    "X_test = df_wine_test[['Country', 'Price', 'Region']]\n",
    "y_test = df_wine_test['Rating']\n",
    "y_pred = pipeline.predict(X_test)\n",
    "print(f'Качество по RSME: {round(rmse(y_test, y_pred),2)}')"
   ]
  }
 ],
 "metadata": {
  "kernelspec": {
   "display_name": "Python 3.10.8 64-bit",
   "language": "python",
   "name": "python3"
  },
  "language_info": {
   "codemirror_mode": {
    "name": "ipython",
    "version": 3
   },
   "file_extension": ".py",
   "mimetype": "text/x-python",
   "name": "python",
   "nbconvert_exporter": "python",
   "pygments_lexer": "ipython3",
   "version": "3.10.8"
  },
  "orig_nbformat": 4,
  "vscode": {
   "interpreter": {
    "hash": "c68eacbc5a3a550d9b1f68bf11bf31e2b39ed4b9985227d4d8c7ee1d286013f5"
   }
  }
 },
 "nbformat": 4,
 "nbformat_minor": 2
}
