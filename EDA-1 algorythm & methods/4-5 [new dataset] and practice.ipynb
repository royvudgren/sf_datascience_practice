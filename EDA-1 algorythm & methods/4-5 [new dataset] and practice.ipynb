{
 "cells": [
  {
   "cell_type": "markdown",
   "metadata": {},
   "source": [
    "# **Знакомство с данными: винные обзоры**"
   ]
  },
  {
   "cell_type": "code",
   "execution_count": 32,
   "metadata": {},
   "outputs": [],
   "source": [
    "import pandas as pd\n",
    "from IPython.display import display\n",
    "import math"
   ]
  },
  {
   "cell_type": "markdown",
   "metadata": {},
   "source": [
    "**[После просмотра документального фильма о сомелье вы захотели создать прогностическую модель для оценки вин вслепую, как это делает сомелье.]**\n",
    "\n",
    "Определив бизнес-задачу, вы перешли к сбору данных для обучения модели. После нескольких недель парсинга сайта [WineEnthusiast](https://www.wineenthusiast.com/) вам удалось собрать около 130 тысяч строк обзоров вин для анализа и обучения.\n",
    "\n",
    "Вот какие признаки вам удалось собрать:\n",
    "\n",
    "* country — страна-производитель вина.\n",
    "* description — подробное описание.\n",
    "* designation — название виноградника, где выращивают виноград для вина.\n",
    "* points — баллы, которыми WineEnthusiast оценил вино по шкале от 1 до 100.\n",
    "* price — стоимость бутылки вина.\n",
    "* province — провинция или штат.\n",
    "* region_1 — винодельческий район в провинции или штате (например Напа).\n",
    "* region_2 — конкретный регион. Иногда в пределах винодельческой зоны указываются более конкретные регионы (например Резерфорд в долине Напа), но это значение может быть пустым.\n",
    "* taster_name — имя сомелье.\n",
    "* taster_twitter_handle — твиттер сомелье.\n",
    "* title — название вина, которое часто содержит год и другую подробную информацию.\n",
    "* variety — сорт винограда, из которого изготовлено вино (например Пино Нуар).\n",
    "* winery — винодельня, которая производила вино."
   ]
  },
  {
   "cell_type": "code",
   "execution_count": 40,
   "metadata": {},
   "outputs": [
    {
     "data": {
      "text/plain": [
       "19"
      ]
     },
     "metadata": {},
     "output_type": "display_data"
    },
    {
     "data": {
      "text/plain": [
       "3300.0"
      ]
     },
     "metadata": {},
     "output_type": "display_data"
    }
   ],
   "source": [
    "data = pd.read_csv('data/wine.csv')\n",
    "#display(data.head())\n",
    "\n",
    "# Сколько всего дегустаторов приняло участие в винных обзорах?\n",
    "display(data['taster_name'].nunique())\n",
    "\n",
    "# Какова максимальная цена за бутылку в этом наборе данных? Введите целое число.\n",
    "display(data['price'].max())"
   ]
  },
  {
   "cell_type": "code",
   "execution_count": 24,
   "metadata": {},
   "outputs": [
    {
     "name": "stdout",
     "output_type": "stream",
     "text": [
      "description\n"
     ]
    }
   ],
   "source": [
    "print(data.columns[1])"
   ]
  },
  {
   "cell_type": "code",
   "execution_count": 29,
   "metadata": {},
   "outputs": [
    {
     "name": "stdout",
     "output_type": "stream",
     "text": [
      "<class 'pandas.core.frame.DataFrame'>\n",
      "RangeIndex: 129971 entries, 0 to 129970\n",
      "Data columns (total 13 columns):\n",
      " #   Column                 Non-Null Count   Dtype  \n",
      "---  ------                 --------------   -----  \n",
      " 0   country                129908 non-null  object \n",
      " 1   description            129971 non-null  object \n",
      " 2   designation            92506 non-null   object \n",
      " 3   points                 129971 non-null  int64  \n",
      " 4   price                  120975 non-null  float64\n",
      " 5   province               129908 non-null  object \n",
      " 6   region_1               108724 non-null  object \n",
      " 7   region_2               50511 non-null   object \n",
      " 8   taster_name            103727 non-null  object \n",
      " 9   taster_twitter_handle  98758 non-null   object \n",
      " 10  title                  129971 non-null  object \n",
      " 11  variety                129970 non-null  object \n",
      " 12  winery                 129971 non-null  object \n",
      "dtypes: float64(1), int64(1), object(11)\n",
      "memory usage: 12.9+ MB\n"
     ]
    },
    {
     "data": {
      "text/plain": [
       "None"
      ]
     },
     "metadata": {},
     "output_type": "display_data"
    },
    {
     "data": {
      "text/plain": [
       "['points', 'price']"
      ]
     },
     "metadata": {},
     "output_type": "display_data"
    }
   ],
   "source": [
    "# Проанализируйте представленный датасет и перечислите все числовые признаки через запятую.\n",
    "display(data.info())\n",
    "int_float_cols = []\n",
    "i = 0\n",
    "\n",
    "for type in data.dtypes:\n",
    "    if type in ['int64', 'float64']:\n",
    "        int_float_cols.append(data.columns[i])\n",
    "    i+=1\n",
    "display(int_float_cols)"
   ]
  },
  {
   "cell_type": "code",
   "execution_count": 30,
   "metadata": {},
   "outputs": [
    {
     "name": "stdout",
     "output_type": "stream",
     "text": [
      "Число найденных дубликатов: 9983\n",
      "Результирующее число записей: 119988\n"
     ]
    }
   ],
   "source": [
    "# Проанализируйте датасет на наличие дублирующихся винных обзоров. Если дублирующиеся записи есть, удалите их.\n",
    "# В поле ниже введите, сколько дублирующихся записей вам удалось обнаружить.\n",
    "\n",
    "dupl_columns = list(data.columns)\n",
    "\n",
    "mask = data.duplicated(subset=dupl_columns) # Создадим маску дубликатов с помощью метода duplicated() и произведём фильтрацию\n",
    "duplicates = data[mask]\n",
    "print(f'Число найденных дубликатов: {duplicates.shape[0]}')\n",
    "\n",
    "dedupped = data.drop_duplicates(subset=dupl_columns) # Создадим новую таблицу sber_dedupped, которая будет версией исходной таблицы, очищенной от полных дубликатов.\n",
    "print(f'Результирующее число записей: {dedupped.shape[0]}')"
   ]
  },
  {
   "cell_type": "code",
   "execution_count": 31,
   "metadata": {},
   "outputs": [
    {
     "data": {
      "text/plain": [
       "region_2                 61.136715\n",
       "designation              28.825661\n",
       "taster_twitter_handle    24.015357\n",
       "taster_name              20.192197\n",
       "region_1                 16.347493\n",
       "price                     6.921544\n",
       "country                   0.048472\n",
       "province                  0.048472\n",
       "variety                   0.000769\n",
       "dtype: float64"
      ]
     },
     "metadata": {},
     "output_type": "display_data"
    }
   ],
   "source": [
    "# Проверьте датасет на наличие пропусков в данных.\n",
    "# В каких из представленных признаках были обнаружены пропуски?\n",
    "cols_null_percent = data.isnull().mean() * 100\n",
    "cols_with_null = cols_null_percent[cols_null_percent>0].sort_values(ascending=False)\n",
    "display(cols_with_null)"
   ]
  },
  {
   "cell_type": "code",
   "execution_count": 42,
   "metadata": {},
   "outputs": [
    {
     "name": "stdout",
     "output_type": "stream",
     "text": [
      "<class 'pandas.core.frame.DataFrame'>\n",
      "Int64Index: 119987 entries, 0 to 129970\n",
      "Data columns (total 12 columns):\n",
      " #   Column                 Non-Null Count   Dtype  \n",
      "---  ------                 --------------   -----  \n",
      " 0   country                119987 non-null  object \n",
      " 1   description            119987 non-null  object \n",
      " 2   designation            119987 non-null  object \n",
      " 3   points                 119987 non-null  int64  \n",
      " 4   price                  119987 non-null  float64\n",
      " 5   province               119987 non-null  object \n",
      " 6   region_1               119987 non-null  object \n",
      " 7   taster_name            119987 non-null  object \n",
      " 8   taster_twitter_handle  119987 non-null  object \n",
      " 9   title                  119987 non-null  object \n",
      " 10  variety                119987 non-null  object \n",
      " 11  winery                 119987 non-null  object \n",
      "dtypes: float64(1), int64(1), object(10)\n",
      "memory usage: 11.9+ MB\n"
     ]
    }
   ],
   "source": [
    "# Если какой-то из признаков имеет более 30-40 % пропусков, лучше избавьтесь от него:\n",
    "# его заполнение может привести к сильному искажению общего распределения, а удаление записей — к большой утрате данных.\n",
    "# Заполняйте данные с умом! Если перед вами количественный признак,\n",
    "# то использование нецелого числа в качестве константы является как минимум нелогичным.\n",
    "# Вы можете оставить пропуски как есть, просто заменив их на какой-то специальный символ.\n",
    "# Например, для числовых неотрицательных признаков можно использовать число -1, а для категориальных — строку 'unknown'.\n",
    "\n",
    "# отбрасываем столбцы с числом пропусков более 30% (100-70)\n",
    "n = dedupped.shape[0] #число строк в таблице\n",
    "thresh = math.ceil(n*0.7)\n",
    "data_filled = dedupped.dropna(how='any', thresh=thresh, axis=1)\n",
    "\n",
    "\n",
    "# отбрасываем строки с числом пропусков более 4 в строке\n",
    "m = data_filled.shape[1] #число признаков после удаления столбцов\n",
    "data_filled = data_filled.dropna(how='any', thresh=m-4, axis=0)\n",
    "\n",
    "#заполняем оставшиеся записи константами в соответствии со словарем values\n",
    "data_filled=data_filled.fillna(value={'country': 'unknown', 'designation': 'unknown', 'price': -1, 'province': 'unknown', 'region_1': 'unknown', 'taster_name': 'unknown', 'taster_twitter_handle': 'unknown'}) \n",
    "data_filled.info()"
   ]
  }
 ],
 "metadata": {
  "interpreter": {
   "hash": "11938c6bc6919ae2720b4d5011047913343b08a43b18698fd82dedb0d4417594"
  },
  "kernelspec": {
   "display_name": "Python 3.9.10 64-bit",
   "language": "python",
   "name": "python3"
  },
  "language_info": {
   "codemirror_mode": {
    "name": "ipython",
    "version": 3
   },
   "file_extension": ".py",
   "mimetype": "text/x-python",
   "name": "python",
   "nbconvert_exporter": "python",
   "pygments_lexer": "ipython3",
   "version": "3.9.10"
  },
  "orig_nbformat": 4
 },
 "nbformat": 4,
 "nbformat_minor": 2
}
