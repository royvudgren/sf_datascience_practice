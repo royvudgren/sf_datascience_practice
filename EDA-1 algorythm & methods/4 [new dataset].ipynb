{
 "cells": [
  {
   "cell_type": "markdown",
   "metadata": {},
   "source": [
    "# **Знакомство с данными: винные обзоры**"
   ]
  },
  {
   "cell_type": "code",
   "execution_count": 3,
   "metadata": {},
   "outputs": [],
   "source": [
    "import pandas as pd\n",
    "from IPython.display import display"
   ]
  },
  {
   "cell_type": "markdown",
   "metadata": {},
   "source": [
    "**[После просмотра документального фильма о сомелье вы захотели создать прогностическую модель для оценки вин вслепую, как это делает сомелье.]**\n",
    "\n",
    "Определив бизнес-задачу, вы перешли к сбору данных для обучения модели. После нескольких недель парсинга сайта [WineEnthusiast](https://www.wineenthusiast.com/) вам удалось собрать около 130 тысяч строк обзоров вин для анализа и обучения.\n",
    "\n",
    "Вот какие признаки вам удалось собрать:\n",
    "\n",
    "* country — страна-производитель вина.\n",
    "* description — подробное описание.\n",
    "* designation — название виноградника, где выращивают виноград для вина.\n",
    "* points — баллы, которыми WineEnthusiast оценил вино по шкале от 1 до 100.\n",
    "* price — стоимость бутылки вина.\n",
    "* province — провинция или штат.\n",
    "* region_1 — винодельческий район в провинции или штате (например Напа).\n",
    "* region_2 — конкретный регион. Иногда в пределах винодельческой зоны указываются более конкретные регионы (например Резерфорд в долине Напа), но это значение может быть пустым.\n",
    "* taster_name — имя сомелье.\n",
    "* taster_twitter_handle — твиттер сомелье.\n",
    "* title — название вина, которое часто содержит год и другую подробную информацию.\n",
    "* variety — сорт винограда, из которого изготовлено вино (например Пино Нуар).\n",
    "* winery — винодельня, которая производила вино.\n",
    "\n"
   ]
  },
  {
   "cell_type": "code",
   "execution_count": 25,
   "metadata": {},
   "outputs": [
    {
     "data": {
      "text/plain": [
       "19"
      ]
     },
     "metadata": {},
     "output_type": "display_data"
    },
    {
     "data": {
      "text/plain": [
       "3300.0"
      ]
     },
     "metadata": {},
     "output_type": "display_data"
    }
   ],
   "source": [
    "data = pd.read_csv('data/wine.csv')\n",
    "#display(data.head())\n",
    "\n",
    "# Сколько всего дегустаторов приняло участие в винных обзорах?\n",
    "display(data['taster_name'].nunique())\n",
    "\n",
    "# Какова максимальная цена за бутылку в этом наборе данных? Введите целое число.\n",
    "display(data['price'].max())"
   ]
  }
 ],
 "metadata": {
  "interpreter": {
   "hash": "11938c6bc6919ae2720b4d5011047913343b08a43b18698fd82dedb0d4417594"
  },
  "kernelspec": {
   "display_name": "Python 3.9.10 64-bit",
   "language": "python",
   "name": "python3"
  },
  "language_info": {
   "codemirror_mode": {
    "name": "ipython",
    "version": 3
   },
   "file_extension": ".py",
   "mimetype": "text/x-python",
   "name": "python",
   "nbconvert_exporter": "python",
   "pygments_lexer": "ipython3",
   "version": "3.9.10"
  },
  "orig_nbformat": 4
 },
 "nbformat": 4,
 "nbformat_minor": 2
}
