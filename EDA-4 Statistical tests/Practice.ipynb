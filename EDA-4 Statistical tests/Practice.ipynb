{
 "cells": [
  {
   "cell_type": "markdown",
   "metadata": {},
   "source": [
    "# **Практика EDA-4**"
   ]
  },
  {
   "cell_type": "markdown",
   "metadata": {},
   "source": [
    "Используя информацию по мидиям Петербурга и Магадана, которые представлены в виде двух массивов petersburg и magadan в разделе ANOVA-тест, проверьте данные на нормальность и на наличие корреляции. \n",
    "\n",
    "Для этого:\n",
    "\n",
    "* Объедините два массива в DataFrame. \n",
    "* Обоснуйте выбор теста на корреляцию. \n",
    "* Сделайте вывод по гипотезе.\n",
    "* Ответьте на вопрос: Какова разница в среднем размере мидии в зависимости от города-производителя\n",
    "* Обоснуйте выбор теста. \n",
    "* Сделайте вывод по гипотезе."
   ]
  },
  {
   "cell_type": "markdown",
   "metadata": {},
   "source": [
    "***\n",
    "### **Обработка Данных**"
   ]
  },
  {
   "cell_type": "code",
   "execution_count": 12,
   "metadata": {},
   "outputs": [],
   "source": [
    "# Блок с вызовом библиотек\n",
    "import pandas as pd #для работы с таблицами\n",
    "from IPython.display import display\n",
    "import numpy as np\n",
    "from numpy.random import rand\n",
    "import wget\n",
    "\n",
    "# Тесты\n",
    "from scipy.stats import shapiro # Тест Шапиро-Уилка\n",
    "from scipy.stats import normaltest # Тест Д'Агостино\n",
    "from scipy.stats import ttest_ind # Независимый Т-тест\n",
    "\n",
    "# Корреляция\n",
    "from scipy.stats import spearmanr"
   ]
  },
  {
   "cell_type": "code",
   "execution_count": 2,
   "metadata": {},
   "outputs": [],
   "source": [
    "# Объявляем списком датасеты\n",
    "petersburg = [0.0974, 0.1352, 0.0817, 0.1016, 0.0968, 0.1064, 0.105]\n",
    "magadan = [0.1033, 0.0915, 0.0781, 0.0685, 0.0677, 0.0697, 0.0764,\n",
    "           0.0689]"
   ]
  },
  {
   "cell_type": "code",
   "execution_count": 26,
   "metadata": {},
   "outputs": [
    {
     "data": {
      "text/html": [
       "<div>\n",
       "<style scoped>\n",
       "    .dataframe tbody tr th:only-of-type {\n",
       "        vertical-align: middle;\n",
       "    }\n",
       "\n",
       "    .dataframe tbody tr th {\n",
       "        vertical-align: top;\n",
       "    }\n",
       "\n",
       "    .dataframe thead th {\n",
       "        text-align: right;\n",
       "    }\n",
       "</style>\n",
       "<table border=\"1\" class=\"dataframe\">\n",
       "  <thead>\n",
       "    <tr style=\"text-align: right;\">\n",
       "      <th></th>\n",
       "      <th>petersburg</th>\n",
       "      <th>magadan</th>\n",
       "    </tr>\n",
       "  </thead>\n",
       "  <tbody>\n",
       "    <tr>\n",
       "      <th>0</th>\n",
       "      <td>0.097400</td>\n",
       "      <td>0.1033</td>\n",
       "    </tr>\n",
       "    <tr>\n",
       "      <th>1</th>\n",
       "      <td>0.135200</td>\n",
       "      <td>0.0915</td>\n",
       "    </tr>\n",
       "    <tr>\n",
       "      <th>2</th>\n",
       "      <td>0.081700</td>\n",
       "      <td>0.0781</td>\n",
       "    </tr>\n",
       "    <tr>\n",
       "      <th>3</th>\n",
       "      <td>0.101600</td>\n",
       "      <td>0.0685</td>\n",
       "    </tr>\n",
       "    <tr>\n",
       "      <th>4</th>\n",
       "      <td>0.096800</td>\n",
       "      <td>0.0677</td>\n",
       "    </tr>\n",
       "    <tr>\n",
       "      <th>5</th>\n",
       "      <td>0.106400</td>\n",
       "      <td>0.0697</td>\n",
       "    </tr>\n",
       "    <tr>\n",
       "      <th>6</th>\n",
       "      <td>0.105000</td>\n",
       "      <td>0.0764</td>\n",
       "    </tr>\n",
       "    <tr>\n",
       "      <th>7</th>\n",
       "      <td>0.103443</td>\n",
       "      <td>0.0689</td>\n",
       "    </tr>\n",
       "  </tbody>\n",
       "</table>\n",
       "</div>"
      ],
      "text/plain": [
       "   petersburg  magadan\n",
       "0    0.097400   0.1033\n",
       "1    0.135200   0.0915\n",
       "2    0.081700   0.0781\n",
       "3    0.101600   0.0685\n",
       "4    0.096800   0.0677\n",
       "5    0.106400   0.0697\n",
       "6    0.105000   0.0764\n",
       "7    0.103443   0.0689"
      ]
     },
     "metadata": {},
     "output_type": "display_data"
    }
   ],
   "source": [
    "# Создаём датафреймы по городам из списков и объединяем в один\n",
    "mussels1 = pd.DataFrame(np.array(petersburg), columns=['petersburg'])\n",
    "mussels2 = pd.DataFrame(np.array(magadan), columns=['magadan'])\n",
    "\n",
    "mussels=pd.concat([mussels1,mussels2], axis=1, ignore_index=False)\n",
    "# Заполняем пропуск средним значением по столбцу\n",
    "mussels = mussels.fillna({'petersburg':mussels['petersburg'].mean(), 'magadan':mussels['magadan'].mean()})\n",
    "display(mussels)"
   ]
  },
  {
   "cell_type": "markdown",
   "metadata": {},
   "source": [
    "***\n",
    "### **Проверка на нормальность**"
   ]
  },
  {
   "cell_type": "code",
   "execution_count": 27,
   "metadata": {},
   "outputs": [],
   "source": [
    "H0 = 'Данные распределены нормально'\n",
    "Ha = 'Данные не распределены нормально (мы отвергаем H0)'\n",
    "# Уровень значимости - альфа:\n",
    "alpha = 0.05"
   ]
  },
  {
   "cell_type": "code",
   "execution_count": 28,
   "metadata": {},
   "outputs": [
    {
     "name": "stdout",
     "output_type": "stream",
     "text": [
      "p=0.100\n",
      "Данные распределены нормально\n"
     ]
    }
   ],
   "source": [
    "# Тест Шапиро-Уилка\n",
    "_, p = shapiro(mussels)\n",
    "print('p=%.3f' % p)\n",
    "\n",
    "if p > alpha:\n",
    "\tprint(H0)\n",
    "else:\n",
    "\tprint(Ha)"
   ]
  },
  {
   "cell_type": "markdown",
   "metadata": {},
   "source": [
    "Поскольку данные распределены по **нормальному** закону, выбираем для проверки статистической гипотезы тест из параметрической категории - **корреляция Пирсона**."
   ]
  },
  {
   "cell_type": "markdown",
   "metadata": {},
   "source": [
    "***\n",
    "### **Тест на корреляцию**"
   ]
  },
  {
   "cell_type": "code",
   "execution_count": 49,
   "metadata": {},
   "outputs": [],
   "source": [
    "# Выдвигаем гипотезы\n",
    "H0 = 'Нет влияния размеров раковин мидий в разных городах друг на друга.'\n",
    "Ha = 'Есть влияние размеров раковин мидий в разных городах друг на друга.'"
   ]
  },
  {
   "cell_type": "code",
   "execution_count": 47,
   "metadata": {},
   "outputs": [
    {
     "data": {
      "text/html": [
       "<div>\n",
       "<style scoped>\n",
       "    .dataframe tbody tr th:only-of-type {\n",
       "        vertical-align: middle;\n",
       "    }\n",
       "\n",
       "    .dataframe tbody tr th {\n",
       "        vertical-align: top;\n",
       "    }\n",
       "\n",
       "    .dataframe thead th {\n",
       "        text-align: right;\n",
       "    }\n",
       "</style>\n",
       "<table border=\"1\" class=\"dataframe\">\n",
       "  <thead>\n",
       "    <tr style=\"text-align: right;\">\n",
       "      <th></th>\n",
       "      <th>petersburg</th>\n",
       "      <th>magadan</th>\n",
       "    </tr>\n",
       "  </thead>\n",
       "  <tbody>\n",
       "    <tr>\n",
       "      <th>petersburg</th>\n",
       "      <td>1.000000</td>\n",
       "      <td>0.244558</td>\n",
       "    </tr>\n",
       "    <tr>\n",
       "      <th>magadan</th>\n",
       "      <td>0.244558</td>\n",
       "      <td>1.000000</td>\n",
       "    </tr>\n",
       "  </tbody>\n",
       "</table>\n",
       "</div>"
      ],
      "text/plain": [
       "            petersburg   magadan\n",
       "petersburg    1.000000  0.244558\n",
       "magadan       0.244558  1.000000"
      ]
     },
     "metadata": {},
     "output_type": "display_data"
    },
    {
     "data": {
      "text/plain": [
       "'Корреляция между признаками = 0.245'"
      ]
     },
     "metadata": {},
     "output_type": "display_data"
    }
   ],
   "source": [
    "# Кореляция Пирсона\n",
    "mus_cor = mussels.corr()\n",
    "pier_cor = mus_cor.iloc[0][1].round(3)\n",
    "display(mus_cor)\n",
    "display(f'Корреляция между признаками = {pier_cor}')"
   ]
  },
  {
   "cell_type": "code",
   "execution_count": 50,
   "metadata": {},
   "outputs": [
    {
     "name": "stdout",
     "output_type": "stream",
     "text": [
      "0.245 <= 0.05. Мы отвергаем нулевую гипотезу. Есть влияние размеров раковин мидий в разных городах друг на друга.\n"
     ]
    }
   ],
   "source": [
    "if p>alpha:\n",
    "    print(f\"{pier_cor} > {alpha}. Мы не можем отвергнуть нулевую гипотезу. {H0}\")\n",
    "else:\n",
    "    print(f\"{pier_cor} <= {alpha}. Мы отвергаем нулевую гипотезу. {Ha}\")"
   ]
  },
  {
   "cell_type": "markdown",
   "metadata": {},
   "source": [
    "Согласно таблице силы связи между признаками, прослеживается **очень слабая взаимосвязь**. Это значит, что влияние размеров раковин Петербуржских мидий на размер раковин мидий в Магадане присутствует в незначительной степени. Однако это влияние больше похоже на **ложную** взаимосвязь."
   ]
  },
  {
   "cell_type": "markdown",
   "metadata": {},
   "source": [
    "***\n",
    "### **Какова разница в среднем размере мидии в зависимости от города-производителя**"
   ]
  },
  {
   "cell_type": "markdown",
   "metadata": {},
   "source": [
    "Средний размер мидий - зависимая количественная переменная.  \n",
    "Город-производитель - независимая категориальная переменная.  \n",
    "Поскольку средний размер мидий берется для двух разных городов (разных совокупностей одной категории), мы выбираем независимый **t-тест**."
   ]
  },
  {
   "cell_type": "code",
   "execution_count": 40,
   "metadata": {},
   "outputs": [],
   "source": [
    "# Выдвигаем гипотезы\n",
    "H0 = 'Нет значимой разницы между средними размерами раковины в разных городах.'\n",
    "Ha = 'Есть значимая разница между средними размерами раковины в разных городах.'"
   ]
  },
  {
   "cell_type": "code",
   "execution_count": 44,
   "metadata": {},
   "outputs": [
    {
     "name": "stdout",
     "output_type": "stream",
     "text": [
      "\n",
      "*** Результаты независимого T-теста ***\n",
      "0.0027 <= 0.05. Мы отвергаем нулевую гипотезу. Есть значимая разница между средними размерами раковины в разных городах.\n"
     ]
    }
   ],
   "source": [
    "# Проводим t-тест\n",
    "print('\\n' + \"*** Результаты независимого T-теста ***\")\n",
    "test_results = ttest_ind(mussels['petersburg'], mussels['magadan'], equal_var=True)\n",
    "\n",
    "p = round(test_results[1],4)\n",
    "\n",
    "if p>alpha:\n",
    "    print(f\"{p} > {alpha}. Мы не можем отвергнуть нулевую гипотезу. {H0}\")\n",
    "else:\n",
    "    print(f\"{p} <= {alpha}. Мы отвергаем нулевую гипотезу. {Ha}\")"
   ]
  },
  {
   "cell_type": "markdown",
   "metadata": {},
   "source": [
    "То, в каком городе выращивались мидии, **влияет** на её средний размер."
   ]
  }
 ],
 "metadata": {
  "kernelspec": {
   "display_name": "Python 3.9.10 64-bit",
   "language": "python",
   "name": "python3"
  },
  "language_info": {
   "codemirror_mode": {
    "name": "ipython",
    "version": 3
   },
   "file_extension": ".py",
   "mimetype": "text/x-python",
   "name": "python",
   "nbconvert_exporter": "python",
   "pygments_lexer": "ipython3",
   "version": "3.9.10"
  },
  "orig_nbformat": 4,
  "vscode": {
   "interpreter": {
    "hash": "11938c6bc6919ae2720b4d5011047913343b08a43b18698fd82dedb0d4417594"
   }
  }
 },
 "nbformat": 4,
 "nbformat_minor": 2
}
