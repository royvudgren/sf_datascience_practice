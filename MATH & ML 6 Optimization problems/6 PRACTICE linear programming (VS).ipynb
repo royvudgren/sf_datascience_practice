{
 "cells": [
  {
   "attachments": {},
   "cell_type": "markdown",
   "metadata": {},
   "source": [
    "# **Практика: линейное программирование**"
   ]
  },
  {
   "attachments": {},
   "cell_type": "markdown",
   "metadata": {},
   "source": [
    "В языке Python есть множество библиотек, с помощью которых можно решить задачу линейного программирования. Вот основные, которые мы рассмотрим в данном юните:\n",
    "\n",
    "+ **SciPy (scipy.optimize.linprog)**;\n",
    "+ **CVXPY**; \n",
    "+ **PuLP**.\n",
    "\n",
    "У каждой библиотеки есть свои особенности использования, и большинство задач можно решить с помощью любой из них. Давайте посмотрим все варианты, чтобы у вас всегда был выбор — решим по одной задаче для каждой библиотеки."
   ]
  },
  {
   "cell_type": "code",
   "execution_count": 27,
   "metadata": {},
   "outputs": [],
   "source": [
    "import numpy as np\n",
    "from scipy import *\n",
    "import cvxpy\n",
    "import pulp\n",
    "import warnings\n",
    "warnings.simplefilter(action='ignore', category=FutureWarning)"
   ]
  },
  {
   "attachments": {},
   "cell_type": "markdown",
   "metadata": {},
   "source": [
    "### **Пример № 1. SciPy (scipy.optimize.linprog)**\n",
    "\n",
    "У нас есть 6 товаров с заданными ценами на них и заданной массой.\n",
    "\n",
    "Вместимость сумки, в которую мы можем положить товары, заранее известна и равна 15 кг.\n",
    "\n",
    "Какой товар и в каком объёме необходимо взять, чтобы сумма всех цен товаров была максимальной?"
   ]
  },
  {
   "cell_type": "code",
   "execution_count": 28,
   "metadata": {},
   "outputs": [],
   "source": [
    "# Создадим переменные на основе предложенных данных:\n",
    "\n",
    "values = [4, 2, 1, 7, 3, 6] #стоимости товаров\n",
    "weights = [5, 9, 8, 2, 6, 5] #вес товаров\n",
    "C = 15 #вместимость сумки\n",
    "n = 6 #количество товаров"
   ]
  },
  {
   "attachments": {},
   "cell_type": "markdown",
   "metadata": {},
   "source": [
    "Сформулируем задачу линейного программирования. Максимизируем произведение стоимости на количество, учитывая, что произведение веса на искомое количество товаров должно укладываться во вместимость сумки:\n",
    "\n",
    "![](data/37.PNG)\n",
    "\n",
    "Из предыдущего юнита мы уже знаем, что в векторно-матричной форме наша задача должна формулироваться в следующем виде:\n",
    "\n",
    "![](data/38.PNG)\n",
    "\n",
    "Получается, что в наших обозначениях мы имеем следующее:\n",
    "\n",
    "![](data/39.PNG)\n",
    "\n",
    "Здесь нам необходимо вспомнить линейную алгебру, так как очень важно, чтобы векторы были в нужных нам размерностях, иначе мы не сможем использовать матричное умножение. Вектор A размера 6 мы превращаем в матрицу размера (1,6) с помощью функции **expand_dims()**. Создаём все необходимые переменные:"
   ]
  },
  {
   "cell_type": "code",
   "execution_count": 29,
   "metadata": {},
   "outputs": [
    {
     "data": {
      "text/plain": [
       "     con: array([], dtype=float64)\n",
       "     fun: -52.50000000003075\n",
       " message: 'Optimization terminated successfully.'\n",
       "     nit: 5\n",
       "   slack: array([-2.24904539e-11])\n",
       "  status: 0\n",
       " success: True\n",
       "       x: array([6.18738537e-14, 1.05853307e-12, 1.21475944e-13, 7.50000000e+00,\n",
       "       4.00246695e-13, 4.71394166e-13])"
      ]
     },
     "execution_count": 29,
     "metadata": {},
     "output_type": "execute_result"
    }
   ],
   "source": [
    "c = - np.array(values) #изменяем знак, чтобы перейти от задачи максимизации к задаче минимизации\n",
    "A = np.array(weights)  #конвертируем список с весами в массив\n",
    "A = np.expand_dims(A, 0) #преобразуем размерность массива\n",
    "b = np.array([C]) #конвертируем вместимость в массив\n",
    "\n",
    "# Передаём подготовленные переменные в оптимизатор SciPy:\n",
    "from scipy.optimize import linprog\n",
    "linprog(c=c, A_ub=A, b_ub=b)"
   ]
  },
  {
   "attachments": {},
   "cell_type": "markdown",
   "metadata": {},
   "source": [
    "Получаем искомое значение функции — 52.5 (в выводе значение с минусом, но мы меняем знак, возвращаясь к задаче максимизации). x = (0,0,0,7.5,0,0). Таким образом, мы взяли только самую дорогую, четвёртую вещь. Она одна весит 2 кг, а если взять её 7.5 раз, то получится как раз 15 кг. Отлично, задача решена.\n",
    "***"
   ]
  },
  {
   "attachments": {},
   "cell_type": "markdown",
   "metadata": {},
   "source": [
    "### **Пример № 2. CVXPY**\n",
    "\n",
    "Снова решим задачу из примера № 1, но уже предположим, что товары нельзя дробить, и будем решать задачу целочисленного линейного программирования.\n",
    "\n",
    "SciPy не умеет решать такие задачи, поэтому будем использовать новую библиотеку **CVXPY**.\n",
    "\n",
    "Важно! С установкой этот библиотеки порой возникают проблемы. Если вы столкнулись с трудностями, посоветуйтесь с ментором или воспользуйтесь Google Colaboratory.\n",
    "\n",
    "С помощью CVXPY создадим переменную-массив. Укажем его размерность, а также условие, что все числа в массиве должны быть целыми:"
   ]
  },
  {
   "cell_type": "code",
   "execution_count": 30,
   "metadata": {},
   "outputs": [
    {
     "name": "stderr",
     "output_type": "stream",
     "text": [
      "c:\\Users\\Roman\\AppData\\Local\\Programs\\Python\\Python310\\lib\\site-packages\\cvxpy\\expressions\\expression.py:593: UserWarning: \n",
      "This use of ``*`` has resulted in matrix multiplication.\n",
      "Using ``*`` for matrix multiplication has been deprecated since CVXPY 1.1.\n",
      "    Use ``*`` for matrix-scalar and vector-scalar multiplication.\n",
      "    Use ``@`` for matrix-matrix and matrix-vector multiplication.\n",
      "    Use ``multiply`` for elementwise multiplication.\n",
      "This code path has been hit 12 times so far.\n",
      "\n",
      "  warnings.warn(msg, UserWarning)\n"
     ]
    },
    {
     "data": {
      "text/plain": [
       "-inf"
      ]
     },
     "execution_count": 30,
     "metadata": {},
     "output_type": "execute_result"
    }
   ],
   "source": [
    "x = cvxpy.Variable(shape=n, integer = True)\n",
    "\n",
    "# Далее зададим ограничения, используя матричное умножение:\n",
    "constraint = (A @ x <= b)\n",
    "total_value = c * x\n",
    "\n",
    "# Переходим непосредственно к решению задачи:\n",
    "problem = cvxpy.Problem(cvxpy.Minimize(total_value), constraints=[constraint])\n",
    "\n",
    "# Вызываем получившееся решение:\n",
    "problem.solve()"
   ]
  },
  {
   "attachments": {},
   "cell_type": "markdown",
   "metadata": {},
   "source": [
    "В результате получаем бесконечность. Это совершенно нереалистично.\n",
    "\n",
    "В таком случае будем рассматривать только положительные значения x:\n",
    "\n",
    "                                                x >= 0\n",
    "\n",
    "В переформулированном виде задача будет решаться следующим образом:"
   ]
  },
  {
   "cell_type": "code",
   "execution_count": 31,
   "metadata": {},
   "outputs": [
    {
     "name": "stderr",
     "output_type": "stream",
     "text": [
      "c:\\Users\\Roman\\AppData\\Local\\Programs\\Python\\Python310\\lib\\site-packages\\cvxpy\\expressions\\expression.py:593: UserWarning: \n",
      "This use of ``*`` has resulted in matrix multiplication.\n",
      "Using ``*`` for matrix multiplication has been deprecated since CVXPY 1.1.\n",
      "    Use ``*`` for matrix-scalar and vector-scalar multiplication.\n",
      "    Use ``@`` for matrix-matrix and matrix-vector multiplication.\n",
      "    Use ``multiply`` for elementwise multiplication.\n",
      "This code path has been hit 13 times so far.\n",
      "\n",
      "  warnings.warn(msg, UserWarning)\n"
     ]
    },
    {
     "data": {
      "text/plain": [
       "array([0., 0., 0., 7., 0., 0.])"
      ]
     },
     "execution_count": 31,
     "metadata": {},
     "output_type": "execute_result"
    }
   ],
   "source": [
    "x = cvxpy.Variable(shape=n, integer=True)\n",
    "constraint = (A @ x <= b)\n",
    "x_positive = (x >= 0)\n",
    "total_value = c * x\n",
    "problem = cvxpy.Problem(cvxpy.Minimize(total_value), constraints=[constraint, x_positive])\n",
    "problem.solve()\n",
    "x.value"
   ]
  },
  {
   "attachments": {},
   "cell_type": "markdown",
   "metadata": {},
   "source": [
    "Здесь мы уже получаем 49, и берём только четвёртый товар в количестве семи штук. Можно увидеть, что результат, в целом, очень близок к первому, когда мы использовали библиотеку SciPy — различие лишь в добавлении целочисленности. Значит, у нас получилось решить задачу, когда мы добавили недостающее условие.\n",
    "\n",
    "А что если мы можем брать не любое количество товаров, а только один или не брать их вовсе? Задаём x типа boolean.\n",
    "\n",
    "x = 0  \n",
    "или  \n",
    "X = 1  \n",
    "\n",
    "Программное решение такой задачи имеет следующий вид:"
   ]
  },
  {
   "cell_type": "code",
   "execution_count": 32,
   "metadata": {},
   "outputs": [
    {
     "name": "stdout",
     "output_type": "stream",
     "text": [
      "-17.0\n"
     ]
    },
    {
     "name": "stderr",
     "output_type": "stream",
     "text": [
      "c:\\Users\\Roman\\AppData\\Local\\Programs\\Python\\Python310\\lib\\site-packages\\cvxpy\\expressions\\expression.py:593: UserWarning: \n",
      "This use of ``*`` has resulted in matrix multiplication.\n",
      "Using ``*`` for matrix multiplication has been deprecated since CVXPY 1.1.\n",
      "    Use ``*`` for matrix-scalar and vector-scalar multiplication.\n",
      "    Use ``@`` for matrix-matrix and matrix-vector multiplication.\n",
      "    Use ``multiply`` for elementwise multiplication.\n",
      "This code path has been hit 14 times so far.\n",
      "\n",
      "  warnings.warn(msg, UserWarning)\n"
     ]
    },
    {
     "data": {
      "text/plain": [
       "array([1., 0., 0., 1., 0., 1.])"
      ]
     },
     "execution_count": 32,
     "metadata": {},
     "output_type": "execute_result"
    }
   ],
   "source": [
    "x = cvxpy.Variable(shape=n, boolean=True)\n",
    "constraint = A @ x <= b\n",
    "x_positive = x >= 0\n",
    "total_value = c * x\n",
    "problem = cvxpy.Problem(cvxpy.Minimize(total_value), constraints=[constraint, x_positive])\n",
    "print(problem.solve())\n",
    "\n",
    "x.value"
   ]
  },
  {
   "attachments": {},
   "cell_type": "markdown",
   "metadata": {},
   "source": [
    "Получим стоимость, равную 17, взяв первый, четвёртый и шестой товары.\n",
    "\n",
    "Обратите внимание, что, используя SciPy, мы могли не указывать явно, что x только положительные, так как в линейном программировании считаются только неотрицательные x.\n",
    "\n",
    "А вот CVXPY универсальна. Мы просто задали функцию, не указывая, что это линейное программирование. CVXPY «поняла», что это задача оптимизации, и использовала нужные алгоритмы. Поэтому здесь ограничение на положительные x мы указывали явно.\n",
    "***"
   ]
  },
  {
   "attachments": {},
   "cell_type": "markdown",
   "metadata": {},
   "source": [
    "### **Пример № 3. PuLP**\n",
    "\n",
    "В нашей каршеринговой компании две модели автомобилей: модель A и модель B. Автомобиль A даёт прибыль в размере 20 тысяч в месяц, а автомобиль B — 45 тысяч в месяц. Мы хотим заказать на заводе новые автомобили и максимизировать прибыль. Однако на производство и ввод в эксплуатацию автомобилей понадобится время:\n",
    "\n",
    "* Проектировщику требуется 4 дня, чтобы подготовить документы для производства каждого автомобиля типа A, и 5 дней — для каждого автомобиля типа B.\n",
    "* Заводу требуется 3 дня, чтобы изготовить модель A, и 6 дней, чтобы изготовить модель B.\n",
    "* Менеджеру требуется 2 дня, чтобы ввести в эксплуатацию в компании автомобиль A, и 7 дней — автомобиль B.\n",
    "* Каждый специалист может работать суммарно 30 дней.\n",
    "\n",
    "![](data/40.PNG)\n",
    "\n",
    "Заметьте, что здесь мы снова пишем обычные неравенства, а не условия в матричном виде. Дело в том, что для данной библиотеки так «удобнее», так как она принимает все условия в «первичном» виде."
   ]
  },
  {
   "cell_type": "code",
   "execution_count": 33,
   "metadata": {},
   "outputs": [
    {
     "name": "stdout",
     "output_type": "stream",
     "text": [
      "Количество автомобилей модели А:  1.0\n",
      "Количество автомобилей модели В:  4.0\n",
      "Суммарный доход:  200000.0\n"
     ]
    },
    {
     "name": "stderr",
     "output_type": "stream",
     "text": [
      "c:\\Users\\Roman\\AppData\\Local\\Programs\\Python\\Python310\\lib\\site-packages\\pulp\\pulp.py:1352: UserWarning: Spaces are not permitted in the name. Converted to '_'\n",
      "  warnings.warn(\"Spaces are not permitted in the name. Converted to '_'\")\n"
     ]
    }
   ],
   "source": [
    "problem = pulp.LpProblem('Производство машин', pulp.LpMaximize)\n",
    "A = pulp.LpVariable('Автомобиль A', lowBound=0 , cat=pulp.LpInteger)\n",
    "B = pulp.LpVariable('Автомобиль B', lowBound=0 , cat=pulp.LpInteger)\n",
    "#Целевая функция\n",
    "problem += 20000*A + 45000*B \n",
    "#Ограничения\n",
    "problem += 4*A + 5*B <= 30 \n",
    "problem += 3*A + 6*B <=30\n",
    "problem += 2*A + 7*B <=30\n",
    "problem.solve()\n",
    "print(\"Количество автомобилей модели А: \", A.varValue)\n",
    "print(\"Количество автомобилей модели В: \", B.varValue)\n",
    "print(\"Суммарный доход: \", pulp.value(problem.objective))"
   ]
  },
  {
   "attachments": {},
   "cell_type": "markdown",
   "metadata": {},
   "source": [
    "Выходит, что необходимо произвести 1 автомобиль типа A и 4 автомобиля типа B. Тогда суммарный чистый доход будет равен 200 тысячам.\n",
    "***"
   ]
  },
  {
   "attachments": {},
   "cell_type": "markdown",
   "metadata": {},
   "source": [
    "### **ЗАДАЧИ**"
   ]
  },
  {
   "attachments": {},
   "cell_type": "markdown",
   "metadata": {},
   "source": [
    "Составьте оптимальный план перевозок со склада № 1 и склада № 2 в три торговых центра с учётом тарифов, запасов на складах и потребностей торговых центров, которые указаны в таблице:\n",
    "\n",
    "![](https://lms.skillfactory.ru/assets/courseware/v1/e92f1aca3294f87b96e30eed2471af02/asset-v1:SkillFactory+DSPR-2.0+14JULY2021+type@asset+block/MATHML_md6_6_1_1.png.png)\n",
    "\n",
    "Сформулируйте предложенную задачу как задачу линейного программирования и решите её любым способом (желательно программным).\n",
    "\n",
    "В качестве ответа введите минимальную суммарную стоимость поставки. Ответ округлите до целого числа."
   ]
  },
  {
   "cell_type": "code",
   "execution_count": 34,
   "metadata": {},
   "outputs": [
    {
     "name": "stdout",
     "output_type": "stream",
     "text": [
      "Склад 1 ТЦ1:  110.0\n",
      "Склад 1 ТЦ2:  0.0\n",
      "Склад 1 ТЦ3:  70.0\n",
      "Склад 2 ТЦ1:  0.0\n",
      "Склад 2 ТЦ2:  150.0\n",
      "Склад 2 ТЦ3:  70.0\n",
      "Суммарная минимальная стоимость доставки:  1900.0\n"
     ]
    }
   ],
   "source": [
    "problem = pulp.LpProblem('Логистика', pulp.LpMinimize)\n",
    "A = pulp.LpVariable('Склад 1 ТЦ1', lowBound=0 , cat=pulp.LpInteger)\n",
    "B = pulp.LpVariable('Склад 1 ТЦ2', lowBound=0 , cat=pulp.LpInteger)\n",
    "C = pulp.LpVariable('Склад 1 ТЦ3', lowBound=0 , cat=pulp.LpInteger)\n",
    "D = pulp.LpVariable('Склад 2 ТЦ1', lowBound=0 , cat=pulp.LpInteger)\n",
    "E = pulp.LpVariable('Склад 2 ТЦ2', lowBound=0 , cat=pulp.LpInteger)\n",
    "F = pulp.LpVariable('Склад 2 ТЦ3', lowBound=0 , cat=pulp.LpInteger)\n",
    "#Целевая функция\n",
    "problem += 2*A + 5*B + 3*C + 7*D + 7*E + 6*F\n",
    "#Ограничения\n",
    "problem += A + B + C == 180 \n",
    "problem += D + E + F == 220\n",
    "problem += A + D <= 110\n",
    "problem += B + E <= 150\n",
    "problem += C + F <= 140\n",
    "problem.solve()\n",
    "print(\"Склад 1 ТЦ1: \", A.varValue)\n",
    "print(\"Склад 1 ТЦ2: \", B.varValue)\n",
    "print(\"Склад 1 ТЦ3: \", C.varValue)\n",
    "print(\"Склад 2 ТЦ1: \", D.varValue)\n",
    "print(\"Склад 2 ТЦ2: \", E.varValue)\n",
    "print(\"Склад 2 ТЦ3: \", F.varValue)\n",
    "print(\"Суммарная минимальная стоимость доставки: \", pulp.value(problem.objective))"
   ]
  },
  {
   "attachments": {},
   "cell_type": "markdown",
   "metadata": {},
   "source": [
    "В прошлом юните мы обсуждали задачу о назначениях исполнителей задач - теперь пришло время решить её.\n",
    "\n",
    "![](https://lms.skillfactory.ru/assets/courseware/v1/3c57d0c14951762fe62a494509d15a69/asset-v1:SkillFactory+DSPR-2.0+14JULY2021+type@asset+block/MATHML_md6_6_2.png)\n",
    "\n",
    "Напомним суть: необходимо распределить пять задач между пятью исполнителями таким образом, чтобы суммарные затраты на работы были наименьшими.\n",
    "\n",
    "В качестве ответа введите минимальную стоимость работ."
   ]
  },
  {
   "cell_type": "code",
   "execution_count": 39,
   "metadata": {},
   "outputs": [
    {
     "name": "stdout",
     "output_type": "stream",
     "text": [
      "32.0\n"
     ]
    },
    {
     "data": {
      "text/plain": [
       "array([[0., 0., 0., 0., 1.],\n",
       "       [0., 0., 0., 1., 0.],\n",
       "       [0., 1., 0., 0., 0.],\n",
       "       [0., 0., 1., 0., 0.],\n",
       "       [1., 0., 0., 0., 0.]])"
      ]
     },
     "execution_count": 39,
     "metadata": {},
     "output_type": "execute_result"
    }
   ],
   "source": [
    "c = np.array([[1000,12,10,19,8],\n",
    "          [12,1000,3,7,2],\n",
    "          [10,3,1000,6,20],\n",
    "          [19,7,6,1000,4],\n",
    "          [8,2,20,4,1000]\n",
    "          ])\n",
    "\n",
    "x = cvxpy.Variable(shape=(5,5), boolean=True)\n",
    "constraints = [\n",
    "    cvxpy.sum(x, axis=0) == np.ones(5),\n",
    "    cvxpy.sum(x, axis=1) == np.ones(5)\n",
    "]\n",
    "func = cvxpy.sum(cvxpy.multiply(x, c))\n",
    "problem = cvxpy.Problem(cvxpy.Minimize(func), constraints=constraints)\n",
    "print(problem.solve())\n",
    "x.value"
   ]
  },
  {
   "attachments": {},
   "cell_type": "markdown",
   "metadata": {},
   "source": [
    "Найдите кратчайший маршрут из точки A, который проходит через все другие точки и возвращается в A.\n",
    "\n",
    "![](https://lms.skillfactory.ru/assets/courseware/v1/1dbdee74e890f6f4a8142e80d5799db3/asset-v1:SkillFactory+DSPR-2.0+14JULY2021+type@asset+block/MATHML_md6_6_3.png)\n",
    "\n",
    "Сформулируйте эту задачу как задачу ЦЛП и решите её. В качестве ответа укажите длину кратчайшего пути."
   ]
  },
  {
   "cell_type": "code",
   "execution_count": 42,
   "metadata": {},
   "outputs": [
    {
     "name": "stdout",
     "output_type": "stream",
     "text": [
      "32.0\n"
     ]
    },
    {
     "data": {
      "text/plain": [
       "array([[0., 0., 0., 0., 1.],\n",
       "       [0., 0., 0., 1., 0.],\n",
       "       [0., 1., 0., 0., 0.],\n",
       "       [0., 0., 1., 0., 0.],\n",
       "       [1., 0., 0., 0., 0.]])"
      ]
     },
     "execution_count": 42,
     "metadata": {},
     "output_type": "execute_result"
    }
   ],
   "source": [
    "# это то же самое что и выше\n",
    "c = np.array([[1000,12,10,19,8],\n",
    "          [12,1000,3,7,2],\n",
    "          [10,3,1000,6,20],\n",
    "          [19,7,6,1000,4],\n",
    "          [8,2,20,4,1000]\n",
    "          ])\n",
    "\n",
    "x = cvxpy.Variable(shape=(5,5), boolean=True)\n",
    "constraints = [\n",
    "    cvxpy.sum(x, axis=0) == np.ones(5),\n",
    "    cvxpy.sum(x, axis=1) == np.ones(5)\n",
    "]\n",
    "func = cvxpy.sum(cvxpy.multiply(x, c))\n",
    "problem = cvxpy.Problem(cvxpy.Minimize(func), constraints=constraints)\n",
    "print(problem.solve())\n",
    "x.value"
   ]
  }
 ],
 "metadata": {
  "kernelspec": {
   "display_name": "Python 3",
   "language": "python",
   "name": "python3"
  },
  "language_info": {
   "codemirror_mode": {
    "name": "ipython",
    "version": 3
   },
   "file_extension": ".py",
   "mimetype": "text/x-python",
   "name": "python",
   "nbconvert_exporter": "python",
   "pygments_lexer": "ipython3",
   "version": "3.10.8 (tags/v3.10.8:aaaf517, Oct 11 2022, 16:50:30) [MSC v.1933 64 bit (AMD64)]"
  },
  "orig_nbformat": 4,
  "vscode": {
   "interpreter": {
    "hash": "c68eacbc5a3a550d9b1f68bf11bf31e2b39ed4b9985227d4d8c7ee1d286013f5"
   }
  }
 },
 "nbformat": 4,
 "nbformat_minor": 2
}
