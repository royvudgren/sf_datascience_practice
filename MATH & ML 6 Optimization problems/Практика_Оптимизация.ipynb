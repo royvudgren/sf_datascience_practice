{
  "cells": [
    {
      "attachments": {},
      "cell_type": "markdown",
      "metadata": {
        "id": "NyHIGVhfa_Wf"
      },
      "source": [
        "# Стохастический градиентный и координатный спуски"
      ]
    },
    {
      "cell_type": "markdown",
      "metadata": {
        "id": "gn6lluIADUKa"
      },
      "source": [
        "Для каждого задания указано количество баллов (если они оцениваются отдельно) + 1 балл за аккуратное и полное выполнение всего задания"
      ]
    },
    {
      "cell_type": "code",
      "execution_count": 194,
      "metadata": {},
      "outputs": [],
      "source": [
        "import numpy as np\n",
        "import pandas as pd\n",
        "from sklearn import metrics # инструменты для оценки точности модели  "
      ]
    },
    {
      "cell_type": "markdown",
      "metadata": {
        "id": "txCccYvha_Wv"
      },
      "source": [
        "## Загрузка и подготовка данных"
      ]
    },
    {
      "cell_type": "markdown",
      "metadata": {
        "id": "NbyOzeZ6a_Wx"
      },
      "source": [
        "**Загрузите уже знакомый вам файл *Advertising.csv* как объект DataFrame.** "
      ]
    },
    {
      "cell_type": "code",
      "execution_count": 195,
      "metadata": {
        "id": "E1L4_xeDa_Wz"
      },
      "outputs": [],
      "source": [
        "df = pd.read_csv('data/Advertising.csv',index_col=0)"
      ]
    },
    {
      "cell_type": "markdown",
      "metadata": {
        "id": "bf4aVFndDUKf"
      },
      "source": [
        "**Проверьте, есть ли в данных пропуски и, если они есть - удалите их**"
      ]
    },
    {
      "cell_type": "code",
      "execution_count": 196,
      "metadata": {
        "id": "tiVeFnR5DUKg"
      },
      "outputs": [
        {
          "name": "stdout",
          "output_type": "stream",
          "text": [
            "<class 'pandas.core.frame.DataFrame'>\n",
            "Int64Index: 200 entries, 1 to 200\n",
            "Data columns (total 4 columns):\n",
            " #   Column     Non-Null Count  Dtype  \n",
            "---  ------     --------------  -----  \n",
            " 0   TV         200 non-null    float64\n",
            " 1   radio      200 non-null    float64\n",
            " 2   newspaper  200 non-null    float64\n",
            " 3   sales      200 non-null    float64\n",
            "dtypes: float64(4)\n",
            "memory usage: 7.8 KB\n"
          ]
        }
      ],
      "source": [
        "df.info() # ни одного пропуска"
      ]
    },
    {
      "attachments": {},
      "cell_type": "markdown",
      "metadata": {
        "id": "rTkiqPr_DUKh"
      },
      "source": [
        "**Преобразуйте ваши признаки в массивы NumPy и разделите их на переменные X (предикторы) и y (целевая переменная)** "
      ]
    },
    {
      "cell_type": "code",
      "execution_count": 197,
      "metadata": {
        "id": "R9OHIRB3a_Xa"
      },
      "outputs": [],
      "source": [
        "X_original = df.drop(['sales'], axis = 1)\n",
        "y = df['sales']\n",
        "n = len(y)\n",
        "X_original = X_original.values.reshape(n,3)\n",
        "y = df['sales'].values.reshape(n,1)"
      ]
    },
    {
      "cell_type": "markdown",
      "metadata": {
        "id": "KCvjSoHEDUKo"
      },
      "source": [
        "## Координатный спуск (3 балла)"
      ]
    },
    {
      "cell_type": "markdown",
      "metadata": {
        "id": "yjNm8dATDUKq"
      },
      "source": [
        "**Добавим единичный столбец для того, чтобы у нас был свободный коэффициент в уравнении регрессии:**"
      ]
    },
    {
      "cell_type": "code",
      "execution_count": 198,
      "metadata": {
        "id": "LMgq0fmKDUKr"
      },
      "outputs": [],
      "source": [
        "X = np.hstack([np.ones(X_original.shape[0]).reshape(-1, 1), X_original])"
      ]
    },
    {
      "cell_type": "markdown",
      "metadata": {
        "id": "R008OQwcDUKt"
      },
      "source": [
        "**Нормализуем данные: обычно это необходимо для корректной работы алгоритма**"
      ]
    },
    {
      "cell_type": "code",
      "execution_count": 199,
      "metadata": {
        "id": "2Sk7Wx-SDUKt"
      },
      "outputs": [],
      "source": [
        "X = X / np.sqrt(np.sum(np.square(X), axis=0))"
      ]
    },
    {
      "cell_type": "markdown",
      "metadata": {
        "id": "F_pHHbAdDUKu"
      },
      "source": [
        "**Реализуйте алгоритм координатного спуска:** (3 балла)\n",
        "\n",
        "Ниже приведен алгоритм:"
      ]
    },
    {
      "cell_type": "markdown",
      "metadata": {
        "id": "jBQ8vT5UDUKu"
      },
      "source": [
        "<a href=\"https://ibb.co/Th3BQFn\"><img src=\"https://i.ibb.co/DK2DBS6/zascas.jpg\" alt=\"zascas\" border=\"0\"></a>"
      ]
    },
    {
      "cell_type": "markdown",
      "metadata": {
        "id": "5ce_yM20DUKv"
      },
      "source": [
        "Примечание: 1000 итераций здесь указаны для этого задания, на самом деле их может быть намного больше, нет детерменированного значения."
      ]
    },
    {
      "cell_type": "markdown",
      "metadata": {
        "id": "y3IdiHm9DUKv"
      },
      "source": [
        "Вам необходимо реализовать координатный спуск, и вывести веса в модели линейной регрессии."
      ]
    },
    {
      "cell_type": "code",
      "execution_count": 268,
      "metadata": {},
      "outputs": [
        {
          "name": "stdout",
          "output_type": "stream",
          "text": [
            "\u001b[1mMAPE для алгоритма коорд. спуска:\u001b[0m\n",
            "    13.87787%\n",
            "\n",
            "\u001b[1mВеса модели коорд. спуска:\u001b[0m\n",
            "[[14.0225]\n",
            " [ 3.9193]\n",
            " [ 2.7921]\n",
            " [-0.0225]]\n"
          ]
        }
      ],
      "source": [
        "def costs(y_true, y_predicted):\n",
        "    return np.sum(np.square(y_true - y_predicted)) / y_true.shape[0]\n",
        "\n",
        "# выберем начальной точкой - точку отсчёта\n",
        "w_init = np.zeros((4, 1))\n",
        "# а шагом - единичный шаг\n",
        "step = np.ones((4, 1))\n",
        "while True:\n",
        "    for j, w in enumerate(w_init):\n",
        "        w_next = np.copy(w_init)\n",
        "        costs_current = costs(y, X @ w_init)\n",
        "        # оценим значения функции ошибки левее и правее точки соответственно:\n",
        "        # 1) левее\n",
        "        left = w - step[j]\n",
        "        w_next[j] = left\n",
        "        costs_left = costs(y, X @ w_next)\n",
        "        # 2) правее\n",
        "        right = w + step[j]\n",
        "        w_next[j] = right\n",
        "        costs_right = costs(y, X @ w_next)\n",
        "        # нам необходимо двигаться в сторону уменьшения функции ошибки\n",
        "        if costs_left < costs_right and costs_left < costs_current:\n",
        "            w_init[j] = left\n",
        "            costs_next = costs_left\n",
        "        elif costs_right < costs_left and costs_right < costs_current:\n",
        "            w_init[j] = right\n",
        "            costs_next = costs_right\n",
        "        # проскочили минимум и шаг надо уменьшать\n",
        "        elif costs_right > costs_left > costs_current:\n",
        "            w_init[j] = left\n",
        "            costs_next = costs_left\n",
        "            step[j] = step[j] / 2\n",
        "        elif costs_left > costs_right > costs_current:\n",
        "            w_init[j] = right\n",
        "            costs_next = costs_right\n",
        "            step[j] = step[j] / 2\n",
        "    # критерием останова пусть будет точность в 10 знаков после запятой\n",
        "    # для нашей функции ошибки\n",
        "    if abs(costs_next - costs_current) < 10**-10: break\n",
        "\n",
        "y_pred = X @ w_init\n",
        "print(f'\\033[1mMAPE для алгоритма коорд. спуска:\\033[0m\\n\\\n",
        "    {metrics.mean_absolute_percentage_error(y, y_pred)*100:.5f}%\\n')\n",
        "print(f'\\033[1mВеса модели коорд. спуска:\\033[0m\\n{w_init}')"
      ]
    },
    {
      "cell_type": "markdown",
      "metadata": {
        "id": "a3jG-7UADUKx"
      },
      "source": [
        "Сравните результаты с реализацией линейной регрессии из библиотеки sklearn:"
      ]
    },
    {
      "cell_type": "code",
      "execution_count": 269,
      "metadata": {
        "id": "SBl-1Yb5DUKy"
      },
      "outputs": [
        {
          "name": "stdout",
          "output_type": "stream",
          "text": [
            "\u001b[1mMAPE для алгоритма линейной регрессии:\u001b[0m\n",
            "    13.87785%\n",
            "\n",
            "\u001b[1mВеса модели линейной регрессии:\u001b[0m\n",
            "[[14.0225  3.9193  2.7921 -0.0225]]\n"
          ]
        }
      ],
      "source": [
        "from sklearn.linear_model import LinearRegression\n",
        " \n",
        "model = LinearRegression(fit_intercept=False)\n",
        "model.fit(X, y)\n",
        "y_pred = model.predict(X)\n",
        "print(f'\\033[1mMAPE для алгоритма линейной регрессии:\\033[0m\\n\\\n",
        "    {metrics.mean_absolute_percentage_error(y, y_pred)*100:.5f}%\\n')\n",
        "print(f'\\033[1mВеса модели линейной регрессии:\\033[0m\\n{model.coef_}')"
      ]
    },
    {
      "cell_type": "markdown",
      "metadata": {
        "id": "hIl0AGLyDUKy"
      },
      "source": [
        "Если вы все сделали верно, они должны практически совпасть!"
      ]
    },
    {
      "cell_type": "markdown",
      "metadata": {
        "id": "VCGwFnPdDUKz"
      },
      "source": [
        "## Стохастический градиентный спуск (6 баллов)"
      ]
    },
    {
      "cell_type": "markdown",
      "metadata": {
        "id": "5u7Q2YJla_Xk"
      },
      "source": [
        "**Отмасштабируйте столбцы исходной матрицы *X* (которую мы не нормализовали еще!). Для того, чтобы это сделать, надо вычесть из каждого значения среднее и разделить на стандартное отклонение** (0.5 баллов)"
      ]
    },
    {
      "cell_type": "code",
      "execution_count": 202,
      "metadata": {},
      "outputs": [],
      "source": [
        "X = (X_original - np.mean(X_original, axis=0)) / np.std(X_original, axis=0)"
      ]
    },
    {
      "cell_type": "markdown",
      "metadata": {
        "id": "8WkNYILHDUK1"
      },
      "source": [
        "**Добавим единичный столбец**"
      ]
    },
    {
      "cell_type": "code",
      "execution_count": 203,
      "metadata": {
        "id": "EVl5tEGtDUK1"
      },
      "outputs": [],
      "source": [
        "X = np.hstack([np.ones(X.shape[0]).reshape(-1, 1), X])"
      ]
    },
    {
      "cell_type": "markdown",
      "metadata": {
        "id": "m53tZA5fDUK1"
      },
      "source": [
        "**Создайте функцию mse_error для вычисления среднеквадратичной ошибки, принимающую два аргумента: реальные значения и предсказывающие, и возвращающую значение mse** (0.5 балла)"
      ]
    },
    {
      "cell_type": "code",
      "execution_count": 290,
      "metadata": {
        "id": "0cvtC08Aa_YK"
      },
      "outputs": [],
      "source": [
        "def mse_error(y_real,y_pred,round=10):\n",
        "    mse = (np.square(y_real - y_pred)).mean()\n",
        "    return mse.round(round)"
      ]
    },
    {
      "cell_type": "markdown",
      "metadata": {
        "id": "lpOLhdvBDUK2"
      },
      "source": [
        "**Сделайте наивный прогноз: предскажите продажи средним значением. После этого рассчитайте среднеквадратичную ошибку для этого прогноза** (0.5 балла)"
      ]
    },
    {
      "cell_type": "code",
      "execution_count": 205,
      "metadata": {
        "id": "kLV_XljVa_YZ"
      },
      "outputs": [
        {
          "data": {
            "text/plain": [
              "27.08574375"
            ]
          },
          "execution_count": 205,
          "metadata": {},
          "output_type": "execute_result"
        }
      ],
      "source": [
        "y_pred = np.full((y.shape[0],y.shape[1]),y.mean())\n",
        "\n",
        "mse_error(y,y_pred)"
      ]
    },
    {
      "cell_type": "markdown",
      "metadata": {
        "id": "BbybL2ola_ZM"
      },
      "source": [
        "**Создайте функцию *lin_pred*, которая может по матрице предикторов *X* и вектору весов линейной модели *w* получить вектор прогнозов** (0.5 балла)"
      ]
    },
    {
      "cell_type": "code",
      "execution_count": 277,
      "metadata": {
        "id": "1Cyz-Luaa_ZO"
      },
      "outputs": [],
      "source": [
        "def lin_pred(x,w):\n",
        "    y_pred = np.dot(X,w)\n",
        "    return y_pred"
      ]
    },
    {
      "cell_type": "markdown",
      "metadata": {
        "id": "BU4adBrya_Zm"
      },
      "source": [
        "**Создайте функцию *stoch_grad_step* для реализации шага стохастического градиентного спуска. (1.5 балла) \n",
        "Функция должна принимать на вход следующие аргументы:**\n",
        "* матрицу *X*\n",
        "* вектора *y* и *w*\n",
        "* число *train_ind* - индекс объекта обучающей выборки (строки матрицы *X*), по которому считается изменение весов\n",
        "* число *$\\eta$* (eta) - шаг градиентного спуска\n",
        "\n",
        "Результатом будет вектор обновленных весов"
      ]
    },
    {
      "cell_type": "markdown",
      "metadata": {
        "id": "dyLY-P02DUK5"
      },
      "source": [
        "Шаг для стохастического градиентного спуска выглядит следующим образом:"
      ]
    },
    {
      "cell_type": "markdown",
      "metadata": {
        "id": "ORsAyIKNDUK5"
      },
      "source": [
        "$$\\Large w_j \\leftarrow w_j - \\frac{2\\eta}{\\ell} \\sum_{i=1}^\\ell{{x_{ij}((w_0 + w_1x_{i1} + w_2x_{i2} +  w_3x_{i3}) - y_i)}}$$"
      ]
    },
    {
      "cell_type": "markdown",
      "metadata": {
        "id": "CQl2FrpuDUK6"
      },
      "source": [
        "Для того, чтобы написать функцию, нужно сделать следующее:\n",
        "    \n",
        "*  посчитать направление изменения: умножить объект обучающей выборки на 2 и на разницу между предсказанным значением и реальным, а потом поделить на количество элементов в выборке.\n",
        "* вернуть разницу между вектором весов и направлением изменения, умноженным на шаг градиентного спуска"
      ]
    },
    {
      "cell_type": "code",
      "execution_count": 272,
      "metadata": {
        "id": "YUhVQGsja_Zn"
      },
      "outputs": [],
      "source": [
        "def stoch_grad_step(x, y, w, train_ind, eta=1.0):\n",
        "    temp = 2 * x[train_ind, :] * (np.dot(x[train_ind, :],w) - y[train_ind])/ x.shape[0]\n",
        "    return w - eta * temp.reshape(-1, 1)"
      ]
    },
    {
      "cell_type": "markdown",
      "metadata": {
        "id": "pXwIFd0Ma_Zx"
      },
      "source": [
        "**Создайте функцию *stochastic_gradient_descent*, для реализации стохастического градиентного спуска (2.5 балла)**\n",
        "\n",
        "**Функция принимает на вход следующие аргументы:**\n",
        "- Матрицу признаков X\n",
        "- Целевую переменнную\n",
        "- Изначальную точку (веса модели)\n",
        "- Параметр, определяющий темп обучения\n",
        "- Максимальное число итераций\n",
        "- Евклидово расстояние между векторами весов на соседних итерациях градиентного спуска,при котором алгоритм прекращает работу \n",
        "\n",
        "**На каждой итерации в вектор (список) должно записываться текущее значение среднеквадратичной ошибки. Функция должна возвращать вектор весов $w$, а также вектор (список) ошибок.**"
      ]
    },
    {
      "cell_type": "markdown",
      "metadata": {
        "id": "ZVeoNF1JDUK7"
      },
      "source": [
        "Алгоритм сследующий:\n",
        "    \n",
        "* Инициализируйте расстояние между векторами весов на соседних итерациях большим числом (можно бесконечностью)\n",
        "* Создайте пустой список для фиксации ошибок\n",
        "* Создайте счетчик итераций\n",
        "* Реализуйте оновной цикл обучения пока расстояние между векторами весов больше того, при котором надо прекратить работу (когда расстояния станут слишком маленькими - значит, мы застряли в одном месте) и количество итераций меньше максимально разрешенного: сгенерируйте случайный индекс, запишите текущую ошибку в вектор ошибок, запишите в переменную текущий шаг стохастического спуска с использованием функции, написанной ранее. Далее рассчитайте текущее расстояние между векторами весов и прибавьте к счетчику итераций 1.\n",
        "* Верните вектор весов и вектор ошибок"
      ]
    },
    {
      "cell_type": "code",
      "execution_count": 291,
      "metadata": {
        "id": "CD_xcFNfa_Zy"
      },
      "outputs": [],
      "source": [
        "def stochastic_gradient_descent(x, y, w, stop_criterion, iter_max, eta=1.0):\n",
        "    mse_list = []  # пустой список для фиксации ошибок\n",
        "    np.random.seed(42)\n",
        "    i = 0  # счетчик итераций\n",
        "    while i < iter_max:\n",
        "        idx = np.random.randint(x.shape[0])  # сгенерируйте случайный индекс\n",
        "        # запишите текущую ошибку в вектор ошибок\n",
        "        mse_list.append(mse_error(y, lin_pred(x, w)))\n",
        "        # запишите в переменную текущий шаг стохастического спуска с\n",
        "        # использованием функции, написанной ранее\n",
        "        theta = stoch_grad_step(x, y, w, idx, eta)\n",
        "        # если длина шага меньше желаемой точности завершаем цикл\n",
        "        if np.linalg.norm(theta - w) < stop_criterion: break\n",
        "        w = theta  # обновляем веса\n",
        "        i += 1\n",
        "    return w, mse_list"
      ]
    },
    {
      "cell_type": "markdown",
      "metadata": {
        "id": "0OqHO1Rta_Z7"
      },
      "source": [
        " **Запустите $10^5$ итераций стохастического градиентного спуска. Укажите вектор начальных весов, состоящий из нулей. Можете поэкспериментировать с параметром, отвечающим за темп обучения.**"
      ]
    },
    {
      "cell_type": "code",
      "execution_count": 292,
      "metadata": {},
      "outputs": [],
      "source": [
        "w = np.zeros((4, 1))\n",
        "w_stoch, mse_list = stochastic_gradient_descent(X,y,w,0.0002,100000)"
      ]
    },
    {
      "cell_type": "markdown",
      "metadata": {
        "id": "N6fHHT6vDUK8"
      },
      "source": [
        "**Постройте график зависимости ошибки от номера итерации**"
      ]
    },
    {
      "cell_type": "code",
      "execution_count": 293,
      "metadata": {
        "id": "zsSfHDzLDUK9"
      },
      "outputs": [
        {
          "data": {
            "image/png": "[encoded data removed]",
            "text/plain": [
              "<Figure size 1200x600 with 1 Axes>"
            ]
          },
          "metadata": {},
          "output_type": "display_data"
        }
      ],
      "source": [
        "import matplotlib.pyplot as plt\n",
        "import seaborn as sns\n",
        "\n",
        "fig = plt.figure(figsize=(12, 6))\n",
        "lineplot = sns.lineplot(data=pd.DataFrame(mse_list, columns=['MSE']))\n",
        "lineplot.set_title('Динамика изменения MSE', fontsize=16)\n",
        "lineplot.set_xlabel('Номер итерации')\n",
        "lineplot.set_ylabel('Величина среднеквадратичной ошибки');"
      ]
    },
    {
      "cell_type": "markdown",
      "metadata": {
        "id": "O-MVOcJ6a_aY"
      },
      "source": [
        "**Выведите вектор весов, к которому сошелся метод.**"
      ]
    },
    {
      "cell_type": "code",
      "execution_count": 294,
      "metadata": {
        "id": "MPjVkXe4DUK9"
      },
      "outputs": [
        {
          "data": {
            "text/plain": [
              "array([[13.9037],\n",
              "       [ 4.0301],\n",
              "       [ 2.6162],\n",
              "       [ 0.0147]])"
            ]
          },
          "execution_count": 294,
          "metadata": {},
          "output_type": "execute_result"
        }
      ],
      "source": [
        "np.set_printoptions(precision=4,suppress=True)\n",
        "w_stoch"
      ]
    },
    {
      "cell_type": "markdown",
      "metadata": {
        "id": "qabzMc3Qa_a5"
      },
      "source": [
        "**Выведите среднеквадратичную ошибку на последней итерации.**"
      ]
    },
    {
      "cell_type": "code",
      "execution_count": 295,
      "metadata": {
        "id": "7tPWleMIa_a7"
      },
      "outputs": [
        {
          "data": {
            "text/plain": [
              "2.8365340152"
            ]
          },
          "execution_count": 295,
          "metadata": {},
          "output_type": "execute_result"
        }
      ],
      "source": [
        "mse_list[-1]"
      ]
    }
  ],
  "metadata": {
    "colab": {
      "collapsed_sections": [],
      "name": "Практика_Оптимизация.ipynb",
      "provenance": [],
      "toc_visible": true
    },
    "kernelspec": {
      "display_name": "Python 3",
      "language": "python",
      "name": "python3"
    },
    "language_info": {
      "codemirror_mode": {
        "name": "ipython",
        "version": 3
      },
      "file_extension": ".py",
      "mimetype": "text/x-python",
      "name": "python",
      "nbconvert_exporter": "python",
      "pygments_lexer": "ipython3",
      "version": "3.10.8 (tags/v3.10.8:aaaf517, Oct 11 2022, 16:50:30) [MSC v.1933 64 bit (AMD64)]"
    },
    "vscode": {
      "interpreter": {
        "hash": "c68eacbc5a3a550d9b1f68bf11bf31e2b39ed4b9985227d4d8c7ee1d286013f5"
      }
    }
  },
  "nbformat": 4,
  "nbformat_minor": 0
}
