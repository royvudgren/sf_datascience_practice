{
 "cells": [
  {
   "cell_type": "markdown",
   "metadata": {},
   "source": [
    "# **Визуализация результатов кластеризации**"
   ]
  },
  {
   "cell_type": "markdown",
   "metadata": {},
   "source": [
    "✍ До этого мы не только строили кластеры, но и наблюдали, как выглядят наши данные после кластеризации. Визуализация позволяет лучше понять данные и полученные результаты. В этом юните мы рассмотрим, как лучше визуализировать результаты кластеризации, и в этом вам помогут знания, полученные в [**модуле PY-13**](https://lms.skillfactory.ru/courses/course-v1:SkillFactory+DSPR-2.0+14JULY2021/jump_to_id/b356f69ebe384accb92660c210524188).\n",
    "\n",
    "В зависимости от количества признаков, описывающих объект, можно выделить две разновидности визуализации: **2D** и **3D**.\n",
    "\n",
    "Если объект описывается двумя признаками, например рост и вес, эти значения легко распределить по осям X и Y. Если прибавляется ещё один признак, понадобится дополнительная ось Z, и график будет трёхмерным. В зависимости от алгоритма кластеризации мы можем просто визуализировать кластеры или же нарисовать дендрограмму."
   ]
  },
  {
   "cell_type": "markdown",
   "metadata": {},
   "source": [
    "**В данном юните мы рассмотрим следующие способы визуализации:**\n",
    "\n",
    "* **диаграмма рассеяния** для двухмерного и трёхмерного случаев;\n",
    "* **Convex Hull**, или выпуклая оболочка;\n",
    "* **дендрограмма**;\n",
    "* **Clustergram**.\n",
    "\n",
    "![](https://lms.skillfactory.ru/assets/courseware/v1/1782e374e67e1e051258ccdaedea6a7c/asset-v1:SkillFactory+DSPR-2.0+14JULY2021+type@asset+block/dst3-ml4-4_1.png)"
   ]
  },
  {
   "cell_type": "markdown",
   "metadata": {},
   "source": [
    "Рассматривать визуализацию кластеризации мы будем на примере [**данных** ](https://lms.skillfactory.ru/assets/courseware/v1/9caef4a5796fbb2648250dada760f4d6/asset-v1:SkillFactory+DSPR-2.0+14JULY2021+type@asset+block/airbnb.zip) об арендном жилье в Нью-Йорке, размещённом на платформе Airbnb. Нас интересуют координаты (широта и долгота) жилья, которое можно арендовать, и стоимость аренды.\n",
    "\n",
    "Рассмотрим кластеризацию по двум признакам, а именно — выделим группы жилья по локации. К текущим признакам добавим цену и рассмотрим, как локация влияет на цену.\n",
    "\n",
    "Загрузим данные:"
   ]
  },
  {
   "cell_type": "code",
   "execution_count": 2,
   "metadata": {},
   "outputs": [
    {
     "data": {
      "text/html": [
       "<div>\n",
       "<style scoped>\n",
       "    .dataframe tbody tr th:only-of-type {\n",
       "        vertical-align: middle;\n",
       "    }\n",
       "\n",
       "    .dataframe tbody tr th {\n",
       "        vertical-align: top;\n",
       "    }\n",
       "\n",
       "    .dataframe thead th {\n",
       "        text-align: right;\n",
       "    }\n",
       "</style>\n",
       "<table border=\"1\" class=\"dataframe\">\n",
       "  <thead>\n",
       "    <tr style=\"text-align: right;\">\n",
       "      <th></th>\n",
       "      <th>id</th>\n",
       "      <th>name</th>\n",
       "      <th>host_id</th>\n",
       "      <th>host_name</th>\n",
       "      <th>neighbourhood_group</th>\n",
       "      <th>neighbourhood</th>\n",
       "      <th>latitude</th>\n",
       "      <th>longitude</th>\n",
       "      <th>room_type</th>\n",
       "      <th>price</th>\n",
       "      <th>minimum_nights</th>\n",
       "      <th>number_of_reviews</th>\n",
       "      <th>last_review</th>\n",
       "      <th>reviews_per_month</th>\n",
       "      <th>calculated_host_listings_count</th>\n",
       "      <th>availability_365</th>\n",
       "    </tr>\n",
       "  </thead>\n",
       "  <tbody>\n",
       "    <tr>\n",
       "      <th>0</th>\n",
       "      <td>2539</td>\n",
       "      <td>Clean &amp; quiet apt home by the park</td>\n",
       "      <td>2787</td>\n",
       "      <td>John</td>\n",
       "      <td>Brooklyn</td>\n",
       "      <td>Kensington</td>\n",
       "      <td>40.64749</td>\n",
       "      <td>-73.97237</td>\n",
       "      <td>Private room</td>\n",
       "      <td>149</td>\n",
       "      <td>1</td>\n",
       "      <td>9</td>\n",
       "      <td>2018-10-19</td>\n",
       "      <td>0.21</td>\n",
       "      <td>6</td>\n",
       "      <td>365</td>\n",
       "    </tr>\n",
       "    <tr>\n",
       "      <th>1</th>\n",
       "      <td>2595</td>\n",
       "      <td>Skylit Midtown Castle</td>\n",
       "      <td>2845</td>\n",
       "      <td>Jennifer</td>\n",
       "      <td>Manhattan</td>\n",
       "      <td>Midtown</td>\n",
       "      <td>40.75362</td>\n",
       "      <td>-73.98377</td>\n",
       "      <td>Entire home/apt</td>\n",
       "      <td>225</td>\n",
       "      <td>1</td>\n",
       "      <td>45</td>\n",
       "      <td>2019-05-21</td>\n",
       "      <td>0.38</td>\n",
       "      <td>2</td>\n",
       "      <td>355</td>\n",
       "    </tr>\n",
       "    <tr>\n",
       "      <th>2</th>\n",
       "      <td>3647</td>\n",
       "      <td>THE VILLAGE OF HARLEM....NEW YORK !</td>\n",
       "      <td>4632</td>\n",
       "      <td>Elisabeth</td>\n",
       "      <td>Manhattan</td>\n",
       "      <td>Harlem</td>\n",
       "      <td>40.80902</td>\n",
       "      <td>-73.94190</td>\n",
       "      <td>Private room</td>\n",
       "      <td>150</td>\n",
       "      <td>3</td>\n",
       "      <td>0</td>\n",
       "      <td>NaN</td>\n",
       "      <td>NaN</td>\n",
       "      <td>1</td>\n",
       "      <td>365</td>\n",
       "    </tr>\n",
       "  </tbody>\n",
       "</table>\n",
       "</div>"
      ],
      "text/plain": [
       "     id                                 name  host_id  host_name  \\\n",
       "0  2539   Clean & quiet apt home by the park     2787       John   \n",
       "1  2595                Skylit Midtown Castle     2845   Jennifer   \n",
       "2  3647  THE VILLAGE OF HARLEM....NEW YORK !     4632  Elisabeth   \n",
       "\n",
       "  neighbourhood_group neighbourhood  latitude  longitude        room_type  \\\n",
       "0            Brooklyn    Kensington  40.64749  -73.97237     Private room   \n",
       "1           Manhattan       Midtown  40.75362  -73.98377  Entire home/apt   \n",
       "2           Manhattan        Harlem  40.80902  -73.94190     Private room   \n",
       "\n",
       "   price  minimum_nights  number_of_reviews last_review  reviews_per_month  \\\n",
       "0    149               1                  9  2018-10-19               0.21   \n",
       "1    225               1                 45  2019-05-21               0.38   \n",
       "2    150               3                  0         NaN                NaN   \n",
       "\n",
       "   calculated_host_listings_count  availability_365  \n",
       "0                               6               365  \n",
       "1                               2               355  \n",
       "2                               1               365  "
      ]
     },
     "execution_count": 2,
     "metadata": {},
     "output_type": "execute_result"
    }
   ],
   "source": [
    "# импортируем библиотеки, которые нам понадобятся для работы с датафреймом, кластеризацией и визуализацией\n",
    "import matplotlib.pyplot as plt\n",
    "import pandas as pd\n",
    "import seaborn as sns\n",
    "from sklearn.cluster import KMeans\n",
    "\n",
    "df = pd.read_csv(\"data/airbnb.csv\")\n",
    "df.head(3)"
   ]
  },
  {
   "cell_type": "markdown",
   "metadata": {},
   "source": [
    "В данном датасете довольно много данных, например имя арендодателя, минимальное время аренды. Нас интересуют только широта (столбец *latitude*) и долгота (столбец *longitude*), а также цена (столбец price) аренды квартиры. Визуализируем данные, основываясь на широте и долготе:"
   ]
  },
  {
   "cell_type": "code",
   "execution_count": 3,
   "metadata": {},
   "outputs": [
    {
     "name": "stderr",
     "output_type": "stream",
     "text": [
      "c:\\Program Files\\Python39\\lib\\site-packages\\seaborn\\_decorators.py:36: FutureWarning: Pass the following variables as keyword args: x, y. From version 0.12, the only valid positional argument will be `data`, and passing other arguments without an explicit keyword will result in an error or misinterpretation.\n",
      "  warnings.warn(\n"
     ]
    },
    {
     "data": {
      "text/plain": [
       "<AxesSubplot:xlabel='latitude', ylabel='longitude'>"
      ]
     },
     "execution_count": 3,
     "metadata": {},
     "output_type": "execute_result"
    },
    {
     "data": {
      "image/png": "[encoded data removed]",
      "text/plain": [
       "<Figure size 432x288 with 1 Axes>"
      ]
     },
     "metadata": {
      "needs_background": "light"
     },
     "output_type": "display_data"
    }
   ],
   "source": [
    "sns.scatterplot(df.latitude, df.longitude)"
   ]
  },
  {
   "cell_type": "markdown",
   "metadata": {},
   "source": [
    "***\n",
    "## **2D-ВИЗУАЛИЗАЦИЯ КЛАСТЕРОВ И ЦЕНТРОИДОВ**"
   ]
  },
  {
   "cell_type": "markdown",
   "metadata": {},
   "source": [
    "### **ДИАГРАММА РАССЕЯНИЯ**\n",
    "\n",
    "Самый простой способ визуализировать получившиеся кластеры — выделить разными цветами данные, принадлежащие к разным кластерам. В этом поможет диаграмма рассеяния, на которой по двум осям откладываются значения признаков объекта. С помощью такой простой визуализации легко понять, правильно ли прошла кластеризация, действительно ли разные объекты оказались в разных классах, а похожие — в одном.\n",
    "\n",
    "Мы с вами уже умеем визуализировать диаграммы рассеяния и выделять разными цветами данные, принадлежащие к разным кластерам. Сейчас мы повторим пройденное, а также дополнительно выделим на графике центроиды кластеров. Для этого построим модель k-means-кластеризации, выделив в данных шесть кластеров, а далее найдём центроиды и визуализируем результаты."
   ]
  },
  {
   "cell_type": "code",
   "execution_count": 4,
   "metadata": {},
   "outputs": [],
   "source": [
    "# инициализируем k-means-кластеризацию с шестью кластерами\n",
    "kmeans_clustering = KMeans(n_clusters=6)\n",
    "\n",
    "# обучим k-means-модель кластеризации на данных о широте и долготе, сохраним данные о кластерах в predictions\n",
    "predictions = kmeans_clustering.fit_predict(df[['latitude', 'longitude']])\n",
    "\n",
    "# сохраним предсказания в колонку clusters датафрейма\n",
    "df[\"clusters\"] = predictions\n",
    "\n",
    "\n",
    "# с помощью метода cluster_centers_ найдём координаты центроидов кластеров, сохраним их в список centroids\n",
    "centroids = kmeans_clustering.cluster_centers_\n",
    "\n",
    "# для шести кластеров сохраним в отдельные списки значения координат x и y\n",
    "centroids_x = [i[0] for i in centroids]\n",
    "centroids_y = [i[1] for i in centroids]\n",
    "\n",
    "# зададим цвета для разных кластеров\n",
    "colors = ['#DF2020', '#81DF20', '#2095DF', '#DF20C8', '#20DFC5', '#DF8520']\n",
    "\n",
    "# создадим пустые словари, чтобы потом соотнести координаты x и у центроидов разных кластеров, а также цвета \n",
    "centroids_x_dict = {}\n",
    "centroids_y_dict = {}\n",
    "colors_dict = {}\n",
    "\n",
    "# итерируемся шесть раз, так как у нас шесть кластеров\n",
    "for i in range(6):\n",
    "    # сохраняем в словарь номер кластера в качестве ключа, значение координаты x центроида — в качестве значения\n",
    "    centroids_x_dict[i] = centroids_x[i]\n",
    "    # сохраняем в словарь номер кластера в качестве ключа, значение координаты y центроида — в качестве значения\n",
    "    centroids_y_dict[i] = centroids_y[i]\n",
    "    # сохраняем в словарь номер кластера в качестве ключа, значение цвета — в качестве значения\n",
    "    colors_dict[i] = colors[i]"
   ]
  },
  {
   "cell_type": "markdown",
   "metadata": {},
   "source": [
    "Создадим новые столбцы (cen_x, cen_y, color) в датафрейме. В зависимости от значения в ячейке clusters в ячейках cen_x, cen_y и color будут разные значения: если значение в clusters — 0, в cen_x и cen_y будут указаны координаты центроида нулевого кластера и цвет нулевого кластера."
   ]
  },
  {
   "cell_type": "code",
   "execution_count": 5,
   "metadata": {},
   "outputs": [
    {
     "data": {
      "text/html": [
       "<div>\n",
       "<style scoped>\n",
       "    .dataframe tbody tr th:only-of-type {\n",
       "        vertical-align: middle;\n",
       "    }\n",
       "\n",
       "    .dataframe tbody tr th {\n",
       "        vertical-align: top;\n",
       "    }\n",
       "\n",
       "    .dataframe thead th {\n",
       "        text-align: right;\n",
       "    }\n",
       "</style>\n",
       "<table border=\"1\" class=\"dataframe\">\n",
       "  <thead>\n",
       "    <tr style=\"text-align: right;\">\n",
       "      <th></th>\n",
       "      <th>id</th>\n",
       "      <th>name</th>\n",
       "      <th>host_id</th>\n",
       "      <th>host_name</th>\n",
       "      <th>neighbourhood_group</th>\n",
       "      <th>neighbourhood</th>\n",
       "      <th>latitude</th>\n",
       "      <th>longitude</th>\n",
       "      <th>room_type</th>\n",
       "      <th>price</th>\n",
       "      <th>minimum_nights</th>\n",
       "      <th>number_of_reviews</th>\n",
       "      <th>last_review</th>\n",
       "      <th>reviews_per_month</th>\n",
       "      <th>calculated_host_listings_count</th>\n",
       "      <th>availability_365</th>\n",
       "      <th>clusters</th>\n",
       "      <th>cen_x</th>\n",
       "      <th>cen_y</th>\n",
       "      <th>color</th>\n",
       "    </tr>\n",
       "  </thead>\n",
       "  <tbody>\n",
       "    <tr>\n",
       "      <th>0</th>\n",
       "      <td>2539</td>\n",
       "      <td>Clean &amp; quiet apt home by the park</td>\n",
       "      <td>2787</td>\n",
       "      <td>John</td>\n",
       "      <td>Brooklyn</td>\n",
       "      <td>Kensington</td>\n",
       "      <td>40.64749</td>\n",
       "      <td>-73.97237</td>\n",
       "      <td>Private room</td>\n",
       "      <td>149</td>\n",
       "      <td>1</td>\n",
       "      <td>9</td>\n",
       "      <td>2018-10-19</td>\n",
       "      <td>0.21</td>\n",
       "      <td>6</td>\n",
       "      <td>365</td>\n",
       "      <td>2</td>\n",
       "      <td>40.677937</td>\n",
       "      <td>-73.967837</td>\n",
       "      <td>#2095DF</td>\n",
       "    </tr>\n",
       "    <tr>\n",
       "      <th>1</th>\n",
       "      <td>2595</td>\n",
       "      <td>Skylit Midtown Castle</td>\n",
       "      <td>2845</td>\n",
       "      <td>Jennifer</td>\n",
       "      <td>Manhattan</td>\n",
       "      <td>Midtown</td>\n",
       "      <td>40.75362</td>\n",
       "      <td>-73.98377</td>\n",
       "      <td>Entire home/apt</td>\n",
       "      <td>225</td>\n",
       "      <td>1</td>\n",
       "      <td>45</td>\n",
       "      <td>2019-05-21</td>\n",
       "      <td>0.38</td>\n",
       "      <td>2</td>\n",
       "      <td>355</td>\n",
       "      <td>3</td>\n",
       "      <td>40.735543</td>\n",
       "      <td>-73.988864</td>\n",
       "      <td>#DF20C8</td>\n",
       "    </tr>\n",
       "    <tr>\n",
       "      <th>2</th>\n",
       "      <td>3647</td>\n",
       "      <td>THE VILLAGE OF HARLEM....NEW YORK !</td>\n",
       "      <td>4632</td>\n",
       "      <td>Elisabeth</td>\n",
       "      <td>Manhattan</td>\n",
       "      <td>Harlem</td>\n",
       "      <td>40.80902</td>\n",
       "      <td>-73.94190</td>\n",
       "      <td>Private room</td>\n",
       "      <td>150</td>\n",
       "      <td>3</td>\n",
       "      <td>0</td>\n",
       "      <td>NaN</td>\n",
       "      <td>NaN</td>\n",
       "      <td>1</td>\n",
       "      <td>365</td>\n",
       "      <td>1</td>\n",
       "      <td>40.812241</td>\n",
       "      <td>-73.943805</td>\n",
       "      <td>#81DF20</td>\n",
       "    </tr>\n",
       "    <tr>\n",
       "      <th>3</th>\n",
       "      <td>3831</td>\n",
       "      <td>Cozy Entire Floor of Brownstone</td>\n",
       "      <td>4869</td>\n",
       "      <td>LisaRoxanne</td>\n",
       "      <td>Brooklyn</td>\n",
       "      <td>Clinton Hill</td>\n",
       "      <td>40.68514</td>\n",
       "      <td>-73.95976</td>\n",
       "      <td>Entire home/apt</td>\n",
       "      <td>89</td>\n",
       "      <td>1</td>\n",
       "      <td>270</td>\n",
       "      <td>2019-07-05</td>\n",
       "      <td>4.64</td>\n",
       "      <td>1</td>\n",
       "      <td>194</td>\n",
       "      <td>2</td>\n",
       "      <td>40.677937</td>\n",
       "      <td>-73.967837</td>\n",
       "      <td>#2095DF</td>\n",
       "    </tr>\n",
       "    <tr>\n",
       "      <th>4</th>\n",
       "      <td>5022</td>\n",
       "      <td>Entire Apt: Spacious Studio/Loft by central park</td>\n",
       "      <td>7192</td>\n",
       "      <td>Laura</td>\n",
       "      <td>Manhattan</td>\n",
       "      <td>East Harlem</td>\n",
       "      <td>40.79851</td>\n",
       "      <td>-73.94399</td>\n",
       "      <td>Entire home/apt</td>\n",
       "      <td>80</td>\n",
       "      <td>10</td>\n",
       "      <td>9</td>\n",
       "      <td>2018-11-19</td>\n",
       "      <td>0.10</td>\n",
       "      <td>1</td>\n",
       "      <td>0</td>\n",
       "      <td>1</td>\n",
       "      <td>40.812241</td>\n",
       "      <td>-73.943805</td>\n",
       "      <td>#81DF20</td>\n",
       "    </tr>\n",
       "  </tbody>\n",
       "</table>\n",
       "</div>"
      ],
      "text/plain": [
       "     id                                              name  host_id  \\\n",
       "0  2539                Clean & quiet apt home by the park     2787   \n",
       "1  2595                             Skylit Midtown Castle     2845   \n",
       "2  3647               THE VILLAGE OF HARLEM....NEW YORK !     4632   \n",
       "3  3831                   Cozy Entire Floor of Brownstone     4869   \n",
       "4  5022  Entire Apt: Spacious Studio/Loft by central park     7192   \n",
       "\n",
       "     host_name neighbourhood_group neighbourhood  latitude  longitude  \\\n",
       "0         John            Brooklyn    Kensington  40.64749  -73.97237   \n",
       "1     Jennifer           Manhattan       Midtown  40.75362  -73.98377   \n",
       "2    Elisabeth           Manhattan        Harlem  40.80902  -73.94190   \n",
       "3  LisaRoxanne            Brooklyn  Clinton Hill  40.68514  -73.95976   \n",
       "4        Laura           Manhattan   East Harlem  40.79851  -73.94399   \n",
       "\n",
       "         room_type  price  minimum_nights  number_of_reviews last_review  \\\n",
       "0     Private room    149               1                  9  2018-10-19   \n",
       "1  Entire home/apt    225               1                 45  2019-05-21   \n",
       "2     Private room    150               3                  0         NaN   \n",
       "3  Entire home/apt     89               1                270  2019-07-05   \n",
       "4  Entire home/apt     80              10                  9  2018-11-19   \n",
       "\n",
       "   reviews_per_month  calculated_host_listings_count  availability_365  \\\n",
       "0               0.21                               6               365   \n",
       "1               0.38                               2               355   \n",
       "2                NaN                               1               365   \n",
       "3               4.64                               1               194   \n",
       "4               0.10                               1                 0   \n",
       "\n",
       "   clusters      cen_x      cen_y    color  \n",
       "0         2  40.677937 -73.967837  #2095DF  \n",
       "1         3  40.735543 -73.988864  #DF20C8  \n",
       "2         1  40.812241 -73.943805  #81DF20  \n",
       "3         2  40.677937 -73.967837  #2095DF  \n",
       "4         1  40.812241 -73.943805  #81DF20  "
      ]
     },
     "execution_count": 5,
     "metadata": {},
     "output_type": "execute_result"
    }
   ],
   "source": [
    "df['cen_x'] = df.clusters.map(centroids_x_dict) \n",
    "df['cen_y'] = df.clusters.map(centroids_y_dict)\n",
    "df['color'] = df.clusters.map(colors_dict)\n",
    "df.head()"
   ]
  },
  {
   "cell_type": "markdown",
   "metadata": {},
   "source": [
    "Мы можем просто визуализировать полученные кластеры, передав в переменную информацию о том, какой элемент к какому кластеру принадлежит. В таком случае Seaborn будет автоматически подбирать цвета для кластеров:"
   ]
  },
  {
   "cell_type": "code",
   "execution_count": 16,
   "metadata": {},
   "outputs": [
    {
     "name": "stderr",
     "output_type": "stream",
     "text": [
      "c:\\Program Files\\Python39\\lib\\site-packages\\seaborn\\_decorators.py:36: FutureWarning: Pass the following variables as keyword args: x, y. From version 0.12, the only valid positional argument will be `data`, and passing other arguments without an explicit keyword will result in an error or misinterpretation.\n",
      "  warnings.warn(\n"
     ]
    },
    {
     "data": {
      "text/plain": [
       "<AxesSubplot:xlabel='latitude', ylabel='longitude'>"
      ]
     },
     "execution_count": 16,
     "metadata": {},
     "output_type": "execute_result"
    },
    {
     "data": {
      "image/png": "[encoded data removed]",
      "text/plain": [
       "<Figure size 432x288 with 1 Axes>"
      ]
     },
     "metadata": {
      "needs_background": "light"
     },
     "output_type": "display_data"
    }
   ],
   "source": [
    "sns.scatterplot(df.latitude, df.longitude, c=df.clusters)"
   ]
  },
  {
   "cell_type": "markdown",
   "metadata": {},
   "source": [
    "Если мы хотим задать определённые цвета для кластеров, в переменную c передадим столбец с заданными цветами:"
   ]
  },
  {
   "cell_type": "code",
   "execution_count": 15,
   "metadata": {},
   "outputs": [
    {
     "name": "stderr",
     "output_type": "stream",
     "text": [
      "c:\\Program Files\\Python39\\lib\\site-packages\\seaborn\\_decorators.py:36: FutureWarning: Pass the following variables as keyword args: x, y. From version 0.12, the only valid positional argument will be `data`, and passing other arguments without an explicit keyword will result in an error or misinterpretation.\n",
      "  warnings.warn(\n"
     ]
    },
    {
     "data": {
      "text/plain": [
       "<AxesSubplot:xlabel='latitude', ylabel='longitude'>"
      ]
     },
     "execution_count": 15,
     "metadata": {},
     "output_type": "execute_result"
    },
    {
     "data": {
      "image/png": "[encoded data removed]",
      "text/plain": [
       "<Figure size 432x288 with 1 Axes>"
      ]
     },
     "metadata": {
      "needs_background": "light"
     },
     "output_type": "display_data"
    }
   ],
   "source": [
    "sns.scatterplot(df.latitude, df.longitude, c=df.color)"
   ]
  },
  {
   "cell_type": "markdown",
   "metadata": {},
   "source": [
    "Если точек слишком много или мало, может понадобиться уменьшить или увеличить их размер. В этом поможет переменная ***s***.\n",
    "\n",
    "Также могут встретиться перекрывающиеся кластеры — а таком случае нужно, чтобы цвета объектов в кластере были полупрозрачными. В этом поможет переменная ***alpha***: чем ближе её значение к 1, тем менее прозрачны объекты на графике."
   ]
  },
  {
   "cell_type": "code",
   "execution_count": 10,
   "metadata": {},
   "outputs": [
    {
     "name": "stderr",
     "output_type": "stream",
     "text": [
      "c:\\Program Files\\Python39\\lib\\site-packages\\seaborn\\_decorators.py:36: FutureWarning: Pass the following variables as keyword args: x, y. From version 0.12, the only valid positional argument will be `data`, and passing other arguments without an explicit keyword will result in an error or misinterpretation.\n",
      "  warnings.warn(\n"
     ]
    },
    {
     "data": {
      "text/plain": [
       "<AxesSubplot:xlabel='latitude', ylabel='longitude'>"
      ]
     },
     "execution_count": 10,
     "metadata": {},
     "output_type": "execute_result"
    },
    {
     "data": {
      "image/png": "[encoded data removed]",
      "text/plain": [
       "<Figure size 432x288 with 1 Axes>"
      ]
     },
     "metadata": {
      "needs_background": "light"
     },
     "output_type": "display_data"
    }
   ],
   "source": [
    "sns.scatterplot(df.latitude, df.longitude, c=df.color, alpha=0.3, s=170)"
   ]
  },
  {
   "cell_type": "code",
   "execution_count": 17,
   "metadata": {},
   "outputs": [
    {
     "name": "stderr",
     "output_type": "stream",
     "text": [
      "c:\\Program Files\\Python39\\lib\\site-packages\\seaborn\\_decorators.py:36: FutureWarning: Pass the following variables as keyword args: x, y. From version 0.12, the only valid positional argument will be `data`, and passing other arguments without an explicit keyword will result in an error or misinterpretation.\n",
      "  warnings.warn(\n",
      "c:\\Program Files\\Python39\\lib\\site-packages\\seaborn\\_decorators.py:36: FutureWarning: Pass the following variables as keyword args: x, y. From version 0.12, the only valid positional argument will be `data`, and passing other arguments without an explicit keyword will result in an error or misinterpretation.\n",
      "  warnings.warn(\n"
     ]
    },
    {
     "data": {
      "text/plain": [
       "<AxesSubplot:xlabel='latitude', ylabel='longitude'>"
      ]
     },
     "execution_count": 17,
     "metadata": {},
     "output_type": "execute_result"
    },
    {
     "data": {
      "image/png": "[encoded data removed]",
      "text/plain": [
       "<Figure size 1440x864 with 1 Axes>"
      ]
     },
     "metadata": {
      "needs_background": "light"
     },
     "output_type": "display_data"
    }
   ],
   "source": [
    "# визуализируем элементы датасета\n",
    "# параметр c отвечает за цвет элемента в зависимости от того, к какому кластеру он принадлежит\n",
    "# s отвечает за размер объектов на графике, alpha отвечает за прозрачность точек\n",
    "fig, axes = plt.subplots(figsize=(20, 12))\n",
    "sns.scatterplot(df.latitude, df.longitude, c=df.color, s=50, alpha=0.5)\n",
    "# визуализируем центроиды: отметим их на графике крестиком (marker=\"X\") и зададим им розовый цвет \n",
    "sns.scatterplot(centroids_x, centroids_y, marker=\"X\", c=['#FC46AA'], s=130)"
   ]
  },
  {
   "cell_type": "markdown",
   "metadata": {},
   "source": [
    "*Итак, мы визуализировали кластеры, а также отметили центроиды этих кластеров. Визуализация центроидов кластеров помогает понять, насколько элементы кластера находятся далеко или близко к центроиду. Если элемент находится далеко от центроида и от других элементов, то он сильно непохож на элементы своего кластера.*\n",
    "\n",
    "*Если в одном пространстве много скоплений точек, при визуализации мы можем увеличить прозрачность точек с помощью параметра alpha. Таким образом, тот участок, который будет насыщеннее по цвету, будет содержать больше скоплений точек.*\n",
    "\n",
    "*В данном случае мы визуализировали результаты кластеризации и можем заметить, что в целом кластеризация выглядит логичной. Также можно отметить, что в данных есть выбросы, так как есть точки, которые расположены очень далеко от центроидов кластеров.*\n",
    "\n",
    "***"
   ]
  },
  {
   "cell_type": "markdown",
   "metadata": {},
   "source": [
    "### **CONVEX HULL**"
   ]
  },
  {
   "cell_type": "markdown",
   "metadata": {},
   "source": [
    "В предыдущем примере оценивать размеры кластеров мы могли лишь на глаз. При рассмотрении диаграммы рассеяния вам, возможно, хотелось провести «границы» кластеров, чтобы оценить их размеры. Провести границы кластеров мы можем с помощью визуализации выпуклых оболочек кластеров.\n",
    "***\n",
    "***Выпуклая оболочка (Convex Hull) множества точек — это такое выпуклое множество точек, в котором лежат все точки фигуры.***\n",
    "***\n",
    "*Представьте, что по стене развешены крючки. Чтобы найти выпуклую оболочку этих крючков, необходимо взять лассо, набросить его на крючки и затянуть. Верёвка будет окружать все крючки, а касаться будет только тех, что снаружи. Петля, которая будет окружать крючки, и будет считаться выпуклой оболочкой:*\n",
    "\n",
    "![](https://lms.skillfactory.ru/assets/courseware/v1/75d49c9e86bdd3ab226c32a0ae2a0762/asset-v1:SkillFactory+DSPR-2.0+14JULY2021+type@asset+block/dst3-ml4-4_9.png)\n",
    "\n",
    "Визуализация Convex Hull помогает понять, насколько получившиеся кластеры крупные и разнообразные. Если все элементы кластера похожи друг на друга, площадь выпуклой оболочки будет маленькой, в противном случае — наоборот. Также на данной диаграмме хорошо заметны выбросы в данных. Выбросы находятся далеко от основных элементов кластера, а значит площадь выпуклой оболочки получается большой.\n"
   ]
  },
  {
   "cell_type": "markdown",
   "metadata": {},
   "source": [
    "Для построения выпуклой оболочки каждого кластера воспользуемся библиотекой **Scipy** и классом **ConvexHull**.\n",
    "\n",
    "Scipy можно установить следующим образом:\n",
    "\n",
    "**pip install scipy**"
   ]
  },
  {
   "cell_type": "markdown",
   "metadata": {},
   "source": [
    "ConvexHull принимает на вход значения признаков объектов, для которых нужно построить выпуклую оболочку. Индексы точек из points, которые образуют вершины выпуклой оболочки, можно получить с помощью метода **vertices**:"
   ]
  },
  {
   "cell_type": "code",
   "execution_count": 19,
   "metadata": {},
   "outputs": [],
   "source": [
    "from scipy.spatial import ConvexHull \n",
    "import numpy as np"
   ]
  },
  {
   "cell_type": "code",
   "execution_count": 20,
   "metadata": {},
   "outputs": [
    {
     "data": {
      "text/plain": [
       "array([0, 4, 3, 2], dtype=int32)"
      ]
     },
     "execution_count": 20,
     "metadata": {},
     "output_type": "execute_result"
    }
   ],
   "source": [
    "points = np.array([[ 40.64524, -74.08088], [ 40.63536, -74.08537], [ 40.63627, -74.08543], [ 40.63518, -74.08546], [ 40.63481, -74.08519]])\n",
    "hull = ConvexHull(points)\n",
    "hull.vertices"
   ]
  },
  {
   "cell_type": "code",
   "execution_count": 23,
   "metadata": {},
   "outputs": [
    {
     "data": {
      "image/png": "[encoded data removed]",
      "text/plain": [
       "<Figure size 576x576 with 1 Axes>"
      ]
     },
     "metadata": {
      "needs_background": "light"
     },
     "output_type": "display_data"
    }
   ],
   "source": [
    "from scipy.spatial import ConvexHull \n",
    "import numpy as np\n",
    "\n",
    "fig, ax = plt.subplots(1, figsize=(8,8))\n",
    "\n",
    "# визуализируем объекты кластеров и центроиды\n",
    "plt.scatter(df.latitude, df.longitude, c=df.color, alpha = 0.6, s=10)\n",
    "plt.scatter(centroids_x, centroids_y, marker='^', c=colors, s=70)\n",
    "\n",
    "# найдём уникальные значения кластеров и проитерируемся по каждому кластеру\n",
    "for i in df.clusters.unique():\n",
    "    # запишем в points значения признаков широты и долготы, принадлежащие к i-му кластеру\n",
    "    points = df[df.clusters == i][['latitude', 'longitude']].values\n",
    " \n",
    "    hull = ConvexHull(points)\n",
    "    \n",
    "    # Запишем координаты оболочки по оси x. Из hull.vertices узнаем индексы элементов, входящих в оболочку.\n",
    "    # Так как оболочка должна быть замкнутой, то в конце добавляем ещё раз нулевой элемент.\n",
    "    x_hull = np.append(points[hull.vertices, 0], points[hull.vertices, 0][0]) \n",
    "    y_hull = np.append(points[hull.vertices, 1], points[hull.vertices, 1][0]) \n",
    "    \n",
    "    # рисуем оболочку и заливаем её таким же цветом, как и объекты кластера\n",
    "    plt.fill(x_hull, y_hull, alpha=0.2, c=colors[i])"
   ]
  },
  {
   "cell_type": "markdown",
   "metadata": {},
   "source": [
    "В данном случае можно сказать, что среди элементов розового и зелёного кластеров содержатся выбросы, за счёт которых выпуклая оболочка стала большой. Элементы синего кластера наиболее похожи между собой, элементы красного довольно разнообразны относительно других кластеров.\n",
    "\n",
    "*→ Таким образом, если мы хотим лучше понять, какие данные находятся в кластерах, насколько сильно они схожи между собой или различны, на помощь придёт график **Convex Hull**.*\n",
    "\n",
    "**Диаграмма рассеяния и Convex Hull** помогают **визуализировать только результаты**, т. е. то, как данные разделились на кластеры. Для иерархической же кластеризации мы можем визуализировать не только полученные результаты, но и то, как данные делились на кластеры в ходе работы алгоритма. Для такой визуализации нужно использовать **дендрограммы**."
   ]
  },
  {
   "cell_type": "markdown",
   "metadata": {},
   "source": [
    "***\n",
    "### **ДЕНДРОГРАММА**"
   ]
  },
  {
   "cell_type": "markdown",
   "metadata": {},
   "source": [
    "Данный способ визуализации необходим, если мы хотим визуализировать результаты иерархической кластеризации.\n",
    "\n",
    "Из дендрограммы можно вынести много полезной информации. На дендрограмме можно:\n",
    "\n",
    "* наблюдать, как работал алгоритм: как объединялись (или разбивались) кластеры;\n",
    "* понять, насколько похожи соседние кластеры между собой;\n",
    "* предположить, какое количество кластеров можно было бы выбрать для кластеризации."
   ]
  },
  {
   "cell_type": "markdown",
   "metadata": {},
   "source": [
    "Для визуализации дендрограммы нам понадобится библиотека **Scipy** и модули **dendrogram** и **linkage**.\n",
    "\n",
    "* **linkage** — это способ расчёта расстояния между двумя кластерами.\n",
    "\n",
    "В переменной ***method*** можно задать разные способы расчёта расстояния: *single, complete, average, weighted, centroid, median, ward*.\n",
    "\n",
    "Функция dendrogram строит дендрограмму, основываясь на информации о расстоянии объектов, полученной из функции linkage. Данная информация позволяет строить на дендрограмме ветви разной высоты.\n",
    "\n",
    "Наиболее важные переменные, которые принимает функция dendrogram:\n",
    "\n",
    "* **Z** — расстояния до объектов кластеров, полученные из функции linkage.\n",
    "* **orientation** — ориентация дендрограммы. Данный параметр может принимать значения top, bottom, left, right.\n",
    "* **labels** — список с предсказаниями, к какому кластеру какой объект относится.\n",
    "* **distance_sort** — определяет, в каком порядке будут визуализированы кластеры: ascending или True означает, что сначала отрисовывается пара кластеров с максимальным расстоянием между ними; descending или False — что сначала отрисовывается пара кластеров с минимальным расстоянием между ними.\n",
    "  \n",
    "![](https://lms.skillfactory.ru/assets/courseware/v1/0c375fbe135d15673030e71b6f3ec640/asset-v1:SkillFactory+DSPR-2.0+14JULY2021+type@asset+block/dst3-ml4-4_11.png)"
   ]
  },
  {
   "cell_type": "markdown",
   "metadata": {},
   "source": [
    "Запустим агломеративную кластеризацию на данных об аренде жилья на Airbnb в Нью-Йорке:"
   ]
  },
  {
   "cell_type": "code",
   "execution_count": 25,
   "metadata": {},
   "outputs": [
    {
     "data": {
      "image/png": "[encoded data removed]",
      "text/plain": [
       "<Figure size 1440x1224 with 1 Axes>"
      ]
     },
     "metadata": {
      "needs_background": "light"
     },
     "output_type": "display_data"
    }
   ],
   "source": [
    "# импортируем агломеративную кластеризацию из sklearn\n",
    "from sklearn.cluster import AgglomerativeClustering\n",
    "\n",
    "# запускаем агломеративную кластеризацию, расстояние между кластерами рассчитываем методом одиночной связи\n",
    "agglomerative_clustering = AgglomerativeClustering(n_clusters=6, linkage='single')\n",
    "\n",
    "# обучаем модель и получаем результаты кластеризации\n",
    "predictions_ag_model = agglomerative_clustering.fit_predict(df[['latitude', 'longitude']])\n",
    "\n",
    "\n",
    "# Визуализируем результаты:\n",
    "from scipy.cluster.hierarchy import dendrogram, linkage\n",
    "from matplotlib import pyplot as plt\n",
    "\n",
    "# рассчитаем расстояния между кластерами\n",
    "linked = linkage(df[[\"latitude\", \"longitude\"]], 'single')\n",
    "\n",
    "plt.figure(figsize=(20, 17))\n",
    "\n",
    "# визуализируем дендрограмму с ориентацией top\n",
    "# сначала будут отрисовываться кластеры с минимальным расстоянием между ними\n",
    "dendrogram(Z=linked,\n",
    "            orientation='top',\n",
    "            labels=predictions_ag_model,\n",
    "            distance_sort='descending')\n",
    "\n",
    "plt.show()"
   ]
  },
  {
   "cell_type": "markdown",
   "metadata": {},
   "source": [
    "Так как данных немало, график получается несколько перегруженным. На дендрограмме можно наблюдать, как проходил процесс кластеризации: исходные элементы, находящиеся снизу, объединялись сначала в много мелких кластеров, затем эти кластеры объединялись между собой, пока в самом конце все кластеры не объединились в один большой.\n",
    "\n",
    "Из данного графика понятно, на сколько кластеров можно разделить данные. В данном случае, основываясь на значениях расстояний между кластерами, мы можем провести мысленную горизонтальную линию и посмотреть, сколько ветвей дендрограммы она пересечёт (это количество и будет равно количеству кластеров). Например, если мы считаем, что расстояния 0.04 между кластерами достаточно для того, чтобы считать кластеризацию завершённой, данные нужно делить на шесть кластеров. На рисунке ниже мы провели мысленную горизонтальную линию на значении 0.04. Данная линия пересекла шесть ветвей дендрограммы:\n",
    "\n",
    "![](https://lms.skillfactory.ru/assets/courseware/v1/20283f232f4c47418ebcc529d8d6d606/asset-v1:SkillFactory+DSPR-2.0+14JULY2021+type@asset+block/dst3-ml4-4_13.png)\n",
    "\n",
    "Также по дендрограмме мы можем понять, насколько кластеры похожи между собой: чем меньше высота внутренних веток, тем более похожими считаются кластеры. В нашем случае можно наблюдать, что в самом начале объекты были схожи, так как высота внутренних веток была маленькой, а далее, когда внутренних веток осталось шесть, высота стала больше, то есть кластеры стали отличаться друг от друга:\n",
    "\n",
    "![](https://lms.skillfactory.ru/assets/courseware/v1/57381595976914a5bbbb780195ac5886/asset-v1:SkillFactory+DSPR-2.0+14JULY2021+type@asset+block/dst3-ml4-4_14.png)\n",
    "\n",
    "График дендрограммы получается довольно информативным, но его можно использовать только для иерархической кластеризации. Что делать, если для других видов кластеризации также хочется наблюдать, как данные делятся на два, три и более кластеров? Для этого можно использовать **Clustergram-визуализацию**."
   ]
  },
  {
   "cell_type": "markdown",
   "metadata": {},
   "source": [
    "***\n",
    "### **CLUSTERGRAM**"
   ]
  },
  {
   "cell_type": "markdown",
   "metadata": {},
   "source": [
    "Построение кластеров можно отследить только для иерархической кластеризации. Для k-means-кластеризации мы можем только визуализировать полученные кластеры. Однако иногда бывает интересно представить, как выглядели бы данные, если бы кластеров было, например, два, а не три.\n",
    "\n",
    "Относительно недавно был разработан ещё один способ визуализации — **Clustergram**.\n",
    "\n",
    "*Данная визуализация позволяет понять, что происходит с данными при разном количестве кластеров, и полезна при исследовательском анализе. Также она может быть полезна и для иерархической кластеризации, когда объектов много и дендрограмма получается сложной для понимания.*\n",
    "\n",
    "Далее мы рассмотрим только базовые принципы Clustergram-кластеризации. Более подробную информацию можно найти [**тут**](https://github.com/martinfleis/clustergram).\n",
    "***\n",
    "Графики Clustergram позволяют отследить, как делятся данные при разном количестве кластеров. Более того, можно оценить, в каком кластере объектов больше, а в каком — меньше.\n",
    "\n",
    "Графики Clustergram выглядят следующим образом:\n",
    "\n",
    "![](https://lms.skillfactory.ru/assets/courseware/v1/b5fae36f43539bfc164077455e4240c9/asset-v1:SkillFactory+DSPR-2.0+14JULY2021+type@asset+block/dst3-ml4-4_15.png)"
   ]
  },
  {
   "cell_type": "markdown",
   "metadata": {},
   "source": [
    "Установить данную библиотеку можно через pip:\n",
    "\n",
    "**pip install clustergram**\n",
    "\n",
    "Попробуем визуализировать данные:"
   ]
  },
  {
   "cell_type": "code",
   "execution_count": 32,
   "metadata": {},
   "outputs": [
    {
     "name": "stdout",
     "output_type": "stream",
     "text": [
      "K=1 skipped. Mean computed from data directly.\n",
      "K=2 fitted in 0.018863677978515625 seconds.\n",
      "K=3 fitted in 0.02300548553466797 seconds.\n",
      "K=4 fitted in 0.024006128311157227 seconds.\n",
      "K=5 fitted in 0.02500438690185547 seconds.\n",
      "K=6 fitted in 0.029006481170654297 seconds.\n",
      "K=7 fitted in 0.030007362365722656 seconds.\n",
      "K=8 fitted in 0.029006004333496094 seconds.\n"
     ]
    },
    {
     "data": {
      "image/png": "[encoded data removed]",
      "text/plain": [
       "<Figure size 432x288 with 1 Axes>"
      ]
     },
     "metadata": {
      "needs_background": "light"
     },
     "output_type": "display_data"
    }
   ],
   "source": [
    "# импортируем библиотеку clustergram\n",
    "from clustergram import Clustergram\n",
    "\n",
    "# задаём количество кластеров, для которых хотим получить визуализацию, определяем метод кластеризации\n",
    "cgram = Clustergram(range(1, 9), method='kmeans')\n",
    "\n",
    "# запускаем алгоритм\n",
    "cgram.fit(df[[\"latitude\", \"longitude\"]])\n",
    "cgram.plot();"
   ]
  },
  {
   "cell_type": "markdown",
   "metadata": {},
   "source": [
    "На данном графике мы можем наблюдать, как изменяются данные в ходе кластеризации. Сначала один кластер разделился на два. При этом эти кластеры неравномерные: в нижнем кластере данных существенно больше (так как нижняя линия значительно толще), чем в верхнем. Далее данные делятся на три кластера, при этом количество объектов в двух кластерах примерно одинаковое, а в третьем, верхнем, кластере объектов всё ещё меньше. Таким образом мы можем оценивать равномерность получившихся кластеров."
   ]
  },
  {
   "cell_type": "markdown",
   "metadata": {},
   "source": [
    "***\n",
    "## **3D-ВИЗУАЛИЗАЦИЯ**"
   ]
  },
  {
   "cell_type": "markdown",
   "metadata": {},
   "source": [
    "Если кластеризация проводится не в двухмерном пространстве (по двум признакам), а в трёхмерном, для того, чтобы визуально оценить её результаты, необходимо проводить визуализацию в 3D-пространстве. В этом нам поможет библиотека Matplotlib или Plotly. \n",
    "\n",
    "Выше мы рассматривали кластеризацию в двухмерном пространстве и кластеризовали жильё в Нью-Йорке, представленное для аренды на Airbnb, основываясь на широте и долготе. Теперь давайте добавим третий признак — суточную стоимость аренды (поле price в датафрейме).\n",
    "\n",
    "Чтобы визуализировать результаты 3D-кластеризации, её необходимо сначала провести:"
   ]
  },
  {
   "cell_type": "code",
   "execution_count": 33,
   "metadata": {},
   "outputs": [],
   "source": [
    "# инициализируем k-means-кластеризацию с шестью кластерами\n",
    "kmeans_clustering = KMeans(n_clusters=6)\n",
    "\n",
    "# обучим k-means-модель кластеризации на данных широты, долготы и цены, сохраним данные о кластерах для этих данных в kmeans_predictions\n",
    "kmeans_predictions = kmeans_clustering.fit_predict(df[['latitude', 'longitude', 'price']])\n",
    "\n",
    "# сохраним предсказания в колонку clusters датафрейма\n",
    "df[\"clusters_3d\"] = kmeans_predictions"
   ]
  },
  {
   "cell_type": "markdown",
   "metadata": {},
   "source": [
    "Визуализация с помощью библиотеки **Matplotlib**:"
   ]
  },
  {
   "cell_type": "code",
   "execution_count": 34,
   "metadata": {},
   "outputs": [
    {
     "name": "stderr",
     "output_type": "stream",
     "text": [
      "C:\\Users\\Роман\\AppData\\Local\\Temp\\ipykernel_11672\\2384940181.py:5: MatplotlibDeprecationWarning: Axes3D(fig) adding itself to the figure is deprecated since 3.4. Pass the keyword argument auto_add_to_figure=False and use fig.add_axes(ax) to suppress this warning. The default value of auto_add_to_figure will change to False in mpl3.5 and True values will no longer work in 3.6.  This is consistent with other Axes classes.\n",
      "  ax = Axes3D(fig)\n"
     ]
    },
    {
     "data": {
      "text/plain": [
       "Text(0.5, 0, 'price')"
      ]
     },
     "execution_count": 34,
     "metadata": {},
     "output_type": "execute_result"
    },
    {
     "data": {
      "image/png": "[encoded data removed]",
      "text/plain": [
       "<Figure size 432x432 with 1 Axes>"
      ]
     },
     "metadata": {
      "needs_background": "light"
     },
     "output_type": "display_data"
    }
   ],
   "source": [
    "from mpl_toolkits.mplot3d import Axes3D\n",
    "\n",
    "# создадим трёхмерный объект\n",
    "fig = plt.figure(figsize=(6,6))\n",
    "ax = Axes3D(fig)\n",
    "# добавим дополнительную ось в объект картинки\n",
    "fig.add_axes(ax)\n",
    "\n",
    "# визуализируем данные, передав значения x, y, z, а также информацию о группировке данных по цветам\n",
    "ax.scatter(df.longitude.to_list(), df.latitude.to_list(), df.price.to_list(), c=df.clusters_3d)\n",
    "# добавим оси\n",
    "ax.set_xlabel('longitude')\n",
    "ax.set_ylabel('latitude')\n",
    "ax.set_zlabel('price')"
   ]
  },
  {
   "cell_type": "markdown",
   "metadata": {},
   "source": [
    "Чтобы изменить угол обзора, существует два параметра:\n",
    "\n",
    "* **ax.azim** — куб будет вращаться слева направо в зависимости от изменения этой величины;\n",
    "* **ax.elev** — куб будет вращаться снизу вверх в зависимости от изменения данной величины.\n",
    "\n",
    "![](https://lms.skillfactory.ru/assets/courseware/v1/2aa42a4755d4d37f1a83b11bd1ab7b04/asset-v1:SkillFactory+DSPR-2.0+14JULY2021+type@asset+block/dst3-ml4-4_19.png)"
   ]
  },
  {
   "cell_type": "code",
   "execution_count": 39,
   "metadata": {},
   "outputs": [
    {
     "name": "stderr",
     "output_type": "stream",
     "text": [
      "C:\\Users\\Роман\\AppData\\Local\\Temp\\ipykernel_11672\\245501856.py:7: MatplotlibDeprecationWarning: Axes3D(fig) adding itself to the figure is deprecated since 3.4. Pass the keyword argument auto_add_to_figure=False and use fig.add_axes(ax) to suppress this warning. The default value of auto_add_to_figure will change to False in mpl3.5 and True values will no longer work in 3.6.  This is consistent with other Axes classes.\n",
      "  ax = Axes3D(fig)\n"
     ]
    },
    {
     "data": {
      "text/plain": [
       "Text(0.5, 0, 'price')"
      ]
     },
     "execution_count": 39,
     "metadata": {},
     "output_type": "execute_result"
    },
    {
     "data": {
      "image/png": "[encoded data removed]",
      "text/plain": [
       "<Figure size 432x432 with 1 Axes>"
      ]
     },
     "metadata": {
      "needs_background": "light"
     },
     "output_type": "display_data"
    }
   ],
   "source": [
    "# Изменим угол визуализации: \n",
    "\n",
    "from mpl_toolkits.mplot3d import Axes3D\n",
    "\n",
    "# создаём трёхмерный объект\n",
    "fig = plt.figure(figsize=(6,6))\n",
    "ax = Axes3D(fig)\n",
    "# добавляем дополнительную ось в объект картинки\n",
    "fig.add_axes(ax)\n",
    "\n",
    "ax.azim = 30\n",
    "ax.elev = 20\n",
    "\n",
    "# визуализируем данные, передав значения x, y, z, а также информацию о группировке данных по цветам\n",
    "ax.scatter(df.longitude.to_list(), df.latitude.to_list(), df.price.to_list(), c=df.color)\n",
    "# добавляем оси\n",
    "ax.set_xlabel('longitude')\n",
    "ax.set_ylabel('latitude')\n",
    "ax.set_zlabel('price')"
   ]
  },
  {
   "cell_type": "markdown",
   "metadata": {},
   "source": [
    "Теперь, если рассматривать график под другим углом, мы видим, что на самом деле зелёная точка не потерялась среди элементов другого кластера. Данные в трёхмерном пространстве образовали чёткие кластеры, и в основном они основываются на цене арендных квартир. Внизу мы видим фиолетовый кластер с самыми дешёвыми квартирами, а наверху — сиреневый и зелёный кластеры с самыми дорогими. При этом они, по всей видимости, располагаются в одном районе, так как значения широты и долготы довольно близкие.\n",
    "\n",
    "→ *Таким образом, при статической визуализации 3D-пространства бывает полезно рассмотреть график с нескольких сторон, чтобы однозначно оценить результаты кластеризации.*\n",
    "\n",
    "Хоть мы и получили нужную информацию из предыдущей визуализации, но было не совсем удобно каждый раз задавать для 3D-графика параметры обзора. Было бы идеально сделать график интерактивным, чтобы один раз провести визуализацию, а затем самим поворачивать график, как нам удобно. В этом поможет **Plotly**:"
   ]
  },
  {
   "cell_type": "code",
   "execution_count": 41,
   "metadata": {},
   "outputs": [
    {
     "data": {
      "application/vnd.plotly.v1+json": {
       "config": {
        "plotlyServerURL": "https://plot.ly"
       },
       "data": [
        {
         "hovertemplate": "longitude=%{x}<br>latitude=%{y}<br>price=%{z}<br>clusters_3d=%{marker.color}<extra></extra>",
         "legendgroup": "",
         "marker": {
          "color": [
           2,
           5,
           2,
           0,
           0,
           5,
           0,
           0,
           0,
           2,
           2,
           0,
           0,
           0,
           2,
           2,
           5,
           2,
           0,
           5,
           1,
           2,
           0,
           2,
           2,
           0,
           0,
           2,
           0,
           5,
           0,
           0,
           0,
           0,
           0,
           0,
           0,
           0,
           2,
           0,
           0,
           2,
           2,
           2,
           2,
           2,
           2,
           2,
           2,
           0,
           0,
           2,
           5,
           2,
           5,
           2,
           2,
           0,
           0,
           5,
           0,
           1,
           5,
           5,
           0,
           0,
           5,
           0,
           1,
           0,
           5,
           5,
           0,
           0,
           0,
           5,
           5,
           0,
           0,
           2,
           2,
           2,
           1,
           2,
           0,
           3,
           0,
           0,
           0,
           0,
           0,
           2,
           0,
           5,
           0,
           0,
           2,
           0,
           0,
           2,
           0,
           5,
           0,
           4,
           0,
           5,
           2,
           0,
           0,
           5,
           0,
           2,
           2,
           2,
           1,
           5,
           1,
           5,
           5,
           0,
           2,
           1,
           2,
           0,
           0,
           0,
           2,
           0,
           0,
           2,
           0,
           5,
           0,
           0,
           2,
           2,
           0,
           0,
           2,
           2,
           5,
           5,
           2,
           2,
           2,
           2,
           5,
           5,
           0,
           0,
           2,
           0,
           2,
           2,
           0,
           5,
           2,
           5,
           4,
           0,
           0,
           0,
           2,
           5,
           5,
           5,
           0,
           0,
           2,
           0,
           0,
           0,
           2,
           2,
           5,
           2,
           2,
           2,
           2,
           0,
           0,
           1,
           0,
           5,
           2,
           0,
           2,
           0,
           5,
           2,
           1,
           1,
           2,
           2,
           0,
           2,
           0,
           5,
           0,
           0,
           2,
           5,
           5,
           0,
           5,
           0,
           2,
           0,
           0,
           2,
           0,
           2,
           5,
           0,
           0,
           2,
           5,
           0,
           2,
           2,
           5,
           5,
           5,
           1,
           2,
           0,
           2,
           2,
           2,
           2,
           2,
           5,
           5,
           4,
           5,
           2,
           0,
           5,
           0,
           5,
           2,
           2,
           4,
           0,
           2,
           2,
           0,
           2,
           0,
           0,
           0,
           0,
           5,
           5,
           1,
           0,
           0,
           0,
           0,
           0,
           0,
           0,
           2,
           1,
           0,
           0,
           0,
           5,
           0,
           0,
           2,
           0,
           0,
           0,
           2,
           0,
           0,
           2,
           2,
           0,
           0,
           5,
           5,
           0,
           5,
           0,
           2,
           2,
           2,
           5,
           2,
           2,
           2,
           2,
           0,
           2,
           5,
           5,
           2,
           4,
           2,
           0,
           0,
           0,
           4,
           5,
           2,
           5,
           5,
           0,
           2,
           0,
           5,
           2,
           2,
           5,
           2,
           0,
           0,
           2,
           2,
           5,
           2,
           2,
           1,
           2,
           0,
           1,
           1,
           2,
           5,
           0,
           5,
           2,
           5,
           0,
           2,
           5,
           5,
           5,
           2,
           2,
           0,
           0,
           2,
           3,
           0,
           2,
           0,
           0
          ],
          "coloraxis": "coloraxis",
          "symbol": "circle"
         },
         "mode": "markers",
         "name": "",
         "scene": "scene",
         "showlegend": false,
         "type": "scatter3d",
         "x": [
          -73.97237,
          -73.98376999999999,
          -73.9419,
          -73.95976,
          -73.94399,
          -73.975,
          -73.95596,
          -73.98493,
          -73.96723,
          -73.99037,
          -73.96545,
          -73.98867,
          -73.98779,
          -73.96113000000001,
          -74.00525,
          -73.95352,
          -73.97185,
          -73.99501,
          -73.94694,
          -73.94872,
          -73.95718000000001,
          -73.97706,
          -73.97798,
          -73.97865,
          -73.94028,
          -73.97519,
          -73.92639,
          -73.98533,
          -73.92106,
          -73.98541999999999,
          -73.95104,
          -73.95466,
          -73.93762,
          -73.95318,
          -73.95473,
          -73.9878,
          -73.94312,
          -73.92745,
          -73.96327,
          -73.98917,
          -73.98199,
          -73.97966,
          -73.97584,
          -73.97927,
          -73.94478000000001,
          -73.96238000000001,
          -73.9474,
          -73.95591,
          -73.9409,
          -73.97376,
          -73.93934,
          -73.97008000000001,
          -73.9356,
          -73.95392,
          -73.98074,
          -73.9593,
          -73.99104,
          -73.99293,
          -73.93788,
          -73.99775,
          -73.96204,
          -73.9953,
          -73.95269,
          -73.96428,
          -73.96788000000001,
          -73.99119,
          -73.98338000000001,
          -73.97904,
          -73.96791999999999,
          -73.98474,
          -73.93921999999999,
          -73.98008,
          -73.98865,
          -73.94095,
          -73.96374,
          -73.98801,
          -73.95058,
          -73.90334,
          -73.97267,
          -74.00197,
          -73.96112,
          -73.95136,
          -73.98892,
          -73.96323000000001,
          -73.98794000000001,
          -73.99268000000001,
          -73.95748,
          -73.9844,
          -73.98057,
          -73.96218,
          -73.9383,
          -73.97261,
          -73.96600000000001,
          -73.97162,
          -73.95775,
          -73.92609,
          -73.96177,
          -73.94731,
          -74.00271,
          -73.92357,
          -73.95139,
          -74.00154,
          -73.94281,
          -74.00319,
          -73.94176999999999,
          -73.98109000000001,
          -73.92376999999999,
          -73.94844,
          -73.94421,
          -73.98989,
          -73.99291,
          -73.96571999999999,
          -73.98192,
          -73.98912,
          -73.98156999999999,
          -73.98009,
          -73.95748,
          -73.97636999999999,
          -73.97965,
          -73.98604,
          -73.94919,
          -73.97925,
          -73.97556,
          -73.98527,
          -73.96053,
          -73.96468,
          -73.94821999999999,
          -73.93128,
          -73.9547,
          -73.94894000000001,
          -73.96351,
          -73.99143000000001,
          -73.9503,
          -73.98855999999999,
          -73.98399,
          -74.00303000000001,
          -73.93248,
          -73.9634,
          -73.93661999999999,
          -73.96765,
          -73.95348,
          -73.94835,
          -73.99183000000001,
          -73.83168,
          -73.93524000000001,
          -73.93938,
          -73.95935,
          -73.98295,
          -73.96087,
          -73.97312,
          -74.00101,
          -73.96641,
          -73.96056999999999,
          -73.96595,
          -73.93997,
          -74.00401,
          -73.96398,
          -73.9527,
          -73.98094,
          -73.95323,
          -73.95055,
          -73.92313,
          -73.94659,
          -73.98571,
          -73.9642,
          -73.99083,
          -73.94906999999999,
          -73.96408000000001,
          -74.00135,
          -74.08088000000001,
          -73.91765,
          -73.93184000000001,
          -73.9677,
          -73.98034,
          -74.01374,
          -73.97113,
          -74.00405,
          -73.94791,
          -74.0046,
          -73.9373,
          -73.97691,
          -73.89797,
          -73.95924000000001,
          -73.9587,
          -73.97863000000001,
          -73.9475,
          -73.97306999999999,
          -73.95334,
          -73.9415,
          -73.99999,
          -73.99665,
          -73.98852,
          -73.98804,
          -73.95199000000001,
          -73.99201,
          -73.99671,
          -73.76597,
          -73.99271,
          -73.93503,
          -73.87856,
          -73.89816,
          -73.87854,
          -73.95976,
          -73.98474,
          -73.95603,
          -73.97261999999999,
          -73.94598,
          -73.93058,
          -73.94275,
          -73.93845,
          -73.93549,
          -73.99134000000001,
          -74.0049,
          -73.95161999999999,
          -73.97525,
          -73.98432,
          -73.95829,
          -73.94499,
          -73.90502,
          -73.99386,
          -73.98701,
          -73.98508000000001,
          -73.99053,
          -73.98498000000001,
          -73.94343,
          -73.94287,
          -73.98397,
          -73.9501,
          -73.98589,
          -73.89934000000001,
          -73.95966999999999,
          -73.99503,
          -73.96991,
          -74.00262,
          -73.99474000000001,
          -73.94573000000001,
          -73.94434,
          -73.94707,
          -73.98049,
          -73.96070999999999,
          -73.93936,
          -73.9954,
          -74.00027,
          -73.9575,
          -73.9908,
          -73.96897,
          -73.9503,
          -73.99079,
          -73.9171,
          -74.08537,
          -74.08543,
          -74.08546,
          -73.98161,
          -73.99566999999999,
          -73.95510999999999,
          -73.95177,
          -74.08519,
          -73.91433,
          -73.97426,
          -73.98326999999999,
          -73.85514,
          -73.83572,
          -73.94314,
          -73.98246,
          -73.95385,
          -73.9263,
          -73.95467,
          -73.98594,
          -73.94339000000001,
          -73.94700999999999,
          -73.9529,
          -73.95155,
          -73.99811,
          -73.98156999999999,
          -73.98098,
          -73.95264,
          -73.9626,
          -73.98158000000001,
          -73.95175,
          -73.94641,
          -73.94306999999999,
          -73.97323,
          -73.99443000000001,
          -73.94808,
          -73.98534000000001,
          -73.99391999999999,
          -73.9583,
          -73.95306,
          -73.98225,
          -73.9896,
          -73.94903000000001,
          -73.96282,
          -73.95838,
          -73.9652,
          -73.94866999999999,
          -73.91981,
          -73.9729,
          -73.99495,
          -73.95578,
          -73.99627,
          -73.98249,
          -73.91922,
          -73.92811,
          -73.98881,
          -73.97986,
          -73.93869000000001,
          -73.98945,
          -74.00243,
          -73.95551999999999,
          -73.90193000000001,
          -73.97818000000001,
          -73.95340999999999,
          -73.96101,
          -73.9597,
          -73.93985,
          -73.9567,
          -73.93426,
          -73.95018,
          -73.95763000000001,
          -73.98394,
          -73.99019,
          -73.95291999999999,
          -73.9913,
          -73.98876,
          -73.96219,
          -73.95455,
          -73.98486,
          -73.95326999999999,
          -73.95482,
          -73.98142,
          -73.95312,
          -73.99831999999999,
          -73.99771,
          -73.98374,
          -73.94615,
          -73.91708,
          -73.97258000000001,
          -73.96015,
          -73.98094,
          -73.95394,
          -73.94715,
          -73.98895,
          -73.99776,
          -73.94735,
          -73.98765999999999,
          -73.96536,
          -73.94911,
          -73.93963000000001,
          -73.91117,
          -73.94494
         ],
         "y": [
          40.647490000000005,
          40.75362,
          40.809020000000004,
          40.685140000000004,
          40.79851,
          40.74767,
          40.68688,
          40.76489,
          40.80178,
          40.713440000000006,
          40.80316,
          40.76076,
          40.66829,
          40.79826,
          40.7353,
          40.70837,
          40.69169,
          40.74192,
          40.67592,
          40.79685,
          40.71842,
          40.680690000000006,
          40.67989,
          40.680009999999996,
          40.68371,
          40.65599,
          40.867540000000005,
          40.76715,
          40.86482,
          40.7292,
          40.82245,
          40.81305,
          40.722190000000005,
          40.8213,
          40.6831,
          40.668690000000005,
          40.688759999999995,
          40.701859999999996,
          40.63702,
          40.714009999999995,
          40.7229,
          40.66278,
          40.69673,
          40.79009,
          40.81175,
          40.659440000000004,
          40.74771,
          40.68111,
          40.68554,
          40.69142,
          40.68043,
          40.78635,
          40.7042,
          40.73506,
          40.73961,
          40.70881,
          40.720040000000004,
          40.755309999999994,
          40.72401,
          40.7221,
          40.71185,
          40.74623,
          40.77065,
          40.67811,
          40.69,
          40.75979,
          40.673429999999996,
          40.726490000000005,
          40.70933,
          40.72298,
          40.80164,
          40.72162,
          40.76342,
          40.83139,
          40.68346,
          40.72828,
          40.76865,
          40.75038,
          40.6932,
          40.74138,
          40.71154,
          40.82915,
          40.718509999999995,
          40.65401,
          40.7114,
          40.69723,
          40.71833,
          40.72334,
          40.72912,
          40.71156,
          40.70032,
          40.68233,
          40.68634,
          40.68035,
          40.70984,
          40.70093,
          40.79764,
          40.82803,
          40.74008,
          40.684129999999996,
          40.822790000000005,
          40.67967,
          40.83927,
          40.730959999999996,
          40.71332,
          40.66941,
          40.68373,
          40.71459,
          40.8092,
          40.68157,
          40.75527,
          40.68698,
          40.7288,
          40.66853,
          40.7254,
          40.742940000000004,
          40.71942,
          40.77823,
          40.72555,
          40.66831,
          40.82754,
          40.66499,
          40.778420000000004,
          40.72245,
          40.65593,
          40.719229999999996,
          40.778,
          40.85879,
          40.68332,
          40.816179999999996,
          40.68414,
          40.72392,
          40.73494,
          40.713409999999996,
          40.767540000000004,
          40.73442,
          40.631879999999995,
          40.6873,
          40.682959999999994,
          40.6863,
          40.73409,
          40.71561,
          40.6857,
          40.74028,
          40.682809999999996,
          40.715959999999995,
          40.71492,
          40.72354,
          40.71165,
          40.69101,
          40.73474,
          40.67386,
          40.71536,
          40.6741,
          40.79295,
          40.73226,
          40.71363,
          40.77711,
          40.685590000000005,
          40.77456,
          40.710879999999996,
          40.74559,
          40.68306,
          40.70207,
          40.76123,
          40.66858,
          40.827040000000004,
          40.68843,
          40.6783,
          40.64524,
          40.70641,
          40.83232,
          40.71045,
          40.72518,
          40.70666,
          40.690979999999996,
          40.737559999999995,
          40.815259999999995,
          40.73423,
          40.82374,
          40.688629999999996,
          40.70382,
          40.80549,
          40.71627,
          40.67994,
          40.67992,
          40.67868,
          40.76834,
          40.68237,
          40.74031,
          40.76307,
          40.71882,
          40.6693,
          40.77333,
          40.72319,
          40.74859,
          40.67252,
          40.762440000000005,
          40.69546,
          40.717220000000005,
          40.70234,
          40.71546,
          40.7195,
          40.76548,
          40.80234,
          40.6787,
          40.81035,
          40.83075,
          40.79958,
          40.71625,
          40.6829,
          40.72773,
          40.728609999999996,
          40.709790000000005,
          40.68656,
          40.72752,
          40.729,
          40.81219,
          40.77185,
          40.68926,
          40.72821,
          40.7672,
          40.73012,
          40.7403,
          40.809309999999996,
          40.8251,
          40.6585,
          40.76193,
          40.72052,
          40.70411,
          40.73401,
          40.71756,
          40.7589,
          40.72003,
          40.73194,
          40.79163,
          40.8118,
          40.81583,
          40.72654,
          40.80021,
          40.80942,
          40.719609999999996,
          40.74358,
          40.80335,
          40.71445,
          40.757490000000004,
          40.644459999999995,
          40.7268,
          40.688,
          40.63536,
          40.63627,
          40.63518,
          40.72477,
          40.74238,
          40.72945,
          40.70763,
          40.634809999999995,
          40.753840000000004,
          40.641059999999996,
          40.66793,
          40.81309,
          40.88057,
          40.682359999999996,
          40.72185,
          40.68503,
          40.866479999999996,
          40.7069,
          40.72807,
          40.6778,
          40.683170000000004,
          40.6761,
          40.67586,
          40.71702,
          40.723209999999995,
          40.77956,
          40.682759999999995,
          40.71368,
          40.72956,
          40.71069,
          40.70863,
          40.82888,
          40.673190000000005,
          40.67846,
          40.6715,
          40.72681,
          40.71904,
          40.71031,
          40.81322,
          40.67732,
          40.68076,
          40.79603,
          40.71492,
          40.80393,
          40.80082,
          40.82976,
          40.683,
          40.78971,
          40.67817,
          40.731190000000005,
          40.719429999999996,
          40.78,
          40.70514,
          40.867129999999996,
          40.73198,
          40.72542,
          40.83494,
          40.716590000000004,
          40.729659999999996,
          40.72898,
          40.87207,
          40.77728,
          40.726459999999996,
          40.71015,
          40.71903,
          40.80892,
          40.80276,
          40.77635,
          40.72488,
          40.71398,
          40.718759999999996,
          40.66552,
          40.73749,
          40.76248,
          40.68674,
          40.6848,
          40.70516,
          40.723290000000006,
          40.737759999999994,
          40.73738,
          40.67542,
          40.73842,
          40.6926,
          40.69441,
          40.72399,
          40.6824,
          40.68949,
          40.688190000000006,
          40.7205,
          40.724509999999995,
          40.73813,
          40.675909999999995,
          40.728429999999996,
          40.712709999999994,
          40.66966,
          40.71965,
          40.68613,
          40.680479999999996,
          40.68314,
          40.759609999999995,
          40.67473
         ],
         "z": [
          149,
          225,
          150,
          89,
          80,
          200,
          60,
          79,
          79,
          150,
          135,
          85,
          89,
          85,
          120,
          140,
          215,
          140,
          99,
          190,
          299,
          130,
          80,
          110,
          120,
          60,
          80,
          150,
          44,
          180,
          50,
          52,
          55,
          50,
          70,
          89,
          35,
          85,
          150,
          40,
          68,
          120,
          120,
          135,
          150,
          150,
          130,
          110,
          115,
          80,
          80,
          151,
          228,
          144,
          200,
          150,
          110,
          69,
          49,
          180,
          80,
          375,
          250,
          200,
          55,
          52,
          225,
          80,
          275,
          99,
          225,
          230,
          51,
          65,
          105,
          190,
          200,
          70,
          95,
          150,
          145,
          110,
          285,
          130,
          94,
          800,
          105,
          60,
          50,
          85,
          65,
          131,
          98,
          250,
          100,
          105,
          140,
          89,
          98,
          125,
          60,
          175,
          65,
          500,
          101,
          220,
          125,
          80,
          100,
          200,
          59,
          125,
          140,
          120,
          350,
          199,
          325,
          235,
          225,
          99,
          170,
          400,
          170,
          100,
          75,
          90,
          150,
          85,
          70,
          120,
          89,
          185,
          50,
          105,
          130,
          115,
          77,
          76,
          125,
          135,
          250,
          199,
          140,
          140,
          115,
          160,
          195,
          195,
          80,
          44,
          156,
          85,
          125,
          115,
          69,
          225,
          125,
          219,
          475,
          99,
          69,
          79,
          135,
          250,
          250,
          250,
          80,
          70,
          165,
          70,
          50,
          40,
          150,
          125,
          196,
          110,
          170,
          165,
          150,
          100,
          65,
          350,
          99,
          200,
          150,
          90,
          120,
          75,
          175,
          125,
          275,
          299,
          135,
          130,
          83,
          123,
          55,
          195,
          80,
          98,
          140,
          265,
          249,
          105,
          200,
          100,
          121,
          45,
          100,
          140,
          71,
          130,
          199,
          69,
          68,
          130,
          195,
          64,
          140,
          159,
          189,
          250,
          239,
          305,
          155,
          60,
          135,
          120,
          150,
          140,
          135,
          250,
          250,
          500,
          225,
          125,
          92,
          175,
          99,
          195,
          140,
          135,
          500,
          80,
          120,
          110,
          65,
          130,
          99,
          36,
          37,
          37,
          175,
          205,
          285,
          59,
          36,
          99,
          39,
          60,
          90,
          105,
          135,
          390,
          70,
          75,
          60,
          200,
          100,
          70,
          110,
          60,
          90,
          68,
          115,
          75,
          60,
          129,
          130,
          95,
          75,
          175,
          190,
          49,
          212,
          95,
          140,
          135,
          150,
          190,
          124,
          135,
          122,
          109,
          85,
          145,
          195,
          250,
          125,
          575,
          150,
          70,
          90,
          65,
          500,
          250,
          125,
          200,
          229,
          90,
          110,
          59,
          195,
          169,
          113,
          250,
          115,
          55,
          69,
          150,
          169,
          179,
          150,
          135,
          350,
          120,
          71,
          349,
          349,
          165,
          249,
          100,
          200,
          169,
          185,
          65,
          130,
          199,
          225,
          179,
          150,
          139,
          95,
          79,
          150,
          650,
          90,
          120,
          80,
          100
         ]
        }
       ],
       "layout": {
        "coloraxis": {
         "colorbar": {
          "title": {
           "text": "clusters_3d"
          }
         },
         "colorscale": [
          [
           0,
           "#0d0887"
          ],
          [
           0.1111111111111111,
           "#46039f"
          ],
          [
           0.2222222222222222,
           "#7201a8"
          ],
          [
           0.3333333333333333,
           "#9c179e"
          ],
          [
           0.4444444444444444,
           "#bd3786"
          ],
          [
           0.5555555555555556,
           "#d8576b"
          ],
          [
           0.6666666666666666,
           "#ed7953"
          ],
          [
           0.7777777777777778,
           "#fb9f3a"
          ],
          [
           0.8888888888888888,
           "#fdca26"
          ],
          [
           1,
           "#f0f921"
          ]
         ]
        },
        "height": 700,
        "legend": {
         "tracegroupgap": 0
        },
        "margin": {
         "t": 60
        },
        "scene": {
         "domain": {
          "x": [
           0,
           1
          ],
          "y": [
           0,
           1
          ]
         },
         "xaxis": {
          "title": {
           "text": "longitude"
          }
         },
         "yaxis": {
          "title": {
           "text": "latitude"
          }
         },
         "zaxis": {
          "title": {
           "text": "price"
          }
         }
        },
        "template": {
         "data": {
          "bar": [
           {
            "error_x": {
             "color": "#2a3f5f"
            },
            "error_y": {
             "color": "#2a3f5f"
            },
            "marker": {
             "line": {
              "color": "#E5ECF6",
              "width": 0.5
             },
             "pattern": {
              "fillmode": "overlay",
              "size": 10,
              "solidity": 0.2
             }
            },
            "type": "bar"
           }
          ],
          "barpolar": [
           {
            "marker": {
             "line": {
              "color": "#E5ECF6",
              "width": 0.5
             },
             "pattern": {
              "fillmode": "overlay",
              "size": 10,
              "solidity": 0.2
             }
            },
            "type": "barpolar"
           }
          ],
          "carpet": [
           {
            "aaxis": {
             "endlinecolor": "#2a3f5f",
             "gridcolor": "white",
             "linecolor": "white",
             "minorgridcolor": "white",
             "startlinecolor": "#2a3f5f"
            },
            "baxis": {
             "endlinecolor": "#2a3f5f",
             "gridcolor": "white",
             "linecolor": "white",
             "minorgridcolor": "white",
             "startlinecolor": "#2a3f5f"
            },
            "type": "carpet"
           }
          ],
          "choropleth": [
           {
            "colorbar": {
             "outlinewidth": 0,
             "ticks": ""
            },
            "type": "choropleth"
           }
          ],
          "contour": [
           {
            "colorbar": {
             "outlinewidth": 0,
             "ticks": ""
            },
            "colorscale": [
             [
              0,
              "#0d0887"
             ],
             [
              0.1111111111111111,
              "#46039f"
             ],
             [
              0.2222222222222222,
              "#7201a8"
             ],
             [
              0.3333333333333333,
              "#9c179e"
             ],
             [
              0.4444444444444444,
              "#bd3786"
             ],
             [
              0.5555555555555556,
              "#d8576b"
             ],
             [
              0.6666666666666666,
              "#ed7953"
             ],
             [
              0.7777777777777778,
              "#fb9f3a"
             ],
             [
              0.8888888888888888,
              "#fdca26"
             ],
             [
              1,
              "#f0f921"
             ]
            ],
            "type": "contour"
           }
          ],
          "contourcarpet": [
           {
            "colorbar": {
             "outlinewidth": 0,
             "ticks": ""
            },
            "type": "contourcarpet"
           }
          ],
          "heatmap": [
           {
            "colorbar": {
             "outlinewidth": 0,
             "ticks": ""
            },
            "colorscale": [
             [
              0,
              "#0d0887"
             ],
             [
              0.1111111111111111,
              "#46039f"
             ],
             [
              0.2222222222222222,
              "#7201a8"
             ],
             [
              0.3333333333333333,
              "#9c179e"
             ],
             [
              0.4444444444444444,
              "#bd3786"
             ],
             [
              0.5555555555555556,
              "#d8576b"
             ],
             [
              0.6666666666666666,
              "#ed7953"
             ],
             [
              0.7777777777777778,
              "#fb9f3a"
             ],
             [
              0.8888888888888888,
              "#fdca26"
             ],
             [
              1,
              "#f0f921"
             ]
            ],
            "type": "heatmap"
           }
          ],
          "heatmapgl": [
           {
            "colorbar": {
             "outlinewidth": 0,
             "ticks": ""
            },
            "colorscale": [
             [
              0,
              "#0d0887"
             ],
             [
              0.1111111111111111,
              "#46039f"
             ],
             [
              0.2222222222222222,
              "#7201a8"
             ],
             [
              0.3333333333333333,
              "#9c179e"
             ],
             [
              0.4444444444444444,
              "#bd3786"
             ],
             [
              0.5555555555555556,
              "#d8576b"
             ],
             [
              0.6666666666666666,
              "#ed7953"
             ],
             [
              0.7777777777777778,
              "#fb9f3a"
             ],
             [
              0.8888888888888888,
              "#fdca26"
             ],
             [
              1,
              "#f0f921"
             ]
            ],
            "type": "heatmapgl"
           }
          ],
          "histogram": [
           {
            "marker": {
             "pattern": {
              "fillmode": "overlay",
              "size": 10,
              "solidity": 0.2
             }
            },
            "type": "histogram"
           }
          ],
          "histogram2d": [
           {
            "colorbar": {
             "outlinewidth": 0,
             "ticks": ""
            },
            "colorscale": [
             [
              0,
              "#0d0887"
             ],
             [
              0.1111111111111111,
              "#46039f"
             ],
             [
              0.2222222222222222,
              "#7201a8"
             ],
             [
              0.3333333333333333,
              "#9c179e"
             ],
             [
              0.4444444444444444,
              "#bd3786"
             ],
             [
              0.5555555555555556,
              "#d8576b"
             ],
             [
              0.6666666666666666,
              "#ed7953"
             ],
             [
              0.7777777777777778,
              "#fb9f3a"
             ],
             [
              0.8888888888888888,
              "#fdca26"
             ],
             [
              1,
              "#f0f921"
             ]
            ],
            "type": "histogram2d"
           }
          ],
          "histogram2dcontour": [
           {
            "colorbar": {
             "outlinewidth": 0,
             "ticks": ""
            },
            "colorscale": [
             [
              0,
              "#0d0887"
             ],
             [
              0.1111111111111111,
              "#46039f"
             ],
             [
              0.2222222222222222,
              "#7201a8"
             ],
             [
              0.3333333333333333,
              "#9c179e"
             ],
             [
              0.4444444444444444,
              "#bd3786"
             ],
             [
              0.5555555555555556,
              "#d8576b"
             ],
             [
              0.6666666666666666,
              "#ed7953"
             ],
             [
              0.7777777777777778,
              "#fb9f3a"
             ],
             [
              0.8888888888888888,
              "#fdca26"
             ],
             [
              1,
              "#f0f921"
             ]
            ],
            "type": "histogram2dcontour"
           }
          ],
          "mesh3d": [
           {
            "colorbar": {
             "outlinewidth": 0,
             "ticks": ""
            },
            "type": "mesh3d"
           }
          ],
          "parcoords": [
           {
            "line": {
             "colorbar": {
              "outlinewidth": 0,
              "ticks": ""
             }
            },
            "type": "parcoords"
           }
          ],
          "pie": [
           {
            "automargin": true,
            "type": "pie"
           }
          ],
          "scatter": [
           {
            "marker": {
             "colorbar": {
              "outlinewidth": 0,
              "ticks": ""
             }
            },
            "type": "scatter"
           }
          ],
          "scatter3d": [
           {
            "line": {
             "colorbar": {
              "outlinewidth": 0,
              "ticks": ""
             }
            },
            "marker": {
             "colorbar": {
              "outlinewidth": 0,
              "ticks": ""
             }
            },
            "type": "scatter3d"
           }
          ],
          "scattercarpet": [
           {
            "marker": {
             "colorbar": {
              "outlinewidth": 0,
              "ticks": ""
             }
            },
            "type": "scattercarpet"
           }
          ],
          "scattergeo": [
           {
            "marker": {
             "colorbar": {
              "outlinewidth": 0,
              "ticks": ""
             }
            },
            "type": "scattergeo"
           }
          ],
          "scattergl": [
           {
            "marker": {
             "colorbar": {
              "outlinewidth": 0,
              "ticks": ""
             }
            },
            "type": "scattergl"
           }
          ],
          "scattermapbox": [
           {
            "marker": {
             "colorbar": {
              "outlinewidth": 0,
              "ticks": ""
             }
            },
            "type": "scattermapbox"
           }
          ],
          "scatterpolar": [
           {
            "marker": {
             "colorbar": {
              "outlinewidth": 0,
              "ticks": ""
             }
            },
            "type": "scatterpolar"
           }
          ],
          "scatterpolargl": [
           {
            "marker": {
             "colorbar": {
              "outlinewidth": 0,
              "ticks": ""
             }
            },
            "type": "scatterpolargl"
           }
          ],
          "scatterternary": [
           {
            "marker": {
             "colorbar": {
              "outlinewidth": 0,
              "ticks": ""
             }
            },
            "type": "scatterternary"
           }
          ],
          "surface": [
           {
            "colorbar": {
             "outlinewidth": 0,
             "ticks": ""
            },
            "colorscale": [
             [
              0,
              "#0d0887"
             ],
             [
              0.1111111111111111,
              "#46039f"
             ],
             [
              0.2222222222222222,
              "#7201a8"
             ],
             [
              0.3333333333333333,
              "#9c179e"
             ],
             [
              0.4444444444444444,
              "#bd3786"
             ],
             [
              0.5555555555555556,
              "#d8576b"
             ],
             [
              0.6666666666666666,
              "#ed7953"
             ],
             [
              0.7777777777777778,
              "#fb9f3a"
             ],
             [
              0.8888888888888888,
              "#fdca26"
             ],
             [
              1,
              "#f0f921"
             ]
            ],
            "type": "surface"
           }
          ],
          "table": [
           {
            "cells": {
             "fill": {
              "color": "#EBF0F8"
             },
             "line": {
              "color": "white"
             }
            },
            "header": {
             "fill": {
              "color": "#C8D4E3"
             },
             "line": {
              "color": "white"
             }
            },
            "type": "table"
           }
          ]
         },
         "layout": {
          "annotationdefaults": {
           "arrowcolor": "#2a3f5f",
           "arrowhead": 0,
           "arrowwidth": 1
          },
          "autotypenumbers": "strict",
          "coloraxis": {
           "colorbar": {
            "outlinewidth": 0,
            "ticks": ""
           }
          },
          "colorscale": {
           "diverging": [
            [
             0,
             "#8e0152"
            ],
            [
             0.1,
             "#c51b7d"
            ],
            [
             0.2,
             "#de77ae"
            ],
            [
             0.3,
             "#f1b6da"
            ],
            [
             0.4,
             "#fde0ef"
            ],
            [
             0.5,
             "#f7f7f7"
            ],
            [
             0.6,
             "#e6f5d0"
            ],
            [
             0.7,
             "#b8e186"
            ],
            [
             0.8,
             "#7fbc41"
            ],
            [
             0.9,
             "#4d9221"
            ],
            [
             1,
             "#276419"
            ]
           ],
           "sequential": [
            [
             0,
             "#0d0887"
            ],
            [
             0.1111111111111111,
             "#46039f"
            ],
            [
             0.2222222222222222,
             "#7201a8"
            ],
            [
             0.3333333333333333,
             "#9c179e"
            ],
            [
             0.4444444444444444,
             "#bd3786"
            ],
            [
             0.5555555555555556,
             "#d8576b"
            ],
            [
             0.6666666666666666,
             "#ed7953"
            ],
            [
             0.7777777777777778,
             "#fb9f3a"
            ],
            [
             0.8888888888888888,
             "#fdca26"
            ],
            [
             1,
             "#f0f921"
            ]
           ],
           "sequentialminus": [
            [
             0,
             "#0d0887"
            ],
            [
             0.1111111111111111,
             "#46039f"
            ],
            [
             0.2222222222222222,
             "#7201a8"
            ],
            [
             0.3333333333333333,
             "#9c179e"
            ],
            [
             0.4444444444444444,
             "#bd3786"
            ],
            [
             0.5555555555555556,
             "#d8576b"
            ],
            [
             0.6666666666666666,
             "#ed7953"
            ],
            [
             0.7777777777777778,
             "#fb9f3a"
            ],
            [
             0.8888888888888888,
             "#fdca26"
            ],
            [
             1,
             "#f0f921"
            ]
           ]
          },
          "colorway": [
           "#636efa",
           "#EF553B",
           "#00cc96",
           "#ab63fa",
           "#FFA15A",
           "#19d3f3",
           "#FF6692",
           "#B6E880",
           "#FF97FF",
           "#FECB52"
          ],
          "font": {
           "color": "#2a3f5f"
          },
          "geo": {
           "bgcolor": "white",
           "lakecolor": "white",
           "landcolor": "#E5ECF6",
           "showlakes": true,
           "showland": true,
           "subunitcolor": "white"
          },
          "hoverlabel": {
           "align": "left"
          },
          "hovermode": "closest",
          "mapbox": {
           "style": "light"
          },
          "paper_bgcolor": "white",
          "plot_bgcolor": "#E5ECF6",
          "polar": {
           "angularaxis": {
            "gridcolor": "white",
            "linecolor": "white",
            "ticks": ""
           },
           "bgcolor": "#E5ECF6",
           "radialaxis": {
            "gridcolor": "white",
            "linecolor": "white",
            "ticks": ""
           }
          },
          "scene": {
           "xaxis": {
            "backgroundcolor": "#E5ECF6",
            "gridcolor": "white",
            "gridwidth": 2,
            "linecolor": "white",
            "showbackground": true,
            "ticks": "",
            "zerolinecolor": "white"
           },
           "yaxis": {
            "backgroundcolor": "#E5ECF6",
            "gridcolor": "white",
            "gridwidth": 2,
            "linecolor": "white",
            "showbackground": true,
            "ticks": "",
            "zerolinecolor": "white"
           },
           "zaxis": {
            "backgroundcolor": "#E5ECF6",
            "gridcolor": "white",
            "gridwidth": 2,
            "linecolor": "white",
            "showbackground": true,
            "ticks": "",
            "zerolinecolor": "white"
           }
          },
          "shapedefaults": {
           "line": {
            "color": "#2a3f5f"
           }
          },
          "ternary": {
           "aaxis": {
            "gridcolor": "white",
            "linecolor": "white",
            "ticks": ""
           },
           "baxis": {
            "gridcolor": "white",
            "linecolor": "white",
            "ticks": ""
           },
           "bgcolor": "#E5ECF6",
           "caxis": {
            "gridcolor": "white",
            "linecolor": "white",
            "ticks": ""
           }
          },
          "title": {
           "x": 0.05
          },
          "xaxis": {
           "automargin": true,
           "gridcolor": "white",
           "linecolor": "white",
           "ticks": "",
           "title": {
            "standoff": 15
           },
           "zerolinecolor": "white",
           "zerolinewidth": 2
          },
          "yaxis": {
           "automargin": true,
           "gridcolor": "white",
           "linecolor": "white",
           "ticks": "",
           "title": {
            "standoff": 15
           },
           "zerolinecolor": "white",
           "zerolinewidth": 2
          }
         }
        },
        "width": 1000
       }
      }
     },
     "metadata": {},
     "output_type": "display_data"
    }
   ],
   "source": [
    "import plotly\n",
    "import plotly.express as px\n",
    "\n",
    "# передаём датафрейм и поля, которые нужно использовать для осей абсцисс, ординат и аппликат\n",
    "# в значение color передаём номера кластеров\n",
    "fig = px.scatter_3d(\n",
    "    data_frame=df, \n",
    "    x = 'longitude', \n",
    "    y = 'latitude', \n",
    "    z = 'price', \n",
    "    color='clusters_3d', \n",
    "\n",
    "    width=1000,\n",
    "    height=700\n",
    ")\n",
    "\n",
    "fig.show()"
   ]
  },
  {
   "cell_type": "markdown",
   "metadata": {},
   "source": [
    "Анализируя результаты кластеризации, полученные с помощью Plotly, можно прийти к тем же выводам, которые мы сделали до этого. Но в данном случае мы можем интерактивно рассматривать график, а это намного удобнее."
   ]
  },
  {
   "cell_type": "markdown",
   "metadata": {},
   "source": [
    "***\n",
    "## **ТАБЛИЦА-ОБОБЩЕНИЕ**"
   ]
  },
  {
   "cell_type": "markdown",
   "metadata": {},
   "source": [
    "В данном юните мы рассмотрели разные способы визуализации кластеров. На практике вы, скорее всего, будете чаще пользоваться диаграммой рассеяния для быстрой визуальной проверки результатов кластеризации для двухмерного и трёхмерного случаев.\n",
    "\n",
    "Подведём общий итог и соберём все способы визуализации кластеров в сводную таблицу, чтобы понять, какую визуализацию следует использовать в зависимости от целей и используемых алгоритмов кластеризации.\n",
    "\n",
    "![](data/f15.png)\n",
    "\n",
    "![](data/f16.png)"
   ]
  },
  {
   "cell_type": "markdown",
   "metadata": {},
   "source": [
    "***\n",
    "## **ЗАДАЧИ**"
   ]
  },
  {
   "cell_type": "markdown",
   "metadata": {},
   "source": [
    "Для датасета Airbnb проведите иерархическую алгомеративную кластеризацию с использованием sklearn. В качестве признаков для кластеризации используйте latitude и longitude из датафрейма, количество кластеров для кластеризации — 6. Расстояние между кластерами рассчитайте методом полной связи, направление дендрограммы — top.\n",
    "\n",
    "Визуализируйте дендрограмму для проведённой кластеризации. На сколько кластеров можно разделить датасет, если расстояние между кластерами будет равно 0.25?"
   ]
  },
  {
   "cell_type": "code",
   "execution_count": 43,
   "metadata": {},
   "outputs": [
    {
     "data": {
      "image/png": "[encoded data removed]",
      "text/plain": [
       "<Figure size 1440x1224 with 1 Axes>"
      ]
     },
     "metadata": {
      "needs_background": "light"
     },
     "output_type": "display_data"
    }
   ],
   "source": [
    "# импортируем агломеративную кластеризацию из sklearn\n",
    "from sklearn.cluster import AgglomerativeClustering\n",
    "\n",
    "# запускаем агломеративную кластеризацию, расстояние между кластерами рассчитываем методом одиночной связи\n",
    "agglomerative_clustering = AgglomerativeClustering(n_clusters=6, linkage='complete')\n",
    "\n",
    "# обучаем модель и получаем результаты кластеризации\n",
    "predictions_ag_model = agglomerative_clustering.fit_predict(df[['latitude', 'longitude']])\n",
    "\n",
    "\n",
    "# Визуализируем результаты:\n",
    "from scipy.cluster.hierarchy import dendrogram, linkage\n",
    "from matplotlib import pyplot as plt\n",
    "\n",
    "# рассчитаем расстояния между кластерами\n",
    "linked = linkage(df[[\"latitude\", \"longitude\"]], 'complete')\n",
    "\n",
    "plt.figure(figsize=(20, 17))\n",
    "\n",
    "# визуализируем дендрограмму с ориентацией top\n",
    "# сначала будут отрисовываться кластеры с минимальным расстоянием между ними\n",
    "dendrogram(Z=linked,\n",
    "            orientation='top',\n",
    "            labels=predictions_ag_model,\n",
    "            distance_sort='descending')\n",
    "\n",
    "plt.show()"
   ]
  },
  {
   "cell_type": "markdown",
   "metadata": {},
   "source": [
    "Для датасета Airbnb проведите DBSCAN-кластеризацию. В качестве признаков для кластеризации используйте latitude и longitude. Параметры для алгоритма кластеризации: eps=0.012, min_samples=6.\n",
    "\n",
    "Визуализируйте результаты. При визуализации используйте distance_sort=descending. Сколько кластеров получилось на графике?"
   ]
  },
  {
   "cell_type": "code",
   "execution_count": 45,
   "metadata": {},
   "outputs": [
    {
     "name": "stderr",
     "output_type": "stream",
     "text": [
      "c:\\Program Files\\Python39\\lib\\site-packages\\seaborn\\_decorators.py:36: FutureWarning:\n",
      "\n",
      "Pass the following variables as keyword args: x, y. From version 0.12, the only valid positional argument will be `data`, and passing other arguments without an explicit keyword will result in an error or misinterpretation.\n",
      "\n"
     ]
    },
    {
     "data": {
      "text/plain": [
       "<AxesSubplot:xlabel='latitude', ylabel='longitude'>"
      ]
     },
     "execution_count": 45,
     "metadata": {},
     "output_type": "execute_result"
    },
    {
     "data": {
      "image/png": "[encoded data removed]",
      "text/plain": [
       "<Figure size 432x288 with 1 Axes>"
      ]
     },
     "metadata": {
      "needs_background": "light"
     },
     "output_type": "display_data"
    }
   ],
   "source": [
    "# импортируем DBSCAN-кластеризацию\n",
    "from sklearn.cluster import DBSCAN\n",
    "\n",
    "X = df[['latitude', 'longitude']]\n",
    "\n",
    "#запускаем кластеризацию на наших данных\n",
    "clustering = DBSCAN(eps=0.012, min_samples=6).fit(X)\n",
    "\n",
    "# Далее можно визуализировать результаты, как мы делали это с алгоритмом k-means\n",
    "sns.scatterplot(df.latitude, df.longitude, c=clustering.labels_)\n"
   ]
  }
 ],
 "metadata": {
  "kernelspec": {
   "display_name": "Python 3.9.10 64-bit",
   "language": "python",
   "name": "python3"
  },
  "language_info": {
   "codemirror_mode": {
    "name": "ipython",
    "version": 3
   },
   "file_extension": ".py",
   "mimetype": "text/x-python",
   "name": "python",
   "nbconvert_exporter": "python",
   "pygments_lexer": "ipython3",
   "version": "3.9.10"
  },
  "orig_nbformat": 4,
  "vscode": {
   "interpreter": {
    "hash": "11938c6bc6919ae2720b4d5011047913343b08a43b18698fd82dedb0d4417594"
   }
  }
 },
 "nbformat": 4,
 "nbformat_minor": 2
}
