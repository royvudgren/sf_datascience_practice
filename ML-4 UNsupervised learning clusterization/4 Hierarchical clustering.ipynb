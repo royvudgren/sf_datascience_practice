{
 "cells": [
  {
   "cell_type": "markdown",
   "metadata": {},
   "source": [
    "# **Иерархическая кластеризация**"
   ]
  },
  {
   "cell_type": "markdown",
   "metadata": {},
   "source": [
    "✍ Алгоритмов кластеризации настолько много, что по ним можно сделать отдельный курс. И, как вы можете догадаться, не существует такого метода кластеризации, который всегда будет выдавать хорошие результаты — всё зависит от того, с какими данными вы работаете.\n",
    "\n",
    "На сегодняшний день существует *более 40 видов кластеризации*, но общепринятой системы классификации алгоритмов кластеризации не существует.\n",
    "\n",
    "В этом и последующих юнитах мы познакомимся с некоторыми популярными алгоритмами кластеризации:\n",
    "\n",
    "* **иерархической кластеризацией**,\n",
    "* **EM-алгоритмами кластеризации**,\n",
    "* **спектральной кластеризацией**,\n",
    "* **кластеризацией на основе плотности**.\n",
    "\n",
    "Мы рассмотрим различные подходы, их плюсы и минусы, а также применение."
   ]
  },
  {
   "cell_type": "markdown",
   "metadata": {},
   "source": [
    "***\n",
    "## **ИЕРАРХИЧЕСКАЯ КЛАСТЕРИЗАЦИЯ**"
   ]
  },
  {
   "cell_type": "markdown",
   "metadata": {},
   "source": [
    "Принцип иерархической кластеризации основан на построении ***дерева (иерархии) вложенных кластеров***.\n",
    "\n",
    "![](https://lms.skillfactory.ru/assets/courseware/v1/79e2f856b8817691a6b1fe50b416921e/asset-v1:SkillFactory+DSPR-2.0+14JULY2021+type@asset+block/dst3-ml4-3_1.png)\n",
    "\n",
    "**Дендрограмма**  — это древовидная диаграмма, которая содержит ***n*** уровней. Каждый уровень — это шаг укрупнения кластеров.\n",
    "\n",
    "![](https://lms.skillfactory.ru/assets/courseware/v1/ea3eb84720f60c6be03ccb0b6a9c719f/asset-v1:SkillFactory+DSPR-2.0+14JULY2021+type@asset+block/dst3-ml4-3_2.png)\n",
    "\n",
    "Чем больше схожесть между двумя объектами на дендрограмме, тем ниже высота внутренней ветки, которая идёт из объекта или кластера:\n",
    "\n",
    "![](https://lms.skillfactory.ru/assets/courseware/v1/96d8fa2d5f36508e5915fe258158d2e3/asset-v1:SkillFactory+DSPR-2.0+14JULY2021+type@asset+block/dst3-ml4-3_3.png)\n",
    "\n",
    "На дендрограмме выше Сельма и Пэтти Бувье, сёстры Мардж Симпсон, похожи друг на друга, поэтому высота соединяющей их внутренней ветки маленькая, а сама Мардж не похожа на своих сестёр, поэтому высота внутренней ветки гораздо больше.\n",
    "***"
   ]
  },
  {
   "cell_type": "markdown",
   "metadata": {},
   "source": [
    "Перейдём к более реальным примерам.\n",
    "\n",
    "Например, дендрограмма для кластеризации трёх видов ирисов будет выглядеть следующим образом:\n",
    "\n",
    "![](https://lms.skillfactory.ru/assets/courseware/v1/b5aeab3fc61ad2c6f7c0e3916c7eb2a9/asset-v1:SkillFactory+DSPR-2.0+14JULY2021+type@asset+block/dst3-ml4-3_4.png)\n",
    "\n",
    "Справа расположены **листья** дендрограммы. Внизу дендрограммы отложена схожесть объектов. Количество уровней дендрограммы соответствует числу шагов слияния или разделения кластеров. На листьях находятся исходные объекты. Далее мы объединяем эти объекты в маленькие группы — это первый шаг кластеризации. После этого с каждым шагом объекты образуют всё большие и большие кластеры, пока на последнем шаге не образуется один большой кластер (**корень** дендрограммы), содержащий все три вида ирисов. Для определения количества кластеров на каждом шаге мы можем мысленно проводить вертикальную линию и смотреть, сколько внутренних веток пересекла эта линия. \n",
    "\n",
    "Наши линии на картинке пересекают две и четыре линии. Это означает, что на этих шагах данные делятся на два или четыре кластера.\n",
    "***\n",
    "Если ещё раз посмотреть на график с дендрограммой ирисов, можно сказать, что при кластеризации мы можем пойти снизу вверх (от листьев к корню) или сверху вниз (от корня к листьям). И действительно — при иерархической кластеризации выделяют два подхода: **агломеративный** и **дивизионный**. В первом случае кластеры образуются снизу вверх, т. е. при объединении кластеров, а во втором — сверху вниз, в ходе деления крупных кластеров:\n",
    "\n",
    "![](https://lms.skillfactory.ru/assets/courseware/v1/17a3629f5ac5b30b3873f06d5c394a00/asset-v1:SkillFactory+DSPR-2.0+14JULY2021+type@asset+block/dst3-ml4-3_5.png)\n",
    "\n",
    "***\n",
    "\n",
    "**Агломеративный метод (agglomerative)**\n",
    "\n",
    "Новые кластеры создаются в ходе объединения более мелких кластеров:\n",
    "\n",
    "![](https://lms.skillfactory.ru/assets/courseware/v1/3842c4df18dcf25f0d83a6a39d0ee736/asset-v1:SkillFactory+DSPR-2.0+14JULY2021+type@asset+block/dst3-ml4-3_6.png)\n",
    "\n",
    "**Дивизионный (дивизивный) метод (divisive)**\n",
    "\n",
    "Кластеры создаются при делении крупных кластеров:\n",
    "\n",
    "![](https://lms.skillfactory.ru/assets/courseware/v1/25433f8dd0456eab40b9870130c9c4f4/asset-v1:SkillFactory+DSPR-2.0+14JULY2021+type@asset+block/dst3-ml4-3_7.png)\n"
   ]
  },
  {
   "cell_type": "markdown",
   "metadata": {},
   "source": [
    "Для того чтобы построить дендрограмму, нужна матрица сходства, построенная на основе расстояний между кластерами.\n",
    "\n",
    "В общем виде матрица сходства выглядит следующим образом:\n",
    "\n",
    "![](https://lms.skillfactory.ru/assets/courseware/v1/b08ac8eb355c8baf180eec10e4834c5d/asset-v1:SkillFactory+DSPR-2.0+14JULY2021+type@asset+block/dst3-ml4-3_8.png)\n",
    "\n",
    "***K*** — это мера сходства между двумя кластерами. По диагонали в матрице записаны единицы, так как объекты максимально похожи на самих себя.\n",
    "\n",
    "Чтобы рассчитать данную матрицу, нужно знать расстояния между двумя кластерами. Существуют разные подходы его вычисления, и выбранный подход влияет на результат кластеризации."
   ]
  },
  {
   "cell_type": "markdown",
   "metadata": {},
   "source": [
    "**Методы определения расстояния между кластерами:**\n",
    "\n",
    "![](data/f13.PNG)\n",
    "\n",
    "В зависимости от того, каким способом рассчитывается расстояние, можно получить разные результаты кластеризации.\n",
    "\n",
    "На картинке ниже рассматривается иерархическая кластеризация при использовании разных подходов для подсчёта расстояния ↓\n",
    "\n",
    "![](https://lms.skillfactory.ru/assets/courseware/v1/f7a927787a5afbbcf0395609a1e8a2f4/asset-v1:SkillFactory+DSPR-2.0+14JULY2021+type@asset+block/dst3-ml4-3_13.png)\n",
    "\n",
    "В первом столбце представлено использование метода одиночной связи, во втором — метода средней связи, в третьем — метода полной связи.\n",
    "\n",
    "Различные кластеры обозначены разными цветами: оранжевым, зелёным и синим. \n",
    "***\n",
    "Как видим, иерархическая кластеризация с использованием метода одиночной связи хорошо отрабатывает на первых двух распределениях датасетов, но очень плохо справляется с вытянутыми и перекрывающимися данными. Алгоритм иерархической кластеризации работает по принципу «богатый становится богаче». Это может приводить к неравномерному распределению кластеров. Данный способ больше других страдает от неравномерного распределения кластеров: это можно наблюдать в третьей, четвёртой и шестой строках части Single Linkage на картинке — мы видим очень редкие вкрапления зелёного кластера, а всё остальное пространство принадлежит синему кластеру.\n",
    "\n",
    "**Использование методов средней связи и полной связи приносит хорошие результаты только при условии, что данные имеют высокую плотность и не пересекаются, или же для однородно распределённых данных. В остальных случаях они отрабатывают плохо.**"
   ]
  },
  {
   "cell_type": "markdown",
   "metadata": {},
   "source": [
    "### **ДЛЯ КАКИХ ЗАДАЧ ИСПОЛЬЗУЕТСЯ ИЕРАРХИЧЕСКАЯ КЛАСТЕРИЗАЦИЯ?**\n",
    "\n",
    "* **Для построения филогенетического дерева**.\n",
    "\n",
    "Например, если известна ДНК-последовательность, можно построить филогенетическое дерево.\n",
    "\n",
    "На рисунке ниже иерархическая кластеризация была проведена на основе ДНК животных:\n",
    "\n",
    "![](https://lms.skillfactory.ru/assets/courseware/v1/47a344947f15f9050d30cea2ab3c22ab/asset-v1:SkillFactory+DSPR-2.0+14JULY2021+type@asset+block/dst3-ml4-3_14.png)\n",
    "\n",
    "* **Для анализа текстов**.\n",
    "\n",
    "Например, с помощью *кластеризации Брауна* (частный случай иерархической кластеризации) можно сгруппировать слова и найти синонимы. Слова, которые были встроены в похожие контексты и считаются семантически связанными, оказываются в одном кластере:\n",
    "\n",
    "![](https://lms.skillfactory.ru/assets/courseware/v1/61b8a8108d9c0e9197c983aa22d93f8c/asset-v1:SkillFactory+DSPR-2.0+14JULY2021+type@asset+block/dst3-ml4-3_15.png)\n"
   ]
  },
  {
   "cell_type": "markdown",
   "metadata": {},
   "source": [
    "### **КАК ЗАПУСТИТЬ ИЕРАРХИЧЕСКУЮ КЛАСТЕРИЗАЦИЮ?**"
   ]
  },
  {
   "cell_type": "markdown",
   "metadata": {},
   "source": [
    "Давайте попробуем кластеризовать датасет с покемонами с помощью иерархической кластеризации.\n",
    "\n",
    "Запустим алгоритм (такой же, как k-means). Из библиотеки sklearn импортируем алгомеративную кластеризацию, далее запустим метод fit(), передав вектор X из признаков объектов, и обучим модель кластеризации."
   ]
  },
  {
   "cell_type": "code",
   "execution_count": 1,
   "metadata": {},
   "outputs": [
    {
     "data": {
      "text/plain": [
       "array([0, 0, 0, 0, 0, 1, 0, 1, 1, 1, 0, 1, 1, 0, 0, 0, 1, 0, 0, 1, 0, 1,\n",
       "       1, 1, 0, 1, 1, 1, 1, 1, 0, 0, 1, 0, 1, 1, 0, 1, 0, 0, 0, 0, 0, 0,\n",
       "       0, 0, 0, 0, 0, 0, 0, 1, 1, 0, 0, 1, 0, 1, 1, 1, 1, 0, 1, 0, 1, 0,\n",
       "       0, 0, 1, 0, 0, 1, 0, 1, 0, 0, 1, 0, 0, 1, 0, 0, 0, 0, 1, 0, 0, 0,\n",
       "       0, 1, 0, 0, 1, 1, 0, 0, 0, 0, 0, 0, 1, 0, 0, 0, 0, 0, 0, 1, 1, 1,\n",
       "       0, 0, 0, 0, 1, 1, 0, 0, 0, 1, 0, 1, 0, 0, 0, 0, 1, 1, 0, 1, 1, 0,\n",
       "       0, 0, 0, 1, 0, 0, 0, 1, 1, 0, 0, 1, 1, 0, 0, 1, 0, 0, 0, 0, 0, 0,\n",
       "       0, 1, 0, 0, 1, 0, 0, 0, 0, 0, 0, 1, 1, 0, 0, 0, 1, 0, 1, 1, 0, 0,\n",
       "       0, 0, 0, 0, 1, 0, 0, 1, 0, 0, 0, 0, 1, 0, 0, 1, 0, 0, 0, 0, 0, 0,\n",
       "       0, 1, 0, 0, 0, 0, 0, 1], dtype=int64)"
      ]
     },
     "execution_count": 1,
     "metadata": {},
     "output_type": "execute_result"
    }
   ],
   "source": [
    "# импортируем библиотеку pandas для работы с датафреймами\n",
    "import pandas as pd\n",
    "# импортируем seaborn для визуализации\n",
    "import seaborn as sns\n",
    "# импортируем sklearn для кластеризации\n",
    "from sklearn.cluster import KMeans \n",
    "\n",
    "# загружаем данные\n",
    "df = pd.read_csv('data/pokemon.csv')\n",
    "X = df[['Attack', 'Defense']]\n",
    "\n",
    "\n",
    "# агломеративная кластеризация\n",
    "from sklearn.cluster import AgglomerativeClustering\n",
    "\n",
    "agglomerative_clustering = AgglomerativeClustering(n_clusters=2)\n",
    "agglomerative_clustering.fit(X)\n",
    "agglomerative_clustering.labels_"
   ]
  },
  {
   "cell_type": "markdown",
   "metadata": {},
   "source": [
    "Базовые параметры, которые необходимо передать в **AgglomerativeClustering**:\n",
    "\n",
    "* **n_clusters** — количество кластеров; по умолчанию — 2.\n",
    "* **linkage** — метод определения расстояния между кластерами, которое мы рассматривали выше. Можно выбрать single, ward, average complete; по умолчанию используется ward.\n",
    "  \n",
    "*Какое количество кластеров задать в начале?*\n",
    "\n",
    "* Иногда при постановке задачи может быть чётко указано, что необходимо разделить данные на N кластеров. В таком случае проблем не возникнет.\n",
    "* Если кластеризацию требуется провести по двум-трём признакам, можно визуализировать данные и прикинуть, на сколько кластеров их можно разделить.\n",
    "* Выбрать какое-нибудь количество кластеров, например три-четыре, провести кластеризацию и визуализировать дендрограмму. Далее, основываясь на дендрограмме, можно примерно определить оптимальное количество кластеров.\n",
    "\n",
    "Чуть позже мы научимся визуализировать дендрограмму, а сейчас давайте посмотрим на дендрограмму проведённой кластеризации. Попытаемся понять, какое оптимальное количество кластеров для кластеризации нужно выбрать. Дендрограмма получилась большой и сложной для восприятия и понимания. Можно увидеть, что, если мы проведём горизонтальную линию на расстоянии между кластерами, равном 6, данные отлично разделятся на три кластера:\n",
    "\n",
    "![](https://lms.skillfactory.ru/assets/courseware/v1/ba4997a9cffc7024696505e185db730f/asset-v1:SkillFactory+DSPR-2.0+14JULY2021+type@asset+block/dst3-ml4-3_16.png)"
   ]
  },
  {
   "cell_type": "code",
   "execution_count": 2,
   "metadata": {},
   "outputs": [
    {
     "data": {
      "image/png": "[encoded data removed]",
      "text/plain": [
       "<Figure size 720x504 with 1 Axes>"
      ]
     },
     "metadata": {
      "needs_background": "light"
     },
     "output_type": "display_data"
    }
   ],
   "source": [
    "from scipy.cluster.hierarchy import dendrogram, linkage\n",
    "from matplotlib import pyplot as plt\n",
    "\n",
    "linked = linkage(X, 'single')\n",
    "\n",
    "\n",
    "plt.figure(figsize=(10, 7))\n",
    "\n",
    "dendrogram(linked,\n",
    "            orientation='top',\n",
    "            labels=agglomerative_clustering.labels_,\n",
    "            distance_sort='descending',\n",
    "            show_leaf_counts=True)\n",
    "\n",
    "plt.show()"
   ]
  },
  {
   "cell_type": "markdown",
   "metadata": {},
   "source": [
    "***\n",
    "### **ПРЕИМУЩЕСТВА И НЕДОСТАТКИ ИЕРАРХИЧЕСКОЙ КЛАСТЕРИЗАЦИИ**"
   ]
  },
  {
   "cell_type": "markdown",
   "metadata": {},
   "source": [
    "**ПРЕИМУЩЕСТВА:**\n",
    "\n",
    "* Можно построить дендрограмму и понять, как устроены данные.\n",
    "* Работает на небольшом датасете."
   ]
  },
  {
   "cell_type": "markdown",
   "metadata": {},
   "source": [
    "**НЕДОСТАТКИ:**\n",
    "\n",
    "* Необходимость выбора оптимального количества кластеров.\n",
    "* Если данных много, дендрограмма становится большой и сложной для понимания.\n",
    "* Может неравномерно разделять данные на кластеры."
   ]
  }
 ],
 "metadata": {
  "kernelspec": {
   "display_name": "Python 3.9.10 64-bit",
   "language": "python",
   "name": "python3"
  },
  "language_info": {
   "codemirror_mode": {
    "name": "ipython",
    "version": 3
   },
   "file_extension": ".py",
   "mimetype": "text/x-python",
   "name": "python",
   "nbconvert_exporter": "python",
   "pygments_lexer": "ipython3",
   "version": "3.9.10"
  },
  "orig_nbformat": 4,
  "vscode": {
   "interpreter": {
    "hash": "11938c6bc6919ae2720b4d5011047913343b08a43b18698fd82dedb0d4417594"
   }
  }
 },
 "nbformat": 4,
 "nbformat_minor": 2
}
