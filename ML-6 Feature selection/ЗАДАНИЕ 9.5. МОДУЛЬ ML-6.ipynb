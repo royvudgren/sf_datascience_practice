{
 "cells": [
  {
   "cell_type": "markdown",
   "metadata": {},
   "source": [
    "# **ЗАДАНИЕ 9.5. МОДУЛЬ ML-6**"
   ]
  },
  {
   "cell_type": "markdown",
   "metadata": {},
   "source": [
    "Обучите модель линейной регрессии на найденных двумя способами трёх важных признаках и сравните полученные результаты. \n",
    "\n",
    "**КРИТЕРИИ ОЦЕНИВАНИЯ:**\n",
    "\n",
    "* 1 балл - Верно выделены три столбца-признака для обучения, выбранные **RFE**.\n",
    "* 1 балл - Верно выделены три столбца-признака для обучения, выбранные **SelectKBest**.\n",
    "* 3 балла - Обучена регрессия на первых трёх столбцах, оценено качество модели на тесте.\n",
    "* 3 балла - Обучена регрессия на вторых трёх столбцах, оценено качество модели на тесте.\n",
    "* 2 балла - Произведено сравнение выбранных метрик в форме комментария. Дан ответ на вопрос «Какой метод отбора признаков показал наилучший результат на тестовой выборке?» (в текстовой ячейке)."
   ]
  },
  {
   "cell_type": "markdown",
   "metadata": {},
   "source": [
    "### **Предобработка данных**"
   ]
  },
  {
   "cell_type": "code",
   "execution_count": 13,
   "metadata": {},
   "outputs": [],
   "source": [
    "# блок с библиотеками\n",
    "import pandas as pd\n",
    "\n",
    "from sklearn.model_selection import train_test_split\n",
    "from sklearn.linear_model import LinearRegression\n",
    "from sklearn import metrics\n",
    "from sklearn.metrics import mean_absolute_error\n",
    "from sklearn.feature_selection import RFE, SelectKBest, f_regression"
   ]
  },
  {
   "cell_type": "code",
   "execution_count": 7,
   "metadata": {},
   "outputs": [],
   "source": [
    "# загрузка датасета из папки data (метод !wget не отрабатывает)\n",
    "data = pd.read_excel('data/data_ford_price.xlsx') "
   ]
  },
  {
   "cell_type": "code",
   "execution_count": 74,
   "metadata": {},
   "outputs": [],
   "source": [
    "# выделение тестовой и тренировочной выборок\n",
    "data = data[['price','year', 'cylinders', 'odometer', 'lat', 'long', 'weather']]\n",
    "data.dropna(inplace = True)\n",
    "\n",
    "y = data['price']\n",
    "x = data.drop(columns='price')\n",
    "\n",
    "X_train, X_test, y_train, y_test = train_test_split(x, y, test_size=0.3, random_state=40)"
   ]
  },
  {
   "cell_type": "markdown",
   "metadata": {},
   "source": [
    "### **Сырое предсказание**"
   ]
  },
  {
   "cell_type": "code",
   "execution_count": 75,
   "metadata": {},
   "outputs": [
    {
     "name": "stdout",
     "output_type": "stream",
     "text": [
      "MAE score with SelectKBest: 4682.957 $.\n"
     ]
    }
   ],
   "source": [
    "estimator = LinearRegression()\n",
    "estimator.fit(X_train, y_train)\n",
    "y_predicted = estimator.predict(X_test)\n",
    "print('MAE score with SelectKBest: {:.3f} $.'.format(metrics.mean_absolute_error(y_test, y_predicted)))"
   ]
  },
  {
   "cell_type": "markdown",
   "metadata": {},
   "source": [
    "### **RFE**"
   ]
  },
  {
   "cell_type": "code",
   "execution_count": 76,
   "metadata": {},
   "outputs": [],
   "source": [
    "# выполняем отбор признаков методом RFE\n",
    "estimator = LinearRegression()\n",
    "selector_RFE = RFE(estimator, n_features_to_select=3, step=1)\n",
    "selector_RFE = selector_RFE.fit(X_train, y_train)"
   ]
  },
  {
   "cell_type": "code",
   "execution_count": 77,
   "metadata": {},
   "outputs": [
    {
     "name": "stdout",
     "output_type": "stream",
     "text": [
      "MAE score with RFE: 5096.570 $.\n"
     ]
    }
   ],
   "source": [
    "# Делаем предсказание и выводим метрику МАЕ\n",
    "y_pred_test = selector_RFE.predict(X_test)\n",
    "print('MAE score with RFE: {:.3f} $.'.format(metrics.mean_absolute_error(y_test, y_pred_test)))"
   ]
  },
  {
   "cell_type": "markdown",
   "metadata": {},
   "source": [
    "### **SelectKBest**"
   ]
  },
  {
   "cell_type": "code",
   "execution_count": 60,
   "metadata": {},
   "outputs": [],
   "source": [
    "# выполняем отбор признаков методом SelectKBest\n",
    "selector_KBest = SelectKBest(f_regression, k=3)\n",
    "selector_KBest.fit_transform(X_train, y_train)\n",
    "needed_features = selector_KBest.get_feature_names_out()"
   ]
  },
  {
   "cell_type": "code",
   "execution_count": 61,
   "metadata": {},
   "outputs": [],
   "source": [
    "# фильтруем ненужные признаки для обучения без них\n",
    "X_train_new = X_train[needed_features]\n",
    "X_test_new = X_test[needed_features]"
   ]
  },
  {
   "cell_type": "code",
   "execution_count": 69,
   "metadata": {},
   "outputs": [
    {
     "name": "stdout",
     "output_type": "stream",
     "text": [
      "MAE score with SelectKBest: 4708.946 $.\n"
     ]
    }
   ],
   "source": [
    "# Делаем обучение, предсказание и выводим метрику МАЕ\n",
    "estimator.fit(X_train_new, y_train)\n",
    "y_predicted = estimator.predict(X_test_new)\n",
    "print('MAE score with SelectKBest: {:.3f} $.'.format(metrics.mean_absolute_error(y_test, y_predicted)))"
   ]
  },
  {
   "cell_type": "markdown",
   "metadata": {},
   "source": [
    "## **ВЫВОД**"
   ]
  },
  {
   "cell_type": "markdown",
   "metadata": {},
   "source": [
    "Модель, обученная на признаках, отобранных методом SelectKBest показала лучший результат чем модель, обученная на признаках, отобранных методом RFE. Средняя абсолютная ошибка меньше в SelectKBest на 388 $. \n",
    "\n",
    "Однако следует уточнить, что относительно \"сырого\" предсказания (на изначальном датасете), метрики ухудшились в обоих случаях."
   ]
  }
 ],
 "metadata": {
  "kernelspec": {
   "display_name": "Python 3.10.8 64-bit",
   "language": "python",
   "name": "python3"
  },
  "language_info": {
   "codemirror_mode": {
    "name": "ipython",
    "version": 3
   },
   "file_extension": ".py",
   "mimetype": "text/x-python",
   "name": "python",
   "nbconvert_exporter": "python",
   "pygments_lexer": "ipython3",
   "version": "3.10.8"
  },
  "orig_nbformat": 4,
  "vscode": {
   "interpreter": {
    "hash": "c68eacbc5a3a550d9b1f68bf11bf31e2b39ed4b9985227d4d8c7ee1d286013f5"
   }
  }
 },
 "nbformat": 4,
 "nbformat_minor": 2
}
