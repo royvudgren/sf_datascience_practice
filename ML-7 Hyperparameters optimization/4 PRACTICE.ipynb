{
 "cells": [
  {
   "cell_type": "markdown",
   "metadata": {},
   "source": [
    "# **Практика**"
   ]
  },
  {
   "cell_type": "markdown",
   "metadata": {},
   "source": [
    "Наша практика будет основана на соревновании Kaggle: Predicting a Biological Response (Прогнозирование биологического ответа).\n",
    "\n",
    "[**DATA**](https://lms.skillfactory.ru/assets/courseware/v1/9f2add5bca59f8c4df927432d605fff3/asset-v1:SkillFactory+DSPR-2.0+14JULY2021+type@asset+block/_train_sem09__1_.zip)\n",
    "\n",
    "Необходимо предсказать биологический ответ молекул (столбец 'Activity') по их химическому составу (столбцы D1-D1776).\n",
    "\n",
    "Данные представлены в формате CSV.  Каждая строка представляет молекулу. \n",
    "\n",
    "Первый столбец **Activity** содержит экспериментальные данные, описывающие фактический биологический ответ [0, 1];  \n",
    "Остальные столбцы **D1-D1776** представляют собой молекулярные дескрипторы — это вычисляемые свойства, которые могут фиксировать некоторые характеристики молекулы, например размер, форму или состав элементов.\n",
    "\n",
    "![](https://lms.skillfactory.ru/assets/courseware/v1/243fdc2d8abf9f176c01a429f1ae68ab/asset-v1:SkillFactory+DSPR-2.0+14JULY2021+type@asset+block/dst-3-ml-7-10.png)"
   ]
  },
  {
   "cell_type": "markdown",
   "metadata": {},
   "source": [
    "Предварительная обработка не требуется, данные уже закодированы и нормализованы.\n",
    "\n",
    "В качестве метрики будем использовать **F1-score**.\n",
    "\n",
    "1. Необходимо обучить две модели: логистическую регрессию и случайный лес.\n",
    "2. Далее нужно сделать подбор гиперпараметров с помощью базовых и продвинутых методов оптимизации. \n",
    "   * Важно использовать все четыре метода (GridSeachCV, RandomizedSearchCV, Hyperopt, Optuna) хотя бы по разу, максимальное количество итераций не должно превышать 50."
   ]
  },
  {
   "cell_type": "markdown",
   "metadata": {},
   "source": [
    "***\n",
    "## **Библиотеки и \"сырые\" модели**"
   ]
  },
  {
   "cell_type": "code",
   "execution_count": 34,
   "metadata": {},
   "outputs": [],
   "source": [
    "#импорт библиотек\n",
    "import numpy as np #для матричных вычислений\n",
    "import pandas as pd #для анализа и предобработки данных\n",
    "import matplotlib.pyplot as plt #для визуализации\n",
    "import seaborn as sns #для визуализации\n",
    "import hyperopt\n",
    "import optuna\n",
    "\n",
    "from sklearn import linear_model, tree, ensemble, metrics, preprocessing\n",
    "from sklearn.model_selection import train_test_split, cross_val_score, GridSearchCV, RandomizedSearchCV\n",
    "from hyperopt import hp, fmin, tpe, Trials\n",
    "\n",
    "import warnings\n",
    "warnings.filterwarnings(\"ignore\")\n",
    "\n",
    "%matplotlib inline\n",
    "plt.style.use('seaborn')\n",
    "random_state = 42\n",
    "data = pd.read_csv('data/train_sem.csv')\n",
    "\n",
    "X = data.drop(['Activity'], axis=1)\n",
    "y = data['Activity']\n",
    "\n",
    "X_train, X_test, y_train, y_test = train_test_split(X, y, stratify=y, random_state = random_state, test_size = 0.2)\n"
   ]
  },
  {
   "cell_type": "code",
   "execution_count": 35,
   "metadata": {},
   "outputs": [
    {
     "name": "stdout",
     "output_type": "stream",
     "text": [
      "accuracy на тестовом наборе: 0.75\n",
      "f1_score на тестовом наборе: 0.78\n"
     ]
    }
   ],
   "source": [
    "#Создаем объект класса логистическая регрессия\n",
    "log_reg = linear_model.LogisticRegression(random_state = random_state, max_iter=50)\n",
    "#Обучаем модель\n",
    "log_reg.fit(X_train, y_train)\n",
    "# Выводим значения метрики \n",
    "print(\"accuracy на тестовом наборе: {:.2f}\".format(log_reg.score(X_test, y_test)))\n",
    "y_test_pred = log_reg.predict(X_test)\n",
    "print('f1_score на тестовом наборе: {:.2f}'.format(metrics.f1_score(y_test, y_test_pred)))"
   ]
  },
  {
   "cell_type": "code",
   "execution_count": 36,
   "metadata": {},
   "outputs": [
    {
     "name": "stdout",
     "output_type": "stream",
     "text": [
      "Train: 1.00\n",
      "Test: 0.79\n"
     ]
    }
   ],
   "source": [
    "# Создаем объект класса случайный лес\n",
    "rf = ensemble.RandomForestClassifier(random_state=random_state, n_estimators=50)\n",
    "# Обучаем модель\n",
    "rf.fit(X_train, y_train)\n",
    "# Выводим значения метрики \n",
    "y_train_pred = rf.predict(X_train)\n",
    "print('Train: {:.2f}'.format(metrics.f1_score(y_train, y_train_pred)))\n",
    "y_test_pred = rf.predict(X_test)\n",
    "print('Test: {:.2f}'.format(metrics.f1_score(y_test, y_test_pred)))"
   ]
  },
  {
   "cell_type": "markdown",
   "metadata": {},
   "source": [
    "***\n",
    "## **GRIDSEARCHCV**"
   ]
  },
  {
   "cell_type": "markdown",
   "metadata": {},
   "source": [
    "### **LogisticRegression**"
   ]
  },
  {
   "cell_type": "code",
   "execution_count": 37,
   "metadata": {},
   "outputs": [
    {
     "name": "stdout",
     "output_type": "stream",
     "text": [
      "CPU times: total: 3.52 s\n",
      "Wall time: 46.2 s\n",
      "accuracy на тестовом наборе: 0.76\n",
      "f1_score на тестовом наборе: 0.79\n",
      "Наилучшие значения гиперпараметров: {'C': 0.3, 'penalty': 'l1', 'solver': 'saga'}\n"
     ]
    }
   ],
   "source": [
    "# Указываем сетку гиперпарметров, создаем объект гридсёрч\n",
    "# и выполняем поиск лучших для метрики ф1 гиперпараметров\n",
    "param_grid = [\n",
    "              {'penalty': ['l2', 'none'],\n",
    "              'solver': ['lbfgs', 'sag'],\n",
    "               'C': [0.01, 0.1, 0.3, 0.5, 0.7, 0.9, 1]},\n",
    "              \n",
    "              {'penalty': ['l1', 'l2'] ,\n",
    "              'solver': ['liblinear', 'saga'],\n",
    "               'C': [0.01, 0.1, 0.3, 0.5, 0.7, 0.9, 1]}\n",
    "]\n",
    "grid_search = GridSearchCV(\n",
    "    estimator=log_reg, \n",
    "    param_grid=param_grid, \n",
    "    cv=5, \n",
    "    n_jobs = -1\n",
    ")\n",
    "\n",
    "# %time - замеряет время выполнения\n",
    "%time grid_search.fit(X_train, y_train) \n",
    "print(\"accuracy на тестовом наборе: {:.2f}\".format(grid_search.score(X_test, y_test)))\n",
    "y_test_pred = grid_search.predict(X_test)\n",
    "print('f1_score на тестовом наборе: {:.2f}'.format(metrics.f1_score(y_test, y_test_pred)))\n",
    "print(\"Наилучшие значения гиперпараметров: {}\".format(grid_search.best_params_))"
   ]
  },
  {
   "cell_type": "markdown",
   "metadata": {},
   "source": [
    "### **RandomForest**"
   ]
  },
  {
   "cell_type": "code",
   "execution_count": 38,
   "metadata": {},
   "outputs": [
    {
     "name": "stdout",
     "output_type": "stream",
     "text": [
      "CPU times: total: 2.12 s\n",
      "Wall time: 14.8 s\n",
      "accuracy на тестовом наборе: 0.78\n",
      "f1_score на тестовом наборе: 0.80\n",
      "Наилучшие значения гиперпараметров: {'max_depth': 20, 'min_samples_leaf': 5, 'n_estimators': 180}\n"
     ]
    }
   ],
   "source": [
    "# Указываем сетку гиперпарметров, создаем объект гридсёрч\n",
    "# и выполняем поиск лучших для метрики ф1 гиперпараметров\n",
    "param_grid = {'n_estimators': list(range(80, 200, 50)),\n",
    "              'min_samples_leaf': [5],\n",
    "              'max_depth': list(np.linspace(20, 40, 5, dtype=int))\n",
    "              }\n",
    "\n",
    "grid_search = GridSearchCV(\n",
    "    estimator=rf, \n",
    "    param_grid=param_grid, \n",
    "    cv=5, \n",
    "    n_jobs = -1\n",
    ")\n",
    "\n",
    "# %time - замеряет время выполнения\n",
    "%time grid_search.fit(X_train, y_train) \n",
    "print(\"accuracy на тестовом наборе: {:.2f}\".format(grid_search.score(X_test, y_test)))\n",
    "y_test_pred = grid_search.predict(X_test)\n",
    "print('f1_score на тестовом наборе: {:.2f}'.format(metrics.f1_score(y_test, y_test_pred)))\n",
    "print(\"Наилучшие значения гиперпараметров: {}\".format(grid_search.best_params_))"
   ]
  },
  {
   "cell_type": "markdown",
   "metadata": {},
   "source": [
    "***\n",
    "##  **RANDOMIZEDSEARCHCV**"
   ]
  },
  {
   "cell_type": "markdown",
   "metadata": {},
   "source": [
    "### **LogisticRegression**"
   ]
  },
  {
   "cell_type": "code",
   "execution_count": 39,
   "metadata": {},
   "outputs": [
    {
     "name": "stdout",
     "output_type": "stream",
     "text": [
      "CPU times: total: 2.55 s\n",
      "Wall time: 29.7 s\n",
      "accuracy на тестовом наборе: 0.75\n",
      "f1_score на тестовом наборе: 0.78\n",
      "Наилучшие значения гиперпараметров: {'solver': 'sag', 'penalty': 'l2', 'C': 0.01}\n"
     ]
    }
   ],
   "source": [
    "# Указываем подбираемые комбинации гиперпараметров, создаем объект рандомсёрч\n",
    "# и выполняем поиск лучших для метрики ф1 гиперпараметров\n",
    "\n",
    "param_distributions = {'penalty': ['l2', 'none'] ,\n",
    "              'solver': ['lbfgs', 'sag'],\n",
    "               'C': list(np.linspace(0.01, 1, 10, dtype=float))},\n",
    "\n",
    "random_search = RandomizedSearchCV(\n",
    "    estimator=log_reg, \n",
    "    param_distributions=param_distributions, \n",
    "    cv=5, \n",
    "    n_iter = 50, \n",
    "    n_jobs = -1\n",
    ")\n",
    "\n",
    "%time random_search.fit(X_train, y_train)\n",
    "print(\"accuracy на тестовом наборе: {:.2f}\".format(random_search.score(X_test, y_test)))\n",
    "y_test_pred = random_search.predict(X_test)\n",
    "print('f1_score на тестовом наборе: {:.2f}'.format(metrics.f1_score(y_test, y_test_pred)))\n",
    "print(\"Наилучшие значения гиперпараметров: {}\".format(random_search.best_params_))"
   ]
  },
  {
   "cell_type": "markdown",
   "metadata": {},
   "source": [
    "### **RandomForest**"
   ]
  },
  {
   "cell_type": "code",
   "execution_count": 40,
   "metadata": {},
   "outputs": [
    {
     "name": "stdout",
     "output_type": "stream",
     "text": [
      "CPU times: total: 2.39 s\n",
      "Wall time: 33.7 s\n",
      "f1_score на обучающем наборе: 0.95\n",
      "accuracy на тестовом наборе: 0.78\n",
      "f1_score на тестовом наборе: 0.80\n",
      "Наилучшие значения гиперпараметров: {'n_estimators': 170, 'min_samples_leaf': 5, 'max_depth': 22}\n"
     ]
    }
   ],
   "source": [
    "# Указываем подбираемые комбинации гиперпараметров, создаем объект рандомсёрч\n",
    "# и выполняем поиск лучших для метрики ф1 гиперпараметров\n",
    "\n",
    "param_distributions = {'n_estimators': list(range(80, 200, 30)),\n",
    "              'min_samples_leaf': [5],\n",
    "              'max_depth': list(np.linspace(20, 40, 10, dtype=int))\n",
    "              }\n",
    "            \n",
    "random_search_forest = RandomizedSearchCV(\n",
    "    estimator=rf, \n",
    "    param_distributions=param_distributions, \n",
    "    cv=5,\n",
    "    n_iter = 50, \n",
    "    n_jobs = -1\n",
    ")  \n",
    "%time random_search_forest.fit(X_train, y_train) \n",
    "y_train_pred = random_search_forest.predict(X_train)\n",
    "print('f1_score на обучающем наборе: {:.2f}'.format(metrics.f1_score(y_train, y_train_pred)))\n",
    "print(\"accuracy на тестовом наборе: {:.2f}\".format(random_search_forest.score(X_test, y_test)))\n",
    "y_test_pred = random_search_forest.predict(X_test)\n",
    "print('f1_score на тестовом наборе: {:.2f}'.format(metrics.f1_score(y_test, y_test_pred)))\n",
    "print(\"Наилучшие значения гиперпараметров: {}\".format(random_search_forest.best_params_))"
   ]
  },
  {
   "cell_type": "markdown",
   "metadata": {},
   "source": [
    "***\n",
    "## **HYPEROPT**"
   ]
  },
  {
   "cell_type": "markdown",
   "metadata": {},
   "source": [
    "### **RandomForest**"
   ]
  },
  {
   "cell_type": "code",
   "execution_count": 41,
   "metadata": {},
   "outputs": [],
   "source": [
    "# зададим пространство поиска гиперпараметров\n",
    "space={'n_estimators': hp.quniform('n_estimators', 100, 200, 1),\n",
    "       'max_depth' : hp.quniform('max_depth', 15, 26, 1),\n",
    "       'min_samples_leaf': hp.quniform('min_samples_leaf', 2, 10, 1)\n",
    "      }\n",
    "\n",
    "def hyperopt_rf(params, cv=5, X=X_train, y=y_train, random_state=random_state):\n",
    "    # функция получает комбинацию гиперпараметров в \"params\"\n",
    "    params = {'n_estimators': int(params['n_estimators']), \n",
    "              'max_depth': int(params['max_depth']), \n",
    "             'min_samples_leaf': int(params['min_samples_leaf'])\n",
    "              }\n",
    "  \n",
    "    # используем эту комбинацию для построения модели\n",
    "    model = ensemble.RandomForestClassifier(**params, random_state=random_state)\n",
    "    # обучаем модель\n",
    "    model.fit(X, y)\n",
    "    # применим  cross validation с тем же количеством фолдов\n",
    "    score = cross_val_score(model, X, y, cv=cv, scoring=\"f1\", n_jobs=-1).mean()\n",
    "    # метрику необходимо минимизировать, поэтому ставим знак минус\n",
    "    return -score"
   ]
  },
  {
   "cell_type": "code",
   "execution_count": 42,
   "metadata": {},
   "outputs": [
    {
     "name": "stdout",
     "output_type": "stream",
     "text": [
      "100%|██████████| 50/50 [02:41<00:00,  3.22s/trial, best loss: -0.8201982028293425]\n",
      "Наилучшие значения гиперпараметров {'max_depth': 15.0, 'min_samples_leaf': 2.0, 'n_estimators': 142.0}\n",
      "CPU times: total: 1min 16s\n",
      "Wall time: 2min 41s\n"
     ]
    }
   ],
   "source": [
    "%%time\n",
    "# начинаем подбор гиперпараметров\n",
    "trials = Trials() # используется для логирования результатов\n",
    "\n",
    "best=fmin(hyperopt_rf, # наша функция \n",
    "          space=space, # пространство гиперпараметров\n",
    "          algo=tpe.suggest, # алгоритм оптимизации, установлен по умолчанию, задавать необязательно\n",
    "          max_evals=50, # максимальное количество итераций\n",
    "          trials=trials, # логирование результатов\n",
    "          rstate=np.random.default_rng(random_state)# фиксируем для повторяемости результата\n",
    "         )\n",
    "print(\"Наилучшие значения гиперпараметров {}\".format(best))"
   ]
  },
  {
   "cell_type": "code",
   "execution_count": 43,
   "metadata": {},
   "outputs": [
    {
     "name": "stdout",
     "output_type": "stream",
     "text": [
      "f1_score на обучающем наборе: 0.98\n",
      "accuracy на тестовом наборе: 0.79\n",
      "f1_score на тестовом наборе: 0.81\n"
     ]
    }
   ],
   "source": [
    "# рассчитаем точность для тестовой выборки\n",
    "model = ensemble.RandomForestClassifier(\n",
    "    random_state=random_state, \n",
    "    n_estimators=int(best['n_estimators']),\n",
    "    max_depth=int(best['max_depth']),\n",
    "    min_samples_leaf=int(best['min_samples_leaf'])\n",
    ")\n",
    "model.fit(X_train, y_train)\n",
    "y_train_pred = model.predict(X_train)\n",
    "print('f1_score на обучающем наборе: {:.2f}'.format(metrics.f1_score(y_train, y_train_pred)))\n",
    "print(\"accuracy на тестовом наборе: {:.2f}\".format(model.score(X_test, y_test)))\n",
    "y_test_pred = model.predict(X_test)\n",
    "print('f1_score на тестовом наборе: {:.2f}'.format(metrics.f1_score(y_test, y_test_pred)))"
   ]
  },
  {
   "cell_type": "markdown",
   "metadata": {},
   "source": [
    "### **LogisticRegression**"
   ]
  },
  {
   "cell_type": "code",
   "execution_count": 44,
   "metadata": {},
   "outputs": [],
   "source": [
    "# списки вариантов гиперпараметров\n",
    "penalty = ['none', 'l2']\n",
    "solver = ['lbfgs', 'sag']\n",
    "c_parameter = [0.01,0.02,0.03,0.04,0.05,0.07,0.09,1]\n",
    "# пространство поиска гиперпараметров\n",
    "space={'penalty': hp.choice(label='penalty', \n",
    "                          options=penalty),\n",
    "       'solver' : hp.choice(label='solver', \n",
    "                          options=solver),\n",
    "       'C': hp.choice(label='C', \n",
    "                          options=c_parameter)\n",
    "      }\n",
    "\n",
    "def hyperopt_lr(params, cv=5, X=X_train, y=y_train, random_state=random_state):\n",
    "    # функция получает комбинацию гиперпараметров в \"params\"\n",
    "    params = {'penalty': params['penalty'], \n",
    "              'solver': params['solver'], \n",
    "             'C': params['C']\n",
    "              }\n",
    "  \n",
    "    # используем эту комбинацию для построения модели\n",
    "    model = linear_model.LogisticRegression(**params, random_state = random_state)\n",
    "    # обучаем модель\n",
    "    model.fit(X, y)\n",
    "    # применим  cross validation с тем же количеством фолдов\n",
    "    score = cross_val_score(model, X, y, cv=cv, scoring=\"f1\", n_jobs=-1).mean()\n",
    "    # метрику необходимо минимизировать, поэтому ставим знак минус\n",
    "    return -score"
   ]
  },
  {
   "cell_type": "code",
   "execution_count": 45,
   "metadata": {},
   "outputs": [
    {
     "name": "stdout",
     "output_type": "stream",
     "text": [
      "100%|██████████| 50/50 [04:22<00:00,  5.25s/trial, best loss: -0.7949189441592461]\n",
      "Наилучшие значения гиперпараметров {'C': 1, 'penalty': 1, 'solver': 1}\n",
      "CPU times: total: 2min 29s\n",
      "Wall time: 4min 22s\n"
     ]
    }
   ],
   "source": [
    "%%time\n",
    "# начинаем подбор гиперпараметров\n",
    "trials = Trials() # используется для логирования результатов\n",
    "\n",
    "best=fmin(hyperopt_lr, # наша функция \n",
    "          space=space, # пространство гиперпараметров\n",
    "          algo=tpe.suggest, # алгоритм оптимизации, установлен по умолчанию, задавать необязательно\n",
    "          max_evals=50, # максимальное количество итераций\n",
    "          trials=trials, # логирование результатов\n",
    "          rstate=np.random.default_rng(random_state)# фиксируем для повторяемости результата\n",
    "         )\n",
    "print(\"Наилучшие значения гиперпараметров {}\".format(best))"
   ]
  },
  {
   "cell_type": "code",
   "execution_count": 46,
   "metadata": {},
   "outputs": [
    {
     "name": "stdout",
     "output_type": "stream",
     "text": [
      "f1_score на обучающем наборе: 0.83\n",
      "accuracy на тестовом наборе: 0.75\n",
      "f1_score на тестовом наборе: 0.78\n"
     ]
    }
   ],
   "source": [
    "# рассчитаем точность для тестовой выборки\n",
    "model = linear_model.LogisticRegression(\n",
    "    random_state=random_state, \n",
    "    penalty=penalty[best['penalty']],\n",
    "    solver=solver[best['solver']],\n",
    "    C=c_parameter[best['C']]\n",
    ")\n",
    "model.fit(X_train, y_train)\n",
    "y_train_pred = model.predict(X_train)\n",
    "print('f1_score на обучающем наборе: {:.2f}'.format(metrics.f1_score(y_train, y_train_pred)))\n",
    "print(\"accuracy на тестовом наборе: {:.2f}\".format(model.score(X_test, y_test)))\n",
    "y_test_pred = model.predict(X_test)\n",
    "print('f1_score на тестовом наборе: {:.2f}'.format(metrics.f1_score(y_test, y_test_pred)))"
   ]
  },
  {
   "cell_type": "markdown",
   "metadata": {},
   "source": [
    "***\n",
    "## **OPTUNA**"
   ]
  },
  {
   "cell_type": "markdown",
   "metadata": {},
   "source": [
    "### **RandomForest**"
   ]
  },
  {
   "cell_type": "code",
   "execution_count": 47,
   "metadata": {},
   "outputs": [],
   "source": [
    "def optuna_rf(trial):\n",
    "  # задаем пространства поиска гиперпараметров\n",
    "  n_estimators = trial.suggest_int('n_estimators', 100, 200, 1)\n",
    "  max_depth = trial.suggest_int('max_depth', 10, 30, 1)\n",
    "  min_samples_leaf = trial.suggest_int('min_samples_leaf', 2, 10, 1)\n",
    "\n",
    "  # создаем модель\n",
    "  model = ensemble.RandomForestClassifier(n_estimators=n_estimators,\n",
    "                                          max_depth=max_depth,\n",
    "                                          min_samples_leaf=min_samples_leaf,\n",
    "                                          random_state=random_state)\n",
    "  # обучаем модель\n",
    "  model.fit(X_train, y_train)\n",
    "  score = cross_val_score(model, X, y, cv=5, scoring=\"f1\", n_jobs=-1).mean()\n",
    "\n",
    "  return score"
   ]
  },
  {
   "cell_type": "code",
   "execution_count": 48,
   "metadata": {},
   "outputs": [
    {
     "name": "stderr",
     "output_type": "stream",
     "text": [
      "\u001b[32m[I 2022-10-21 19:23:15,057]\u001b[0m A new study created in memory with name: RandomForestClassifier\u001b[0m\n",
      "\u001b[32m[I 2022-10-21 19:23:18,856]\u001b[0m Trial 0 finished with value: 0.8096124499917643 and parameters: {'n_estimators': 141, 'max_depth': 17, 'min_samples_leaf': 3}. Best is trial 0 with value: 0.8096124499917643.\u001b[0m\n",
      "\u001b[32m[I 2022-10-21 19:23:24,003]\u001b[0m Trial 1 finished with value: 0.8127014683377096 and parameters: {'n_estimators': 196, 'max_depth': 27, 'min_samples_leaf': 3}. Best is trial 1 with value: 0.8127014683377096.\u001b[0m\n",
      "\u001b[32m[I 2022-10-21 19:23:26,848]\u001b[0m Trial 2 finished with value: 0.799008415174908 and parameters: {'n_estimators': 127, 'max_depth': 27, 'min_samples_leaf': 8}. Best is trial 1 with value: 0.8127014683377096.\u001b[0m\n",
      "\u001b[32m[I 2022-10-21 19:23:29,336]\u001b[0m Trial 3 finished with value: 0.8003164546167211 and parameters: {'n_estimators': 104, 'max_depth': 30, 'min_samples_leaf': 8}. Best is trial 1 with value: 0.8127014683377096.\u001b[0m\n",
      "\u001b[32m[I 2022-10-21 19:23:33,228]\u001b[0m Trial 4 finished with value: 0.7994203241452389 and parameters: {'n_estimators': 181, 'max_depth': 21, 'min_samples_leaf': 8}. Best is trial 1 with value: 0.8127014683377096.\u001b[0m\n",
      "\u001b[32m[I 2022-10-21 19:23:35,742]\u001b[0m Trial 5 finished with value: 0.8061376719935988 and parameters: {'n_estimators': 108, 'max_depth': 22, 'min_samples_leaf': 7}. Best is trial 1 with value: 0.8127014683377096.\u001b[0m\n",
      "\u001b[32m[I 2022-10-21 19:23:38,446]\u001b[0m Trial 6 finished with value: 0.7959399511039866 and parameters: {'n_estimators': 119, 'max_depth': 25, 'min_samples_leaf': 10}. Best is trial 1 with value: 0.8127014683377096.\u001b[0m\n",
      "\u001b[32m[I 2022-10-21 19:23:41,806]\u001b[0m Trial 7 finished with value: 0.8099219993790004 and parameters: {'n_estimators': 123, 'max_depth': 20, 'min_samples_leaf': 3}. Best is trial 1 with value: 0.8127014683377096.\u001b[0m\n",
      "\u001b[32m[I 2022-10-21 19:23:45,944]\u001b[0m Trial 8 finished with value: 0.8010327703210901 and parameters: {'n_estimators': 192, 'max_depth': 11, 'min_samples_leaf': 4}. Best is trial 1 with value: 0.8127014683377096.\u001b[0m\n",
      "\u001b[32m[I 2022-10-21 19:23:49,686]\u001b[0m Trial 9 finished with value: 0.7956681857309127 and parameters: {'n_estimators': 185, 'max_depth': 11, 'min_samples_leaf': 8}. Best is trial 1 with value: 0.8127014683377096.\u001b[0m\n",
      "\u001b[32m[I 2022-10-21 19:23:53,758]\u001b[0m Trial 10 finished with value: 0.8057763987908423 and parameters: {'n_estimators': 167, 'max_depth': 30, 'min_samples_leaf': 5}. Best is trial 1 with value: 0.8127014683377096.\u001b[0m\n",
      "\u001b[32m[I 2022-10-21 19:23:57,939]\u001b[0m Trial 11 finished with value: 0.8140923983179228 and parameters: {'n_estimators': 151, 'max_depth': 17, 'min_samples_leaf': 2}. Best is trial 11 with value: 0.8140923983179228.\u001b[0m\n",
      "\u001b[32m[I 2022-10-21 19:24:02,315]\u001b[0m Trial 12 finished with value: 0.8140007488511177 and parameters: {'n_estimators': 164, 'max_depth': 16, 'min_samples_leaf': 2}. Best is trial 11 with value: 0.8140923983179228.\u001b[0m\n",
      "\u001b[32m[I 2022-10-21 19:24:06,571]\u001b[0m Trial 13 finished with value: 0.812939352811072 and parameters: {'n_estimators': 159, 'max_depth': 15, 'min_samples_leaf': 2}. Best is trial 11 with value: 0.8140923983179228.\u001b[0m\n",
      "\u001b[32m[I 2022-10-21 19:24:10,379]\u001b[0m Trial 14 finished with value: 0.8135681630802072 and parameters: {'n_estimators': 145, 'max_depth': 15, 'min_samples_leaf': 2}. Best is trial 11 with value: 0.8140923983179228.\u001b[0m\n",
      "\u001b[32m[I 2022-10-21 19:24:14,455]\u001b[0m Trial 15 finished with value: 0.8094857183313902 and parameters: {'n_estimators': 169, 'max_depth': 17, 'min_samples_leaf': 5}. Best is trial 11 with value: 0.8140923983179228.\u001b[0m\n",
      "\u001b[32m[I 2022-10-21 19:24:18,530]\u001b[0m Trial 16 finished with value: 0.8111738579486041 and parameters: {'n_estimators': 155, 'max_depth': 14, 'min_samples_leaf': 2}. Best is trial 11 with value: 0.8140923983179228.\u001b[0m\n",
      "\u001b[32m[I 2022-10-21 19:24:21,914]\u001b[0m Trial 17 finished with value: 0.8027535160779109 and parameters: {'n_estimators': 136, 'max_depth': 18, 'min_samples_leaf': 5}. Best is trial 11 with value: 0.8140923983179228.\u001b[0m\n",
      "\u001b[32m[I 2022-10-21 19:24:25,751]\u001b[0m Trial 18 finished with value: 0.8073121107365804 and parameters: {'n_estimators': 173, 'max_depth': 12, 'min_samples_leaf': 4}. Best is trial 11 with value: 0.8140923983179228.\u001b[0m\n",
      "\u001b[32m[I 2022-10-21 19:24:29,550]\u001b[0m Trial 19 finished with value: 0.8035142054999105 and parameters: {'n_estimators': 159, 'max_depth': 23, 'min_samples_leaf': 6}. Best is trial 11 with value: 0.8140923983179228.\u001b[0m\n"
     ]
    },
    {
     "name": "stdout",
     "output_type": "stream",
     "text": [
      "CPU times: total: 31.8 s\n",
      "Wall time: 1min 14s\n"
     ]
    }
   ],
   "source": [
    "%%time\n",
    "# cоздаем объект исследования\n",
    "# можем напрямую указать, что нам необходимо максимизировать метрику direction=\"maximize\"\n",
    "study = optuna.create_study(study_name=\"RandomForestClassifier\", direction=\"maximize\")\n",
    "# ищем лучшую комбинацию гиперпараметров n_trials раз\n",
    "study.optimize(optuna_rf, n_trials=20)"
   ]
  },
  {
   "cell_type": "code",
   "execution_count": 49,
   "metadata": {},
   "outputs": [
    {
     "name": "stdout",
     "output_type": "stream",
     "text": [
      "accuracy на тестовом наборе: 0.78\n",
      "f1_score на тестовом наборе: 0.80\n"
     ]
    }
   ],
   "source": [
    "# рассчитаем точность для тестовой выборки\n",
    "model = ensemble.RandomForestClassifier(**study.best_params,random_state=random_state, )\n",
    "model.fit(X_train, y_train)\n",
    "y_train_pred = model.predict(X_train)\n",
    "print(\"accuracy на тестовом наборе: {:.2f}\".format(model.score(X_test, y_test)))\n",
    "y_test_pred = model.predict(X_test)\n",
    "print('f1_score на тестовом наборе: {:.2f}'.format(metrics.f1_score(y_test, y_test_pred)))"
   ]
  },
  {
   "cell_type": "markdown",
   "metadata": {},
   "source": [
    "### **LogisticRegression**"
   ]
  },
  {
   "cell_type": "code",
   "execution_count": 50,
   "metadata": {},
   "outputs": [],
   "source": [
    "def optuna_rf(trial):\n",
    "  # задаем пространства поиска гиперпараметров\n",
    "  penalty = trial.suggest_categorical('penalty', ['none', 'l2'])\n",
    "  solver = trial.suggest_categorical('solver', ['lbfgs', 'sag'])\n",
    "  C = trial.suggest_categorical('C', [0.01,0.02,0.03,0.04,0.05,0.07,0.09,1])\n",
    "\n",
    "  # создаем модель\n",
    "  model = linear_model.LogisticRegression(penalty=penalty,\n",
    "                                          solver=solver,\n",
    "                                          C=C,\n",
    "                                          random_state=random_state)\n",
    "  # обучаем модель\n",
    "  model.fit(X_train, y_train)\n",
    "  score = cross_val_score(model, X, y, cv=5, scoring=\"f1\", n_jobs=-1).mean()\n",
    "\n",
    "  return score"
   ]
  },
  {
   "cell_type": "code",
   "execution_count": 51,
   "metadata": {},
   "outputs": [
    {
     "name": "stderr",
     "output_type": "stream",
     "text": [
      "\u001b[32m[I 2022-10-21 19:24:31,651]\u001b[0m A new study created in memory with name: LogisticRegression\u001b[0m\n",
      "\u001b[32m[I 2022-10-21 19:24:33,313]\u001b[0m Trial 0 finished with value: 0.7897018785888601 and parameters: {'penalty': 'l2', 'solver': 'lbfgs', 'C': 0.02}. Best is trial 0 with value: 0.7897018785888601.\u001b[0m\n",
      "\u001b[32m[I 2022-10-21 19:24:35,208]\u001b[0m Trial 1 finished with value: 0.7583522396374635 and parameters: {'penalty': 'none', 'solver': 'lbfgs', 'C': 0.04}. Best is trial 0 with value: 0.7897018785888601.\u001b[0m\n",
      "\u001b[32m[I 2022-10-21 19:24:37,083]\u001b[0m Trial 2 finished with value: 0.7583522396374635 and parameters: {'penalty': 'none', 'solver': 'lbfgs', 'C': 0.04}. Best is trial 0 with value: 0.7897018785888601.\u001b[0m\n",
      "\u001b[32m[I 2022-10-21 19:24:38,977]\u001b[0m Trial 3 finished with value: 0.7583522396374635 and parameters: {'penalty': 'none', 'solver': 'lbfgs', 'C': 0.05}. Best is trial 0 with value: 0.7897018785888601.\u001b[0m\n",
      "\u001b[32m[I 2022-10-21 19:24:40,970]\u001b[0m Trial 4 finished with value: 0.7583522396374635 and parameters: {'penalty': 'none', 'solver': 'lbfgs', 'C': 0.02}. Best is trial 0 with value: 0.7897018785888601.\u001b[0m\n",
      "\u001b[32m[I 2022-10-21 19:24:42,859]\u001b[0m Trial 5 finished with value: 0.7868820500607108 and parameters: {'penalty': 'l2', 'solver': 'lbfgs', 'C': 0.09}. Best is trial 0 with value: 0.7897018785888601.\u001b[0m\n",
      "\u001b[32m[I 2022-10-21 19:24:44,826]\u001b[0m Trial 6 finished with value: 0.7583522396374635 and parameters: {'penalty': 'none', 'solver': 'lbfgs', 'C': 0.02}. Best is trial 0 with value: 0.7897018785888601.\u001b[0m\n",
      "\u001b[32m[I 2022-10-21 19:24:46,774]\u001b[0m Trial 7 finished with value: 0.7879183580176603 and parameters: {'penalty': 'l2', 'solver': 'lbfgs', 'C': 0.07}. Best is trial 0 with value: 0.7897018785888601.\u001b[0m\n",
      "\u001b[32m[I 2022-10-21 19:24:54,455]\u001b[0m Trial 8 finished with value: 0.7708390231147334 and parameters: {'penalty': 'none', 'solver': 'sag', 'C': 0.05}. Best is trial 0 with value: 0.7897018785888601.\u001b[0m\n",
      "\u001b[32m[I 2022-10-21 19:24:56,088]\u001b[0m Trial 9 finished with value: 0.7897018785888601 and parameters: {'penalty': 'l2', 'solver': 'lbfgs', 'C': 0.02}. Best is trial 0 with value: 0.7897018785888601.\u001b[0m\n",
      "\u001b[32m[I 2022-10-21 19:25:03,532]\u001b[0m Trial 10 finished with value: 0.7918311104147608 and parameters: {'penalty': 'l2', 'solver': 'sag', 'C': 0.03}. Best is trial 10 with value: 0.7918311104147608.\u001b[0m\n",
      "\u001b[32m[I 2022-10-21 19:25:11,193]\u001b[0m Trial 11 finished with value: 0.7918311104147608 and parameters: {'penalty': 'l2', 'solver': 'sag', 'C': 0.03}. Best is trial 10 with value: 0.7918311104147608.\u001b[0m\n",
      "\u001b[32m[I 2022-10-21 19:25:18,563]\u001b[0m Trial 12 finished with value: 0.7918311104147608 and parameters: {'penalty': 'l2', 'solver': 'sag', 'C': 0.03}. Best is trial 10 with value: 0.7918311104147608.\u001b[0m\n",
      "\u001b[32m[I 2022-10-21 19:25:25,947]\u001b[0m Trial 13 finished with value: 0.7918311104147608 and parameters: {'penalty': 'l2', 'solver': 'sag', 'C': 0.03}. Best is trial 10 with value: 0.7918311104147608.\u001b[0m\n",
      "\u001b[32m[I 2022-10-21 19:25:33,492]\u001b[0m Trial 14 finished with value: 0.7918311104147608 and parameters: {'penalty': 'l2', 'solver': 'sag', 'C': 0.03}. Best is trial 10 with value: 0.7918311104147608.\u001b[0m\n",
      "\u001b[32m[I 2022-10-21 19:25:40,180]\u001b[0m Trial 15 finished with value: 0.783697530028722 and parameters: {'penalty': 'l2', 'solver': 'sag', 'C': 0.01}. Best is trial 10 with value: 0.7918311104147608.\u001b[0m\n",
      "\u001b[32m[I 2022-10-21 19:25:47,528]\u001b[0m Trial 16 finished with value: 0.7772320149582868 and parameters: {'penalty': 'l2', 'solver': 'sag', 'C': 1}. Best is trial 10 with value: 0.7918311104147608.\u001b[0m\n",
      "\u001b[32m[I 2022-10-21 19:25:55,182]\u001b[0m Trial 17 finished with value: 0.7918311104147608 and parameters: {'penalty': 'l2', 'solver': 'sag', 'C': 0.03}. Best is trial 10 with value: 0.7918311104147608.\u001b[0m\n",
      "\u001b[32m[I 2022-10-21 19:26:02,632]\u001b[0m Trial 18 finished with value: 0.7918311104147608 and parameters: {'penalty': 'l2', 'solver': 'sag', 'C': 0.03}. Best is trial 10 with value: 0.7918311104147608.\u001b[0m\n",
      "\u001b[32m[I 2022-10-21 19:26:10,182]\u001b[0m Trial 19 finished with value: 0.7867565997205004 and parameters: {'penalty': 'l2', 'solver': 'sag', 'C': 0.07}. Best is trial 10 with value: 0.7918311104147608.\u001b[0m\n"
     ]
    },
    {
     "name": "stdout",
     "output_type": "stream",
     "text": [
      "CPU times: total: 57.5 s\n",
      "Wall time: 1min 38s\n"
     ]
    }
   ],
   "source": [
    "%%time\n",
    "# cоздаем объект исследования\n",
    "# можем напрямую указать, что нам необходимо максимизировать метрику direction=\"maximize\"\n",
    "study = optuna.create_study(study_name=\"LogisticRegression\", direction=\"maximize\")\n",
    "# ищем лучшую комбинацию гиперпараметров n_trials раз\n",
    "study.optimize(optuna_rf, n_trials=20)"
   ]
  },
  {
   "cell_type": "code",
   "execution_count": 52,
   "metadata": {},
   "outputs": [
    {
     "name": "stdout",
     "output_type": "stream",
     "text": [
      "accuracy на тестовом наборе: 0.76\n",
      "f1_score на тестовом наборе: 0.79\n"
     ]
    }
   ],
   "source": [
    "# рассчитаем точность для тестовой выборки\n",
    "model = linear_model.LogisticRegression(**study.best_params,random_state=random_state)\n",
    "model.fit(X_train, y_train)\n",
    "y_train_pred = model.predict(X_train)\n",
    "print(\"accuracy на тестовом наборе: {:.2f}\".format(model.score(X_test, y_test)))\n",
    "y_test_pred = model.predict(X_test)\n",
    "print('f1_score на тестовом наборе: {:.2f}'.format(metrics.f1_score(y_test, y_test_pred)))"
   ]
  }
 ],
 "metadata": {
  "kernelspec": {
   "display_name": "Python 3.10.8 64-bit",
   "language": "python",
   "name": "python3"
  },
  "language_info": {
   "codemirror_mode": {
    "name": "ipython",
    "version": 3
   },
   "file_extension": ".py",
   "mimetype": "text/x-python",
   "name": "python",
   "nbconvert_exporter": "python",
   "pygments_lexer": "ipython3",
   "version": "3.10.8"
  },
  "orig_nbformat": 4,
  "vscode": {
   "interpreter": {
    "hash": "c68eacbc5a3a550d9b1f68bf11bf31e2b39ed4b9985227d4d8c7ee1d286013f5"
   }
  }
 },
 "nbformat": 4,
 "nbformat_minor": 2
}
