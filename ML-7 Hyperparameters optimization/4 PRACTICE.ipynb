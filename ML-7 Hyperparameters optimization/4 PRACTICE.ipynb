{
 "cells": [
  {
   "cell_type": "markdown",
   "metadata": {},
   "source": [
    "# **Практика**"
   ]
  },
  {
   "cell_type": "markdown",
   "metadata": {},
   "source": [
    "Наша практика будет основана на соревновании Kaggle: Predicting a Biological Response (Прогнозирование биологического ответа).\n",
    "\n",
    "[**DATA**](https://lms.skillfactory.ru/assets/courseware/v1/9f2add5bca59f8c4df927432d605fff3/asset-v1:SkillFactory+DSPR-2.0+14JULY2021+type@asset+block/_train_sem09__1_.zip)\n",
    "\n",
    "Необходимо предсказать биологический ответ молекул (столбец 'Activity') по их химическому составу (столбцы D1-D1776).\n",
    "\n",
    "Данные представлены в формате CSV.  Каждая строка представляет молекулу. \n",
    "\n",
    "Первый столбец **Activity** содержит экспериментальные данные, описывающие фактический биологический ответ [0, 1];  \n",
    "Остальные столбцы **D1-D1776** представляют собой молекулярные дескрипторы — это вычисляемые свойства, которые могут фиксировать некоторые характеристики молекулы, например размер, форму или состав элементов.\n",
    "\n",
    "![](https://lms.skillfactory.ru/assets/courseware/v1/243fdc2d8abf9f176c01a429f1ae68ab/asset-v1:SkillFactory+DSPR-2.0+14JULY2021+type@asset+block/dst-3-ml-7-10.png)"
   ]
  },
  {
   "cell_type": "markdown",
   "metadata": {},
   "source": [
    "Предварительная обработка не требуется, данные уже закодированы и нормализованы.\n",
    "\n",
    "В качестве метрики будем использовать **F1-score**.\n",
    "\n",
    "1. Необходимо обучить две модели: логистическую регрессию и случайный лес.\n",
    "2. Далее нужно сделать подбор гиперпараметров с помощью базовых и продвинутых методов оптимизации. \n",
    "   * Важно использовать все четыре метода (GridSeachCV, RandomizedSearchCV, Hyperopt, Optuna) хотя бы по разу, максимальное количество итераций не должно превышать 50."
   ]
  },
  {
   "cell_type": "markdown",
   "metadata": {},
   "source": [
    "***\n",
    "## **Библиотеки и \"сырые\" модели**"
   ]
  },
  {
   "cell_type": "code",
   "execution_count": 14,
   "metadata": {},
   "outputs": [],
   "source": [
    "#импорт библиотек\n",
    "import numpy as np #для матричных вычислений\n",
    "import pandas as pd #для анализа и предобработки данных\n",
    "import matplotlib.pyplot as plt #для визуализации\n",
    "import seaborn as sns #для визуализации\n",
    "import hyperopt\n",
    "import optuna\n",
    "\n",
    "from sklearn import linear_model, tree, ensemble, metrics, preprocessing\n",
    "from sklearn.model_selection import train_test_split, cross_val_score, GridSearchCV, RandomizedSearchCV\n",
    "from hyperopt import hp, fmin, tpe, Trials\n",
    "\n",
    "import warnings\n",
    "warnings.filterwarnings(\"ignore\")\n",
    "\n",
    "%matplotlib inline\n",
    "plt.style.use('seaborn')\n",
    "random_state = 42\n",
    "data = pd.read_csv('data/train_sem.csv')\n",
    "\n",
    "X = data.drop(['Activity'], axis=1)\n",
    "y = data['Activity']\n",
    "\n",
    "X_train, X_test, y_train, y_test = train_test_split(X, y, stratify=y, random_state = random_state, test_size = 0.2)\n"
   ]
  },
  {
   "cell_type": "code",
   "execution_count": 2,
   "metadata": {},
   "outputs": [
    {
     "name": "stdout",
     "output_type": "stream",
     "text": [
      "accuracy на тестовом наборе: 0.75\n",
      "f1_score на тестовом наборе: 0.78\n"
     ]
    },
    {
     "name": "stderr",
     "output_type": "stream",
     "text": [
      "c:\\Users\\Roman\\AppData\\Local\\Programs\\Python\\Python310\\lib\\site-packages\\sklearn\\linear_model\\_logistic.py:444: ConvergenceWarning: lbfgs failed to converge (status=1):\n",
      "STOP: TOTAL NO. of ITERATIONS REACHED LIMIT.\n",
      "\n",
      "Increase the number of iterations (max_iter) or scale the data as shown in:\n",
      "    https://scikit-learn.org/stable/modules/preprocessing.html\n",
      "Please also refer to the documentation for alternative solver options:\n",
      "    https://scikit-learn.org/stable/modules/linear_model.html#logistic-regression\n",
      "  n_iter_i = _check_optimize_result(\n"
     ]
    }
   ],
   "source": [
    "#Создаем объект класса логистическая регрессия\n",
    "log_reg = linear_model.LogisticRegression(random_state = random_state, max_iter=50)\n",
    "#Обучаем модель\n",
    "log_reg.fit(X_train, y_train)\n",
    "# Выводим значения метрики \n",
    "print(\"accuracy на тестовом наборе: {:.2f}\".format(log_reg.score(X_test, y_test)))\n",
    "y_test_pred = log_reg.predict(X_test)\n",
    "print('f1_score на тестовом наборе: {:.2f}'.format(metrics.f1_score(y_test, y_test_pred)))"
   ]
  },
  {
   "cell_type": "code",
   "execution_count": 3,
   "metadata": {},
   "outputs": [
    {
     "name": "stdout",
     "output_type": "stream",
     "text": [
      "Train: 1.00\n",
      "Test: 0.79\n"
     ]
    }
   ],
   "source": [
    "# Создаем объект класса случайный лес\n",
    "rf = ensemble.RandomForestClassifier(random_state=random_state, n_estimators=50)\n",
    "# Обучаем модель\n",
    "rf.fit(X_train, y_train)\n",
    "# Выводим значения метрики \n",
    "y_train_pred = rf.predict(X_train)\n",
    "print('Train: {:.2f}'.format(metrics.f1_score(y_train, y_train_pred)))\n",
    "y_test_pred = rf.predict(X_test)\n",
    "print('Test: {:.2f}'.format(metrics.f1_score(y_test, y_test_pred)))"
   ]
  },
  {
   "cell_type": "markdown",
   "metadata": {},
   "source": [
    "***\n",
    "## **GRIDSEARCHCV**"
   ]
  },
  {
   "cell_type": "markdown",
   "metadata": {},
   "source": [
    "### **LogisticRegression**"
   ]
  },
  {
   "cell_type": "code",
   "execution_count": 4,
   "metadata": {},
   "outputs": [
    {
     "name": "stdout",
     "output_type": "stream",
     "text": [
      "CPU times: total: 3.38 s\n",
      "Wall time: 47.6 s\n",
      "accuracy на тестовом наборе: 0.76\n",
      "f1_score на тестовом наборе: 0.79\n",
      "Наилучшие значения гиперпараметров: {'C': 0.3, 'penalty': 'l1', 'solver': 'saga'}\n"
     ]
    },
    {
     "name": "stderr",
     "output_type": "stream",
     "text": [
      "c:\\Users\\Roman\\AppData\\Local\\Programs\\Python\\Python310\\lib\\site-packages\\sklearn\\linear_model\\_sag.py:350: ConvergenceWarning: The max_iter was reached which means the coef_ did not converge\n",
      "  warnings.warn(\n"
     ]
    }
   ],
   "source": [
    "# Указываем сетку гиперпарметров, создаем объект гридсёрч\n",
    "# и выполняем поиск лучших для метрики ф1 гиперпараметров\n",
    "param_grid = [\n",
    "              {'penalty': ['l2', 'none'],\n",
    "              'solver': ['lbfgs', 'sag'],\n",
    "               'C': [0.01, 0.1, 0.3, 0.5, 0.7, 0.9, 1]},\n",
    "              \n",
    "              {'penalty': ['l1', 'l2'] ,\n",
    "              'solver': ['liblinear', 'saga'],\n",
    "               'C': [0.01, 0.1, 0.3, 0.5, 0.7, 0.9, 1]}\n",
    "]\n",
    "grid_search = GridSearchCV(\n",
    "    estimator=log_reg, \n",
    "    param_grid=param_grid, \n",
    "    cv=5, \n",
    "    n_jobs = -1\n",
    ")\n",
    "\n",
    "# %time - замеряет время выполнения\n",
    "%time grid_search.fit(X_train, y_train) \n",
    "print(\"accuracy на тестовом наборе: {:.2f}\".format(grid_search.score(X_test, y_test)))\n",
    "y_test_pred = grid_search.predict(X_test)\n",
    "print('f1_score на тестовом наборе: {:.2f}'.format(metrics.f1_score(y_test, y_test_pred)))\n",
    "print(\"Наилучшие значения гиперпараметров: {}\".format(grid_search.best_params_))"
   ]
  },
  {
   "cell_type": "markdown",
   "metadata": {},
   "source": [
    "### **RandomForest**"
   ]
  },
  {
   "cell_type": "code",
   "execution_count": 8,
   "metadata": {},
   "outputs": [
    {
     "name": "stdout",
     "output_type": "stream",
     "text": [
      "CPU times: total: 2.25 s\n",
      "Wall time: 17.9 s\n",
      "accuracy на тестовом наборе: 0.78\n",
      "f1_score на тестовом наборе: 0.80\n",
      "Наилучшие значения гиперпараметров: {'max_depth': 20, 'min_samples_leaf': 5, 'n_estimators': 180}\n"
     ]
    }
   ],
   "source": [
    "# Указываем сетку гиперпарметров, создаем объект гридсёрч\n",
    "# и выполняем поиск лучших для метрики ф1 гиперпараметров\n",
    "param_grid = {'n_estimators': list(range(80, 200, 50)),\n",
    "              'min_samples_leaf': [5],\n",
    "              'max_depth': list(np.linspace(20, 40, 5, dtype=int))\n",
    "              }\n",
    "\n",
    "grid_search = GridSearchCV(\n",
    "    estimator=rf, \n",
    "    param_grid=param_grid, \n",
    "    cv=5, \n",
    "    n_jobs = -1\n",
    ")\n",
    "\n",
    "# %time - замеряет время выполнения\n",
    "%time grid_search.fit(X_train, y_train) \n",
    "print(\"accuracy на тестовом наборе: {:.2f}\".format(grid_search.score(X_test, y_test)))\n",
    "y_test_pred = grid_search.predict(X_test)\n",
    "print('f1_score на тестовом наборе: {:.2f}'.format(metrics.f1_score(y_test, y_test_pred)))\n",
    "print(\"Наилучшие значения гиперпараметров: {}\".format(grid_search.best_params_))"
   ]
  },
  {
   "cell_type": "markdown",
   "metadata": {},
   "source": [
    "***\n",
    "##  **RANDOMIZEDSEARCHCV**"
   ]
  },
  {
   "cell_type": "markdown",
   "metadata": {},
   "source": [
    "### **LogisticRegression**"
   ]
  },
  {
   "cell_type": "code",
   "execution_count": 10,
   "metadata": {},
   "outputs": [
    {
     "name": "stderr",
     "output_type": "stream",
     "text": [
      "c:\\Users\\Roman\\AppData\\Local\\Programs\\Python\\Python310\\lib\\site-packages\\sklearn\\model_selection\\_search.py:306: UserWarning: The total space of parameters 40 is smaller than n_iter=50. Running 40 iterations. For exhaustive searches, use GridSearchCV.\n",
      "  warnings.warn(\n"
     ]
    },
    {
     "name": "stdout",
     "output_type": "stream",
     "text": [
      "CPU times: total: 2.25 s\n",
      "Wall time: 32.5 s\n",
      "accuracy на тестовом наборе: 0.75\n",
      "f1_score на тестовом наборе: 0.78\n",
      "Наилучшие значения гиперпараметров: {'solver': 'sag', 'penalty': 'l2', 'C': 0.01}\n"
     ]
    },
    {
     "name": "stderr",
     "output_type": "stream",
     "text": [
      "c:\\Users\\Roman\\AppData\\Local\\Programs\\Python\\Python310\\lib\\site-packages\\sklearn\\linear_model\\_sag.py:350: ConvergenceWarning: The max_iter was reached which means the coef_ did not converge\n",
      "  warnings.warn(\n"
     ]
    }
   ],
   "source": [
    "# Указываем подбираемые комбинации гиперпараметров, создаем объект рандомсёрч\n",
    "# и выполняем поиск лучших для метрики ф1 гиперпараметров\n",
    "\n",
    "param_distributions = {'penalty': ['l2', 'none'] ,\n",
    "              'solver': ['lbfgs', 'sag'],\n",
    "               'C': list(np.linspace(0.01, 1, 10, dtype=float))},\n",
    "\n",
    "random_search = RandomizedSearchCV(\n",
    "    estimator=log_reg, \n",
    "    param_distributions=param_distributions, \n",
    "    cv=5, \n",
    "    n_iter = 50, \n",
    "    n_jobs = -1\n",
    ")\n",
    "\n",
    "%time random_search.fit(X_train, y_train)\n",
    "print(\"accuracy на тестовом наборе: {:.2f}\".format(random_search.score(X_test, y_test)))\n",
    "y_test_pred = random_search.predict(X_test)\n",
    "print('f1_score на тестовом наборе: {:.2f}'.format(metrics.f1_score(y_test, y_test_pred)))\n",
    "print(\"Наилучшие значения гиперпараметров: {}\".format(random_search.best_params_))"
   ]
  },
  {
   "cell_type": "markdown",
   "metadata": {},
   "source": [
    "### **RandomForest**"
   ]
  },
  {
   "cell_type": "code",
   "execution_count": 11,
   "metadata": {},
   "outputs": [
    {
     "name": "stderr",
     "output_type": "stream",
     "text": [
      "c:\\Users\\Roman\\AppData\\Local\\Programs\\Python\\Python310\\lib\\site-packages\\sklearn\\model_selection\\_search.py:306: UserWarning: The total space of parameters 40 is smaller than n_iter=50. Running 40 iterations. For exhaustive searches, use GridSearchCV.\n",
      "  warnings.warn(\n"
     ]
    },
    {
     "name": "stdout",
     "output_type": "stream",
     "text": [
      "CPU times: total: 2.36 s\n",
      "Wall time: 37.8 s\n",
      "f1_score на обучающем наборе: 0.95\n",
      "accuracy на тестовом наборе: 0.78\n",
      "f1_score на тестовом наборе: 0.80\n",
      "Наилучшие значения гиперпараметров: {'n_estimators': 170, 'min_samples_leaf': 5, 'max_depth': 22}\n"
     ]
    }
   ],
   "source": [
    "# Указываем подбираемые комбинации гиперпараметров, создаем объект рандомсёрч\n",
    "# и выполняем поиск лучших для метрики ф1 гиперпараметров\n",
    "\n",
    "param_distributions = {'n_estimators': list(range(80, 200, 30)),\n",
    "              'min_samples_leaf': [5],\n",
    "              'max_depth': list(np.linspace(20, 40, 10, dtype=int))\n",
    "              }\n",
    "            \n",
    "random_search_forest = RandomizedSearchCV(\n",
    "    estimator=rf, \n",
    "    param_distributions=param_distributions, \n",
    "    cv=5,\n",
    "    n_iter = 50, \n",
    "    n_jobs = -1\n",
    ")  \n",
    "%time random_search_forest.fit(X_train, y_train) \n",
    "y_train_pred = random_search_forest.predict(X_train)\n",
    "print('f1_score на обучающем наборе: {:.2f}'.format(metrics.f1_score(y_train, y_train_pred)))\n",
    "print(\"accuracy на тестовом наборе: {:.2f}\".format(random_search_forest.score(X_test, y_test)))\n",
    "y_test_pred = random_search_forest.predict(X_test)\n",
    "print('f1_score на тестовом наборе: {:.2f}'.format(metrics.f1_score(y_test, y_test_pred)))\n",
    "print(\"Наилучшие значения гиперпараметров: {}\".format(random_search_forest.best_params_))"
   ]
  },
  {
   "cell_type": "markdown",
   "metadata": {},
   "source": [
    "***\n",
    "## **HYPEROPT**"
   ]
  },
  {
   "cell_type": "markdown",
   "metadata": {},
   "source": [
    "### **RandomForest**"
   ]
  },
  {
   "cell_type": "code",
   "execution_count": 4,
   "metadata": {},
   "outputs": [],
   "source": [
    "# зададим пространство поиска гиперпараметров\n",
    "space={'n_estimators': hp.quniform('n_estimators', 100, 200, 1),\n",
    "       'max_depth' : hp.quniform('max_depth', 15, 26, 1),\n",
    "       'min_samples_leaf': hp.quniform('min_samples_leaf', 2, 10, 1)\n",
    "      }\n",
    "\n",
    "def hyperopt_rf(params, cv=5, X=X_train, y=y_train, random_state=random_state):\n",
    "    # функция получает комбинацию гиперпараметров в \"params\"\n",
    "    params = {'n_estimators': int(params['n_estimators']), \n",
    "              'max_depth': int(params['max_depth']), \n",
    "             'min_samples_leaf': int(params['min_samples_leaf'])\n",
    "              }\n",
    "  \n",
    "    # используем эту комбинацию для построения модели\n",
    "    model = ensemble.RandomForestClassifier(**params, random_state=random_state)\n",
    "    # обучаем модель\n",
    "    model.fit(X, y)\n",
    "    # применим  cross validation с тем же количеством фолдов\n",
    "    score = cross_val_score(model, X, y, cv=cv, scoring=\"f1\", n_jobs=-1).mean()\n",
    "    # метрику необходимо минимизировать, поэтому ставим знак минус\n",
    "    return -score"
   ]
  },
  {
   "cell_type": "code",
   "execution_count": 6,
   "metadata": {},
   "outputs": [
    {
     "name": "stdout",
     "output_type": "stream",
     "text": [
      "100%|██████████| 50/50 [02:44<00:00,  3.28s/trial, best loss: -0.8201982028293425]\n",
      "Наилучшие значения гиперпараметров {'max_depth': 15.0, 'min_samples_leaf': 2.0, 'n_estimators': 142.0}\n",
      "CPU times: total: 1min 17s\n",
      "Wall time: 2min 44s\n"
     ]
    }
   ],
   "source": [
    "%%time\n",
    "# начинаем подбор гиперпараметров\n",
    "trials = Trials() # используется для логирования результатов\n",
    "\n",
    "best=fmin(hyperopt_rf, # наша функция \n",
    "          space=space, # пространство гиперпараметров\n",
    "          algo=tpe.suggest, # алгоритм оптимизации, установлен по умолчанию, задавать необязательно\n",
    "          max_evals=50, # максимальное количество итераций\n",
    "          trials=trials, # логирование результатов\n",
    "          rstate=np.random.default_rng(random_state)# фиксируем для повторяемости результата\n",
    "         )\n",
    "print(\"Наилучшие значения гиперпараметров {}\".format(best))"
   ]
  },
  {
   "cell_type": "code",
   "execution_count": 7,
   "metadata": {},
   "outputs": [
    {
     "name": "stdout",
     "output_type": "stream",
     "text": [
      "f1_score на обучающем наборе: 0.98\n",
      "accuracy на тестовом наборе: 0.79\n",
      "f1_score на тестовом наборе: 0.81\n"
     ]
    }
   ],
   "source": [
    "# рассчитаем точность для тестовой выборки\n",
    "model = ensemble.RandomForestClassifier(\n",
    "    random_state=random_state, \n",
    "    n_estimators=int(best['n_estimators']),\n",
    "    max_depth=int(best['max_depth']),\n",
    "    min_samples_leaf=int(best['min_samples_leaf'])\n",
    ")\n",
    "model.fit(X_train, y_train)\n",
    "y_train_pred = model.predict(X_train)\n",
    "print('f1_score на обучающем наборе: {:.2f}'.format(metrics.f1_score(y_train, y_train_pred)))\n",
    "print(\"accuracy на тестовом наборе: {:.2f}\".format(model.score(X_test, y_test)))\n",
    "y_test_pred = model.predict(X_test)\n",
    "print('f1_score на тестовом наборе: {:.2f}'.format(metrics.f1_score(y_test, y_test_pred)))"
   ]
  },
  {
   "cell_type": "markdown",
   "metadata": {},
   "source": [
    "### **LogisticRegression**"
   ]
  },
  {
   "cell_type": "code",
   "execution_count": 19,
   "metadata": {},
   "outputs": [],
   "source": [
    "# списки вариантов гиперпараметров\n",
    "penalty = ['none', 'l2']\n",
    "solver = ['lbfgs', 'sag']\n",
    "c_parameter = [0.01,0.02,0.03,0.04,0.05,0.07,0.09,1]\n",
    "# пространство поиска гиперпараметров\n",
    "space={'penalty': hp.choice(label='penalty', \n",
    "                          options=penalty),\n",
    "       'solver' : hp.choice(label='solver', \n",
    "                          options=solver),\n",
    "       'C': hp.choice(label='C', \n",
    "                          options=c_parameter)\n",
    "      }\n",
    "\n",
    "def hyperopt_lr(params, cv=5, X=X_train, y=y_train, random_state=random_state):\n",
    "    # функция получает комбинацию гиперпараметров в \"params\"\n",
    "    params = {'penalty': params['penalty'], \n",
    "              'solver': params['solver'], \n",
    "             'C': params['C']\n",
    "              }\n",
    "  \n",
    "    # используем эту комбинацию для построения модели\n",
    "    model = linear_model.LogisticRegression(**params, random_state = random_state)\n",
    "    # обучаем модель\n",
    "    model.fit(X, y)\n",
    "    # применим  cross validation с тем же количеством фолдов\n",
    "    score = cross_val_score(model, X, y, cv=cv, scoring=\"f1\", n_jobs=-1).mean()\n",
    "    # метрику необходимо минимизировать, поэтому ставим знак минус\n",
    "    return -score"
   ]
  },
  {
   "cell_type": "code",
   "execution_count": 17,
   "metadata": {},
   "outputs": [
    {
     "name": "stdout",
     "output_type": "stream",
     "text": [
      "100%|██████████| 50/50 [04:29<00:00,  5.39s/trial, best loss: -0.7949189441592461]\n",
      "Наилучшие значения гиперпараметров {'C': 1, 'penalty': 1, 'solver': 1}\n",
      "CPU times: total: 2min 32s\n",
      "Wall time: 4min 29s\n"
     ]
    }
   ],
   "source": [
    "%%time\n",
    "# начинаем подбор гиперпараметров\n",
    "trials = Trials() # используется для логирования результатов\n",
    "\n",
    "best=fmin(hyperopt_lr, # наша функция \n",
    "          space=space, # пространство гиперпараметров\n",
    "          algo=tpe.suggest, # алгоритм оптимизации, установлен по умолчанию, задавать необязательно\n",
    "          max_evals=50, # максимальное количество итераций\n",
    "          trials=trials, # логирование результатов\n",
    "          rstate=np.random.default_rng(random_state)# фиксируем для повторяемости результата\n",
    "         )\n",
    "print(\"Наилучшие значения гиперпараметров {}\".format(best))"
   ]
  },
  {
   "cell_type": "code",
   "execution_count": 21,
   "metadata": {},
   "outputs": [
    {
     "name": "stdout",
     "output_type": "stream",
     "text": [
      "f1_score на обучающем наборе: 0.83\n",
      "accuracy на тестовом наборе: 0.75\n",
      "f1_score на тестовом наборе: 0.78\n"
     ]
    }
   ],
   "source": [
    "# рассчитаем точность для тестовой выборки\n",
    "model = linear_model.LogisticRegression(\n",
    "    random_state=random_state, \n",
    "    penalty=penalty[best['penalty']],\n",
    "    solver=solver[best['solver']],\n",
    "    C=c_parameter[best['C']]\n",
    ")\n",
    "model.fit(X_train, y_train)\n",
    "y_train_pred = model.predict(X_train)\n",
    "print('f1_score на обучающем наборе: {:.2f}'.format(metrics.f1_score(y_train, y_train_pred)))\n",
    "print(\"accuracy на тестовом наборе: {:.2f}\".format(model.score(X_test, y_test)))\n",
    "y_test_pred = model.predict(X_test)\n",
    "print('f1_score на тестовом наборе: {:.2f}'.format(metrics.f1_score(y_test, y_test_pred)))"
   ]
  },
  {
   "cell_type": "markdown",
   "metadata": {},
   "source": [
    "***\n",
    "## **OPTUNA**"
   ]
  },
  {
   "cell_type": "markdown",
   "metadata": {},
   "source": [
    "### **RandomForest**"
   ]
  },
  {
   "cell_type": "code",
   "execution_count": 25,
   "metadata": {},
   "outputs": [],
   "source": [
    "def optuna_rf(trial):\n",
    "  # задаем пространства поиска гиперпараметров\n",
    "  n_estimators = trial.suggest_int('n_estimators', 100, 200, 1)\n",
    "  max_depth = trial.suggest_int('max_depth', 10, 30, 1)\n",
    "  min_samples_leaf = trial.suggest_int('min_samples_leaf', 2, 10, 1)\n",
    "\n",
    "  # создаем модель\n",
    "  model = ensemble.RandomForestClassifier(n_estimators=n_estimators,\n",
    "                                          max_depth=max_depth,\n",
    "                                          min_samples_leaf=min_samples_leaf,\n",
    "                                          random_state=random_state)\n",
    "  # обучаем модель\n",
    "  model.fit(X_train, y_train)\n",
    "  score = cross_val_score(model, X, y, cv=5, scoring=\"f1\", n_jobs=-1).mean()\n",
    "\n",
    "  return score"
   ]
  },
  {
   "cell_type": "code",
   "execution_count": 26,
   "metadata": {},
   "outputs": [
    {
     "name": "stderr",
     "output_type": "stream",
     "text": [
      "\u001b[32m[I 2022-10-21 18:48:00,574]\u001b[0m A new study created in memory with name: RandomForestClassifier\u001b[0m\n",
      "\u001b[32m[I 2022-10-21 18:48:06,116]\u001b[0m Trial 0 finished with value: 0.7999901911162558 and parameters: {'n_estimators': 182, 'max_depth': 27, 'min_samples_leaf': 8}. Best is trial 0 with value: 0.7999901911162558.\u001b[0m\n",
      "\u001b[32m[I 2022-10-21 18:48:09,131]\u001b[0m Trial 1 finished with value: 0.7994351206199284 and parameters: {'n_estimators': 100, 'max_depth': 23, 'min_samples_leaf': 8}. Best is trial 0 with value: 0.7999901911162558.\u001b[0m\n",
      "\u001b[32m[I 2022-10-21 18:48:13,043]\u001b[0m Trial 2 finished with value: 0.8012312906737197 and parameters: {'n_estimators': 137, 'max_depth': 23, 'min_samples_leaf': 6}. Best is trial 2 with value: 0.8012312906737197.\u001b[0m\n",
      "\u001b[32m[I 2022-10-21 18:48:16,705]\u001b[0m Trial 3 finished with value: 0.7961819646218362 and parameters: {'n_estimators': 175, 'max_depth': 23, 'min_samples_leaf': 9}. Best is trial 2 with value: 0.8012312906737197.\u001b[0m\n",
      "\u001b[32m[I 2022-10-21 18:48:19,788]\u001b[0m Trial 4 finished with value: 0.8004256063031114 and parameters: {'n_estimators': 138, 'max_depth': 27, 'min_samples_leaf': 8}. Best is trial 2 with value: 0.8012312906737197.\u001b[0m\n",
      "\u001b[32m[I 2022-10-21 18:48:23,424]\u001b[0m Trial 5 finished with value: 0.8064138626763333 and parameters: {'n_estimators': 150, 'max_depth': 17, 'min_samples_leaf': 6}. Best is trial 5 with value: 0.8064138626763333.\u001b[0m\n",
      "\u001b[32m[I 2022-10-21 18:48:28,725]\u001b[0m Trial 6 finished with value: 0.8111589909149973 and parameters: {'n_estimators': 200, 'max_depth': 29, 'min_samples_leaf': 3}. Best is trial 6 with value: 0.8111589909149973.\u001b[0m\n",
      "\u001b[32m[I 2022-10-21 18:48:32,546]\u001b[0m Trial 7 finished with value: 0.7954132932093023 and parameters: {'n_estimators': 183, 'max_depth': 11, 'min_samples_leaf': 9}. Best is trial 6 with value: 0.8111589909149973.\u001b[0m\n",
      "\u001b[32m[I 2022-10-21 18:48:36,711]\u001b[0m Trial 8 finished with value: 0.8068378426117077 and parameters: {'n_estimators': 180, 'max_depth': 13, 'min_samples_leaf': 7}. Best is trial 6 with value: 0.8111589909149973.\u001b[0m\n",
      "\u001b[32m[I 2022-10-21 18:48:40,254]\u001b[0m Trial 9 finished with value: 0.7892748102926197 and parameters: {'n_estimators': 166, 'max_depth': 10, 'min_samples_leaf': 10}. Best is trial 6 with value: 0.8111589909149973.\u001b[0m\n",
      "\u001b[32m[I 2022-10-21 18:48:46,430]\u001b[0m Trial 10 finished with value: 0.8163111148129195 and parameters: {'n_estimators': 198, 'max_depth': 30, 'min_samples_leaf': 2}. Best is trial 10 with value: 0.8163111148129195.\u001b[0m\n",
      "\u001b[32m[I 2022-10-21 18:48:52,437]\u001b[0m Trial 11 finished with value: 0.8149257029862481 and parameters: {'n_estimators': 200, 'max_depth': 30, 'min_samples_leaf': 2}. Best is trial 10 with value: 0.8163111148129195.\u001b[0m\n",
      "\u001b[32m[I 2022-10-21 18:48:58,189]\u001b[0m Trial 12 finished with value: 0.8149257029862481 and parameters: {'n_estimators': 200, 'max_depth': 30, 'min_samples_leaf': 2}. Best is trial 10 with value: 0.8163111148129195.\u001b[0m\n",
      "\u001b[32m[I 2022-10-21 18:49:03,180]\u001b[0m Trial 13 finished with value: 0.8082686613647612 and parameters: {'n_estimators': 200, 'max_depth': 26, 'min_samples_leaf': 4}. Best is trial 10 with value: 0.8163111148129195.\u001b[0m\n",
      "\u001b[32m[I 2022-10-21 18:49:07,252]\u001b[0m Trial 14 finished with value: 0.8106108259216731 and parameters: {'n_estimators': 162, 'max_depth': 18, 'min_samples_leaf': 4}. Best is trial 10 with value: 0.8163111148129195.\u001b[0m\n",
      "\u001b[32m[I 2022-10-21 18:49:10,627]\u001b[0m Trial 15 finished with value: 0.8160869011058256 and parameters: {'n_estimators': 111, 'max_depth': 30, 'min_samples_leaf': 2}. Best is trial 10 with value: 0.8163111148129195.\u001b[0m\n",
      "\u001b[32m[I 2022-10-21 18:49:13,616]\u001b[0m Trial 16 finished with value: 0.8097348813790296 and parameters: {'n_estimators': 103, 'max_depth': 25, 'min_samples_leaf': 4}. Best is trial 10 with value: 0.8163111148129195.\u001b[0m\n",
      "\u001b[32m[I 2022-10-21 18:49:16,902]\u001b[0m Trial 17 finished with value: 0.8109570214488022 and parameters: {'n_estimators': 117, 'max_depth': 20, 'min_samples_leaf': 3}. Best is trial 10 with value: 0.8163111148129195.\u001b[0m\n",
      "\u001b[32m[I 2022-10-21 18:49:20,018]\u001b[0m Trial 18 finished with value: 0.8053451040327081 and parameters: {'n_estimators': 122, 'max_depth': 28, 'min_samples_leaf': 5}. Best is trial 10 with value: 0.8163111148129195.\u001b[0m\n",
      "\u001b[32m[I 2022-10-21 18:49:23,672]\u001b[0m Trial 19 finished with value: 0.8107184819671183 and parameters: {'n_estimators': 121, 'max_depth': 24, 'min_samples_leaf': 2}. Best is trial 10 with value: 0.8163111148129195.\u001b[0m\n"
     ]
    },
    {
     "name": "stdout",
     "output_type": "stream",
     "text": [
      "CPU times: total: 33.9 s\n",
      "Wall time: 1min 23s\n"
     ]
    }
   ],
   "source": [
    "%%time\n",
    "# cоздаем объект исследования\n",
    "# можем напрямую указать, что нам необходимо максимизировать метрику direction=\"maximize\"\n",
    "study = optuna.create_study(study_name=\"RandomForestClassifier\", direction=\"maximize\")\n",
    "# ищем лучшую комбинацию гиперпараметров n_trials раз\n",
    "study.optimize(optuna_rf, n_trials=20)"
   ]
  },
  {
   "cell_type": "code",
   "execution_count": 27,
   "metadata": {},
   "outputs": [
    {
     "name": "stdout",
     "output_type": "stream",
     "text": [
      "accuracy на тестовом наборе: 0.78\n",
      "f1_score на тестовом наборе: 0.80\n"
     ]
    }
   ],
   "source": [
    "# рассчитаем точность для тестовой выборки\n",
    "model = ensemble.RandomForestClassifier(**study.best_params,random_state=random_state, )\n",
    "model.fit(X_train, y_train)\n",
    "y_train_pred = model.predict(X_train)\n",
    "print(\"accuracy на тестовом наборе: {:.2f}\".format(model.score(X_test, y_test)))\n",
    "y_test_pred = model.predict(X_test)\n",
    "print('f1_score на тестовом наборе: {:.2f}'.format(metrics.f1_score(y_test, y_test_pred)))"
   ]
  },
  {
   "cell_type": "markdown",
   "metadata": {},
   "source": [
    "### **LogisticRegression**"
   ]
  },
  {
   "cell_type": "code",
   "execution_count": 30,
   "metadata": {},
   "outputs": [],
   "source": [
    "def optuna_rf(trial):\n",
    "  # задаем пространства поиска гиперпараметров\n",
    "  penalty = trial.suggest_categorical('penalty', ['none', 'l2'])\n",
    "  solver = trial.suggest_categorical('solver', ['lbfgs', 'sag'])\n",
    "  C = trial.suggest_categorical('C', [0.01,0.02,0.03,0.04,0.05,0.07,0.09,1])\n",
    "\n",
    "  # создаем модель\n",
    "  model = linear_model.LogisticRegression(penalty=penalty,\n",
    "                                          solver=solver,\n",
    "                                          C=C,\n",
    "                                          random_state=random_state)\n",
    "  # обучаем модель\n",
    "  model.fit(X_train, y_train)\n",
    "  score = cross_val_score(model, X, y, cv=5, scoring=\"f1\", n_jobs=-1).mean()\n",
    "\n",
    "  return score"
   ]
  },
  {
   "cell_type": "code",
   "execution_count": 31,
   "metadata": {},
   "outputs": [
    {
     "name": "stderr",
     "output_type": "stream",
     "text": [
      "\u001b[32m[I 2022-10-21 18:53:33,030]\u001b[0m A new study created in memory with name: RandomForestClassifier\u001b[0m\n",
      "\u001b[32m[I 2022-10-21 18:53:35,111]\u001b[0m Trial 0 finished with value: 0.7583522396374635 and parameters: {'penalty': 'none', 'solver': 'lbfgs', 'C': 0.04}. Best is trial 0 with value: 0.7583522396374635.\u001b[0m\n",
      "\u001b[32m[I 2022-10-21 18:53:42,724]\u001b[0m Trial 1 finished with value: 0.7875297817964981 and parameters: {'penalty': 'l2', 'solver': 'sag', 'C': 0.09}. Best is trial 1 with value: 0.7875297817964981.\u001b[0m\n",
      "\u001b[32m[I 2022-10-21 18:53:44,751]\u001b[0m Trial 2 finished with value: 0.7730004663001555 and parameters: {'penalty': 'l2', 'solver': 'lbfgs', 'C': 1}. Best is trial 1 with value: 0.7875297817964981.\u001b[0m\n",
      "\u001b[32m[I 2022-10-21 18:53:52,487]\u001b[0m Trial 3 finished with value: 0.7897124883823335 and parameters: {'penalty': 'l2', 'solver': 'sag', 'C': 0.04}. Best is trial 3 with value: 0.7897124883823335.\u001b[0m\n",
      "\u001b[32m[I 2022-10-21 18:54:00,018]\u001b[0m Trial 4 finished with value: 0.7708390231147334 and parameters: {'penalty': 'none', 'solver': 'sag', 'C': 0.04}. Best is trial 3 with value: 0.7897124883823335.\u001b[0m\n",
      "\u001b[32m[I 2022-10-21 18:54:07,649]\u001b[0m Trial 5 finished with value: 0.7708390231147334 and parameters: {'penalty': 'none', 'solver': 'sag', 'C': 0.02}. Best is trial 3 with value: 0.7897124883823335.\u001b[0m\n",
      "\u001b[32m[I 2022-10-21 18:54:15,126]\u001b[0m Trial 6 finished with value: 0.7708390231147334 and parameters: {'penalty': 'none', 'solver': 'sag', 'C': 0.02}. Best is trial 3 with value: 0.7897124883823335.\u001b[0m\n",
      "\u001b[32m[I 2022-10-21 18:54:16,787]\u001b[0m Trial 7 finished with value: 0.7897018785888601 and parameters: {'penalty': 'l2', 'solver': 'lbfgs', 'C': 0.02}. Best is trial 3 with value: 0.7897124883823335.\u001b[0m\n",
      "\u001b[32m[I 2022-10-21 18:54:24,470]\u001b[0m Trial 8 finished with value: 0.7866656523078135 and parameters: {'penalty': 'l2', 'solver': 'sag', 'C': 0.05}. Best is trial 3 with value: 0.7897124883823335.\u001b[0m\n",
      "\u001b[32m[I 2022-10-21 18:54:32,232]\u001b[0m Trial 9 finished with value: 0.7708390231147334 and parameters: {'penalty': 'none', 'solver': 'sag', 'C': 0.01}. Best is trial 3 with value: 0.7897124883823335.\u001b[0m\n",
      "\u001b[32m[I 2022-10-21 18:54:34,231]\u001b[0m Trial 10 finished with value: 0.7912637283034278 and parameters: {'penalty': 'l2', 'solver': 'lbfgs', 'C': 0.03}. Best is trial 10 with value: 0.7912637283034278.\u001b[0m\n",
      "\u001b[32m[I 2022-10-21 18:54:36,166]\u001b[0m Trial 11 finished with value: 0.7912637283034278 and parameters: {'penalty': 'l2', 'solver': 'lbfgs', 'C': 0.03}. Best is trial 10 with value: 0.7912637283034278.\u001b[0m\n",
      "\u001b[32m[I 2022-10-21 18:54:38,068]\u001b[0m Trial 12 finished with value: 0.7912637283034278 and parameters: {'penalty': 'l2', 'solver': 'lbfgs', 'C': 0.03}. Best is trial 10 with value: 0.7912637283034278.\u001b[0m\n",
      "\u001b[32m[I 2022-10-21 18:54:40,072]\u001b[0m Trial 13 finished with value: 0.7912637283034278 and parameters: {'penalty': 'l2', 'solver': 'lbfgs', 'C': 0.03}. Best is trial 10 with value: 0.7912637283034278.\u001b[0m\n",
      "\u001b[32m[I 2022-10-21 18:54:41,954]\u001b[0m Trial 14 finished with value: 0.7912637283034278 and parameters: {'penalty': 'l2', 'solver': 'lbfgs', 'C': 0.03}. Best is trial 10 with value: 0.7912637283034278.\u001b[0m\n",
      "\u001b[32m[I 2022-10-21 18:54:43,866]\u001b[0m Trial 15 finished with value: 0.7879183580176603 and parameters: {'penalty': 'l2', 'solver': 'lbfgs', 'C': 0.07}. Best is trial 10 with value: 0.7912637283034278.\u001b[0m\n",
      "\u001b[32m[I 2022-10-21 18:54:45,767]\u001b[0m Trial 16 finished with value: 0.7912637283034278 and parameters: {'penalty': 'l2', 'solver': 'lbfgs', 'C': 0.03}. Best is trial 10 with value: 0.7912637283034278.\u001b[0m\n",
      "\u001b[32m[I 2022-10-21 18:54:47,669]\u001b[0m Trial 17 finished with value: 0.7912637283034278 and parameters: {'penalty': 'l2', 'solver': 'lbfgs', 'C': 0.03}. Best is trial 10 with value: 0.7912637283034278.\u001b[0m\n",
      "\u001b[32m[I 2022-10-21 18:54:49,696]\u001b[0m Trial 18 finished with value: 0.7868820500607108 and parameters: {'penalty': 'l2', 'solver': 'lbfgs', 'C': 0.09}. Best is trial 10 with value: 0.7912637283034278.\u001b[0m\n",
      "\u001b[32m[I 2022-10-21 18:54:51,595]\u001b[0m Trial 19 finished with value: 0.7730004663001555 and parameters: {'penalty': 'l2', 'solver': 'lbfgs', 'C': 1}. Best is trial 10 with value: 0.7912637283034278.\u001b[0m\n"
     ]
    },
    {
     "name": "stdout",
     "output_type": "stream",
     "text": [
      "CPU times: total: 54.3 s\n",
      "Wall time: 1min 18s\n"
     ]
    }
   ],
   "source": [
    "%%time\n",
    "# cоздаем объект исследования\n",
    "# можем напрямую указать, что нам необходимо максимизировать метрику direction=\"maximize\"\n",
    "study = optuna.create_study(study_name=\"LogisticRegression\", direction=\"maximize\")\n",
    "# ищем лучшую комбинацию гиперпараметров n_trials раз\n",
    "study.optimize(optuna_rf, n_trials=20)"
   ]
  },
  {
   "cell_type": "code",
   "execution_count": 33,
   "metadata": {},
   "outputs": [
    {
     "name": "stdout",
     "output_type": "stream",
     "text": [
      "accuracy на тестовом наборе: 0.76\n",
      "f1_score на тестовом наборе: 0.79\n"
     ]
    }
   ],
   "source": [
    "# рассчитаем точность для тестовой выборки\n",
    "model = linear_model.LogisticRegression(**study.best_params,random_state=random_state)\n",
    "model.fit(X_train, y_train)\n",
    "y_train_pred = model.predict(X_train)\n",
    "print(\"accuracy на тестовом наборе: {:.2f}\".format(model.score(X_test, y_test)))\n",
    "y_test_pred = model.predict(X_test)\n",
    "print('f1_score на тестовом наборе: {:.2f}'.format(metrics.f1_score(y_test, y_test_pred)))"
   ]
  }
 ],
 "metadata": {
  "kernelspec": {
   "display_name": "Python 3.10.8 64-bit",
   "language": "python",
   "name": "python3"
  },
  "language_info": {
   "codemirror_mode": {
    "name": "ipython",
    "version": 3
   },
   "file_extension": ".py",
   "mimetype": "text/x-python",
   "name": "python",
   "nbconvert_exporter": "python",
   "pygments_lexer": "ipython3",
   "version": "3.10.8"
  },
  "orig_nbformat": 4,
  "vscode": {
   "interpreter": {
    "hash": "c68eacbc5a3a550d9b1f68bf11bf31e2b39ed4b9985227d4d8c7ee1d286013f5"
   }
  }
 },
 "nbformat": 4,
 "nbformat_minor": 2
}
