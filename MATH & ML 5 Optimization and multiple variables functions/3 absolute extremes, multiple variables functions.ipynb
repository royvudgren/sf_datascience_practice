{
 "cells": [
  {
   "attachments": {},
   "cell_type": "markdown",
   "metadata": {},
   "source": [
    "# **Безусловные экстремумы. Функции нескольких переменных**"
   ]
  },
  {
   "attachments": {},
   "cell_type": "markdown",
   "metadata": {},
   "source": [
    "✍ Теперь, когда мы научились находить частные производные, можно перейти к поиску экстремумов (то есть минимумов и максимумов) для функций нескольких переменных.\n",
    "\n",
    "Как мы помним из предыдущего модуля, нахождение экстремумов даёт возможность минимизировать функцию, так как в реальных задачах функционал ошибки может быть довольно сложным. Например, он может предстать в таком виде:\n",
    "\n",
    "![](https://lms.skillfactory.ru/assets/courseware/v1/267ddb27f442169cd423a76033b7bb10/asset-v1:SkillFactory+DSPR-2.0+14JULY2021+type@asset+block/MATHML_md5_3_1.png)\n",
    "\n",
    "Нам важно найти самую низкую точку (т. е. наименьшее значение функции), чтобы понять, при каких параметрах ошибка будет минимальной, а значит качество модели будет максимально возможным.\n",
    "\n",
    "Так же, как и у функции одной переменной, у функции нескольких переменных могут быть локальные и глобальные минимумы и максимумы:\n",
    "\n",
    "![](https://lms.skillfactory.ru/assets/courseware/v1/a0ee522dd9986580a580d451aea28ae3/asset-v1:SkillFactory+DSPR-2.0+14JULY2021+type@asset+block/MATHML_md5_3_2.png)\n",
    "\n"
   ]
  },
  {
   "cell_type": "code",
   "execution_count": 12,
   "metadata": {},
   "outputs": [
    {
     "data": {
      "text/latex": [
       "$\\displaystyle \\left\\{-2, 1\\right\\}$"
      ],
      "text/plain": [
       "{-2, 1}"
      ]
     },
     "execution_count": 12,
     "metadata": {},
     "output_type": "execute_result"
    }
   ],
   "source": [
    "from sympy import Symbol, symbols, S, solveset, Eq, diff, limit, oo, sin, ln, simplify, exp\n",
    "from sympy.calculus.util import function_range, continuous_domain\n",
    "\n",
    "x = Symbol(\"x\") \n",
    "f = -2*(x**3)-3*(x**2)+12*x-4\n",
    "f_diff = f.diff(x)\n",
    "solveset(Eq(f_diff, 0), x)"
   ]
  },
  {
   "cell_type": "code",
   "execution_count": 6,
   "metadata": {},
   "outputs": [
    {
     "data": {
      "text/latex": [
       "$\\displaystyle -24$"
      ],
      "text/plain": [
       "-24"
      ]
     },
     "execution_count": 6,
     "metadata": {},
     "output_type": "execute_result"
    }
   ],
   "source": [
    "f_diff.subs(x, -3)"
   ]
  },
  {
   "cell_type": "code",
   "execution_count": 7,
   "metadata": {},
   "outputs": [
    {
     "data": {
      "text/latex": [
       "$\\displaystyle 12$"
      ],
      "text/plain": [
       "12"
      ]
     },
     "execution_count": 7,
     "metadata": {},
     "output_type": "execute_result"
    }
   ],
   "source": [
    "f_diff.subs(x, 0)"
   ]
  },
  {
   "cell_type": "code",
   "execution_count": 8,
   "metadata": {},
   "outputs": [
    {
     "data": {
      "text/latex": [
       "$\\displaystyle -24$"
      ],
      "text/plain": [
       "-24"
      ]
     },
     "execution_count": 8,
     "metadata": {},
     "output_type": "execute_result"
    }
   ],
   "source": [
    "f_diff.subs(x, 2)"
   ]
  },
  {
   "attachments": {},
   "cell_type": "markdown",
   "metadata": {},
   "source": [
    "Рассмотрим алгоритм поиска минимумов и максимумов для функции нескольких переменных\n",
    "\n",
    "![](data/11.PNG)\n",
    "\n",
    "1. **На первом этапе необходимо найти частные производные этой функции:**\n",
    "\n",
    "![](data/12.PNG)\n",
    "\n",
    "2. **На втором этапе мы находим точки, в которых эти производные принимают нулевые значения:**\n",
    "\n",
    "![](data/13.PNG)\n",
    "\n",
    "Итак, мы получили точку (5;6) — это стационарная точка.\n",
    "\n",
    "В этой точке может быть **максимум**,\n",
    "\n",
    "![](https://lms.skillfactory.ru/assets/courseware/v1/b06738e86b19b36302a2db6e8499ea60/asset-v1:SkillFactory+DSPR-2.0+14JULY2021+type@asset+block/MATHML_md5_3_3.png)\n",
    "\n",
    "**минимум**\n",
    "\n",
    "![](https://lms.skillfactory.ru/assets/courseware/v1/ea8bcb2d9d24c6e17f90e38a1ef1c345/asset-v1:SkillFactory+DSPR-2.0+14JULY2021+type@asset+block/MATHML_md5_3_4.png)\n",
    "\n",
    "или **седловая точка**, в которой производная меняет знак, но которая не является экстремумом:\n",
    "\n",
    "![](https://lms.skillfactory.ru/assets/courseware/v1/04497fcd3a1391413082f00e210b9bee/asset-v1:SkillFactory+DSPR-2.0+14JULY2021+type@asset+block/MATHML_md5_3_5.png)\n",
    "\n",
    "3. **Наконец, переходим к третьему шагу — определению того, чем будет являться стационарная точка.**\n",
    "\n",
    "В одномерном случае нам удалось обойтись только первой производной для определения характера точек экстремума. Для функции двух переменных этого недостаточно — нам понадобится новый инструмент, **матрица Гессе**. Помимо оптимизации, она пригодится для определения характера выпуклости функции многих переменных.\n",
    "***\n",
    "* **Матрица Гессе** — это матрица вторых частных производных.\n",
    "***\n",
    "\n",
    "Матрица Гессе для функции двух переменных выглядит так:\n",
    "\n",
    "![](https://lms.skillfactory.ru/assets/courseware/v1/2e04e33673463b6784b339c6c0d209ca/asset-v1:SkillFactory+DSPR-2.0+14JULY2021+type@asset+block/MATHML_md5_3_6.png)\n",
    "\n",
    "Интересно, что, несмотря на большую важность матрицы Гессе как промежуточного итога в решениях задачи оптимизации, есть и отдельные области, где она применяется как самостоятельный инструмент. Например, она используется в финансовых вычислениях (в риск-менеджменте и для управления портфелями): c её помощью оценивают, насколько опцион подвержен риску. В вычислительной химии матрица Гессе используется для расчётов переходных состояний в химических реакциях.\n",
    "\n",
    "Рассмотрим пример составления матрицы Гессе для нашей функции:\n",
    "\n",
    "![](data/15.PNG)\n",
    "\n",
    "Теперь нам необходимо вспомнить линейную алгебру, так как критерии для максимума и минимума следующие:\n",
    "\n",
    "* Если матрица Гессе **положительно определена** в этой точке, то в ней находится **минимум**.\n",
    "* Если матрица Гессе **отрицательно определена** в этой точке, то в ней находится **строгий максимум**.\n",
    "* В иных случаях точка является седловой.\n",
    "***\n",
    "* Напомним, что для того, чтобы матрица была **положительно определённой**, необходимо, чтобы все её угловые миноры либо **все собственные значения были положительными**. А для того, чтобы матрица была **отрицательно определённой**, необходимо, чтобы знаки угловых миноров чередовались, начиная с отрицательного, либо чтобы **все собственные значения были отрицательными**.\n",
    "***\n",
    "В нашем случае знак первого углового минора положителен (его значение равно 2), как и знак второго углового минора (его значение равно 4). Оба собственных значения также положительны (оба равны 2). Это значит, что в данной точке находится минимум."
   ]
  },
  {
   "cell_type": "code",
   "execution_count": 18,
   "metadata": {},
   "outputs": [
    {
     "data": {
      "text/latex": [
       "$\\displaystyle e^{x}$"
      ],
      "text/plain": [
       "exp(x)"
      ]
     },
     "execution_count": 18,
     "metadata": {},
     "output_type": "execute_result"
    }
   ],
   "source": [
    "# Найдите матрицу Гессе для функции\n",
    "\n",
    "x, y = symbols('x y') \n",
    "f = exp(x)+5*(y**3)*x\n",
    "f_diff_xx = f.diff(x,2)\n",
    "f_diff_xy = f.diff(x,y)\n",
    "f_diff_yx = f.diff(y,x)\n",
    "f_diff_yy = f.diff(y,2)\n",
    "f_diff_xx"
   ]
  },
  {
   "attachments": {},
   "cell_type": "markdown",
   "metadata": {},
   "source": [
    "Пример № 1\n",
    "\n",
    "![](data/16.PNG)\n",
    "\n",
    "![](data/17.PNG)\n",
    "\n",
    "![](data/18.PNG)\n",
    "\n",
    "![](data/19.PNG)\n",
    "\n",
    "\n",
    "Теперь можно, к примеру, выразить x из второй строки через y (или наоборот) и подставить результат в первую либо воспользоваться библиотекой SymPy для решения уравнений:"
   ]
  },
  {
   "cell_type": "code",
   "execution_count": 20,
   "metadata": {},
   "outputs": [
    {
     "data": {
      "text/plain": [
       "[(-2, -1), (-1, -2), (1, 2), (2, 1)]"
      ]
     },
     "execution_count": 20,
     "metadata": {},
     "output_type": "execute_result"
    }
   ],
   "source": [
    "from sympy import *\n",
    " \n",
    "x, y = symbols('x, y')\n",
    "eq1 = Eq(3*x**2+3*y**2-15,0)\n",
    "eq2 = Eq(6*x*y-12, 0)\n",
    " \n",
    "sol = solve([eq1, eq2], [x, y])\n",
    "sol"
   ]
  },
  {
   "attachments": {},
   "cell_type": "markdown",
   "metadata": {},
   "source": [
    "В итоге получим четыре стационарные точки — . Для нас это нечто новое. Составим матрицу Гессе в общем виде, а затем будем подставлять каждую точку и определять, чем она является.\n",
    "\n",
    "![](data/20.PNG)"
   ]
  },
  {
   "cell_type": "code",
   "execution_count": 24,
   "metadata": {},
   "outputs": [
    {
     "name": "stdout",
     "output_type": "stream",
     "text": [
      "Собственные числа: \n",
      " [  6. -18.]\n"
     ]
    }
   ],
   "source": [
    "import numpy as np\n",
    "\n",
    "# создаем матрицу А\n",
    "A = np.array([\n",
    "    [-6, -12],\n",
    "    [-12, -6]\n",
    "])\n",
    "# вычисляем собственные числа и собственные векторы\n",
    "eig_values, eig_vectors = np.linalg.eig(A)\n",
    "print('Собственные числа: \\n', eig_values)"
   ]
  },
  {
   "attachments": {},
   "cell_type": "markdown",
   "metadata": {},
   "source": [
    "Итак, мы научились решать задачу поиска безусловного экстремума функции нескольких переменных. Теперь вы сможете исследовать абсолютно любую функцию на максимумы и минимумы.\n",
    "***\n",
    "Также иногда мы можем определить, что минимум или максимум являются глобальными. Для этого необходимо помнить следующее:\n",
    "\n",
    "* Если других экстремумов нет, то экстремум глобальный.\n",
    "* Если Ef уходит в +oo, глобального максимума не будет.\n",
    "* Если Ef уходит в -oo, глобального минимума не будет.\n",
    "* У выпуклых функций локальный экстремум является глобальным."
   ]
  },
  {
   "attachments": {},
   "cell_type": "markdown",
   "metadata": {},
   "source": [
    "***\n",
    "### **ЗАДАЧИ**"
   ]
  },
  {
   "cell_type": "code",
   "execution_count": 35,
   "metadata": {},
   "outputs": [
    {
     "name": "stdout",
     "output_type": "stream",
     "text": [
      "8*x - 6*y - 34\n",
      "-6*x + 10*y + 42\n",
      "{x: 2, y: -3}\n",
      "Собственные числа: \n",
      " [ 2.91723747 15.08276253]\n"
     ]
    }
   ],
   "source": [
    "# Найдите экстремумы функции \n",
    "from sympy import *\n",
    "import numpy as np\n",
    "x, y = symbols('x, y')\n",
    "z = 4*(x**2)-6*x*y-34*x+5*(y**2)+42*y+7\n",
    "# Находим частные производные\n",
    "f_diff_x = z.diff(x)\n",
    "f_diff_y = z.diff(y)\n",
    "print(f_diff_x)\n",
    "print(f_diff_y)\n",
    "sol = solve([f_diff_x, f_diff_y], [x, y])\n",
    "print(sol)\n",
    "f_diff_xx = z.diff(x,2)\n",
    "f_diff_xy = z.diff(x,y)\n",
    "f_diff_yx = z.diff(y,x)\n",
    "f_diff_yy = z.diff(y,2)\n",
    "# создаем матрицу А\n",
    "A = np.array([\n",
    "    [f_diff_xx, f_diff_xy],\n",
    "    [f_diff_yx, f_diff_yy]\n",
    "]).astype(np.float64)\n",
    "A\n",
    "# вычисляем собственные числа и собственные векторы\n",
    "eig_values, eig_vectors = np.linalg.eig(A)\n",
    "print('Собственные числа: \\n', eig_values)"
   ]
  },
  {
   "cell_type": "code",
   "execution_count": 50,
   "metadata": {},
   "outputs": [
    {
     "name": "stdout",
     "output_type": "stream",
     "text": [
      "Определитель матрицы Гессе: \n",
      " -2884.0000000000014\n"
     ]
    }
   ],
   "source": [
    "# Вычислите матрицу Гессе для функции в точке (1,2) и найдите её определитель\n",
    "\n",
    "x, y = symbols('x, y')\n",
    "z = x**3-2*x*y-y**6\n",
    "\n",
    "f_diff_xx = z.diff(x,2).subs([(x,1),(y,2)])\n",
    "f_diff_xy = z.diff(x,y).subs([(x,1),(y,2)])\n",
    "f_diff_yx = z.diff(y,x).subs([(x,1),(y,2)])\n",
    "f_diff_yy = z.diff(y,2).subs([(x,1),(y,2)])\n",
    "# создаем матрицу А\n",
    "hesse = np.array([\n",
    "    [f_diff_xx, f_diff_xy],\n",
    "    [f_diff_yx, f_diff_yy]\n",
    "]).astype(np.float64)\n",
    "print('Определитель матрицы Гессе: \\n', np.linalg.det(hesse))"
   ]
  },
  {
   "cell_type": "code",
   "execution_count": 54,
   "metadata": {},
   "outputs": [
    {
     "name": "stdout",
     "output_type": "stream",
     "text": [
      "3*x**2 - 3*y\n",
      "-3*x + 3*y**2\n",
      "[(0, 0), (1, 1)]\n",
      "Собственные числа: \n",
      " [9. 3.]\n",
      "Собственные числа: \n",
      " [ 3. -3.]\n"
     ]
    }
   ],
   "source": [
    "# Найдите экстремумы функции \n",
    "\n",
    "x, y = symbols('x, y', real=True)\n",
    "z = x**3+y**3-3*x*y\n",
    "# Находим частные производные\n",
    "f_diff_x = z.diff(x)\n",
    "f_diff_y = z.diff(y)\n",
    "print(f_diff_x)\n",
    "print(f_diff_y)\n",
    "sol = solve([f_diff_x, f_diff_y], [x, y])\n",
    "print(sol)\n",
    "# для первой точки\n",
    "f_diff_xx = z.diff(x,2).subs([(x,1),(y,1)])\n",
    "f_diff_xy = z.diff(x,y).subs([(x,1),(y,1)])\n",
    "f_diff_yx = z.diff(y,x).subs([(x,1),(y,1)])\n",
    "f_diff_yy = z.diff(y,2).subs([(x,1),(y,1)])\n",
    "# создаем матрицу А\n",
    "A = np.array([\n",
    "    [f_diff_xx, f_diff_xy],\n",
    "    [f_diff_yx, f_diff_yy]\n",
    "]).astype(np.float64)\n",
    "A\n",
    "# вычисляем собственные числа и собственные векторы\n",
    "eig_values, eig_vectors = np.linalg.eig(A)\n",
    "print('Собственные числа: \\n', eig_values)\n",
    "\n",
    "# для второй точки\n",
    "f_diff_xx = z.diff(x,2).subs([(x,0),(y,0)])\n",
    "f_diff_xy = z.diff(x,y).subs([(x,0),(y,0)])\n",
    "f_diff_yx = z.diff(y,x).subs([(x,0),(y,0)])\n",
    "f_diff_yy = z.diff(y,2).subs([(x,0),(y,0)])\n",
    "# создаем матрицу А\n",
    "A = np.array([\n",
    "    [f_diff_xx, f_diff_xy],\n",
    "    [f_diff_yx, f_diff_yy]\n",
    "]).astype(np.float64)\n",
    "A\n",
    "# вычисляем собственные числа и собственные векторы\n",
    "eig_values, eig_vectors = np.linalg.eig(A)\n",
    "print('Собственные числа: \\n', eig_values)"
   ]
  }
 ],
 "metadata": {
  "kernelspec": {
   "display_name": "Python 3",
   "language": "python",
   "name": "python3"
  },
  "language_info": {
   "codemirror_mode": {
    "name": "ipython",
    "version": 3
   },
   "file_extension": ".py",
   "mimetype": "text/x-python",
   "name": "python",
   "nbconvert_exporter": "python",
   "pygments_lexer": "ipython3",
   "version": "3.10.8 (tags/v3.10.8:aaaf517, Oct 11 2022, 16:50:30) [MSC v.1933 64 bit (AMD64)]"
  },
  "orig_nbformat": 4,
  "vscode": {
   "interpreter": {
    "hash": "c68eacbc5a3a550d9b1f68bf11bf31e2b39ed4b9985227d4d8c7ee1d286013f5"
   }
  }
 },
 "nbformat": 4,
 "nbformat_minor": 2
}
