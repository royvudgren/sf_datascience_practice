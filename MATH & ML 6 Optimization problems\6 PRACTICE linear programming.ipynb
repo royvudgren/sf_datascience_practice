{
  "nbformat": 4,
  "nbformat_minor": 0,
  "metadata": {
    "colab": {
      "provenance": [],
      "toc_visible": true,
      "authorship_tag": "ABX9TyNQ8MOTT6KdHubmq4FnvTFb"
    },
    "kernelspec": {
      "name": "python3",
      "display_name": "Python 3"
    },
    "language_info": {
      "name": "python"
    }
  },
  "cells": [
    {
      "cell_type": "code",
      "source": [
        "import numpy as np\n",
        "from scipy import *\n",
        "import cvxpy"
      ],
      "metadata": {
        "id": "cch50weezBXm"
      },
      "execution_count": 2,
      "outputs": []
    },
    {
      "cell_type": "code",
      "source": [
        "# Создадим переменные на основе предложенных данных:\n",
        "\n",
        "values = [4, 2, 1, 7, 3, 6] #стоимости товаров\n",
        "weights = [5, 9, 8, 2, 6, 5] #вес товаров\n",
        "C = 15 #вместимость сумки\n",
        "n = 6 #количество товаров\n",
        "\n",
        "c = - np.array(values) #изменяем знак, чтобы перейти от задачи максимизации к задаче минимизации\n",
        "A = np.array(weights)  #конвертируем список с весами в массив\n",
        "A = np.expand_dims(A, 0) #преобразуем размерность массива\n",
        "b = np.array([C]) #конвертируем вместимость в массив\n",
        "\n",
        "# Передаём подготовленные переменные в оптимизатор SciPy:\n",
        "from scipy.optimize import linprog\n",
        "linprog(c=c, A_ub=A, b_ub=b)"
      ],
      "metadata": {
        "colab": {
          "base_uri": "https://localhost:8080/"
        },
        "id": "eNzFV4-XzDCz",
        "outputId": "09f5b84a-b573-4176-9cba-0314dded74f7"
      },
      "execution_count": 3,
      "outputs": [
        {
          "output_type": "execute_result",
          "data": {
            "text/plain": [
              "     con: array([], dtype=float64)\n",
              "     fun: -52.50000000003075\n",
              " message: 'Optimization terminated successfully.'\n",
              "     nit: 5\n",
              "   slack: array([-2.24904539e-11])\n",
              "  status: 0\n",
              " success: True\n",
              "       x: array([6.18738537e-14, 1.05853307e-12, 1.21475944e-13, 7.50000000e+00,\n",
              "       4.00246695e-13, 4.71394166e-13])"
            ]
          },
          "metadata": {},
          "execution_count": 3
        }
      ]
    },
    {
      "cell_type": "code",
      "execution_count": 4,
      "metadata": {
        "colab": {
          "base_uri": "https://localhost:8080/"
        },
        "id": "KgQZ-ZLjyoD7",
        "outputId": "52390711-f447-4bd2-9f8a-0f7d32d993fd"
      },
      "outputs": [
        {
          "output_type": "stream",
          "name": "stderr",
          "text": [
            "/usr/local/lib/python3.8/dist-packages/cvxpy/expressions/expression.py:593: UserWarning: \n",
            "This use of ``*`` has resulted in matrix multiplication.\n",
            "Using ``*`` for matrix multiplication has been deprecated since CVXPY 1.1.\n",
            "    Use ``*`` for matrix-scalar and vector-scalar multiplication.\n",
            "    Use ``@`` for matrix-matrix and matrix-vector multiplication.\n",
            "    Use ``multiply`` for elementwise multiplication.\n",
            "This code path has been hit 1 times so far.\n",
            "\n",
            "  warnings.warn(msg, UserWarning)\n"
          ]
        },
        {
          "output_type": "execute_result",
          "data": {
            "text/plain": [
              "-inf"
            ]
          },
          "metadata": {},
          "execution_count": 4
        }
      ],
      "source": [
        "x = cvxpy.Variable(shape=n, integer = True)\n",
        "\n",
        "# Далее зададим ограничения, используя матричное умножение:\n",
        "constraint = (A @ x <= b)\n",
        "total_value = c * x\n",
        "\n",
        "# Переходим непосредственно к решению задачи:\n",
        "problem = cvxpy.Problem(cvxpy.Minimize(total_value), constraints=[constraint])\n",
        "\n",
        "# Вызываем получившееся решение:\n",
        "problem.solve()"
      ]
    }
  ]
}