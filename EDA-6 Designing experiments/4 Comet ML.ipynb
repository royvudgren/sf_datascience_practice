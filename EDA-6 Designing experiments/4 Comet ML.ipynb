{
 "cells": [
  {
   "cell_type": "markdown",
   "metadata": {},
   "source": [
    "# **Знакомство с Comet.ml**"
   ]
  },
  {
   "cell_type": "markdown",
   "metadata": {},
   "source": [
    "**Comet.ml** — это онлайн-платформа, позволяющая отслеживать эксперименты. Основное преимущество Comet состоит в том, что с её помощью можно легко построить панель отчётности и систему мониторинга.\n",
    "\n",
    "![](https://lms.skillfactory.ru/assets/courseware/v1/4848d01bf39cb9547d66ce74de9691c9/asset-v1:SkillFactory+DSPR-2.0+14JULY2021+type@asset+block/dst-eda-6-15.png)\n",
    "\n",
    "Comet предоставляет следующие возможности:\n",
    "\n",
    "* сравнивать эксперименты с точки зрения метрик, параметров и так далее;\n",
    "* следить за моделью от создания до вывода в продакшен;\n",
    "* делиться своим проектом с другими людьми, которые в режиме реального времени будут следить за результатами;\n",
    "* строить отчёты исходя из результатов эксперимента;\n",
    "* оставить проект приватным или сделать его общедоступным.\n",
    "\n",
    "Платформа генерирует новый API для эксперимента, который можно использовать в коде Python:"
   ]
  },
  {
   "cell_type": "code",
   "execution_count": 1,
   "metadata": {},
   "outputs": [
    {
     "name": "stderr",
     "output_type": "stream",
     "text": [
      "COMET WARNING: As you are running in a Jupyter environment, you will need to call `experiment.end()` when finished to ensure all metrics and code are logged before exiting.\n",
      "COMET INFO: Experiment is live on comet.ml https://www.comet.com/royvudgren/medical-appointment/1c180956c5b44ce2a45c690ffe8e6671\n",
      "\n"
     ]
    }
   ],
   "source": [
    "# import comet_ml at the top of your file\n",
    "from comet_ml import Experiment\n",
    "\n",
    "# Create an experiment with your api key\n",
    "experiment = Experiment(\n",
    "    api_key=\"GahJ5CR64w0pqfgRkemOzX8UH\",\n",
    "    project_name=\"medical-appointment\",\n",
    "    workspace=\"royvudgren\",\n",
    ")"
   ]
  },
  {
   "cell_type": "code",
   "execution_count": 2,
   "metadata": {},
   "outputs": [
    {
     "name": "stderr",
     "output_type": "stream",
     "text": [
      "COMET INFO: ---------------------------\n",
      "COMET INFO: Comet.ml Experiment Summary\n",
      "COMET INFO: ---------------------------\n",
      "COMET INFO:   Data:\n",
      "COMET INFO:     display_summary_level : 1\n",
      "COMET INFO:     url                   : https://www.comet.com/royvudgren/medical-appointment/1c180956c5b44ce2a45c690ffe8e6671\n",
      "COMET INFO:   Uploads:\n",
      "COMET INFO:     environment details      : 1\n",
      "COMET INFO:     filename                 : 1\n",
      "COMET INFO:     git metadata             : 1\n",
      "COMET INFO:     git-patch (uncompressed) : 1 (34.44 KB)\n",
      "COMET INFO:     installed packages       : 1\n",
      "COMET INFO:     notebook                 : 1\n",
      "COMET INFO:     source_code              : 1\n",
      "COMET INFO: ---------------------------\n",
      "COMET INFO: Uploading metrics, params, and assets to Comet before program termination (may take several seconds)\n",
      "COMET INFO: The Python SDK has 3600 seconds to finish before aborting...\n",
      "COMET INFO: Waiting for completion of the file uploads (may take several seconds)\n",
      "COMET INFO: The Python SDK has 10800 seconds to finish before aborting...\n",
      "COMET INFO: Still uploading 2 file(s), remaining 1.51 KB/16.46 KB\n"
     ]
    }
   ],
   "source": [
    "# необходимо при использовании ноутбка\n",
    "experiment.end()"
   ]
  },
  {
   "cell_type": "markdown",
   "metadata": {},
   "source": [
    "Класс **Experiment** — это интерфейс локального кода для Comet. Он определяет множество методов, описанных в официальной документации Comet. Платформа позволяет хранить информацию о коде, логировать графики, гиперпараметры модели (о них вы узнаете дальше в курсе), метрики. \n",
    "\n",
    "Давайте рассмотрим некоторые популярные методы:\n",
    "\n",
    "* **log_metric()** и **log_metrics()** — логируют в эксперименте одну или несколько оценочных метрик, таких как accuracy;\n",
    "* **log_figure()** — логирует рисунок;\n",
    "* **display()** — создаёт интерактивную среду в Jupyter, показывающую приборную панель Comet как вывод ячейки;\n",
    "* **end()** — если эксперимент выполняется в Jupyter, этот метод указывает, что эксперимент завершён.\n",
    "\n",
    "После завершения эксперимента Comet предоставляет информационную панель, где можно увидеть все залогированные в коде метрики, цифры, параметры и так далее.\n",
    "\n",
    "Показатели оценки отображаются автоматически. Например, если эксперимент состоит из нескольких шагов, можно легко нарисовать графики, показывающие метрики в зависимости от количества шагов.\n",
    "\n",
    "Ниже представлен пример графика, иллюстрирующего изменение accuracy на каждом шаге обучения нейронной сети (про нейронные сети вы узнаете далее по курсу). \n",
    "\n",
    "![](https://lms.skillfactory.ru/assets/courseware/v1/47c5f8bf611ac9c1d78c90622baa5841/asset-v1:SkillFactory+DSPR-2.0+14JULY2021+type@asset+block/dst-eda-6-19.png) ![](https://lms.skillfactory.ru/assets/courseware/v1/2f45c36c0cac87337eab8f6b4e639106/asset-v1:SkillFactory+DSPR-2.0+14JULY2021+type@asset+block/dst-eda-6-20.png)\n",
    "\n",
    "**Итак, Comet.ml — это платформа для экспериментов с машинным обучением, которую специалисты по данным используют для отслеживания, сравнения и объяснения своих экспериментов по машинному обучению. Она обеспечивает воспроизведение моделей, простое обслуживание рабочего процесса машинного обучения и бесперебойную совместную работу на протяжении всего жизненного цикла проекта.**"
   ]
  }
 ],
 "metadata": {
  "kernelspec": {
   "display_name": "Python 3.9.10 64-bit",
   "language": "python",
   "name": "python3"
  },
  "language_info": {
   "codemirror_mode": {
    "name": "ipython",
    "version": 3
   },
   "file_extension": ".py",
   "mimetype": "text/x-python",
   "name": "python",
   "nbconvert_exporter": "python",
   "pygments_lexer": "ipython3",
   "version": "3.9.10"
  },
  "orig_nbformat": 4,
  "vscode": {
   "interpreter": {
    "hash": "11938c6bc6919ae2720b4d5011047913343b08a43b18698fd82dedb0d4417594"
   }
  }
 },
 "nbformat": 4,
 "nbformat_minor": 2
}
