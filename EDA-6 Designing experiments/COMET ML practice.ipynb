{
 "cells": [
  {
   "cell_type": "markdown",
   "metadata": {},
   "source": [
    "# **ДОМАШНЕЕ ЗАДАНИЕ**"
   ]
  },
  {
   "cell_type": "markdown",
   "metadata": {},
   "source": [
    "**ЗАДАЧА**\n",
    "\n",
    "Визуализируйте корреляцию между 7 числовыми признаками, использованными для обучения модели, и залогируйте изображение в Comet."
   ]
  },
  {
   "cell_type": "markdown",
   "metadata": {},
   "source": [
    "**БИБЛИОТЕКИ**"
   ]
  },
  {
   "cell_type": "code",
   "execution_count": 8,
   "metadata": {},
   "outputs": [],
   "source": [
    "# импорт библиотек\n",
    "import pandas as pd \n",
    "import seaborn as sns\n",
    "from matplotlib import pyplot as plt\n",
    "from IPython.display import display\n",
    "import logging\n",
    "from comet_ml import Experiment"
   ]
  },
  {
   "cell_type": "markdown",
   "metadata": {},
   "source": [
    "**НАЧАЛО ЭКСПЕРИМЕНТА**"
   ]
  },
  {
   "cell_type": "code",
   "execution_count": 6,
   "metadata": {},
   "outputs": [
    {
     "name": "stderr",
     "output_type": "stream",
     "text": [
      "COMET WARNING: As you are running in a Jupyter environment, you will need to call `experiment.end()` when finished to ensure all metrics and code are logged before exiting.\n",
      "COMET INFO: Experiment is live on comet.ml https://www.comet.com/royvudgren/medical-appointment/e92f8c0670b34a98937e0320640a532b\n",
      "\n"
     ]
    }
   ],
   "source": [
    "# перезагрузка датафрейма\n",
    "df = pd.read_csv('data/KaggleV2-May-2016.csv')\n",
    "\n",
    "# создание эксперимента\n",
    "experiment = Experiment(\n",
    "    api_key=\"GahJ5CR64w0pqfgRkemOzX8UH\",\n",
    "    project_name=\"medical-appointment\",\n",
    "    workspace=\"royvudgren\",\n",
    ")"
   ]
  },
  {
   "cell_type": "markdown",
   "metadata": {},
   "source": [
    "**ПОДГОТОВКА ДАННЫХ**"
   ]
  },
  {
   "cell_type": "code",
   "execution_count": 14,
   "metadata": {},
   "outputs": [
    {
     "name": "stdout",
     "output_type": "stream",
     "text": [
      "<class 'pandas.core.frame.DataFrame'>\n",
      "Int64Index: 110521 entries, 0 to 110526\n",
      "Data columns (total 12 columns):\n",
      " #   Column          Non-Null Count   Dtype \n",
      "---  ------          --------------   ----- \n",
      " 0   Gender          110521 non-null  object\n",
      " 1   ScheduledDay    110521 non-null  object\n",
      " 2   AppointmentDay  110521 non-null  object\n",
      " 3   Age             110521 non-null  int64 \n",
      " 4   Neighbourhood   110521 non-null  object\n",
      " 5   Scholarship     110521 non-null  int64 \n",
      " 6   Hipertension    110521 non-null  int64 \n",
      " 7   Diabetes        110521 non-null  int64 \n",
      " 8   Alcoholism      110521 non-null  int64 \n",
      " 9   Handcap         110521 non-null  int64 \n",
      " 10  SMS_received    110521 non-null  int64 \n",
      " 11  No-show         110521 non-null  object\n",
      "dtypes: int64(7), object(5)\n",
      "memory usage: 11.0+ MB\n"
     ]
    }
   ],
   "source": [
    "# перезагрузка датафрейма\n",
    "df = pd.read_csv('data/KaggleV2-May-2016.csv')\n",
    "\n",
    "# удаляем столбцы с айди (не участвующие в обучении)\n",
    "df.drop(['PatientId', 'AppointmentID'], axis=1, inplace=True)\n",
    "# удаляем выбросы по возрасту\n",
    "df = df[(df.Age >= 0) & (df.Age <= 110)]\n",
    "df.info()"
   ]
  },
  {
   "cell_type": "markdown",
   "metadata": {},
   "source": [
    "**МАТРИЦА КОРРЕЛЯЦИЙ**"
   ]
  },
  {
   "cell_type": "code",
   "execution_count": 24,
   "metadata": {},
   "outputs": [
    {
     "data": {
      "text/html": [
       "<div>\n",
       "<style scoped>\n",
       "    .dataframe tbody tr th:only-of-type {\n",
       "        vertical-align: middle;\n",
       "    }\n",
       "\n",
       "    .dataframe tbody tr th {\n",
       "        vertical-align: top;\n",
       "    }\n",
       "\n",
       "    .dataframe thead th {\n",
       "        text-align: right;\n",
       "    }\n",
       "</style>\n",
       "<table border=\"1\" class=\"dataframe\">\n",
       "  <thead>\n",
       "    <tr style=\"text-align: right;\">\n",
       "      <th></th>\n",
       "      <th>Age</th>\n",
       "      <th>Scholarship</th>\n",
       "      <th>Hipertension</th>\n",
       "      <th>Diabetes</th>\n",
       "      <th>Alcoholism</th>\n",
       "      <th>Handcap</th>\n",
       "      <th>SMS_received</th>\n",
       "    </tr>\n",
       "  </thead>\n",
       "  <tbody>\n",
       "    <tr>\n",
       "      <th>Age</th>\n",
       "      <td>1.000000</td>\n",
       "      <td>-0.092437</td>\n",
       "      <td>0.504726</td>\n",
       "      <td>0.292509</td>\n",
       "      <td>0.095862</td>\n",
       "      <td>0.077369</td>\n",
       "      <td>0.012676</td>\n",
       "    </tr>\n",
       "    <tr>\n",
       "      <th>Scholarship</th>\n",
       "      <td>-0.092437</td>\n",
       "      <td>1.000000</td>\n",
       "      <td>-0.019731</td>\n",
       "      <td>-0.024899</td>\n",
       "      <td>0.035019</td>\n",
       "      <td>-0.008520</td>\n",
       "      <td>0.001188</td>\n",
       "    </tr>\n",
       "    <tr>\n",
       "      <th>Hipertension</th>\n",
       "      <td>0.504726</td>\n",
       "      <td>-0.019731</td>\n",
       "      <td>1.000000</td>\n",
       "      <td>0.433096</td>\n",
       "      <td>0.087972</td>\n",
       "      <td>0.080249</td>\n",
       "      <td>-0.006309</td>\n",
       "    </tr>\n",
       "    <tr>\n",
       "      <th>Diabetes</th>\n",
       "      <td>0.292509</td>\n",
       "      <td>-0.024899</td>\n",
       "      <td>0.433096</td>\n",
       "      <td>1.000000</td>\n",
       "      <td>0.018471</td>\n",
       "      <td>0.057629</td>\n",
       "      <td>-0.014555</td>\n",
       "    </tr>\n",
       "    <tr>\n",
       "      <th>Alcoholism</th>\n",
       "      <td>0.095862</td>\n",
       "      <td>0.035019</td>\n",
       "      <td>0.087972</td>\n",
       "      <td>0.018471</td>\n",
       "      <td>1.000000</td>\n",
       "      <td>0.004689</td>\n",
       "      <td>-0.026151</td>\n",
       "    </tr>\n",
       "    <tr>\n",
       "      <th>Handcap</th>\n",
       "      <td>0.077369</td>\n",
       "      <td>-0.008520</td>\n",
       "      <td>0.080249</td>\n",
       "      <td>0.057629</td>\n",
       "      <td>0.004689</td>\n",
       "      <td>1.000000</td>\n",
       "      <td>-0.024026</td>\n",
       "    </tr>\n",
       "    <tr>\n",
       "      <th>SMS_received</th>\n",
       "      <td>0.012676</td>\n",
       "      <td>0.001188</td>\n",
       "      <td>-0.006309</td>\n",
       "      <td>-0.014555</td>\n",
       "      <td>-0.026151</td>\n",
       "      <td>-0.024026</td>\n",
       "      <td>1.000000</td>\n",
       "    </tr>\n",
       "  </tbody>\n",
       "</table>\n",
       "</div>"
      ],
      "text/plain": [
       "                   Age  Scholarship  Hipertension  Diabetes  Alcoholism  \\\n",
       "Age           1.000000    -0.092437      0.504726  0.292509    0.095862   \n",
       "Scholarship  -0.092437     1.000000     -0.019731 -0.024899    0.035019   \n",
       "Hipertension  0.504726    -0.019731      1.000000  0.433096    0.087972   \n",
       "Diabetes      0.292509    -0.024899      0.433096  1.000000    0.018471   \n",
       "Alcoholism    0.095862     0.035019      0.087972  0.018471    1.000000   \n",
       "Handcap       0.077369    -0.008520      0.080249  0.057629    0.004689   \n",
       "SMS_received  0.012676     0.001188     -0.006309 -0.014555   -0.026151   \n",
       "\n",
       "               Handcap  SMS_received  \n",
       "Age           0.077369      0.012676  \n",
       "Scholarship  -0.008520      0.001188  \n",
       "Hipertension  0.080249     -0.006309  \n",
       "Diabetes      0.057629     -0.014555  \n",
       "Alcoholism    0.004689     -0.026151  \n",
       "Handcap       1.000000     -0.024026  \n",
       "SMS_received -0.024026      1.000000  "
      ]
     },
     "metadata": {},
     "output_type": "display_data"
    },
    {
     "data": {
      "text/plain": [
       "{'web': 'https://www.comet.com/api/image/download?imageId=61c28b930c8942e088a845f0b5548f14&experimentKey=e92f8c0670b34a98937e0320640a532b',\n",
       " 'api': 'https://www.comet.com/api/rest/v1/image/get-image?imageId=61c28b930c8942e088a845f0b5548f14&experimentKey=e92f8c0670b34a98937e0320640a532b',\n",
       " 'imageId': '61c28b930c8942e088a845f0b5548f14'}"
      ]
     },
     "execution_count": 24,
     "metadata": {},
     "output_type": "execute_result"
    },
    {
     "data": {
      "image/png": "[encoded data removed]",
      "text/plain": [
       "<Figure size 432x288 with 2 Axes>"
      ]
     },
     "metadata": {
      "needs_background": "light"
     },
     "output_type": "display_data"
    }
   ],
   "source": [
    "# матрица корреляций числовых признаков\n",
    "display(df.corr())\n",
    "\n",
    "# тепловая карта корреляций\n",
    "ax = sns.heatmap(df.corr(), annot = True);\n",
    "# логирование графика\n",
    "experiment.log_figure('Heatmap_corr')"
   ]
  },
  {
   "cell_type": "markdown",
   "metadata": {},
   "source": [
    "**КОМЕТ-ДИСПЛЕЙ**"
   ]
  },
  {
   "cell_type": "code",
   "execution_count": 26,
   "metadata": {},
   "outputs": [
    {
     "data": {
      "text/html": [
       "\n",
       "        <iframe\n",
       "            width=\"100%\"\n",
       "            height=\"800px\"\n",
       "            src=\"https://www.comet.com/royvudgren/medical-appointment/e92f8c0670b34a98937e0320640a532b\"\n",
       "            frameborder=\"0\"\n",
       "            allowfullscreen\n",
       "            \n",
       "        ></iframe>\n",
       "        "
      ],
      "text/plain": [
       "<IPython.lib.display.IFrame at 0x219ced57490>"
      ]
     },
     "metadata": {},
     "output_type": "display_data"
    }
   ],
   "source": [
    "experiment.display()"
   ]
  },
  {
   "cell_type": "markdown",
   "metadata": {},
   "source": [
    "**КОНЕЦ ЭКСПЕРИМЕНТА**"
   ]
  },
  {
   "cell_type": "code",
   "execution_count": 25,
   "metadata": {},
   "outputs": [
    {
     "name": "stderr",
     "output_type": "stream",
     "text": [
      "COMET INFO: ---------------------------\n",
      "COMET INFO: Comet.ml Experiment Summary\n",
      "COMET INFO: ---------------------------\n",
      "COMET INFO:   Data:\n",
      "COMET INFO:     display_summary_level : 1\n",
      "COMET INFO:     url                   : https://www.comet.com/royvudgren/medical-appointment/e92f8c0670b34a98937e0320640a532b\n",
      "COMET INFO:   Uploads:\n",
      "COMET INFO:     environment details : 1\n",
      "COMET INFO:     figures             : 2\n",
      "COMET INFO:     filename            : 1\n",
      "COMET INFO:     git metadata        : 1\n",
      "COMET INFO:     installed packages  : 1\n",
      "COMET INFO:     notebook            : 1\n",
      "COMET INFO:     source_code         : 1\n",
      "COMET INFO: ---------------------------\n",
      "COMET INFO: Uploading metrics, params, and assets to Comet before program termination (may take several seconds)\n",
      "COMET INFO: The Python SDK has 3600 seconds to finish before aborting...\n",
      "COMET INFO: Waiting for completion of the file uploads (may take several seconds)\n",
      "COMET INFO: The Python SDK has 10800 seconds to finish before aborting...\n",
      "COMET INFO: Still uploading 2 file(s), remaining 17.05 KB/134.69 KB\n"
     ]
    }
   ],
   "source": [
    "experiment.end()"
   ]
  }
 ],
 "metadata": {
  "kernelspec": {
   "display_name": "Python 3.9.10 64-bit",
   "language": "python",
   "name": "python3"
  },
  "language_info": {
   "codemirror_mode": {
    "name": "ipython",
    "version": 3
   },
   "file_extension": ".py",
   "mimetype": "text/x-python",
   "name": "python",
   "nbconvert_exporter": "python",
   "pygments_lexer": "ipython3",
   "version": "3.9.10"
  },
  "orig_nbformat": 4,
  "vscode": {
   "interpreter": {
    "hash": "11938c6bc6919ae2720b4d5011047913343b08a43b18698fd82dedb0d4417594"
   }
  }
 },
 "nbformat": 4,
 "nbformat_minor": 2
}
