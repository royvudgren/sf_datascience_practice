{
 "cells": [
  {
   "cell_type": "markdown",
   "metadata": {},
   "source": [
    "# Работа с датами в DataFrame"
   ]
  },
  {
   "cell_type": "markdown",
   "metadata": {},
   "source": [
    "##### ПРИЗНАКИ ДАТЫ И ВРЕМЕНИ"
   ]
  },
  {
   "cell_type": "markdown",
   "metadata": {},
   "source": [
    "Единый способ обозначения даты и времени в Pandas является формат datetime, который записывается как \n",
    "\n",
    "YYYY-MM-DD HH: MM: SS,\n",
    "\n",
    " то есть составляющие времени указываются в следующем порядке: год, месяц, день, час, минута, секунда"
   ]
  },
  {
   "cell_type": "code",
   "execution_count": null,
   "metadata": {},
   "outputs": [],
   "source": []
  }
 ],
 "metadata": {
  "language_info": {
   "name": "python"
  },
  "orig_nbformat": 4
 },
 "nbformat": 4,
 "nbformat_minor": 2
}
