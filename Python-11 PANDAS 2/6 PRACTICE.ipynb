{
 "cells": [
  {
   "cell_type": "markdown",
   "metadata": {},
   "source": [
    "# Закрепление знаний"
   ]
  },
  {
   "cell_type": "code",
   "execution_count": 2,
   "metadata": {},
   "outputs": [],
   "source": [
    "import pandas as pd\n",
    "from IPython.display import display\n",
    "bike_df = pd.read_csv('data/citibike-tripdata.csv', sep=',')"
   ]
  },
  {
   "cell_type": "code",
   "execution_count": 15,
   "metadata": {},
   "outputs": [
    {
     "data": {
      "text/plain": [
       "count    299831.000000\n",
       "mean       1695.665665\n",
       "std        1458.264055\n",
       "min          72.000000\n",
       "25%         387.000000\n",
       "50%         519.000000\n",
       "75%        3282.000000\n",
       "max        3705.000000\n",
       "Name: start station id, dtype: float64"
      ]
     },
     "execution_count": 15,
     "metadata": {},
     "output_type": "execute_result"
    }
   ],
   "source": [
    "# Сколько пропусков в столбце start station id?\n",
    "bike_df['start station id'].describe()"
   ]
  },
  {
   "cell_type": "code",
   "execution_count": 44,
   "metadata": {},
   "outputs": [
    {
     "data": {
      "text/html": [
       "<div>\n",
       "<style scoped>\n",
       "    .dataframe tbody tr th:only-of-type {\n",
       "        vertical-align: middle;\n",
       "    }\n",
       "\n",
       "    .dataframe tbody tr th {\n",
       "        vertical-align: top;\n",
       "    }\n",
       "\n",
       "    .dataframe thead th {\n",
       "        text-align: right;\n",
       "    }\n",
       "</style>\n",
       "<table border=\"1\" class=\"dataframe\">\n",
       "  <thead>\n",
       "    <tr style=\"text-align: right;\">\n",
       "      <th></th>\n",
       "      <th>starttime</th>\n",
       "      <th>stoptime</th>\n",
       "      <th>start station id</th>\n",
       "      <th>start station name</th>\n",
       "      <th>start station latitude</th>\n",
       "      <th>start station longitude</th>\n",
       "      <th>end station id</th>\n",
       "      <th>end station name</th>\n",
       "      <th>end station latitude</th>\n",
       "      <th>end station longitude</th>\n",
       "      <th>bikeid</th>\n",
       "      <th>usertype</th>\n",
       "      <th>birth year</th>\n",
       "      <th>gender</th>\n",
       "    </tr>\n",
       "  </thead>\n",
       "  <tbody>\n",
       "    <tr>\n",
       "      <th>299995</th>\n",
       "      <td>2018-09-05 19:08:27.8460</td>\n",
       "      <td>2018-09-05 19:15:51.4940</td>\n",
       "      <td>494.0</td>\n",
       "      <td>W 26 St &amp; 8 Ave</td>\n",
       "      <td>40.747348</td>\n",
       "      <td>-73.997236</td>\n",
       "      <td>448.0</td>\n",
       "      <td>W 37 St &amp; 10 Ave</td>\n",
       "      <td>40.756604</td>\n",
       "      <td>-73.997901</td>\n",
       "      <td>19531</td>\n",
       "      <td>Subscriber</td>\n",
       "      <td>1990</td>\n",
       "      <td>2</td>\n",
       "    </tr>\n",
       "    <tr>\n",
       "      <th>299996</th>\n",
       "      <td>2018-09-05 19:08:28.3700</td>\n",
       "      <td>2018-09-05 19:20:01.5080</td>\n",
       "      <td>3016.0</td>\n",
       "      <td>Kent Ave &amp; N 7 St</td>\n",
       "      <td>40.720368</td>\n",
       "      <td>-73.961651</td>\n",
       "      <td>3086.0</td>\n",
       "      <td>Graham Ave &amp; Conselyea St</td>\n",
       "      <td>40.715143</td>\n",
       "      <td>-73.944507</td>\n",
       "      <td>34020</td>\n",
       "      <td>Subscriber</td>\n",
       "      <td>1982</td>\n",
       "      <td>1</td>\n",
       "    </tr>\n",
       "    <tr>\n",
       "      <th>299997</th>\n",
       "      <td>2018-09-05 19:08:27.5090</td>\n",
       "      <td>2018-09-05 19:13:40.5060</td>\n",
       "      <td>3686.0</td>\n",
       "      <td>Gansevoort St &amp; Hudson St</td>\n",
       "      <td>40.739448</td>\n",
       "      <td>-74.005070</td>\n",
       "      <td>168.0</td>\n",
       "      <td>W 18 St &amp; 6 Ave</td>\n",
       "      <td>40.739713</td>\n",
       "      <td>-73.994564</td>\n",
       "      <td>33220</td>\n",
       "      <td>Subscriber</td>\n",
       "      <td>1991</td>\n",
       "      <td>1</td>\n",
       "    </tr>\n",
       "    <tr>\n",
       "      <th>299998</th>\n",
       "      <td>2018-09-05 19:08:29.2300</td>\n",
       "      <td>2018-09-05 20:04:29.3220</td>\n",
       "      <td>254.0</td>\n",
       "      <td>W 11 St &amp; 6 Ave</td>\n",
       "      <td>40.735324</td>\n",
       "      <td>-73.998004</td>\n",
       "      <td>499.0</td>\n",
       "      <td>Broadway &amp; W 60 St</td>\n",
       "      <td>40.769155</td>\n",
       "      <td>-73.981918</td>\n",
       "      <td>34744</td>\n",
       "      <td>Subscriber</td>\n",
       "      <td>1975</td>\n",
       "      <td>0</td>\n",
       "    </tr>\n",
       "    <tr>\n",
       "      <th>299999</th>\n",
       "      <td>2018-09-05 19:08:29.7110</td>\n",
       "      <td>2018-09-05 19:12:14.7620</td>\n",
       "      <td>3496.0</td>\n",
       "      <td>1 Ave &amp; E 110 St</td>\n",
       "      <td>40.792327</td>\n",
       "      <td>-73.938300</td>\n",
       "      <td>3502.0</td>\n",
       "      <td>Lexington Ave &amp; E 111 St</td>\n",
       "      <td>40.795412</td>\n",
       "      <td>-73.944123</td>\n",
       "      <td>18292</td>\n",
       "      <td>Subscriber</td>\n",
       "      <td>1966</td>\n",
       "      <td>1</td>\n",
       "    </tr>\n",
       "  </tbody>\n",
       "</table>\n",
       "</div>"
      ],
      "text/plain": [
       "                       starttime                  stoptime  start station id  \\\n",
       "299995  2018-09-05 19:08:27.8460  2018-09-05 19:15:51.4940             494.0   \n",
       "299996  2018-09-05 19:08:28.3700  2018-09-05 19:20:01.5080            3016.0   \n",
       "299997  2018-09-05 19:08:27.5090  2018-09-05 19:13:40.5060            3686.0   \n",
       "299998  2018-09-05 19:08:29.2300  2018-09-05 20:04:29.3220             254.0   \n",
       "299999  2018-09-05 19:08:29.7110  2018-09-05 19:12:14.7620            3496.0   \n",
       "\n",
       "               start station name  start station latitude  \\\n",
       "299995            W 26 St & 8 Ave               40.747348   \n",
       "299996          Kent Ave & N 7 St               40.720368   \n",
       "299997  Gansevoort St & Hudson St               40.739448   \n",
       "299998            W 11 St & 6 Ave               40.735324   \n",
       "299999           1 Ave & E 110 St               40.792327   \n",
       "\n",
       "        start station longitude  end station id           end station name  \\\n",
       "299995               -73.997236           448.0           W 37 St & 10 Ave   \n",
       "299996               -73.961651          3086.0  Graham Ave & Conselyea St   \n",
       "299997               -74.005070           168.0            W 18 St & 6 Ave   \n",
       "299998               -73.998004           499.0         Broadway & W 60 St   \n",
       "299999               -73.938300          3502.0   Lexington Ave & E 111 St   \n",
       "\n",
       "        end station latitude  end station longitude  bikeid    usertype  \\\n",
       "299995             40.756604             -73.997901   19531  Subscriber   \n",
       "299996             40.715143             -73.944507   34020  Subscriber   \n",
       "299997             40.739713             -73.994564   33220  Subscriber   \n",
       "299998             40.769155             -73.981918   34744  Subscriber   \n",
       "299999             40.795412             -73.944123   18292  Subscriber   \n",
       "\n",
       "        birth year  gender  \n",
       "299995        1990       2  \n",
       "299996        1982       1  \n",
       "299997        1991       1  \n",
       "299998        1975       0  \n",
       "299999        1966       1  "
      ]
     },
     "execution_count": 44,
     "metadata": {},
     "output_type": "execute_result"
    }
   ],
   "source": [
    "# Какой тип данных имеют столбцы starttime и stoptime\n",
    "bike_df.tail()"
   ]
  },
  {
   "cell_type": "code",
   "execution_count": 28,
   "metadata": {},
   "outputs": [
    {
     "data": {
      "text/plain": [
       "0    281.0\n",
       "Name: start station id, dtype: float64"
      ]
     },
     "execution_count": 28,
     "metadata": {},
     "output_type": "execute_result"
    }
   ],
   "source": [
    "# Найдите идентификатор самой популярной стартовой стоянки. Запишите идентификатор в виде целого числа\n",
    "bike_df['start station id'].mode()"
   ]
  },
  {
   "cell_type": "code",
   "execution_count": 29,
   "metadata": {},
   "outputs": [
    {
     "data": {
      "text/plain": [
       "0    33887\n",
       "Name: bikeid, dtype: int64"
      ]
     },
     "execution_count": 29,
     "metadata": {},
     "output_type": "execute_result"
    }
   ],
   "source": [
    "# Велосипед с каким идентификатором является самым популярным\n",
    "bike_df['bikeid'].mode()"
   ]
  },
  {
   "cell_type": "code",
   "execution_count": 35,
   "metadata": {},
   "outputs": [
    {
     "data": {
      "text/plain": [
       "Subscriber    0.77\n",
       "Customer      0.23\n",
       "Name: usertype, dtype: float64"
      ]
     },
     "execution_count": 35,
     "metadata": {},
     "output_type": "execute_result"
    }
   ],
   "source": [
    "# Какой тип клиентов (столбец usertype) является преобладающим — Subscriber или Customer?\n",
    "# В качестве ответа запишите долю клиентов преобладающего типа\n",
    "# среди общего количества клиентов. Ответ округлите до сотых.\n",
    "round(bike_df['usertype'].value_counts(normalize=True),2)"
   ]
  },
  {
   "cell_type": "code",
   "execution_count": 37,
   "metadata": {},
   "outputs": [
    {
     "data": {
      "text/plain": [
       "1    183582\n",
       "2     74506\n",
       "0     41912\n",
       "Name: gender, dtype: int64"
      ]
     },
     "execution_count": 37,
     "metadata": {},
     "output_type": "execute_result"
    }
   ],
   "source": [
    "# Кто больше занимается велоспортом — мужчины или женщины? В ответ запишите число поездок для той группы, у которой их больше\n",
    "bike_df['gender'].value_counts()"
   ]
  },
  {
   "cell_type": "code",
   "execution_count": 54,
   "metadata": {},
   "outputs": [
    {
     "data": {
      "text/plain": [
       "759"
      ]
     },
     "metadata": {},
     "output_type": "display_data"
    },
    {
     "data": {
      "text/plain": [
       "765"
      ]
     },
     "metadata": {},
     "output_type": "display_data"
    },
    {
     "data": {
      "text/plain": [
       "1"
      ]
     },
     "metadata": {},
     "output_type": "display_data"
    },
    {
     "data": {
      "text/plain": [
       "West St & Chambers St          1963\n",
       "12 Ave & W 40 St               1909\n",
       "Pershing Square North          1850\n",
       "Central Park S & 6 Ave         1828\n",
       "E 17 St & Broadway             1804\n",
       "                               ... \n",
       "Exchange Place                    3\n",
       "Union St                          1\n",
       "Warren St                         1\n",
       "Montrose Ave & Bushwick Ave       1\n",
       "Liberty Light Rail                1\n",
       "Name: end station name, Length: 765, dtype: int64"
      ]
     },
     "execution_count": 54,
     "metadata": {},
     "output_type": "execute_result"
    }
   ],
   "source": [
    "# Проверить утверждения:\n",
    "# Число уникальных стартовых и конечных стоянок, которыми воспользовались клиенты, не равны друг другу\n",
    "display(bike_df['start station id'].nunique())\n",
    "display(bike_df['end station id'].nunique())\n",
    "# В рассматриваемые дни минимальный возраст клиента составлял 10 лет\n",
    "starttime_series = pd.to_datetime(bike_df['starttime']) # Узнаем в какие года проводились соревнования\n",
    "display(starttime_series.dt.year.nunique()) # Только в 2018\n",
    "starttime_series.dt.year.iloc[1]-bike_df['birth year'].max() # Найдём минимальный возраст (2018 - максимальный год рождения)\n",
    "# Самой непопулярной стартовой стоянкой из тех, которыми воспользовались\n",
    "# клиенты, является стоянка с названием \"Eastern Pkwy & Washington Ave\"\n",
    "bike_df['start station name'].value_counts().sort_values()\n",
    "# Наибольшее количество поездок завершается на стоянке под названием \"Liberty Light Rail\"\n",
    "bike_df['end station name'].value_counts().sort_values(ascending=False)"
   ]
  },
  {
   "cell_type": "markdown",
   "metadata": {},
   "source": [
    "Задание 6.8\n",
    "\n",
    "В первую очередь удалим лишнюю информацию из данных.\n",
    "\n",
    "В наших данных присутствуют столбцы, которые дублируют информацию друг о друге: это столбцы с идентификатором и названием стартовой и конечной стоянки. Удалите признаки идентификаторов стоянок. Сколько столбцов осталось?"
   ]
  },
  {
   "cell_type": "code",
   "execution_count": 71,
   "metadata": {},
   "outputs": [
    {
     "ename": "KeyError",
     "evalue": "\"['start station id', 'end station id'] not found in axis\"",
     "output_type": "error",
     "traceback": [
      "\u001b[1;31m---------------------------------------------------------------------------\u001b[0m",
      "\u001b[1;31mKeyError\u001b[0m                                  Traceback (most recent call last)",
      "\u001b[1;32mc:\\DS\\Notebooks\\Python-11 PANDAS 2\\6 PRACTICE.ipynb Cell 11'\u001b[0m in \u001b[0;36m<module>\u001b[1;34m\u001b[0m\n\u001b[1;32m----> <a href='vscode-notebook-cell:/c%3A/DS/Notebooks/Python-11%20PANDAS%202/6%20PRACTICE.ipynb#ch0000010?line=0'>1</a>\u001b[0m bike_df\u001b[39m.\u001b[39;49mdrop([\u001b[39m'\u001b[39;49m\u001b[39mstart station id\u001b[39;49m\u001b[39m'\u001b[39;49m,\u001b[39m'\u001b[39;49m\u001b[39mend station id\u001b[39;49m\u001b[39m'\u001b[39;49m],axis\u001b[39m=\u001b[39;49m\u001b[39m1\u001b[39;49m,inplace\u001b[39m=\u001b[39;49m\u001b[39mTrue\u001b[39;49;00m)\n\u001b[0;32m      <a href='vscode-notebook-cell:/c%3A/DS/Notebooks/Python-11%20PANDAS%202/6%20PRACTICE.ipynb#ch0000010?line=1'>2</a>\u001b[0m bike_df\u001b[39m.\u001b[39minfo()\n",
      "File \u001b[1;32mC:\\Program Files\\Python39\\lib\\site-packages\\pandas\\util\\_decorators.py:311\u001b[0m, in \u001b[0;36mdeprecate_nonkeyword_arguments.<locals>.decorate.<locals>.wrapper\u001b[1;34m(*args, **kwargs)\u001b[0m\n\u001b[0;32m    <a href='file:///c%3A/Program%20Files/Python39/lib/site-packages/pandas/util/_decorators.py?line=304'>305</a>\u001b[0m \u001b[39mif\u001b[39;00m \u001b[39mlen\u001b[39m(args) \u001b[39m>\u001b[39m num_allow_args:\n\u001b[0;32m    <a href='file:///c%3A/Program%20Files/Python39/lib/site-packages/pandas/util/_decorators.py?line=305'>306</a>\u001b[0m     warnings\u001b[39m.\u001b[39mwarn(\n\u001b[0;32m    <a href='file:///c%3A/Program%20Files/Python39/lib/site-packages/pandas/util/_decorators.py?line=306'>307</a>\u001b[0m         msg\u001b[39m.\u001b[39mformat(arguments\u001b[39m=\u001b[39marguments),\n\u001b[0;32m    <a href='file:///c%3A/Program%20Files/Python39/lib/site-packages/pandas/util/_decorators.py?line=307'>308</a>\u001b[0m         \u001b[39mFutureWarning\u001b[39;00m,\n\u001b[0;32m    <a href='file:///c%3A/Program%20Files/Python39/lib/site-packages/pandas/util/_decorators.py?line=308'>309</a>\u001b[0m         stacklevel\u001b[39m=\u001b[39mstacklevel,\n\u001b[0;32m    <a href='file:///c%3A/Program%20Files/Python39/lib/site-packages/pandas/util/_decorators.py?line=309'>310</a>\u001b[0m     )\n\u001b[1;32m--> <a href='file:///c%3A/Program%20Files/Python39/lib/site-packages/pandas/util/_decorators.py?line=310'>311</a>\u001b[0m \u001b[39mreturn\u001b[39;00m func(\u001b[39m*\u001b[39margs, \u001b[39m*\u001b[39m\u001b[39m*\u001b[39mkwargs)\n",
      "File \u001b[1;32mC:\\Program Files\\Python39\\lib\\site-packages\\pandas\\core\\frame.py:4948\u001b[0m, in \u001b[0;36mDataFrame.drop\u001b[1;34m(self, labels, axis, index, columns, level, inplace, errors)\u001b[0m\n\u001b[0;32m   <a href='file:///c%3A/Program%20Files/Python39/lib/site-packages/pandas/core/frame.py?line=4799'>4800</a>\u001b[0m \u001b[39m@deprecate_nonkeyword_arguments\u001b[39m(version\u001b[39m=\u001b[39m\u001b[39mNone\u001b[39;00m, allowed_args\u001b[39m=\u001b[39m[\u001b[39m\"\u001b[39m\u001b[39mself\u001b[39m\u001b[39m\"\u001b[39m, \u001b[39m\"\u001b[39m\u001b[39mlabels\u001b[39m\u001b[39m\"\u001b[39m])\n\u001b[0;32m   <a href='file:///c%3A/Program%20Files/Python39/lib/site-packages/pandas/core/frame.py?line=4800'>4801</a>\u001b[0m \u001b[39mdef\u001b[39;00m \u001b[39mdrop\u001b[39m(\n\u001b[0;32m   <a href='file:///c%3A/Program%20Files/Python39/lib/site-packages/pandas/core/frame.py?line=4801'>4802</a>\u001b[0m     \u001b[39mself\u001b[39m,\n\u001b[1;32m   (...)\u001b[0m\n\u001b[0;32m   <a href='file:///c%3A/Program%20Files/Python39/lib/site-packages/pandas/core/frame.py?line=4808'>4809</a>\u001b[0m     errors: \u001b[39mstr\u001b[39m \u001b[39m=\u001b[39m \u001b[39m\"\u001b[39m\u001b[39mraise\u001b[39m\u001b[39m\"\u001b[39m,\n\u001b[0;32m   <a href='file:///c%3A/Program%20Files/Python39/lib/site-packages/pandas/core/frame.py?line=4809'>4810</a>\u001b[0m ):\n\u001b[0;32m   <a href='file:///c%3A/Program%20Files/Python39/lib/site-packages/pandas/core/frame.py?line=4810'>4811</a>\u001b[0m     \u001b[39m\"\"\"\u001b[39;00m\n\u001b[0;32m   <a href='file:///c%3A/Program%20Files/Python39/lib/site-packages/pandas/core/frame.py?line=4811'>4812</a>\u001b[0m \u001b[39m    Drop specified labels from rows or columns.\u001b[39;00m\n\u001b[0;32m   <a href='file:///c%3A/Program%20Files/Python39/lib/site-packages/pandas/core/frame.py?line=4812'>4813</a>\u001b[0m \n\u001b[1;32m   (...)\u001b[0m\n\u001b[0;32m   <a href='file:///c%3A/Program%20Files/Python39/lib/site-packages/pandas/core/frame.py?line=4945'>4946</a>\u001b[0m \u001b[39m            weight  1.0     0.8\u001b[39;00m\n\u001b[0;32m   <a href='file:///c%3A/Program%20Files/Python39/lib/site-packages/pandas/core/frame.py?line=4946'>4947</a>\u001b[0m \u001b[39m    \"\"\"\u001b[39;00m\n\u001b[1;32m-> <a href='file:///c%3A/Program%20Files/Python39/lib/site-packages/pandas/core/frame.py?line=4947'>4948</a>\u001b[0m     \u001b[39mreturn\u001b[39;00m \u001b[39msuper\u001b[39;49m()\u001b[39m.\u001b[39;49mdrop(\n\u001b[0;32m   <a href='file:///c%3A/Program%20Files/Python39/lib/site-packages/pandas/core/frame.py?line=4948'>4949</a>\u001b[0m         labels\u001b[39m=\u001b[39;49mlabels,\n\u001b[0;32m   <a href='file:///c%3A/Program%20Files/Python39/lib/site-packages/pandas/core/frame.py?line=4949'>4950</a>\u001b[0m         axis\u001b[39m=\u001b[39;49maxis,\n\u001b[0;32m   <a href='file:///c%3A/Program%20Files/Python39/lib/site-packages/pandas/core/frame.py?line=4950'>4951</a>\u001b[0m         index\u001b[39m=\u001b[39;49mindex,\n\u001b[0;32m   <a href='file:///c%3A/Program%20Files/Python39/lib/site-packages/pandas/core/frame.py?line=4951'>4952</a>\u001b[0m         columns\u001b[39m=\u001b[39;49mcolumns,\n\u001b[0;32m   <a href='file:///c%3A/Program%20Files/Python39/lib/site-packages/pandas/core/frame.py?line=4952'>4953</a>\u001b[0m         level\u001b[39m=\u001b[39;49mlevel,\n\u001b[0;32m   <a href='file:///c%3A/Program%20Files/Python39/lib/site-packages/pandas/core/frame.py?line=4953'>4954</a>\u001b[0m         inplace\u001b[39m=\u001b[39;49minplace,\n\u001b[0;32m   <a href='file:///c%3A/Program%20Files/Python39/lib/site-packages/pandas/core/frame.py?line=4954'>4955</a>\u001b[0m         errors\u001b[39m=\u001b[39;49merrors,\n\u001b[0;32m   <a href='file:///c%3A/Program%20Files/Python39/lib/site-packages/pandas/core/frame.py?line=4955'>4956</a>\u001b[0m     )\n",
      "File \u001b[1;32mC:\\Program Files\\Python39\\lib\\site-packages\\pandas\\core\\generic.py:4279\u001b[0m, in \u001b[0;36mNDFrame.drop\u001b[1;34m(self, labels, axis, index, columns, level, inplace, errors)\u001b[0m\n\u001b[0;32m   <a href='file:///c%3A/Program%20Files/Python39/lib/site-packages/pandas/core/generic.py?line=4276'>4277</a>\u001b[0m \u001b[39mfor\u001b[39;00m axis, labels \u001b[39min\u001b[39;00m axes\u001b[39m.\u001b[39mitems():\n\u001b[0;32m   <a href='file:///c%3A/Program%20Files/Python39/lib/site-packages/pandas/core/generic.py?line=4277'>4278</a>\u001b[0m     \u001b[39mif\u001b[39;00m labels \u001b[39mis\u001b[39;00m \u001b[39mnot\u001b[39;00m \u001b[39mNone\u001b[39;00m:\n\u001b[1;32m-> <a href='file:///c%3A/Program%20Files/Python39/lib/site-packages/pandas/core/generic.py?line=4278'>4279</a>\u001b[0m         obj \u001b[39m=\u001b[39m obj\u001b[39m.\u001b[39;49m_drop_axis(labels, axis, level\u001b[39m=\u001b[39;49mlevel, errors\u001b[39m=\u001b[39;49merrors)\n\u001b[0;32m   <a href='file:///c%3A/Program%20Files/Python39/lib/site-packages/pandas/core/generic.py?line=4280'>4281</a>\u001b[0m \u001b[39mif\u001b[39;00m inplace:\n\u001b[0;32m   <a href='file:///c%3A/Program%20Files/Python39/lib/site-packages/pandas/core/generic.py?line=4281'>4282</a>\u001b[0m     \u001b[39mself\u001b[39m\u001b[39m.\u001b[39m_update_inplace(obj)\n",
      "File \u001b[1;32mC:\\Program Files\\Python39\\lib\\site-packages\\pandas\\core\\generic.py:4323\u001b[0m, in \u001b[0;36mNDFrame._drop_axis\u001b[1;34m(self, labels, axis, level, errors, consolidate, only_slice)\u001b[0m\n\u001b[0;32m   <a href='file:///c%3A/Program%20Files/Python39/lib/site-packages/pandas/core/generic.py?line=4320'>4321</a>\u001b[0m         new_axis \u001b[39m=\u001b[39m axis\u001b[39m.\u001b[39mdrop(labels, level\u001b[39m=\u001b[39mlevel, errors\u001b[39m=\u001b[39merrors)\n\u001b[0;32m   <a href='file:///c%3A/Program%20Files/Python39/lib/site-packages/pandas/core/generic.py?line=4321'>4322</a>\u001b[0m     \u001b[39melse\u001b[39;00m:\n\u001b[1;32m-> <a href='file:///c%3A/Program%20Files/Python39/lib/site-packages/pandas/core/generic.py?line=4322'>4323</a>\u001b[0m         new_axis \u001b[39m=\u001b[39m axis\u001b[39m.\u001b[39;49mdrop(labels, errors\u001b[39m=\u001b[39;49merrors)\n\u001b[0;32m   <a href='file:///c%3A/Program%20Files/Python39/lib/site-packages/pandas/core/generic.py?line=4323'>4324</a>\u001b[0m     indexer \u001b[39m=\u001b[39m axis\u001b[39m.\u001b[39mget_indexer(new_axis)\n\u001b[0;32m   <a href='file:///c%3A/Program%20Files/Python39/lib/site-packages/pandas/core/generic.py?line=4325'>4326</a>\u001b[0m \u001b[39m# Case for non-unique axis\u001b[39;00m\n\u001b[0;32m   <a href='file:///c%3A/Program%20Files/Python39/lib/site-packages/pandas/core/generic.py?line=4326'>4327</a>\u001b[0m \u001b[39melse\u001b[39;00m:\n",
      "File \u001b[1;32mC:\\Program Files\\Python39\\lib\\site-packages\\pandas\\core\\indexes\\base.py:6644\u001b[0m, in \u001b[0;36mIndex.drop\u001b[1;34m(self, labels, errors)\u001b[0m\n\u001b[0;32m   <a href='file:///c%3A/Program%20Files/Python39/lib/site-packages/pandas/core/indexes/base.py?line=6641'>6642</a>\u001b[0m \u001b[39mif\u001b[39;00m mask\u001b[39m.\u001b[39many():\n\u001b[0;32m   <a href='file:///c%3A/Program%20Files/Python39/lib/site-packages/pandas/core/indexes/base.py?line=6642'>6643</a>\u001b[0m     \u001b[39mif\u001b[39;00m errors \u001b[39m!=\u001b[39m \u001b[39m\"\u001b[39m\u001b[39mignore\u001b[39m\u001b[39m\"\u001b[39m:\n\u001b[1;32m-> <a href='file:///c%3A/Program%20Files/Python39/lib/site-packages/pandas/core/indexes/base.py?line=6643'>6644</a>\u001b[0m         \u001b[39mraise\u001b[39;00m \u001b[39mKeyError\u001b[39;00m(\u001b[39mf\u001b[39m\u001b[39m\"\u001b[39m\u001b[39m{\u001b[39;00m\u001b[39mlist\u001b[39m(labels[mask])\u001b[39m}\u001b[39;00m\u001b[39m not found in axis\u001b[39m\u001b[39m\"\u001b[39m)\n\u001b[0;32m   <a href='file:///c%3A/Program%20Files/Python39/lib/site-packages/pandas/core/indexes/base.py?line=6644'>6645</a>\u001b[0m     indexer \u001b[39m=\u001b[39m indexer[\u001b[39m~\u001b[39mmask]\n\u001b[0;32m   <a href='file:///c%3A/Program%20Files/Python39/lib/site-packages/pandas/core/indexes/base.py?line=6645'>6646</a>\u001b[0m \u001b[39mreturn\u001b[39;00m \u001b[39mself\u001b[39m\u001b[39m.\u001b[39mdelete(indexer)\n",
      "\u001b[1;31mKeyError\u001b[0m: \"['start station id', 'end station id'] not found in axis\""
     ]
    }
   ],
   "source": [
    "bike_df.drop(['start station id','end station id'],axis=1,inplace=True)"
   ]
  },
  {
   "cell_type": "code",
   "execution_count": 72,
   "metadata": {},
   "outputs": [
    {
     "name": "stdout",
     "output_type": "stream",
     "text": [
      "<class 'pandas.core.frame.DataFrame'>\n",
      "RangeIndex: 300000 entries, 0 to 299999\n",
      "Data columns (total 12 columns):\n",
      " #   Column                   Non-Null Count   Dtype  \n",
      "---  ------                   --------------   -----  \n",
      " 0   starttime                300000 non-null  object \n",
      " 1   stoptime                 300000 non-null  object \n",
      " 2   start station name       299831 non-null  object \n",
      " 3   start station latitude   300000 non-null  float64\n",
      " 4   start station longitude  300000 non-null  float64\n",
      " 5   end station name         299831 non-null  object \n",
      " 6   end station latitude     300000 non-null  float64\n",
      " 7   end station longitude    300000 non-null  float64\n",
      " 8   bikeid                   300000 non-null  int64  \n",
      " 9   usertype                 300000 non-null  object \n",
      " 10  birth year               300000 non-null  int64  \n",
      " 11  gender                   300000 non-null  int64  \n",
      "dtypes: float64(4), int64(3), object(5)\n",
      "memory usage: 27.5+ MB\n"
     ]
    }
   ],
   "source": [
    "bike_df.info()"
   ]
  },
  {
   "cell_type": "markdown",
   "metadata": {},
   "source": [
    "Замените признак birth year на более понятный признак возраста клиента age. Годом отсчёта возраста выберите 2018 год. Столбец birth year удалите из таблицы. Сколько поездок совершено клиентами старше 60 лет?"
   ]
  },
  {
   "cell_type": "code",
   "execution_count": 79,
   "metadata": {},
   "outputs": [
    {
     "data": {
      "text/plain": [
       "11837"
      ]
     },
     "execution_count": 79,
     "metadata": {},
     "output_type": "execute_result"
    }
   ],
   "source": [
    "#bike_df['age'] = 2018 - bike_df['birth year']\n",
    "#bike_df.drop(['birth year'],axis=1,inplace=True)\n",
    "bike_df[bike_df['age']>60].shape[0]"
   ]
  },
  {
   "cell_type": "markdown",
   "metadata": {},
   "source": [
    "Создайте признак длительности поездки trip duration. Для этого вычислите интервал времени между временем окончания поездки (stoptime) и временем её начала (starttime) в секундах. В качестве ответа запишите среднюю длительность поездки в секундах. Ответ округлите до целого."
   ]
  },
  {
   "cell_type": "code",
   "execution_count": 86,
   "metadata": {},
   "outputs": [
    {
     "data": {
      "text/plain": [
       "1000.0"
      ]
     },
     "execution_count": 86,
     "metadata": {},
     "output_type": "execute_result"
    }
   ],
   "source": [
    "bike_df['trip duration'] = (pd.to_datetime(bike_df['stoptime'])-pd.to_datetime(bike_df['starttime'])).dt.seconds\n",
    "round(bike_df['trip duration'].mean(),0)"
   ]
  },
  {
   "cell_type": "markdown",
   "metadata": {},
   "source": [
    "Создайте «признак-мигалку» weekend, который равен 1, если поездка начиналась в выходной день (суббота или воскресенье), и 0 — в противном случае. Выясните, сколько поездок начиналось в выходные"
   ]
  },
  {
   "cell_type": "code",
   "execution_count": 90,
   "metadata": {},
   "outputs": [
    {
     "data": {
      "text/plain": [
       "115135"
      ]
     },
     "execution_count": 90,
     "metadata": {},
     "output_type": "execute_result"
    }
   ],
   "source": [
    "bike_df['weekend'] = pd.to_datetime(bike_df['starttime']).dt.dayofweek.apply(lambda x: 1 if x in [5,6] else 0)\n",
    "bike_df[bike_df['weekend'] == 1].shape[0]"
   ]
  },
  {
   "cell_type": "markdown",
   "metadata": {},
   "source": [
    "Создайте признак времени суток поездки time_of_day. Время суток будем определять из часа начала поездки. Условимся, что:\n",
    "\n",
    "* поездка совершается ночью (night), если её час приходится на интервал от 0 (включительно) до 6 (включительно) часов;\n",
    "* поездка совершается утром (morning), если её час приходится на интервал от 6 (не включительно) до 12 (включительно) часов;\n",
    "* поездка совершается днём (day), если её час приходится на интервал от 12 (не включительно) до 18 (включительно) часов;\n",
    "* поездка совершается вечером (evening), если её час приходится на интервал от 18 (не включительно) до 23 часов (включительно).\n",
    "\n",
    "Во сколько раз количество поездок, совершённых днём, больше, чем количество поездок, совёршенных ночью, за представленный в данных период времени? Ответ округлите до целых."
   ]
  },
  {
   "cell_type": "code",
   "execution_count": 106,
   "metadata": {},
   "outputs": [
    {
     "data": {
      "text/plain": [
       "9.0"
      ]
     },
     "metadata": {},
     "output_type": "display_data"
    }
   ],
   "source": [
    "def defy_timeofday(x_date):\n",
    "    hour = x_date.hour\n",
    "    if hour in range(0,7):\n",
    "        return 'night'\n",
    "    elif hour in range(7,13):\n",
    "        return 'morning'\n",
    "    elif hour in range(13,19):\n",
    "        return 'day'\n",
    "    else:\n",
    "        return 'evening'\n",
    "time_of_day = pd.to_datetime(bike_df['starttime']).apply(defy_timeofday)\n",
    "display(round(time_of_day.value_counts().loc['day']/time_of_day.value_counts().loc['night'],0))"
   ]
  }
 ],
 "metadata": {
  "interpreter": {
   "hash": "ac59ebe37160ed0dfa835113d9b8498d9f09ceb179beaac4002f036b9467c963"
  },
  "kernelspec": {
   "display_name": "Python 3.9.10 64-bit",
   "language": "python",
   "name": "python3"
  },
  "language_info": {
   "codemirror_mode": {
    "name": "ipython",
    "version": 3
   },
   "file_extension": ".py",
   "mimetype": "text/x-python",
   "name": "python",
   "nbconvert_exporter": "python",
   "pygments_lexer": "ipython3",
   "version": "3.9.10"
  },
  "orig_nbformat": 4
 },
 "nbformat": 4,
 "nbformat_minor": 2
}
