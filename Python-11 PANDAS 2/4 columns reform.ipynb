{
 "cells": [
  {
   "cell_type": "markdown",
   "metadata": {},
   "source": [
    "# Создание и преобразование столбцов с помощью функций"
   ]
  },
  {
   "cell_type": "code",
   "execution_count": 59,
   "metadata": {},
   "outputs": [],
   "source": [
    "import pandas as pd\n",
    "from IPython.display import display\n",
    "melb_df = pd.read_csv('data/melb_data_ps.csv', sep=',')"
   ]
  },
  {
   "cell_type": "markdown",
   "metadata": {},
   "source": [
    "В наших данных есть столбец с адресами объектов недвижимости, где очень много уникальных значений"
   ]
  },
  {
   "cell_type": "code",
   "execution_count": 60,
   "metadata": {},
   "outputs": [
    {
     "name": "stdout",
     "output_type": "stream",
     "text": [
      "13378\n"
     ]
    }
   ],
   "source": [
    "# NUNIQUE() - метод позволяет узнать кол-во уникальных значений в столбце\n",
    "print(melb_df['Address'].nunique())"
   ]
  },
  {
   "cell_type": "markdown",
   "metadata": {},
   "source": [
    "Такой признак, скорее всего, не имеет **статистической значимости**, потому что не позволяет разделить данные на группы, которые можно сравнить по целевому признаку"
   ]
  },
  {
   "cell_type": "markdown",
   "metadata": {},
   "source": [
    "Попытаемся преобразовать адреса в более информативный для статистики тип (разделим на тип дороги - шоссе, проспект, улица и т п)"
   ]
  },
  {
   "cell_type": "code",
   "execution_count": 61,
   "metadata": {},
   "outputs": [
    {
     "name": "stdout",
     "output_type": "stream",
     "text": [
      "2/119 Railway St N\n",
      "9/400 Dandenong Rd\n",
      "172 Danks St\n"
     ]
    }
   ],
   "source": [
    "print(melb_df['Address'].loc[177])\n",
    "print(melb_df['Address'].loc[1812])\n",
    "print(melb_df['Address'].loc[9001])"
   ]
  },
  {
   "cell_type": "markdown",
   "metadata": {},
   "source": [
    "Итак, адрес строится следующим образом: сначала указывается номер дома и корпус, после указывается название улицы, а в конце — подтип улицы, но в некоторых случаях к подтипу добавляется географическая отметка (N — север, S — юг и т. д.), она нам не нужна . Для того чтобы выделить подтип улицы, на которой находится объект, можно использовать следующую функцию"
   ]
  },
  {
   "cell_type": "code",
   "execution_count": 62,
   "metadata": {},
   "outputs": [],
   "source": [
    "# На вход данной функции поступает строка с адресом.\n",
    "def get_street_type(address):\n",
    "# Создаём список географических пометок exclude_list.\n",
    "    exclude_list = ['N', 'S', 'W', 'E']\n",
    "# Метод split() разбивает строку на слова по пробелу.\n",
    "# В результате получаем список слов в строке и заносим его в переменную address_list.\n",
    "    address_list = address.split(' ')\n",
    "# Обрезаем список, оставляя в нём только последний элемент,\n",
    "# потенциальный подтип улицы, и заносим в переменную street_type.\n",
    "    street_type = address_list[-1]\n",
    "# Делаем проверку на то, что полученный подтип является географической пометкой.\n",
    "# Для этого проверяем его на наличие в списке exclude_list.\n",
    "    if street_type in exclude_list:\n",
    "# Если переменная street_type является географической пометкой,\n",
    "# переопределяем её на второй элемент с конца списка address_list.\n",
    "        street_type = address_list[-2]\n",
    "# Возвращаем переменную street_type, в которой хранится подтип улицы.\n",
    "    return street_type"
   ]
  },
  {
   "cell_type": "markdown",
   "metadata": {},
   "source": [
    "##### Метод apply() - возвращает результат применения функции (аргумента метода) к элементу столбца"
   ]
  },
  {
   "cell_type": "markdown",
   "metadata": {},
   "source": [
    "Теперь применим эту функцию к столбцу c адресом. Для этого передадим функцию get_street_type в аргумент метода столбца **apply()**. В результате получим объект Series, который положим в переменную street_types"
   ]
  },
  {
   "cell_type": "code",
   "execution_count": 63,
   "metadata": {},
   "outputs": [
    {
     "data": {
      "text/plain": [
       "0        St\n",
       "1        St\n",
       "2        St\n",
       "3        La\n",
       "4        St\n",
       "         ..\n",
       "13575    Cr\n",
       "13576    Dr\n",
       "13577    St\n",
       "13578    St\n",
       "13579    St\n",
       "Name: Address, Length: 13580, dtype: object"
      ]
     },
     "metadata": {},
     "output_type": "display_data"
    }
   ],
   "source": [
    "street_types = melb_df['Address'].apply(get_street_type)\n",
    "display(street_types)"
   ]
  },
  {
   "cell_type": "markdown",
   "metadata": {},
   "source": [
    "Функция-преобразование (lambda-функция-преобразование), которая возвращает вместо значений Avenue, Boulevard и Parade их топографические сокращения (Av, Bvd, Pde)"
   ]
  },
  {
   "cell_type": "code",
   "execution_count": 64,
   "metadata": {},
   "outputs": [],
   "source": [
    "dirty_names = ['Avenue', 'Boulevard', 'Parade']\n",
    "clear_names = ['Av', 'Bvd', 'Pde']\n",
    "street_types = street_types.apply(lambda x: x if x not in dirty_names else clear_names[dirty_names.index(x)])"
   ]
  },
  {
   "cell_type": "markdown",
   "metadata": {},
   "source": [
    "Теперь уникальных значений стало меньше (можно категоризировать данные из этого столбца)"
   ]
  },
  {
   "cell_type": "code",
   "execution_count": 65,
   "metadata": {},
   "outputs": [
    {
     "name": "stdout",
     "output_type": "stream",
     "text": [
      "53\n"
     ]
    }
   ],
   "source": [
    "print(street_types.nunique())"
   ]
  },
  {
   "cell_type": "markdown",
   "metadata": {},
   "source": [
    "Однако наш результат можно улучшить. Давайте для начала посмотрим на частоту каждого подтипа улицы с помощью метода value_counts"
   ]
  },
  {
   "cell_type": "code",
   "execution_count": 66,
   "metadata": {},
   "outputs": [
    {
     "data": {
      "text/plain": [
       "St           8012\n",
       "Rd           2825\n",
       "Ct            612\n",
       "Dr            447\n",
       "Av            361\n",
       "Gr            311\n",
       "Pde           226\n",
       "Pl            169\n",
       "Cr            152\n",
       "Cl            100\n",
       "La             67\n",
       "Bvd            66\n",
       "Tce            47\n",
       "Wy             40\n",
       "Cct            25\n",
       "Hwy            24\n",
       "Sq             11\n",
       "Crescent        9\n",
       "Cir             7\n",
       "Strand          7\n",
       "Esplanade       6\n",
       "Grove           5\n",
       "Mews            4\n",
       "Grn             4\n",
       "Fairway         4\n",
       "Gdns            4\n",
       "Righi           3\n",
       "Crossway        3\n",
       "Esp             2\n",
       "Victoria        2\n",
       "Ridge           2\n",
       "Crofts          2\n",
       "Grand           1\n",
       "Summit          1\n",
       "Hts             1\n",
       "Athol           1\n",
       "Highway         1\n",
       "Outlook         1\n",
       "Woodland        1\n",
       "Ave             1\n",
       "Gra             1\n",
       "Terrace         1\n",
       "Eyrie           1\n",
       "Dell            1\n",
       "East            1\n",
       "Loop            1\n",
       "Nook            1\n",
       "Glade           1\n",
       "Qy              1\n",
       "Cove            1\n",
       "Res             1\n",
       "Grange          1\n",
       "Corso           1\n",
       "Name: Address, dtype: int64"
      ]
     },
     "metadata": {},
     "output_type": "display_data"
    }
   ],
   "source": [
    "display(street_types.value_counts())"
   ]
  },
  {
   "cell_type": "markdown",
   "metadata": {},
   "source": [
    "В таком случае давайте применим очень распространённый метод уменьшения количества уникальных категорий — выделим n подтипов, которые встречаются чаще всего, а остальные обозначим как 'other' (другие)."
   ]
  },
  {
   "cell_type": "markdown",
   "metadata": {},
   "source": [
    "##### Метод nlargest() - возвращает n наибольших значений из Series"
   ]
  },
  {
   "cell_type": "markdown",
   "metadata": {},
   "source": [
    "Зададим n=10, т. е. мы хотим отобрать десять наиболее популярных подтипов. Извлечём их названия с помощью атрибута index, а результат занесём в переменную popular_stypes"
   ]
  },
  {
   "cell_type": "code",
   "execution_count": 67,
   "metadata": {},
   "outputs": [
    {
     "name": "stdout",
     "output_type": "stream",
     "text": [
      "Index(['St', 'Rd', 'Ct', 'Dr', 'Av', 'Gr', 'Pde', 'Pl', 'Cr', 'Cl'], dtype='object')\n"
     ]
    }
   ],
   "source": [
    "popular_stypes = street_types.value_counts().nlargest(10).index # INDEX - извлечение столбца с названием строк (индексов)\n",
    "print(popular_stypes)"
   ]
  },
  {
   "cell_type": "markdown",
   "metadata": {},
   "source": [
    "##### lambda-функция"
   ]
  },
  {
   "cell_type": "markdown",
   "metadata": {},
   "source": [
    "Теперь, когда у нас есть список наиболее популярных подтипов улиц, введём **lambda-функцию**, которая будет проверять, есть ли строка **x** в этом перечне, и, если это так, lambda-функция будет возвращать x, в противном случае она будет возвращать строку 'other'. Наконец, применим такую функцию к Series street_types, полученной ранее, а результат определим в новый столбец таблицы StreetType:"
   ]
  },
  {
   "cell_type": "code",
   "execution_count": 68,
   "metadata": {},
   "outputs": [
    {
     "data": {
      "text/plain": [
       "0           St\n",
       "1           St\n",
       "2           St\n",
       "3        other\n",
       "4           St\n",
       "         ...  \n",
       "13575       Cr\n",
       "13576       Dr\n",
       "13577       St\n",
       "13578       St\n",
       "13579       St\n",
       "Name: StreetType, Length: 13580, dtype: object"
      ]
     },
     "metadata": {},
     "output_type": "display_data"
    }
   ],
   "source": [
    "melb_df['StreetType'] = street_types.apply(lambda x: x if x in popular_stypes else 'other') # новый столбец в датафрейм = список_типов(вернуть элемент списка если он есть в популярных_типах иначе вернуть \"другой\")\n",
    "display(melb_df['StreetType'])"
   ]
  },
  {
   "cell_type": "code",
   "execution_count": 69,
   "metadata": {},
   "outputs": [
    {
     "name": "stdout",
     "output_type": "stream",
     "text": [
      "11\n"
     ]
    }
   ],
   "source": [
    "# Результирующее число подтипов улиц в получившемся столбце\n",
    "print(melb_df['StreetType'].nunique())"
   ]
  },
  {
   "cell_type": "markdown",
   "metadata": {},
   "source": [
    "Удалим \"Адрес\" из нашей таблицы (теперь если что, у нас есть координаты)"
   ]
  },
  {
   "cell_type": "code",
   "execution_count": 70,
   "metadata": {},
   "outputs": [],
   "source": [
    "melb_df = melb_df.drop('Address', axis=1)"
   ]
  },
  {
   "cell_type": "markdown",
   "metadata": {},
   "source": [
    "##### Задачи"
   ]
  },
  {
   "cell_type": "markdown",
   "metadata": {},
   "source": [
    "Ранее, в задании 3.3, мы создали признак WeekdaySale в таблице melb_df — день недели продажи. Из полученных в задании результатов можно сделать вывод, что объекты недвижимости в Мельбурне продаются преимущественно по выходным (суббота и воскресенье).\n",
    "\n",
    "Напишите функцию get_weekend(weekday), которая принимает на вход элемент столбца WeekdaySale и возвращает 1, если день является выходным, и 0 — в противном случае, и создайте столбец Weekend в таблице melb_df с помощью неё.\n",
    "\n",
    "Примените эту функцию к столбцу и вычислите среднюю цену объекта недвижимости, проданного в выходные дни. Результат округлите до целых."
   ]
  },
  {
   "cell_type": "code",
   "execution_count": 81,
   "metadata": {},
   "outputs": [
    {
     "data": {
      "text/plain": [
       "1081199.0"
      ]
     },
     "metadata": {},
     "output_type": "display_data"
    },
    {
     "data": {
      "text/plain": [
       "1081199.0"
      ]
     },
     "metadata": {},
     "output_type": "display_data"
    }
   ],
   "source": [
    "# функция\n",
    "def get_weekend(weekday):\n",
    "    type_of_day = 0\n",
    "    if weekday == 5 or weekday == 6:\n",
    "        type_of_day = 1\n",
    "    return type_of_day\n",
    "# применим к столбцу\n",
    "melb_df['Weekend'] = melb_df['WeekdaySale'].apply(get_weekend)\n",
    "aver_price_weekend = melb_df[melb_df['Weekend'] == 1]['Price'].mean()\n",
    "display(round(aver_price_weekend,0))\n",
    "\n",
    "# то же самое через лямбду\n",
    "melb_df['Weekend'] = melb_df['WeekdaySale'].apply(lambda x: 1 if x in [5,6] else 0)\n",
    "aver_price_weekend = melb_df[melb_df['Weekend'] == 1]['Price'].mean()\n",
    "display(round(aver_price_weekend,0))"
   ]
  },
  {
   "cell_type": "markdown",
   "metadata": {},
   "source": [
    "Преобразуйте столбец SellerG с наименованиями риелторских компаний в таблице melb_df следующим образом: оставьте в столбце только 49 самых популярных компаний, а остальные обозначьте как 'other'.\n",
    "\n",
    "Найдите, во сколько раз минимальная цена объектов недвижимости, проданных компанией 'Nelson', больше минимальной цены объектов, проданных компаниями, обозначенными как 'other'. Ответ округлите до десятых."
   ]
  },
  {
   "cell_type": "code",
   "execution_count": 91,
   "metadata": {},
   "outputs": [
    {
     "data": {
      "text/plain": [
       "Nelson           1565\n",
       "Jellis           1316\n",
       "other            1234\n",
       "hockingstuart    1167\n",
       "Barry            1011\n",
       "Ray               701\n",
       "Marshall          659\n",
       "Buxton            632\n",
       "Biggin            393\n",
       "Brad              342\n",
       "Woodards          301\n",
       "Fletchers         301\n",
       "Jas               243\n",
       "Greg              239\n",
       "McGrath           222\n",
       "Sweeney           216\n",
       "Noel              205\n",
       "Miles             196\n",
       "RT                184\n",
       "Gary              170\n",
       "Harcourts         168\n",
       "Hodges            157\n",
       "YPA               154\n",
       "Stockdale         150\n",
       "Village           125\n",
       "Kay               119\n",
       "Raine             116\n",
       "Williams          111\n",
       "Love              109\n",
       "Douglas            97\n",
       "Chisholm           77\n",
       "RW                 70\n",
       "Rendina            66\n",
       "HAR                62\n",
       "O'Brien            61\n",
       "C21                57\n",
       "Collins            56\n",
       "Cayzer             52\n",
       "Purplebricks       51\n",
       "Eview              51\n",
       "Philip             48\n",
       "Buckingham         46\n",
       "Bells              44\n",
       "Thomson            42\n",
       "Alexkarbon         40\n",
       "Nick               40\n",
       "Burnham            39\n",
       "McDonald           39\n",
       "Moonee             36\n",
       "Name: SellerG, dtype: int64"
      ]
     },
     "metadata": {},
     "output_type": "display_data"
    },
    {
     "data": {
      "text/plain": [
       "Index(['Nelson', 'Jellis', 'other', 'hockingstuart', 'Barry', 'Ray',\n",
       "       'Marshall', 'Buxton', 'Biggin', 'Brad', 'Woodards', 'Fletchers', 'Jas',\n",
       "       'Greg', 'McGrath', 'Sweeney', 'Noel', 'Miles', 'RT', 'Gary',\n",
       "       'Harcourts', 'Hodges', 'YPA', 'Stockdale', 'Village', 'Kay', 'Raine',\n",
       "       'Williams', 'Love', 'Douglas', 'Chisholm', 'RW', 'Rendina', 'HAR',\n",
       "       'O'Brien', 'C21', 'Collins', 'Cayzer', 'Purplebricks', 'Eview',\n",
       "       'Philip', 'Buckingham', 'Bells', 'Thomson', 'Alexkarbon', 'Nick',\n",
       "       'Burnham', 'McDonald', 'Moonee'],\n",
       "      dtype='object')"
      ]
     },
     "metadata": {},
     "output_type": "display_data"
    },
    {
     "data": {
      "text/plain": [
       "1.3"
      ]
     },
     "metadata": {},
     "output_type": "display_data"
    }
   ],
   "source": [
    "# показать ассортимент продавцов\n",
    "display(melb_df['SellerG'].value_counts())\n",
    "# создать список уникальных имён продавцов\n",
    "popular_sellers = melb_df['SellerG'].value_counts().nlargest(49).index\n",
    "# показать его\n",
    "display(popular_sellers)\n",
    "# изменить столбец со старыми продавцами, чтоб в нем были только 49 самых популярных и \"другие\"\n",
    "melb_df['SellerG'] = melb_df['SellerG'].apply(lambda x: x if x in popular_sellers else 'other')\n",
    "# во сколько раз минимальная цена продажи \"Нельсоном\" больше минимальной цены продажи \"другими\"\n",
    "min_comparer = (melb_df[melb_df['SellerG'] == \"Nelson\"][\"Price\"].min())/(melb_df[melb_df['SellerG'] == \"other\"][\"Price\"].min())\n",
    "display(round(min_comparer,1))"
   ]
  },
  {
   "cell_type": "markdown",
   "metadata": {},
   "source": [
    "Напишите функцию get_experience(arg), аргументом которой является строка столбца с опытом работы. Функция должна возвращать опыт работы в месяцах."
   ]
  },
  {
   "cell_type": "code",
   "execution_count": 92,
   "metadata": {},
   "outputs": [
    {
     "name": "stdout",
     "output_type": "stream",
     "text": [
      "0    99\n",
      "1    41\n",
      "2    21\n",
      "3     3\n",
      "4    72\n",
      "dtype: int64\n"
     ]
    }
   ],
   "source": [
    "def get_experience(arg):\n",
    "    \"\"\"\n",
    "    Напишите функцию get_experience(arg), аргументом которой является строка столбца с опытом работы. \n",
    "    Функция должна возвращать опыт работы в месяцах. Не забудьте привести результат к целому числу.\n",
    "    \"\"\"\n",
    "    month_amount = 0\n",
    "    month_words_list = ['месяц', 'месяца', 'месяцев']\n",
    "    year_words_list = ['год', 'года', 'лет']\n",
    "    arg_list = arg.split(' ')\n",
    "    arg_list[-1]\n",
    "    if arg_list[-1] in month_words_list:\n",
    "        month_amount = int(arg_list[-2])\n",
    "        if arg_list[-3] in year_words_list:\n",
    "            month_amount += int(arg_list[-4])*12\n",
    "    elif arg_list[-1] in year_words_list:\n",
    "        month_amount = int(arg_list[-2])*12\n",
    "    return month_amount\n",
    "\n",
    "if __name__ == '__main__':\n",
    "    experience_col = pd.Series([\n",
    "        'Опыт работы 8 лет 3 месяца',\n",
    "        'Опыт работы 3 года 5 месяцев',\n",
    "        'Опыт работы 1 год 9 месяцев',\n",
    "        'Опыт работы 3 месяца',\n",
    "        'Опыт работы 6 лет'\n",
    "        ])\n",
    "    experience_month = experience_col.apply(get_experience)\n",
    "    print(experience_month)"
   ]
  }
 ],
 "metadata": {
  "interpreter": {
   "hash": "ac59ebe37160ed0dfa835113d9b8498d9f09ceb179beaac4002f036b9467c963"
  },
  "kernelspec": {
   "display_name": "Python 3.9.10 64-bit",
   "language": "python",
   "name": "python3"
  },
  "language_info": {
   "codemirror_mode": {
    "name": "ipython",
    "version": 3
   },
   "file_extension": ".py",
   "mimetype": "text/x-python",
   "name": "python",
   "nbconvert_exporter": "python",
   "pygments_lexer": "ipython3",
   "version": "3.9.10"
  },
  "orig_nbformat": 4
 },
 "nbformat": 4,
 "nbformat_minor": 2
}
