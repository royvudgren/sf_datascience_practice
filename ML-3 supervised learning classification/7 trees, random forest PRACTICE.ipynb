{
 "cells": [
  {
   "cell_type": "markdown",
   "metadata": {},
   "source": [
    "# **Деревья решений и случайный лес. Практика**"
   ]
  },
  {
   "cell_type": "markdown",
   "metadata": {},
   "source": [
    "✍ Настало время попрактиковаться в использовании деревьев решений и случайного леса для решения задачи классификации.\n",
    "\n",
    "Продолжим решение задачи об оттоке клиентов банка, которую мы решали в юните 4. Ранее мы построили модель логистической регрессии, затем добавили в модель полиномиальные признаки и подобрали оптимальный порог вероятности для логистической регрессии.\n",
    "\n",
    "→ Теперь попробуем решить задачу с помощью деревьев решений и лесов.\n",
    "\n",
    "Деревья решений — алгоритм, способный уловить нелинейные зависимости. Генерация полиномиальных признаков практически не имеет значения.\n",
    "\n",
    "Поэтому для решения задачи используйте обучающую (X_train, y_train) и тестовую (X_test, y_test) выборки без полиномиальных столбцов."
   ]
  },
  {
   "cell_type": "code",
   "execution_count": 3,
   "metadata": {},
   "outputs": [],
   "source": [
    "import numpy as np #для матричных вычислений\n",
    "import pandas as pd #для анализа и предобработки данных\n",
    "import matplotlib.pyplot as plt #для визуализации\n",
    "import seaborn as sns #для визуализации\n",
    "\n",
    "from sklearn import linear_model #линейные модели\n",
    "from sklearn import metrics #метрики\n",
    "from sklearn.model_selection import train_test_split #разделение выборки\n",
    "from sklearn import preprocessing #предобработка\n",
    "%matplotlib inline\n",
    "plt.style.use('seaborn')\n",
    "\n",
    "# модели деревьев решений\n",
    "from sklearn import tree \n",
    "\n",
    "# импорт модуля для ансамблей\n",
    "from sklearn import ensemble\n",
    "\n",
    "# прочитаем нашу таблицу:\n",
    "churn_data = pd.read_csv('data/churn.csv')\n",
    "\n",
    "# Берём только немецкий филиал\n",
    "churn_data = churn_data[churn_data['Geography'] == 'Germany']\n",
    "\n",
    "# Сразу избавимся от заведомо неинформативных признаков: страна, номер строки, идентификатор пользователя и имя клиента.\n",
    "churn_data = churn_data.drop(['Geography', 'RowNumber', 'CustomerId', 'Surname'], axis=1)\n",
    "\n",
    "# добавляем новые признаки\n",
    "churn_data['BalanceSalaryRatio'] = churn_data['Balance']/churn_data['EstimatedSalary']\n",
    "churn_data['TenureByAge'] = churn_data['Tenure']/(churn_data['Age'])\n",
    "churn_data['CreditScoreGivenAge'] = churn_data['CreditScore']/(churn_data['Age'])\n",
    "\n",
    "# Также перекодируем единственный текстовый категориальный признак\n",
    "# Gender в бинарный столбец (1 — 'Male', 0 — 'Female'):\n",
    "churn_data['Gender'] = churn_data['Gender'].apply(lambda x: 1 if x=='Male' else 0)\n",
    "\n",
    "# Разделим набор данных на матрицу наблюдений X и столбец ответов y:\n",
    "X = churn_data.drop(\"Exited\", axis=1)\n",
    "y = churn_data[\"Exited\"]\n",
    "\n",
    "# И, наконец, заранее позаботимся о масштабах признаков.\n",
    "# Проведём нормализацию матрицы наблюдений X:\n",
    "scaler = preprocessing.MinMaxScaler()\n",
    "scaler.fit(X)\n",
    "X_scaled = scaler.transform(X)\n",
    "\n",
    "# Выполним разбиение, установив значением параметра random_state число 0:\n",
    "X_train, X_test, y_train, y_test = train_test_split(X_scaled, y, stratify=y, random_state=0)"
   ]
  },
  {
   "cell_type": "markdown",
   "metadata": {},
   "source": [
    "***\n",
    "## **ЗАДАЧИ**"
   ]
  },
  {
   "cell_type": "markdown",
   "metadata": {},
   "source": [
    "Обучите на обучающей выборке дерево решений с **максимальной глубиной 8**. В качестве **критерия информативности** используйте **энтропию Шеннона**. **Минимальное число объектов** в листе (количество объектов, при которых дерево прекратит делиться и образуется лист) — **10**.\n",
    "\n",
    "В качестве значения параметра **random_state** возьмите число **42**. Остальные параметры оставьте по умолчанию.\n",
    "\n",
    "Сделайте предсказания для **тренировочной** и **тестовой** выборок.\n",
    "\n",
    "Чему равно значение **целевой метрики (F1)** на каждой из выборок? Ответ округлите до двух знаков после точки-разделителя."
   ]
  },
  {
   "cell_type": "code",
   "execution_count": 8,
   "metadata": {},
   "outputs": [
    {
     "name": "stdout",
     "output_type": "stream",
     "text": [
      "0.72\n",
      "0.64\n"
     ]
    }
   ],
   "source": [
    "#Создаём объект класса DecisionTreeClassifier\n",
    "dt_clf_full = tree.DecisionTreeClassifier(\n",
    "    criterion='entropy', #критерий информативности\n",
    "    max_depth=8, #максимальная глубина дерева\n",
    "    min_samples_leaf=10, #минимальное число объектов в листе\n",
    "    random_state=42 #генератор случайных чисел\n",
    ")\n",
    "#Обучаем модель по алгоритму CART\n",
    "dt_clf_full.fit(X_train, y_train)\n",
    " \n",
    "#Делаем предсказание класса для train\n",
    "y_pred = dt_clf_full.predict(X_train)\n",
    "#Выводим отчёт о метриках\n",
    "print(metrics.f1_score(y_train, y_pred).round(2))\n",
    "\n",
    "#Делаем предсказание класса для test\n",
    "y_pred = dt_clf_full.predict(X_test)\n",
    "#Выводим отчёт о метриках\n",
    "print(metrics.f1_score(y_test, y_pred).round(2))"
   ]
  },
  {
   "cell_type": "markdown",
   "metadata": {},
   "source": [
    "Постройте случайный лес из **500 деревьев** с **максимальной глубиной 8**. Критерий информативности — **энтропия Шеннона**. **Минимальное число объектов в листе** (количество объектов, при которых дерево прекратит делиться и образуется лист) — **10**.\n",
    "\n",
    "В качестве значения параметра **random_state** возьмите число **42**. Остальные параметры оставьте по умолчанию.\n",
    "\n",
    "Сделайте предсказания для тренировочной и тестовой выборок.\n",
    "\n",
    "Чему равно **значение целевой метрики** на **каждой из выборок**? Ответ округлите до двух знаков после точки-разделителя.\n",
    "\n",
    "Сравните качество одного дерева решений с качеством случайного леса на тестовой выборке. Смогли ли вы улучшить метрику?"
   ]
  },
  {
   "cell_type": "code",
   "execution_count": 10,
   "metadata": {},
   "outputs": [
    {
     "name": "stdout",
     "output_type": "stream",
     "text": [
      "0.74\n",
      "0.66\n"
     ]
    }
   ],
   "source": [
    "#Создаём объект класса RandomForestClassifier\n",
    "churn_forest = ensemble.RandomForestClassifier(\n",
    "    n_estimators=500, #число деревьев\n",
    "    criterion='entropy', #критерий эффективности\n",
    "    max_depth=8, #максимальная глубина дерева\n",
    "    min_samples_leaf=10,\n",
    "    #max_features='sqrt', #число признаков из метода случайных подпространств\n",
    "    random_state=42 #генератор случайных чисел\n",
    ")\n",
    "\n",
    "\n",
    "#Обучаем модель\n",
    "churn_forest.fit(X_train, y_train)\n",
    "\n",
    "\n",
    "#Делаем предсказание класса train\n",
    "y_pred_train = churn_forest.predict(X_train)\n",
    "#Выводим отчёт о метриках\n",
    "print(metrics.f1_score(y_train, y_pred_train).round(2))\n",
    "\n",
    "#Делаем предсказание класса test\n",
    "y_pred_test = churn_forest.predict(X_test)\n",
    "#Выводим отчёт о метриках\n",
    "print(metrics.f1_score(y_test, y_pred_test).round(2))"
   ]
  },
  {
   "cell_type": "markdown",
   "metadata": {},
   "source": [
    "Попробуйте подобрать значение порога вероятности, при котором наблюдается наибольшее значение целевой метрики на тестовой выборке. Используйте модель, которая показала наилучшее качество.\n",
    "\n",
    "В качестве порога вероятности используйте значения из следующего диапазона:\n",
    "\n",
    "thresholds = np.arange(0.1, 1, 0.05)\n",
    "Напомним, как определить оптимальный порог вероятности:\n",
    "\n",
    "1. Предсказать вероятности оттока для каждого клиента из тестовой выборки.\n",
    "2. В цикле перебирать значения порогов вероятности threshold.\n",
    "    2.1 Сделать предсказание класса по принципу: если вероятность  threshold, отнести объект к классу 1, в противном случае — к классу 0.\n",
    "    2.2 Рассчитать метрику и занести её в заранее созданный список.\n",
    "\n",
    "Постройте график зависимости целевой метрики от порога вероятности.\n",
    "\n",
    "Какому порогу вероятности соответствует наибольшее значение целевой метрики? Ответ округлите до двух знаков после точки-разделителя."
   ]
  },
  {
   "cell_type": "code",
   "execution_count": 11,
   "metadata": {},
   "outputs": [
    {
     "data": {
      "image/png": "[encoded data removed]",
      "text/plain": [
       "<Figure size 1440x1080 with 1 Axes>"
      ]
     },
     "metadata": {},
     "output_type": "display_data"
    }
   ],
   "source": [
    "#Считаем вероятности наличия диабета для каждого из пациентов\n",
    "#Нас интересует только вероятность класса (второй столбец)\n",
    "y_proba_test = churn_forest.predict_proba(X_test)[:, 1]\n",
    "#Для удобства завернём numpy-массив в Pandas Series\n",
    "y_proba_test = pd.Series(y_proba_test)\n",
    "\n",
    "#Создадим списки, в которых будем хранить значения метрик \n",
    "f1_scores = []\n",
    "#Сгенерируем набор вероятностных порогов в диапазоне от 0.1 до 1\n",
    "thresholds = np.arange(0.1, 1, 0.05)\n",
    "#В цикле будем перебирать сгенерированные пороги\n",
    "for threshold in thresholds:\n",
    "    y_pred = y_proba_test.apply(lambda x: 1 if x>threshold else 0)\n",
    "    f1_scores.append(metrics.f1_score(y_test, y_pred))\n",
    "\n",
    "\n",
    "#Визуализируем метрики при различных threshold\n",
    "fig, ax = plt.subplots(figsize=(20, 15)) #фигура + координатная плоскость\n",
    "#Строим линейный график зависимости F1 от threshold\n",
    "ax.plot(thresholds, f1_scores, label='F1-score')\n",
    "\n",
    "#Даём графику название и подписываем оси\n",
    "ax.set_title('F1 dependence on the threshold')\n",
    "ax.set_xlabel('Probability threshold')\n",
    "ax.set_ylabel('Score')\n",
    "#Устанавливаем отметки по оси x\n",
    "ax.set_xticks(thresholds) \n",
    "#Отображаем легенду\n",
    "ax.legend();"
   ]
  },
  {
   "cell_type": "markdown",
   "metadata": {},
   "source": [
    "Сделайте предсказание на тестовой выборке с подобранным порогом вероятности. Используйте модель, показавшую наилучшее качество.\n",
    "\n",
    "Чему равно значение целевой метрики на тестовой выборке? Ответ округлите до двух знаков после точки-разделителя."
   ]
  },
  {
   "cell_type": "code",
   "execution_count": 12,
   "metadata": {},
   "outputs": [
    {
     "name": "stdout",
     "output_type": "stream",
     "text": [
      "0.7\n"
     ]
    }
   ],
   "source": [
    "#Задаём оптимальный порог вероятностей\n",
    "threshold_opt = 0.35\n",
    "y_pred_opt = y_proba_test.apply(lambda x: 1 if x > threshold_opt else 0)\n",
    "#Считаем метрики\n",
    "print(metrics.f1_score(y_test, y_pred_opt).round(2))"
   ]
  }
 ],
 "metadata": {
  "kernelspec": {
   "display_name": "Python 3.9.10 64-bit",
   "language": "python",
   "name": "python3"
  },
  "language_info": {
   "codemirror_mode": {
    "name": "ipython",
    "version": 3
   },
   "file_extension": ".py",
   "mimetype": "text/x-python",
   "name": "python",
   "nbconvert_exporter": "python",
   "pygments_lexer": "ipython3",
   "version": "3.9.10"
  },
  "orig_nbformat": 4,
  "vscode": {
   "interpreter": {
    "hash": "11938c6bc6919ae2720b4d5011047913343b08a43b18698fd82dedb0d4417594"
   }
  }
 },
 "nbformat": 4,
 "nbformat_minor": 2
}
