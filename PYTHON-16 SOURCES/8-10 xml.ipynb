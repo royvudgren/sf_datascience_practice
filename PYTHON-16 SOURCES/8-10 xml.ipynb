{
 "cells": [
  {
   "cell_type": "markdown",
   "metadata": {},
   "source": [
    "# **XML**"
   ]
  },
  {
   "cell_type": "markdown",
   "metadata": {},
   "source": [
    "Аббревиатура **XML** расшифровывается как eXtensible Markup Language — расширяемый язык разметки. Он (язык) позволяет описывать документы, используя теги.\n",
    "\n",
    "![пример](https://lms.skillfactory.ru/assets/courseware/v1/f92e35f47fa17ac0ddd40efde0e3389d/asset-v1:SkillFactory+DSPR-2.0+14JULY2021+type@asset+block/xml_0.jpg)"
   ]
  },
  {
   "cell_type": "code",
   "execution_count": 2,
   "metadata": {},
   "outputs": [],
   "source": [
    "import pandas as pd\n",
    "from IPython.display import display\n",
    "# Импортируем модуль ElementTree\n",
    "import xml.etree.ElementTree as ET"
   ]
  },
  {
   "cell_type": "markdown",
   "metadata": {},
   "source": [
    "##### **ИЗВЛЕКАЕМ КОНТЕНТ ИЗ XML-ФАЙЛА**\n",
    "***\n",
    "Данные в формате XML имеют **древовидную** структуру.  \n",
    "Самый верхнеуровневый узел называется **корнем**, а всё, что находится в самом низу, называется **листьями**.  \n",
    "Кроме того, у menu есть **дети (потомки)** — это два узла dish, имеющие разное значение атрибута name.  \n",
    "Для работы с XML-файлами мы будем использовать модуль **ElementTree**, входящий в стандартный пакет xml. Этот модуль позволит нам «перемещаться» по дереву XML и смотреть, что находится в каждом его узле, начиная с корня и заканчивая листьями.  \n"
   ]
  },
  {
   "cell_type": "code",
   "execution_count": 4,
   "metadata": {},
   "outputs": [],
   "source": [
    "# считаем содержимое файла в переменную tree\n",
    "tree = ET.parse('data/menu.xml')"
   ]
  },
  {
   "cell_type": "markdown",
   "metadata": {},
   "source": [
    "##### **КОРЕНЬ**\n",
    "***\n",
    "Запишем в переменную root корневой узел дерева tree и посмотрим, как выглядит содержимое переменной root, для чего выполним код:"
   ]
  },
  {
   "cell_type": "code",
   "execution_count": 5,
   "metadata": {},
   "outputs": [
    {
     "data": {
      "text/plain": [
       "<Element 'menu' at 0x000001F27739DA90>"
      ]
     },
     "metadata": {},
     "output_type": "display_data"
    }
   ],
   "source": [
    "root = tree.getroot()\n",
    "display(root)"
   ]
  },
  {
   "cell_type": "code",
   "execution_count": 6,
   "metadata": {},
   "outputs": [
    {
     "data": {
      "text/plain": [
       "xml.etree.ElementTree.Element"
      ]
     },
     "metadata": {},
     "output_type": "display_data"
    }
   ],
   "source": [
    "display(type(root))"
   ]
  },
  {
   "cell_type": "markdown",
   "metadata": {},
   "source": [
    "Если мы вызовем встроенный в Python метод type() и передадим ему root , то увидим, что это тип **xml.etree.ElementTree.Element**. Такой тип будет **у любого узла в дереве**."
   ]
  },
  {
   "cell_type": "markdown",
   "metadata": {},
   "source": [
    "##### **ПОТОМКИ**\n",
    "***\n",
    "Для того чтобы посмотреть список потомков корневого узла, выполним следующий код (Если у узла нет потомков, то вернётся пустой список — [].):"
   ]
  },
  {
   "cell_type": "code",
   "execution_count": 7,
   "metadata": {},
   "outputs": [
    {
     "data": {
      "text/plain": [
       "[<Element 'dish' at 0x000001F2785ED9A0>,\n",
       " <Element 'dish' at 0x000001F2785EDAE0>]"
      ]
     },
     "metadata": {},
     "output_type": "display_data"
    }
   ],
   "source": [
    "display(list(root))"
   ]
  },
  {
   "cell_type": "markdown",
   "metadata": {},
   "source": [
    "Для того чтобы получить список потомков второго (?)блюда в нашем меню и вывести его на экран, выполним код:"
   ]
  },
  {
   "cell_type": "code",
   "execution_count": 8,
   "metadata": {},
   "outputs": [
    {
     "data": {
      "text/plain": [
       "[<Element 'price' at 0x000001F2785EDB30>,\n",
       " <Element 'weight' at 0x000001F2785EDB80>,\n",
       " <Element 'class' at 0x000001F2785EDA90>]"
      ]
     },
     "metadata": {},
     "output_type": "display_data"
    }
   ],
   "source": [
    "display(list(root[1]))"
   ]
  },
  {
   "cell_type": "markdown",
   "metadata": {},
   "source": [
    "##### **АТРИБУТЫ И ТЕГИ**\n",
    "***\n",
    "Как было сказано ранее, у узлов могут быть параметры, или атрибуты. Например, у узлов dish есть атрибут name, который хранит название блюда."
   ]
  },
  {
   "cell_type": "code",
   "execution_count": 9,
   "metadata": {},
   "outputs": [
    {
     "data": {
      "text/plain": [
       "{'name': 'Кура'}"
      ]
     },
     "metadata": {},
     "output_type": "display_data"
    }
   ],
   "source": [
    "# Выведем на экран атрибуты первого блюда из меню:\n",
    "display(root[0].attrib)"
   ]
  },
  {
   "cell_type": "code",
   "execution_count": 10,
   "metadata": {},
   "outputs": [
    {
     "data": {
      "text/plain": [
       "<Element 'price' at 0x000001F2785ED8B0>"
      ]
     },
     "metadata": {},
     "output_type": "display_data"
    },
    {
     "data": {
      "text/plain": [
       "'40'"
      ]
     },
     "metadata": {},
     "output_type": "display_data"
    }
   ],
   "source": [
    "# возьмём узел price первого блюда из меню\n",
    "display(root[0][0])\n",
    "# Теперь прочитаем значение этого узла с помощью text\n",
    "display(root[0][0].text)"
   ]
  },
  {
   "cell_type": "markdown",
   "metadata": {},
   "source": [
    "Все значения в XML, даже числовые, хранятся как строки, поэтому преобразовывать их к нужному типу придётся самим.  \n",
    "Например, в данном случае можно обернуть значение стоимости в int() или float()."
   ]
  },
  {
   "cell_type": "code",
   "execution_count": 12,
   "metadata": {},
   "outputs": [
    {
     "data": {
      "text/plain": [
       "'class'"
      ]
     },
     "metadata": {},
     "output_type": "display_data"
    }
   ],
   "source": [
    "# получим наименование тега третьего потомка указанного родителя\n",
    "display(root[0][2].tag)"
   ]
  },
  {
   "cell_type": "markdown",
   "metadata": {},
   "source": [
    "##### **ИСПОЛЬЗОВАНИЕ ЦИКЛОВ**\n",
    "***\n",
    "Используя цикл for, автоматизируем обход дерева. Для этого напишем следующий код:  "
   ]
  },
  {
   "cell_type": "code",
   "execution_count": 13,
   "metadata": {},
   "outputs": [
    {
     "name": "stdout",
     "output_type": "stream",
     "text": [
      "Кура price 40\n",
      "Кура weight 300\n",
      "Кура class Мясо\n",
      "\n",
      "Греча price 20\n",
      "Греча weight 200\n",
      "Греча class Крупа\n",
      "\n"
     ]
    }
   ],
   "source": [
    "# перебираем всех потомков первого поколения\n",
    "for dish in root: \n",
    "    for param in dish: # перебираем все параметры каждого из потомков\n",
    "        print(dish.attrib['name'], param.tag, param.text) # выводим: имя потомка, тег параметра, строковое значение параметра\n",
    "    print() # отделаем вывод каждого потомка пустой строкой"
   ]
  },
  {
   "cell_type": "markdown",
   "metadata": {},
   "source": [
    "# **XML. Загружаем, создаем, сохраняем**"
   ]
  },
  {
   "cell_type": "markdown",
   "metadata": {},
   "source": [
    "##### **ЗАГРУЖАЕМ ДАННЫЕ ИЗ XML-ФАЙЛА В DATAFRAME**\n",
    "***\n",
    "Cтандартных средств для превращения XML-файла в DataFrame нет, но если XML-файл содержит чёткую структуру, сделать это средствами Python достаточно просто."
   ]
  },
  {
   "cell_type": "code",
   "execution_count": 21,
   "metadata": {},
   "outputs": [
    {
     "data": {
      "text/html": [
       "<div>\n",
       "<style scoped>\n",
       "    .dataframe tbody tr th:only-of-type {\n",
       "        vertical-align: middle;\n",
       "    }\n",
       "\n",
       "    .dataframe tbody tr th {\n",
       "        vertical-align: top;\n",
       "    }\n",
       "\n",
       "    .dataframe thead th {\n",
       "        text-align: right;\n",
       "    }\n",
       "</style>\n",
       "<table border=\"1\" class=\"dataframe\">\n",
       "  <thead>\n",
       "    <tr style=\"text-align: right;\">\n",
       "      <th></th>\n",
       "      <th>name</th>\n",
       "      <th>price</th>\n",
       "      <th>weight</th>\n",
       "      <th>class</th>\n",
       "    </tr>\n",
       "  </thead>\n",
       "  <tbody>\n",
       "    <tr>\n",
       "      <th>0</th>\n",
       "      <td>Кура</td>\n",
       "      <td>40</td>\n",
       "      <td>300</td>\n",
       "      <td>Мясо</td>\n",
       "    </tr>\n",
       "    <tr>\n",
       "      <th>1</th>\n",
       "      <td>Греча</td>\n",
       "      <td>20</td>\n",
       "      <td>200</td>\n",
       "      <td>Крупа</td>\n",
       "    </tr>\n",
       "  </tbody>\n",
       "</table>\n",
       "</div>"
      ],
      "text/plain": [
       "    name price weight  class\n",
       "0   Кура    40    300   Мясо\n",
       "1  Греча    20    200  Крупа"
      ]
     },
     "metadata": {},
     "output_type": "display_data"
    }
   ],
   "source": [
    "column_names = ['name', 'price', 'weight', 'class'] # список названий столбцов\n",
    "df_list = []\n",
    "\n",
    "for dish in root: # проходим по каждому потомку\n",
    "    row = [dish.attrib['name'], dish[0].text, dish[1].text, dish[2].text] # формируем строку будущей таблицы в виде: имя потомка, значение первого узла, второго и т д\n",
    "    df_list.append(row) # заливаем получившийся список в список\n",
    "df = pd.DataFrame(df_list, columns=column_names) # просто вставляем список со списками в датафрейм\n",
    "display(df)"
   ]
  },
  {
   "cell_type": "markdown",
   "metadata": {},
   "source": [
    "##### **СОЗДАЁМ XML-ФАЙЛ**\n",
    "***\n",
    "Воссоздадим структуру нашего исходного XML-файла с нуля,  руководствуясь общими рекомендациями"
   ]
  },
  {
   "cell_type": "code",
   "execution_count": 24,
   "metadata": {},
   "outputs": [
    {
     "data": {
      "text/plain": [
       "<Element 'menu' at 0x000001F2785FB590>"
      ]
     },
     "metadata": {},
     "output_type": "display_data"
    },
    {
     "data": {
      "text/plain": [
       "[<Element 'dish' at 0x000001F2785EA9A0>,\n",
       " <Element 'dish' at 0x000001F2785EAF40>]"
      ]
     },
     "metadata": {},
     "output_type": "display_data"
    },
    {
     "data": {
      "text/plain": [
       "[<Element 'price' at 0x000001F2785F5040>,\n",
       " <Element 'weight' at 0x000001F2785F5090>,\n",
       " <Element 'class' at 0x000001F2786314F0>]"
      ]
     },
     "metadata": {},
     "output_type": "display_data"
    },
    {
     "data": {
      "text/plain": [
       "[<Element 'price' at 0x000001F2786315E0>,\n",
       " <Element 'weight' at 0x000001F278631680>,\n",
       " <Element 'class' at 0x000001F278631590>]"
      ]
     },
     "metadata": {},
     "output_type": "display_data"
    }
   ],
   "source": [
    "# Чтобы создать корень дерева, используем метод Element() из класса ElementTree:\n",
    "new_root = ET.Element('menu')\n",
    "display(new_root)\n",
    "# Теперь мы можем добавлять новые узлы в наше дерево, используя метод SubElement() из того же класса.\n",
    "# Добавим в наше меню двух потомков корневого узла,\n",
    "# которые будут представлять два блюда, то есть будут узлами dish:\n",
    "dish1 = ET.SubElement(new_root, 'dish', name='Кура')\n",
    "dish2 = ET.SubElement(new_root, 'dish', name='Греча')\n",
    "display(list(new_root))\n",
    "# Добавим в создаваемую структуру по три потомка (атрибута) к двум новым узлам,\n",
    "# которые будут содержать информацию о блюде — о его цене (price),\n",
    "# весе (weight) и классе (class), а также значение этих атрибутов:\n",
    "price1 = ET.SubElement(dish1, \"price\").text = \"40\"\n",
    "weight1 = ET.SubElement(dish1, \"weight\").text = \"300\"\n",
    "class1 = ET.SubElement(dish1, \"class\").text = \"Мясо\"\n",
    "display(list(dish1))\n",
    "\n",
    "price2 = ET.SubElement(dish2, \"price\").text = \"20\"\n",
    "weight2 = ET.SubElement(dish2, \"weight\").text = \"200\"\n",
    "class2 = ET.SubElement(dish2, \"class\").text = \"Крупа\"\n",
    "display(list(dish2))"
   ]
  },
  {
   "cell_type": "code",
   "execution_count": 25,
   "metadata": {},
   "outputs": [
    {
     "name": "stdout",
     "output_type": "stream",
     "text": [
      "Кура price 40\n",
      "Кура weight 300\n",
      "Кура class Мясо\n",
      "\n",
      "Греча price 20\n",
      "Греча weight 200\n",
      "Греча class Крупа\n",
      "\n"
     ]
    }
   ],
   "source": [
    "# проверяем\n",
    "for dish in new_root:\n",
    "    for param in dish:\n",
    "        print(dish.attrib['name'], param.tag, param.text)\n",
    "    print()"
   ]
  },
  {
   "cell_type": "markdown",
   "metadata": {},
   "source": [
    "##### **СОХРАНЕНИЕ XML-ФАЙЛА**\n",
    "***\n",
    "Запишем созданную нами структуру как XML-файл на диск"
   ]
  },
  {
   "cell_type": "code",
   "execution_count": 27,
   "metadata": {},
   "outputs": [],
   "source": [
    "new_root_string = ET.tostring(new_root)\n",
    "with open(\"data/new_menu.xml\", \"wb\") as f:\n",
    "    f.write(new_root_string)"
   ]
  },
  {
   "cell_type": "code",
   "execution_count": 29,
   "metadata": {},
   "outputs": [],
   "source": [
    "# запись в нужной кодировке\n",
    "ET.ElementTree(new_root).write('data/new_menu_good.xml', encoding=\"utf-8\")"
   ]
  },
  {
   "cell_type": "markdown",
   "metadata": {},
   "source": [
    "Для этого мы передаём в класс ElementTree() наше дерево (не его строковое представление) и вызываем метод write(). В метод мы передаём путь к новому файлу и нужную нам кодировку."
   ]
  },
  {
   "cell_type": "markdown",
   "metadata": {},
   "source": [
    "# **ДОП. МАТЕРИАЛЫ**\n",
    "\n",
    "**ZIP**\n",
    "\n",
    "* [Working with zip files in Python (англ.)](https://www.geeksforgeeks.org/working-zip-files-python/)\n",
    "\n",
    "**EXCEL**\n",
    "\n",
    "* [Автоматизация Excel с помощью Python (рус.)](https://medium.com/nastia-shu/больше-не-нужно-открывать-сотни-файлов-в-excel-e0a1f5a9e9a7)\n",
    "* [Использование Python и Excel для обработки и анализа данных (рус.)](https://habr.com/ru/company/otus/blog/331998/)\n",
    "* [How to Work with Excel files in Pandas (англ.)](https://towardsdatascience.com/how-to-work-with-excel-files-in-pandas-c584abb67bfb)\n",
    "* [Pandas read_excel() – Reading Excel File in Python (англ.)](https://www.journaldev.com/33306/pandas-read_excel-reading-excel-file-in-python)\n",
    "* [Python Excel Tutorial: The Definitive Guide (англ.)](https://www.datacamp.com/community/tutorials/python-excel-tutorial)\n",
    "* [Tutorial Using Excel with Python and Pandas (англ.)](https://www.dataquest.io/blog/excel-and-pandas/)\n",
    "\n",
    "**JSON**\n",
    "\n",
    "* [Парсинг JSON (рус.)](https://all-python.ru/osnovy/json.html)\n",
    "* [Working With JSON Data in Python (англ.)](https://realpython.com/python-json/)\n",
    "* [Python JSON (англ.)](https://www.programiz.com/python-programming/json)\n",
    "\n",
    "**XML**\n",
    "\n",
    "* [Работа с XML из Python (рус.)](https://codecamp.ru/blog/python-manipulating-xml/)\n",
    "* [Processing XML in Python — ElementTree (англ.)](https://towardsdatascience.com/processing-xml-in-python-elementtree-c8992941efd2)"
   ]
  }
 ],
 "metadata": {
  "interpreter": {
   "hash": "ac59ebe37160ed0dfa835113d9b8498d9f09ceb179beaac4002f036b9467c963"
  },
  "kernelspec": {
   "display_name": "Python 3.9.10 64-bit",
   "language": "python",
   "name": "python3"
  },
  "language_info": {
   "codemirror_mode": {
    "name": "ipython",
    "version": 3
   },
   "file_extension": ".py",
   "mimetype": "text/x-python",
   "name": "python",
   "nbconvert_exporter": "python",
   "pygments_lexer": "ipython3",
   "version": "3.9.10"
  },
  "orig_nbformat": 4
 },
 "nbformat": 4,
 "nbformat_minor": 2
}
