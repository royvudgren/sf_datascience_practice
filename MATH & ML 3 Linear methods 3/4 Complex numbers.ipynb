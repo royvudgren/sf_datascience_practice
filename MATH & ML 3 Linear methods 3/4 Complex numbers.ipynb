{
 "cells": [
  {
   "cell_type": "markdown",
   "metadata": {},
   "source": [
    "# **Комплексные числа**"
   ]
  },
  {
   "cell_type": "markdown",
   "metadata": {},
   "source": [
    "* **i**, или мнимая единица — это комплексное число, квадрат которого равен −1.\n",
    "![](https://lms.skillfactory.ru/assets/courseware/v1/138189beeb95af37156d7c8f1f7de796/asset-v1:SkillFactory+DSPR-2.0+14JULY2021+type@asset+block/MAT_2_unit_35.png)\n",
    "***\n",
    "\n",
    "![](data/5.PNG)\n",
    "\n",
    "*У любых неотрицательно определенных симметричных матриц и матриц Грама не бывает комплексных собственных значений с точки зрения теории*\n",
    "\n",
    "В качестве дополнительной литературы рекомендуем вам:\n",
    "\n",
    "* [**Пример возникновения комплексных чисел в регрессиях**](https://habr.com/ru/company/ods/blog/322076/)\n",
    "* [**«Введение в комплексные числа»**](https://habr.com/ru/post/354548/)\n",
    "* «[**Операции над комплексными числами»**](https://habr.com/ru/post/429316/)"
   ]
  }
 ],
 "metadata": {
  "language_info": {
   "name": "python"
  },
  "orig_nbformat": 4
 },
 "nbformat": 4,
 "nbformat_minor": 2
}
