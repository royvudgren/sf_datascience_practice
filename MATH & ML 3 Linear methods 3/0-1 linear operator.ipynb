{
 "cells": [
  {
   "cell_type": "markdown",
   "metadata": {},
   "source": [
    "# **Введение**"
   ]
  },
  {
   "cell_type": "markdown",
   "metadata": {},
   "source": [
    "В прошлых модулях мы с вами познакомились с базовым языком линейной алгебры и рассмотрели, как он используется в контексте линейных методов. Разбираясь с математической формализацией линейной регрессии и особенностями ее реализации в sklearn, мы кратко упомянули такое понятие, как «спектр матрицы», на использовании которого основаны метод главных компонент (PCA) и сингулярное разложение (SVD). \n",
    "\n",
    "В этом модуле мы кратко познакомимся с математическими выкладками, которые стоят за двумя данными методами и проведём их краткий обзор. Поскольку и метод главных компонент, и сингулярное разложение относятся к методам решения задачи понижения размерности, то мы ещё столкнемся с ними, когда будем изучать математическую постановку данной задачи. Однако наших текущих знаний по линейной алгебре и небольшой порции новой теории хватит, чтобы уже сейчас понять тайну, которая скрывается за этими методами. \n",
    "\n",
    "Знания, полученные в этом модуле, помогут нам в понимании того, как в sklearn решаются проблемы классической модели линейной регрессии по методу наименьших квадратов, в частности, как на практике справляются с плохой обусловленностью или вовсе вырожденностью матрицы Грама A.T@A. \n",
    "\n",
    "**ЦЕЛИ ДОПОЛНИТЕЛЬНОГО МОДУЛЯ:**\n",
    "\n",
    "* Познакомиться с теорией линейных операторов.\n",
    "* Изучить понятия: собственный вектор, собственные числа и спектр матрицы.\n",
    "* Заглянуть в теорию комплексных чисел.\n",
    "* Рассмотреть линейные методы понижения размерности: метод главных компонент и сингулярное разложение."
   ]
  },
  {
   "cell_type": "markdown",
   "metadata": {},
   "source": [
    "# **Линейный оператор**"
   ]
  },
  {
   "cell_type": "markdown",
   "metadata": {},
   "source": [
    "Умножение матрицы на вектор можно представить как его одновременный поворот и растяжение.\n",
    "\n",
    "А если рассмотреть умножение матрицы на все векторы пространства, то получится преобразование всего этого пространства или так называемый **линейный оператор**.\n",
    "\n",
    "![](https://lms.skillfactory.ru/assets/courseware/v1/bf48031aa5bb0c4b33d7a7a292324a9b/asset-v1:SkillFactory+DSPR-2.0+14JULY2021+type@asset+block/MAT_2_unit_26_1.png)\n",
    "***\n",
    "**ЗАДАЧА 1**\n",
    "\n",
    "![](https://lms.skillfactory.ru/assets/courseware/v1/e769405ea927e2bb55f7f23f9657797d/asset-v1:SkillFactory+DSPR-2.0+14JULY2021+type@asset+block/MAT_2_unit_27.png)\n",
    "\n",
    "Решение:\n",
    "\n",
    "![](https://lms.skillfactory.ru/assets/courseware/v1/c939ac0ca4b878d59c420ee8cdc2d116/asset-v1:SkillFactory+DSPR-2.0+14JULY2021+type@asset+block/MAT_2_unit_28.png)\n",
    "\n",
    "За изменение направления отвечает косинус угла между вектором x и его образом y. В нашем случае косинус близок к 1, значит, угол поворота небольшой.\n",
    "\n",
    "![](https://lms.skillfactory.ru/assets/courseware/v1/0743d5155227bd6dd714a17576c686b7/asset-v1:SkillFactory+DSPR-2.0+14JULY2021+type@asset+block/MAT_2_unit_91.png)\n",
    "***\n",
    "**ЗАДАЧА 2**\n",
    "\n",
    "![](https://lms.skillfactory.ru/assets/courseware/v1/5fb47adb39e36b1bb480dc7cb46c05ae/asset-v1:SkillFactory+DSPR-2.0+14JULY2021+type@asset+block/MAT_2_unit_30_1.png)\n",
    "\n",
    "Решение:\n",
    "\n",
    "Заметим, что в этом примере матрица А диагональная.\n",
    "\n",
    "![](https://lms.skillfactory.ru/assets/courseware/v1/187f709d1857e9ca3348fd8ff7bf1eca/asset-v1:SkillFactory+DSPR-2.0+14JULY2021+type@asset+block/MAT_2_unit_31_1.png)\n",
    "\n",
    "Компоненты вектора х снова непропорциональны. Он снова и растянулся, и повернулся.\n",
    "\n",
    "![](https://lms.skillfactory.ru/assets/courseware/v1/e414f39cd5ec35c100363472cd37b3fb/asset-v1:SkillFactory+DSPR-2.0+14JULY2021+type@asset+block/MAT_2_unit_31_2.png)\n",
    "\t\n",
    "Вектор u растянулся в 2 раза и сохранил направление.\n",
    "\n",
    "![](https://lms.skillfactory.ru/assets/courseware/v1/4a7906498fe587e1efe0f55fef2156d9/asset-v1:SkillFactory+DSPR-2.0+14JULY2021+type@asset+block/MAT_2_unit_31_3.png)\n",
    "\n",
    "Вектор v растянулся в 5 раз и сохранил направление.\n",
    "\n",
    "Как мы узнаем позже, такие векторы как u и v называются **собственными**.\n",
    "***\n",
    "**ЗАДАЧА 3**\n",
    "\n",
    "![](https://lms.skillfactory.ru/assets/courseware/v1/04399438db97a1a6659ca2d2858ba45a/asset-v1:SkillFactory+DSPR-2.0+14JULY2021+type@asset+block/MAT_2_unit_32.png)\n",
    "\n",
    "Решение:\n",
    "\n",
    "Применим оператор, заданный матрицей А к произвольному вектору с координатами x1, x2\n",
    "\n",
    "![](https://lms.skillfactory.ru/assets/courseware/v1/1b245eea90aa8a7a7aae8f9b0253e848/asset-v1:SkillFactory+DSPR-2.0+14JULY2021+type@asset+block/MAT_2_unit_33.png)\n",
    "\n",
    "Получим вектор с координатами x2, – x1. Как видим, координаты поменялись местами. Проверьте самостоятельно, что эта матрица задает поворот на 90 градусов.\n",
    "***\n",
    "**Каждая квадратная матрица задаёт линейный оператор. Под действием этого оператора каждый вектор меняет длину и поворачивается. У разных векторов могут быть разные углы поворота и коэффициенты растяжения.**"
   ]
  },
  {
   "cell_type": "markdown",
   "metadata": {},
   "source": [
    "***\n",
    "## **СОБСТВЕННЫЕ ВЕКТОРЫ И ЧИСЛА**"
   ]
  },
  {
   "cell_type": "markdown",
   "metadata": {},
   "source": [
    "* **Собственный вектор** или **айгенвектор** — это вектор, который не меняет направление под действием оператора, а только растягивается или сжимается.\n",
    "\n",
    "![](https://lms.skillfactory.ru/assets/courseware/v1/e64357415074b4766f7148bd7b4a6e5c/asset-v1:SkillFactory+DSPR-2.0+14JULY2021+type@asset+block/MAT_2_unit_34.png)\n",
    "***\n",
    "* Коэффициент растяжения или сжатия λ («лямбда») называется **собственным числом** оператора А и его матрицы.\n",
    "***\n",
    "* **Айгенпарой** называется пара, состоящая из собственного числа и соответствующего ему собственного вектора. \n",
    "***\n",
    "* **Спектром матрицы** называется набор её собственных чисел.\n",
    "***\n",
    "\n",
    "![](data/3.PNG)"
   ]
  },
  {
   "cell_type": "code",
   "execution_count": 16,
   "metadata": {},
   "outputs": [
    {
     "name": "stdout",
     "output_type": "stream",
     "text": [
      "length of a: 50.24937810560445\n",
      "length of b: 7.54983443527075\n",
      "angle between a and b: 3.7416573867739413\n"
     ]
    }
   ],
   "source": [
    "import numpy as np\n",
    "\n",
    "def angle_between(v1, v2):\n",
    "    \"\"\" Returns the angle in radians between vectors 'v1' and 'v2'::\n",
    "\n",
    "            >>> angle_between((1, 0, 0), (0, 1, 0))\n",
    "            1.5707963267948966\n",
    "            >>> angle_between((1, 0, 0), (1, 0, 0))\n",
    "            0.0\n",
    "            >>> angle_between((1, 0, 0), (-1, 0, 0))\n",
    "            3.141592653589793\n",
    "    \"\"\"\n",
    "    v1_u = v1 / np.linalg.norm(v1)\n",
    "    v2_u = v2 / np.linalg.norm(v2)\n",
    "    return np.arccos(np.clip(np.dot(v1_u, v2_u), -1.0, 1.0))\n",
    "\n",
    "a=np.array([-50,3,4])\n",
    "b=np.array([4,4,5])\n",
    "angle = angle_between(a,b)\n",
    "a_l=np.linalg.norm(a)\n",
    "b_l=np.linalg.norm(b)\n",
    "print('length of a:',a_l)\n",
    "print('length of b:',b_l)\n",
    "print('angle between a and b:',l)"
   ]
  }
 ],
 "metadata": {
  "kernelspec": {
   "display_name": "Python 3.10.8 64-bit",
   "language": "python",
   "name": "python3"
  },
  "language_info": {
   "codemirror_mode": {
    "name": "ipython",
    "version": 3
   },
   "file_extension": ".py",
   "mimetype": "text/x-python",
   "name": "python",
   "nbconvert_exporter": "python",
   "pygments_lexer": "ipython3",
   "version": "3.10.8"
  },
  "orig_nbformat": 4,
  "vscode": {
   "interpreter": {
    "hash": "c68eacbc5a3a550d9b1f68bf11bf31e2b39ed4b9985227d4d8c7ee1d286013f5"
   }
  }
 },
 "nbformat": 4,
 "nbformat_minor": 2
}
