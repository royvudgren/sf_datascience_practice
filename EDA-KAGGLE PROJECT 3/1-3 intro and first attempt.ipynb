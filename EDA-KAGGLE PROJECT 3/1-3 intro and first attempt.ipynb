{
 "cells": [
  {
   "cell_type": "markdown",
   "metadata": {},
   "source": [
    "# **Введение**"
   ]
  },
  {
   "cell_type": "markdown",
   "metadata": {},
   "source": [
    "В этом модуле вы попробуете решить свой первый настоящий кейс и создадите первую модель, использующую алгоритмы машинного обучения.\n",
    "\n",
    "**[Представьте, что вы работаете дата-сайентистом в компании Booking. Одна из проблем компании — это нечестные отели, которые накручивают себе рейтинг. Одним из способов обнаружения таких отелей является построение модели, которая предсказывает рейтинг отеля. Если предсказания модели сильно отличаются от фактического результата, то, возможно, отель ведёт себя нечестно, и его стоит проверить.]**"
   ]
  },
  {
   "cell_type": "code",
   "execution_count": 1,
   "metadata": {},
   "outputs": [],
   "source": [
    "import pandas as pd \n",
    "import numpy as np\n",
    "import seaborn as sns\n",
    "from matplotlib import pyplot as plt\n",
    "from IPython.display import display\n",
    "import logging\n",
    "from comet_ml import Experiment\n",
    "\n",
    "from sklearn.linear_model import LogisticRegression\n",
    "from sklearn.preprocessing import MinMaxScaler\n",
    "from sklearn.metrics import accuracy_score\n",
    "\n",
    "# Загружаем специальный инструмент для разбивки:  \n",
    "from sklearn.model_selection import train_test_split\n",
    "# Импортируем необходимые библиотеки для обучения модели:  \n",
    "from sklearn.ensemble import RandomForestRegressor # инструмент для создания и обучения модели  \n",
    "from sklearn import metrics # инструменты для оценки точности модели  "
   ]
  },
  {
   "cell_type": "markdown",
   "metadata": {},
   "source": [
    "# **Разбираемся с данными**"
   ]
  },
  {
   "cell_type": "markdown",
   "metadata": {},
   "source": [
    "В этом модуле вы будете работать с датасетом, в котором содержатся сведения о 515 000 отзывов на отели Европы. Модель, которую вы будете обучать, должна предсказывать рейтинг отеля по данным сайта Booking на основе имеющихся в датасете данных. Изученные нами навыки разведывательного анализа помогут улучшить модель. Как? Узнаем дальше.\n",
    "\n",
    "1. **hotel_address** — адрес отеля;\n",
    "2. **review_date** — дата, когда рецензент разместил соответствующий отзыв;\n",
    "3. **average_score** — средний балл отеля, рассчитанный на основе последнего комментария за последний год;\n",
    "4. **hotel_name** — название отеля;\n",
    "5. **reviewer_nationality** — страна рецензента;\n",
    "6. **negative_review** — отрицательный отзыв, который рецензент дал отелю;\n",
    "7. **review_total_negative_word_counts** — общее количество слов в отрицательном отзыв;\n",
    "8. **positive_review** — положительный отзыв, который рецензент дал отелю;\n",
    "9. **review_total_positive_word_counts** — общее количество слов в положительном отзыве.\n",
    "10. **reviewer_score** — оценка, которую рецензент поставил отелю на основе своего опыта;\n",
    "11. **total_number_of_reviews_reviewer_has_given** — количество отзывов, которые рецензенты дали в прошлом;\n",
    "12. **total_number_of_reviews** — общее количество действительных отзывов об отеле;\n",
    "13. **tags** — теги, которые рецензент дал отелю;\n",
    "14. **days_since_review** — количество дней между датой проверки и датой очистки;\n",
    "15. **additional_number_of_scoring** — есть также некоторые гости, которые просто поставили оценку сервису, но не оставили отзыв. Это число указывает, сколько там действительных оценок без проверки.\n",
    "16. **lat** — географическая широта отеля;\n",
    "17. **lng** — географическая долгота отеля."
   ]
  },
  {
   "cell_type": "code",
   "execution_count": 2,
   "metadata": {},
   "outputs": [
    {
     "data": {
      "text/html": [
       "<div>\n",
       "<style scoped>\n",
       "    .dataframe tbody tr th:only-of-type {\n",
       "        vertical-align: middle;\n",
       "    }\n",
       "\n",
       "    .dataframe tbody tr th {\n",
       "        vertical-align: top;\n",
       "    }\n",
       "\n",
       "    .dataframe thead th {\n",
       "        text-align: right;\n",
       "    }\n",
       "</style>\n",
       "<table border=\"1\" class=\"dataframe\">\n",
       "  <thead>\n",
       "    <tr style=\"text-align: right;\">\n",
       "      <th></th>\n",
       "      <th>hotel_address</th>\n",
       "      <th>additional_number_of_scoring</th>\n",
       "      <th>review_date</th>\n",
       "      <th>average_score</th>\n",
       "      <th>hotel_name</th>\n",
       "      <th>reviewer_nationality</th>\n",
       "      <th>negative_review</th>\n",
       "      <th>review_total_negative_word_counts</th>\n",
       "      <th>total_number_of_reviews</th>\n",
       "      <th>positive_review</th>\n",
       "      <th>review_total_positive_word_counts</th>\n",
       "      <th>total_number_of_reviews_reviewer_has_given</th>\n",
       "      <th>reviewer_score</th>\n",
       "      <th>tags</th>\n",
       "      <th>days_since_review</th>\n",
       "      <th>lat</th>\n",
       "      <th>lng</th>\n",
       "    </tr>\n",
       "  </thead>\n",
       "  <tbody>\n",
       "    <tr>\n",
       "      <th>0</th>\n",
       "      <td>Stratton Street Mayfair Westminster Borough Lo...</td>\n",
       "      <td>581</td>\n",
       "      <td>2/19/2016</td>\n",
       "      <td>8.4</td>\n",
       "      <td>The May Fair Hotel</td>\n",
       "      <td>United Kingdom</td>\n",
       "      <td>Leaving</td>\n",
       "      <td>3</td>\n",
       "      <td>1994</td>\n",
       "      <td>Staff were amazing</td>\n",
       "      <td>4</td>\n",
       "      <td>7</td>\n",
       "      <td>10.0</td>\n",
       "      <td>[' Leisure trip ', ' Couple ', ' Studio Suite ...</td>\n",
       "      <td>531 day</td>\n",
       "      <td>51.507894</td>\n",
       "      <td>-0.143671</td>\n",
       "    </tr>\n",
       "    <tr>\n",
       "      <th>1</th>\n",
       "      <td>130 134 Southampton Row Camden London WC1B 5AF...</td>\n",
       "      <td>299</td>\n",
       "      <td>1/12/2017</td>\n",
       "      <td>8.3</td>\n",
       "      <td>Mercure London Bloomsbury Hotel</td>\n",
       "      <td>United Kingdom</td>\n",
       "      <td>poor breakfast</td>\n",
       "      <td>3</td>\n",
       "      <td>1361</td>\n",
       "      <td>location</td>\n",
       "      <td>2</td>\n",
       "      <td>14</td>\n",
       "      <td>6.3</td>\n",
       "      <td>[' Business trip ', ' Couple ', ' Standard Dou...</td>\n",
       "      <td>203 day</td>\n",
       "      <td>51.521009</td>\n",
       "      <td>-0.123097</td>\n",
       "    </tr>\n",
       "    <tr>\n",
       "      <th>2</th>\n",
       "      <td>151 bis Rue de Rennes 6th arr 75006 Paris France</td>\n",
       "      <td>32</td>\n",
       "      <td>10/18/2016</td>\n",
       "      <td>8.9</td>\n",
       "      <td>Legend Saint Germain by Elegancia</td>\n",
       "      <td>China</td>\n",
       "      <td>No kettle in room</td>\n",
       "      <td>6</td>\n",
       "      <td>406</td>\n",
       "      <td>No Positive</td>\n",
       "      <td>0</td>\n",
       "      <td>14</td>\n",
       "      <td>7.5</td>\n",
       "      <td>[' Leisure trip ', ' Solo traveler ', ' Modern...</td>\n",
       "      <td>289 day</td>\n",
       "      <td>48.845377</td>\n",
       "      <td>2.325643</td>\n",
       "    </tr>\n",
       "  </tbody>\n",
       "</table>\n",
       "</div>"
      ],
      "text/plain": [
       "                                       hotel_address  \\\n",
       "0  Stratton Street Mayfair Westminster Borough Lo...   \n",
       "1  130 134 Southampton Row Camden London WC1B 5AF...   \n",
       "2   151 bis Rue de Rennes 6th arr 75006 Paris France   \n",
       "\n",
       "   additional_number_of_scoring review_date  average_score  \\\n",
       "0                           581   2/19/2016            8.4   \n",
       "1                           299   1/12/2017            8.3   \n",
       "2                            32  10/18/2016            8.9   \n",
       "\n",
       "                          hotel_name reviewer_nationality  \\\n",
       "0                 The May Fair Hotel      United Kingdom    \n",
       "1    Mercure London Bloomsbury Hotel      United Kingdom    \n",
       "2  Legend Saint Germain by Elegancia               China    \n",
       "\n",
       "       negative_review  review_total_negative_word_counts  \\\n",
       "0             Leaving                                   3   \n",
       "1       poor breakfast                                  3   \n",
       "2   No kettle in room                                   6   \n",
       "\n",
       "   total_number_of_reviews      positive_review  \\\n",
       "0                     1994   Staff were amazing   \n",
       "1                     1361             location   \n",
       "2                      406          No Positive   \n",
       "\n",
       "   review_total_positive_word_counts  \\\n",
       "0                                  4   \n",
       "1                                  2   \n",
       "2                                  0   \n",
       "\n",
       "   total_number_of_reviews_reviewer_has_given  reviewer_score  \\\n",
       "0                                           7            10.0   \n",
       "1                                          14             6.3   \n",
       "2                                          14             7.5   \n",
       "\n",
       "                                                tags days_since_review  \\\n",
       "0  [' Leisure trip ', ' Couple ', ' Studio Suite ...           531 day   \n",
       "1  [' Business trip ', ' Couple ', ' Standard Dou...           203 day   \n",
       "2  [' Leisure trip ', ' Solo traveler ', ' Modern...           289 day   \n",
       "\n",
       "         lat       lng  \n",
       "0  51.507894 -0.143671  \n",
       "1  51.521009 -0.123097  \n",
       "2  48.845377  2.325643  "
      ]
     },
     "execution_count": 2,
     "metadata": {},
     "output_type": "execute_result"
    }
   ],
   "source": [
    "hotels = pd.read_csv('data/hotels.csv')\n",
    "hotels.head(3)"
   ]
  },
  {
   "cell_type": "code",
   "execution_count": 3,
   "metadata": {},
   "outputs": [
    {
     "name": "stdout",
     "output_type": "stream",
     "text": [
      "<class 'pandas.core.frame.DataFrame'>\n",
      "RangeIndex: 386803 entries, 0 to 386802\n",
      "Data columns (total 17 columns):\n",
      " #   Column                                      Non-Null Count   Dtype  \n",
      "---  ------                                      --------------   -----  \n",
      " 0   hotel_address                               386803 non-null  object \n",
      " 1   additional_number_of_scoring                386803 non-null  int64  \n",
      " 2   review_date                                 386803 non-null  object \n",
      " 3   average_score                               386803 non-null  float64\n",
      " 4   hotel_name                                  386803 non-null  object \n",
      " 5   reviewer_nationality                        386803 non-null  object \n",
      " 6   negative_review                             386803 non-null  object \n",
      " 7   review_total_negative_word_counts           386803 non-null  int64  \n",
      " 8   total_number_of_reviews                     386803 non-null  int64  \n",
      " 9   positive_review                             386803 non-null  object \n",
      " 10  review_total_positive_word_counts           386803 non-null  int64  \n",
      " 11  total_number_of_reviews_reviewer_has_given  386803 non-null  int64  \n",
      " 12  reviewer_score                              386803 non-null  float64\n",
      " 13  tags                                        386803 non-null  object \n",
      " 14  days_since_review                           386803 non-null  object \n",
      " 15  lat                                         384355 non-null  float64\n",
      " 16  lng                                         384355 non-null  float64\n",
      "dtypes: float64(4), int64(5), object(8)\n",
      "memory usage: 50.2+ MB\n"
     ]
    }
   ],
   "source": [
    "# В каких столбцах данные содержат пропущенные значения?\n",
    "# В каких столбцах данные хранятся в числовом формате?\n",
    "# В каких столбцах данные представляют собой строки?\n",
    "hotels.info()"
   ]
  },
  {
   "cell_type": "code",
   "execution_count": 4,
   "metadata": {},
   "outputs": [
    {
     "name": "stdout",
     "output_type": "stream",
     "text": [
      "<class 'pandas.core.frame.DataFrame'>\n",
      "RangeIndex: 386803 entries, 0 to 386802\n",
      "Data columns (total 9 columns):\n",
      " #   Column                                      Non-Null Count   Dtype  \n",
      "---  ------                                      --------------   -----  \n",
      " 0   additional_number_of_scoring                386803 non-null  int64  \n",
      " 1   average_score                               386803 non-null  float64\n",
      " 2   review_total_negative_word_counts           386803 non-null  int64  \n",
      " 3   total_number_of_reviews                     386803 non-null  int64  \n",
      " 4   review_total_positive_word_counts           386803 non-null  int64  \n",
      " 5   total_number_of_reviews_reviewer_has_given  386803 non-null  int64  \n",
      " 6   reviewer_score                              386803 non-null  float64\n",
      " 7   lat                                         386803 non-null  float64\n",
      " 8   lng                                         386803 non-null  float64\n",
      "dtypes: float64(4), int64(5)\n",
      "memory usage: 26.6 MB\n"
     ]
    },
    {
     "name": "stderr",
     "output_type": "stream",
     "text": [
      "c:\\Program Files\\Python39\\lib\\site-packages\\pandas\\core\\series.py:4530: SettingWithCopyWarning: \n",
      "A value is trying to be set on a copy of a slice from a DataFrame\n",
      "\n",
      "See the caveats in the documentation: https://pandas.pydata.org/pandas-docs/stable/user_guide/indexing.html#returning-a-view-versus-a-copy\n",
      "  return super().fillna(\n"
     ]
    }
   ],
   "source": [
    "# чистим датасет по тупому\n",
    "\n",
    "hotels_dumb_prep = hotels.select_dtypes(include=['int64','float64'])\n",
    "\n",
    "hotels_dumb_prep.fillna(value={'lat': hotels_dumb_prep['lat'].mean(), 'lng': hotels_dumb_prep['lng'].mean()}, inplace=True)\n",
    "hotels_dumb_prep.info()"
   ]
  },
  {
   "cell_type": "markdown",
   "metadata": {},
   "source": [
    "# **Машинное обучение для самых маленьких**"
   ]
  },
  {
   "cell_type": "markdown",
   "metadata": {},
   "source": [
    "✍ Что нужно сделать в этом юните?\n",
    "\n",
    "Создать свою первую модель, основанную на алгоритмах машинного обучения.\n",
    "\n",
    "Код для создания модели мы предоставим, но чтобы модель заработала, в неё нужно передать правильные данные. Приведение данных в нужный вид и будет вашей задачей в этом юните.\n",
    "\n",
    "Однако прежде мы рассмотрим основные шаги, которые нужно проделать с данными от загрузки до получения результатов модели.  \n",
    "Мы подготовили для вас ноутбук с кодом для обучения модели. Далее мы шаг за шагом разберём все описанные в нём действия."
   ]
  },
  {
   "cell_type": "markdown",
   "metadata": {},
   "source": [
    "## **1. РАЗДЕЛЕНИЕ НАБОРА ДАННЫХ**\n",
    "\n",
    "Прежде всего, для создания модели необходимо разделить датафрейм на набор данных, которые мы будем использовать для обучения модели, именуемый **X**, и на целевую переменную — величину, значение которой мы будем предсказывать, **y** (в нашем случае это рейтинг отелей).\n",
    "\n",
    "![](https://lms.skillfactory.ru/assets/courseware/v1/2962190377a2a4c55ae3f6b5643f1ccc/asset-v1:SkillFactory+DSPR-2.0+14JULY2021+type@asset+block/dst3-u2-pr3_3_1.png)\n",
    "\n",
    "Далее каждый из полученных наборов мы делим на тренировочный (train, используется для обучения модели) и тестовый (test, используется для оценки точности модели). Такое деление осуществляется с помощью специального метода train_test_split() библиотеки sklearn. В параметрах метода (параметр test_size) мы указываем, какую часть исходного датафрейма нужно оставить для тестирования модели. В нашем коде эта часть составляет 25 %, или 0.25.\n",
    "\n",
    "*Не существует идеального соотношения обучающей и тестовой выборки, однако принято выделять на часть обучения больше данных, около ⅔, а оставшуюся часть используют для проверки — ⅓ выборки. Таким образом, самые популярные значения параметра test_size составляют 0.3, 0.25, 0.2.*\n",
    "\n"
   ]
  },
  {
   "cell_type": "code",
   "execution_count": 5,
   "metadata": {},
   "outputs": [],
   "source": [
    "# Разбиваем датафрейм на части, необходимые для обучения и тестирования модели  \n",
    "# Х — данные с информацией об отелях, у — целевая переменная (рейтинги отелей)  \n",
    "X = hotels_dumb_prep.drop(['reviewer_score'], axis = 1)\n",
    "y = hotels_dumb_prep['reviewer_score']\n",
    "\n",
    "# Наборы данных с меткой \"train\" будут использоваться для обучения модели, \"test\" — для тестирования.  \n",
    "# Для тестирования мы будем использовать 25 % от исходного датасета.  \n",
    "X_train, X_test, y_train, y_test = train_test_split(X, y, test_size=0.25, random_state=42)"
   ]
  },
  {
   "cell_type": "markdown",
   "metadata": {},
   "source": [
    "## **2. СОЗДАНИЕ И ОБУЧЕНИЕ МОДЕЛИ**\n",
    "\n",
    "Сам процесс создания и тестирования модели занимает всего четыре строчки кода. В качестве алгоритма мы будем использовать популярный и довольно мощный алгоритм **RandomForestRegressor**. Он реализован в библиотеке sklearn."
   ]
  },
  {
   "cell_type": "code",
   "execution_count": 6,
   "metadata": {},
   "outputs": [],
   "source": [
    "# СНАЧАЛА УБРАТЬ ВСЕ НЕЧИСЛОВЫЕ ПРИЗНАКИ\n",
    "\n",
    "\n",
    "# Создаём модель\n",
    "regr = RandomForestRegressor(n_estimators=100)  \n",
    "      \n",
    "# Обучаем модель на тестовом наборе данных  \n",
    "regr.fit(X_train, y_train)  \n",
    "      \n",
    "# Используем обученную модель для предсказания рейтинга отелей в тестовой выборке.  \n",
    "# Предсказанные значения записываем в переменную y_pred  \n",
    "y_pred = regr.predict(X_test)"
   ]
  },
  {
   "cell_type": "markdown",
   "metadata": {},
   "source": [
    "## **3. ОЦЕНКА КАЧЕСТВА МОДЕЛИ** \n",
    "\n",
    "Для оценки качества модели — точности прогнозов, сделанных моделью, — мы будем использовать метрику (некий числовой показатель), которая называется **MAPE (mean absolute percentage error)**, средняя абсолютная процентная ошибка. Эту метрику очень легко интерпретировать. Если у вас MAPE = 11.4 %, то это говорит о том, что ошибка составила 11.4 % от фактических значений."
   ]
  },
  {
   "cell_type": "code",
   "execution_count": 7,
   "metadata": {},
   "outputs": [
    {
     "name": "stdout",
     "output_type": "stream",
     "text": [
      "MAPE: 0.1412715398193932\n"
     ]
    }
   ],
   "source": [
    "# Сравниваем предсказанные значения (y_pred) с реальными (y_test) и смотрим, насколько они отличаются  \n",
    "\n",
    "# Метрика называется Mean Absolute Percentage Error (MAPE) и показывает среднюю абсолютную\n",
    "# процентную ошибку предсказанных значений в отношении фактических.  \n",
    "print('MAPE:', metrics.mean_absolute_percentage_error(y_test, y_pred))"
   ]
  },
  {
   "cell_type": "markdown",
   "metadata": {},
   "source": [
    "Итак, мы выяснили, что для корректной работы все данные в датафрейме, который вы будете использовать при обучении модели, должны быть в числовых форматах int или float.\n",
    "Есть ещё одно ограничение: в столбцах не должно быть пропущенных значений. Вместо каждого пропущенного значения вам нужно будет вычислить и поместить в ячейку максимально близкое к реальности значение.\n",
    "\n",
    "\n",
    "**Таким образом, чтобы код, отвечающий за обучение модели, заработал, мы должны использовать в нём датафрейм, содержащий только количественные признаки и не содержащий пропущенных значений.**\n",
    "\n",
    "На первом этапе для создания такого датафрейма давайте просто удалим столбцы, содержащие данные типов object и string и заполним пропущенные значения каким-то одним значением (unknown, нулём или средним арифметическим) для всего столбца.\n",
    "\n",
    "Для выполнения этих операций вам понадобятся следующие методы библиотеки Pandas:\n",
    "\n",
    "* **drop** — метод для удаления ненужных строк и столбцов (обратите внимание, что в материалах данного модуля этот метод разрешается использовать только для удаления столбцов);\n",
    "* **fillna** — метод для заполнения пропущенных значений в столбце или во всём датафрейме.\n",
    "  "
   ]
  },
  {
   "cell_type": "code",
   "execution_count": 8,
   "metadata": {},
   "outputs": [
    {
     "data": {
      "text/plain": [
       "count                                         386803\n",
       "unique                                          1492\n",
       "top       Britannia International Hotel Canary Wharf\n",
       "freq                                            3587\n",
       "Name: hotel_name, dtype: object"
      ]
     },
     "execution_count": 8,
     "metadata": {},
     "output_type": "execute_result"
    }
   ],
   "source": [
    "# Сколько отелей представлено в наборе данных?\n",
    "\n",
    "hotels['hotel_name'].describe()"
   ]
  },
  {
   "cell_type": "code",
   "execution_count": 9,
   "metadata": {},
   "outputs": [
    {
     "data": {
      "text/plain": [
       "Timestamp('2015-08-04 00:00:00')"
      ]
     },
     "metadata": {},
     "output_type": "display_data"
    },
    {
     "data": {
      "text/plain": [
       "Timestamp('2017-08-03 00:00:00')"
      ]
     },
     "metadata": {},
     "output_type": "display_data"
    }
   ],
   "source": [
    "# Когда был оставлен самый свежий отзыв? Введите ответ в формате yyyy-mm-dd.\n",
    "\n",
    "hotels['review_date'] = pd.to_datetime(hotels['review_date'])\n",
    "hotels['review_date'] = pd.to_datetime(hotels['review_date'], format='%Y-%m-%d')\n",
    "display(hotels['review_date'].min())\n",
    "display(hotels['review_date'].max())"
   ]
  },
  {
   "cell_type": "code",
   "execution_count": 10,
   "metadata": {},
   "outputs": [],
   "source": [
    "# Сколько уникальных тегов представлено в наборе данных?\n",
    "regex = \"\"\"\\'\\s(.*?)\\s\\'\"\"\" # регулярное выражение\n",
    "hotels['tags'] = hotels['tags'].str.findall(regex)"
   ]
  },
  {
   "cell_type": "code",
   "execution_count": 19,
   "metadata": {},
   "outputs": [
    {
     "name": "stdout",
     "output_type": "stream",
     "text": [
      "<class 'pandas.core.frame.DataFrame'>\n",
      "RangeIndex: 386803 entries, 0 to 386802\n",
      "Data columns (total 17 columns):\n",
      " #   Column                                      Non-Null Count   Dtype         \n",
      "---  ------                                      --------------   -----         \n",
      " 0   hotel_address                               386803 non-null  object        \n",
      " 1   additional_number_of_scoring                386803 non-null  int64         \n",
      " 2   review_date                                 386803 non-null  datetime64[ns]\n",
      " 3   average_score                               386803 non-null  float64       \n",
      " 4   hotel_name                                  386803 non-null  object        \n",
      " 5   reviewer_nationality                        386803 non-null  object        \n",
      " 6   negative_review                             386803 non-null  object        \n",
      " 7   review_total_negative_word_counts           386803 non-null  int64         \n",
      " 8   total_number_of_reviews                     386803 non-null  int64         \n",
      " 9   positive_review                             386803 non-null  object        \n",
      " 10  review_total_positive_word_counts           386803 non-null  int64         \n",
      " 11  total_number_of_reviews_reviewer_has_given  386803 non-null  int64         \n",
      " 12  reviewer_score                              386803 non-null  float64       \n",
      " 13  tags                                        386803 non-null  object        \n",
      " 14  days_since_review                           386803 non-null  object        \n",
      " 15  lat                                         384355 non-null  float64       \n",
      " 16  lng                                         384355 non-null  float64       \n",
      "dtypes: datetime64[ns](1), float64(4), int64(5), object(7)\n",
      "memory usage: 50.2+ MB\n"
     ]
    }
   ],
   "source": [
    "hotels['tags']\n",
    "hotels.info()"
   ]
  },
  {
   "cell_type": "code",
   "execution_count": 15,
   "metadata": {},
   "outputs": [
    {
     "data": {
      "text/html": [
       "<div>\n",
       "<style scoped>\n",
       "    .dataframe tbody tr th:only-of-type {\n",
       "        vertical-align: middle;\n",
       "    }\n",
       "\n",
       "    .dataframe tbody tr th {\n",
       "        vertical-align: top;\n",
       "    }\n",
       "\n",
       "    .dataframe thead th {\n",
       "        text-align: right;\n",
       "    }\n",
       "</style>\n",
       "<table border=\"1\" class=\"dataframe\">\n",
       "  <thead>\n",
       "    <tr style=\"text-align: right;\">\n",
       "      <th></th>\n",
       "      <th>tag</th>\n",
       "      <th>frequency</th>\n",
       "    </tr>\n",
       "  </thead>\n",
       "  <tbody>\n",
       "    <tr>\n",
       "      <th>1237</th>\n",
       "      <td>Leisure trip</td>\n",
       "      <td>313593</td>\n",
       "    </tr>\n",
       "    <tr>\n",
       "      <th>1842</th>\n",
       "      <td>Submitted from a mobile device</td>\n",
       "      <td>230778</td>\n",
       "    </tr>\n",
       "    <tr>\n",
       "      <th>272</th>\n",
       "      <td>Couple</td>\n",
       "      <td>189212</td>\n",
       "    </tr>\n",
       "    <tr>\n",
       "      <th>1788</th>\n",
       "      <td>Stayed 1 night</td>\n",
       "      <td>145373</td>\n",
       "    </tr>\n",
       "    <tr>\n",
       "      <th>1799</th>\n",
       "      <td>Stayed 2 nights</td>\n",
       "      <td>100263</td>\n",
       "    </tr>\n",
       "    <tr>\n",
       "      <th>1642</th>\n",
       "      <td>Solo traveler</td>\n",
       "      <td>81235</td>\n",
       "    </tr>\n",
       "    <tr>\n",
       "      <th>1810</th>\n",
       "      <td>Stayed 3 nights</td>\n",
       "      <td>72000</td>\n",
       "    </tr>\n",
       "    <tr>\n",
       "      <th>105</th>\n",
       "      <td>Business trip</td>\n",
       "      <td>61989</td>\n",
       "    </tr>\n",
       "    <tr>\n",
       "      <th>983</th>\n",
       "      <td>Group</td>\n",
       "      <td>49088</td>\n",
       "    </tr>\n",
       "    <tr>\n",
       "      <th>943</th>\n",
       "      <td>Family with young children</td>\n",
       "      <td>45836</td>\n",
       "    </tr>\n",
       "    <tr>\n",
       "      <th>1812</th>\n",
       "      <td>Stayed 4 nights</td>\n",
       "      <td>35748</td>\n",
       "    </tr>\n",
       "    <tr>\n",
       "      <th>534</th>\n",
       "      <td>Double Room</td>\n",
       "      <td>26386</td>\n",
       "    </tr>\n",
       "    <tr>\n",
       "      <th>1687</th>\n",
       "      <td>Standard Double Room</td>\n",
       "      <td>24151</td>\n",
       "    </tr>\n",
       "    <tr>\n",
       "      <th>1932</th>\n",
       "      <td>Superior Double Room</td>\n",
       "      <td>23550</td>\n",
       "    </tr>\n",
       "    <tr>\n",
       "      <th>942</th>\n",
       "      <td>Family with older children</td>\n",
       "      <td>19802</td>\n",
       "    </tr>\n",
       "    <tr>\n",
       "      <th>297</th>\n",
       "      <td>Deluxe Double Room</td>\n",
       "      <td>18623</td>\n",
       "    </tr>\n",
       "    <tr>\n",
       "      <th>633</th>\n",
       "      <td>Double or Twin Room</td>\n",
       "      <td>16824</td>\n",
       "    </tr>\n",
       "    <tr>\n",
       "      <th>1813</th>\n",
       "      <td>Stayed 5 nights</td>\n",
       "      <td>15611</td>\n",
       "    </tr>\n",
       "    <tr>\n",
       "      <th>1715</th>\n",
       "      <td>Standard Double or Twin Room</td>\n",
       "      <td>13062</td>\n",
       "    </tr>\n",
       "    <tr>\n",
       "      <th>136</th>\n",
       "      <td>Classic Double Room</td>\n",
       "      <td>12716</td>\n",
       "    </tr>\n",
       "    <tr>\n",
       "      <th>1993</th>\n",
       "      <td>Superior Double or Twin Room</td>\n",
       "      <td>10238</td>\n",
       "    </tr>\n",
       "    <tr>\n",
       "      <th>13</th>\n",
       "      <td>2 rooms</td>\n",
       "      <td>9287</td>\n",
       "    </tr>\n",
       "    <tr>\n",
       "      <th>1814</th>\n",
       "      <td>Stayed 6 nights</td>\n",
       "      <td>7399</td>\n",
       "    </tr>\n",
       "    <tr>\n",
       "      <th>1777</th>\n",
       "      <td>Standard Twin Room</td>\n",
       "      <td>7325</td>\n",
       "    </tr>\n",
       "    <tr>\n",
       "      <th>1602</th>\n",
       "      <td>Single Room</td>\n",
       "      <td>7227</td>\n",
       "    </tr>\n",
       "    <tr>\n",
       "      <th>2267</th>\n",
       "      <td>Twin Room</td>\n",
       "      <td>6279</td>\n",
       "    </tr>\n",
       "    <tr>\n",
       "      <th>1815</th>\n",
       "      <td>Stayed 7 nights</td>\n",
       "      <td>5549</td>\n",
       "    </tr>\n",
       "    <tr>\n",
       "      <th>731</th>\n",
       "      <td>Executive Double Room</td>\n",
       "      <td>4763</td>\n",
       "    </tr>\n",
       "    <tr>\n",
       "      <th>155</th>\n",
       "      <td>Classic Double or Twin Room</td>\n",
       "      <td>4576</td>\n",
       "    </tr>\n",
       "    <tr>\n",
       "      <th>2172</th>\n",
       "      <td>Superior Twin Room</td>\n",
       "      <td>4540</td>\n",
       "    </tr>\n",
       "  </tbody>\n",
       "</table>\n",
       "</div>"
      ],
      "text/plain": [
       "                                 tag frequency\n",
       "1237                    Leisure trip    313593\n",
       "1842  Submitted from a mobile device    230778\n",
       "272                           Couple    189212\n",
       "1788                  Stayed 1 night    145373\n",
       "1799                 Stayed 2 nights    100263\n",
       "1642                   Solo traveler     81235\n",
       "1810                 Stayed 3 nights     72000\n",
       "105                    Business trip     61989\n",
       "983                            Group     49088\n",
       "943       Family with young children     45836\n",
       "1812                 Stayed 4 nights     35748\n",
       "534                      Double Room     26386\n",
       "1687            Standard Double Room     24151\n",
       "1932            Superior Double Room     23550\n",
       "942       Family with older children     19802\n",
       "297               Deluxe Double Room     18623\n",
       "633              Double or Twin Room     16824\n",
       "1813                 Stayed 5 nights     15611\n",
       "1715    Standard Double or Twin Room     13062\n",
       "136              Classic Double Room     12716\n",
       "1993    Superior Double or Twin Room     10238\n",
       "13                           2 rooms      9287\n",
       "1814                 Stayed 6 nights      7399\n",
       "1777              Standard Twin Room      7325\n",
       "1602                     Single Room      7227\n",
       "2267                       Twin Room      6279\n",
       "1815                 Stayed 7 nights      5549\n",
       "731            Executive Double Room      4763\n",
       "155      Classic Double or Twin Room      4576\n",
       "2172              Superior Twin Room      4540"
      ]
     },
     "metadata": {},
     "output_type": "display_data"
    }
   ],
   "source": [
    "# Какой тег представлен в наибольшем числе отзывов?\n",
    "# Из тегов выясните, на сколько ночей чаще всего останавливаются путешественники в отелях.\n",
    "\n",
    "# собираем количества упоминаний каждого тега в две переменных\n",
    "unique, counts = np.unique(hotels['tags'].explode(), return_counts=True)\n",
    "# составляем датафрейм из этих переменных\n",
    "tag_freq = pd.DataFrame(data=np.asarray((unique, counts)).T, columns=['tag','frequency'])\n",
    "# сортируем датафрейм по убыванию\n",
    "tag_freq.sort_values(by=['frequency'], ascending=False, inplace=True)\n",
    "display(tag_freq.head(30))"
   ]
  }
 ],
 "metadata": {
  "kernelspec": {
   "display_name": "Python 3.9.10 64-bit",
   "language": "python",
   "name": "python3"
  },
  "language_info": {
   "codemirror_mode": {
    "name": "ipython",
    "version": 3
   },
   "file_extension": ".py",
   "mimetype": "text/x-python",
   "name": "python",
   "nbconvert_exporter": "python",
   "pygments_lexer": "ipython3",
   "version": "3.9.10"
  },
  "orig_nbformat": 4,
  "vscode": {
   "interpreter": {
    "hash": "11938c6bc6919ae2720b4d5011047913343b08a43b18698fd82dedb0d4417594"
   }
  }
 },
 "nbformat": 4,
 "nbformat_minor": 2
}
