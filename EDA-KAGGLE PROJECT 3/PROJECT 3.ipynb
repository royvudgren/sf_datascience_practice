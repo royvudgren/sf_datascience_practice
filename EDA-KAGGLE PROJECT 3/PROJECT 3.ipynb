{
 "cells": [
  {
   "cell_type": "markdown",
   "metadata": {},
   "source": [
    "# **PROJECT-3. EDA + Feature Engineering. Соревнование на Kaggle**"
   ]
  },
  {
   "cell_type": "code",
   "execution_count": 118,
   "metadata": {},
   "outputs": [],
   "source": [
    "import pandas as pd \n",
    "import numpy as np\n",
    "import re\n",
    "import seaborn as sns\n",
    "import geopy.distance # для работы с координатами\n",
    "from matplotlib import pyplot as plt\n",
    "from IPython.display import display\n",
    "import logging\n",
    "from comet_ml import Experiment\n",
    "\n",
    "\n",
    "from sklearn.linear_model import LogisticRegression\n",
    "from sklearn.preprocessing import MinMaxScaler\n",
    "from sklearn.metrics import accuracy_score\n",
    "\n",
    "# Загружаем специальный инструмент для разбивки:  \n",
    "from sklearn.model_selection import train_test_split\n",
    "# Импортируем необходимые библиотеки для обучения модели:  \n",
    "from sklearn.ensemble import RandomForestRegressor # инструмент для создания и обучения модели  \n",
    "from sklearn import metrics # инструменты для оценки точности модели  "
   ]
  },
  {
   "cell_type": "markdown",
   "metadata": {},
   "source": [
    "ОПИСАНИЕ ДАННЫХ\n",
    "\n",
    "1. **hotel_address** — адрес отеля;\n",
    "2. **review_date** — дата, когда рецензент разместил соответствующий отзыв;\n",
    "3. **average_score** — средний балл отеля, рассчитанный на основе последнего комментария за последний год;\n",
    "4. **hotel_name** — название отеля;\n",
    "5. **reviewer_nationality** — страна рецензента;\n",
    "6. **negative_review** — отрицательный отзыв, который рецензент дал отелю;\n",
    "7. **review_total_negative_word_counts** — общее количество слов в отрицательном отзыв;\n",
    "8. **positive_review** — положительный отзыв, который рецензент дал отелю;\n",
    "9. **review_total_positive_word_counts** — общее количество слов в положительном отзыве.\n",
    "10. **reviewer_score** — оценка, которую рецензент поставил отелю на основе своего опыта;\n",
    "11. **total_number_of_reviews_reviewer_has_given** — количество отзывов, которые рецензенты дали в прошлом;\n",
    "12. **total_number_of_reviews** — общее количество действительных отзывов об отеле;\n",
    "13. **tags** — теги, которые рецензент дал отелю;\n",
    "14. **days_since_review** — количество дней между датой проверки и датой очистки;\n",
    "15. **additional_number_of_scoring** — есть также некоторые гости, которые просто поставили оценку сервису, но не оставили отзыв. Это число указывает, сколько там действительных оценок без проверки.\n",
    "16. **lat** — географическая широта отеля;\n",
    "17. **lng** — географическая долгота отеля."
   ]
  },
  {
   "cell_type": "code",
   "execution_count": 45,
   "metadata": {},
   "outputs": [
    {
     "data": {
      "text/html": [
       "<div>\n",
       "<style scoped>\n",
       "    .dataframe tbody tr th:only-of-type {\n",
       "        vertical-align: middle;\n",
       "    }\n",
       "\n",
       "    .dataframe tbody tr th {\n",
       "        vertical-align: top;\n",
       "    }\n",
       "\n",
       "    .dataframe thead th {\n",
       "        text-align: right;\n",
       "    }\n",
       "</style>\n",
       "<table border=\"1\" class=\"dataframe\">\n",
       "  <thead>\n",
       "    <tr style=\"text-align: right;\">\n",
       "      <th></th>\n",
       "      <th>hotel_address</th>\n",
       "      <th>additional_number_of_scoring</th>\n",
       "      <th>review_date</th>\n",
       "      <th>average_score</th>\n",
       "      <th>hotel_name</th>\n",
       "      <th>reviewer_nationality</th>\n",
       "      <th>negative_review</th>\n",
       "      <th>review_total_negative_word_counts</th>\n",
       "      <th>total_number_of_reviews</th>\n",
       "      <th>positive_review</th>\n",
       "      <th>review_total_positive_word_counts</th>\n",
       "      <th>total_number_of_reviews_reviewer_has_given</th>\n",
       "      <th>reviewer_score</th>\n",
       "      <th>tags</th>\n",
       "      <th>days_since_review</th>\n",
       "      <th>lat</th>\n",
       "      <th>lng</th>\n",
       "    </tr>\n",
       "  </thead>\n",
       "  <tbody>\n",
       "    <tr>\n",
       "      <th>0</th>\n",
       "      <td>Stratton Street Mayfair Westminster Borough Lo...</td>\n",
       "      <td>581</td>\n",
       "      <td>2/19/2016</td>\n",
       "      <td>8.4</td>\n",
       "      <td>The May Fair Hotel</td>\n",
       "      <td>United Kingdom</td>\n",
       "      <td>Leaving</td>\n",
       "      <td>3</td>\n",
       "      <td>1994</td>\n",
       "      <td>Staff were amazing</td>\n",
       "      <td>4</td>\n",
       "      <td>7</td>\n",
       "      <td>10.0</td>\n",
       "      <td>[' Leisure trip ', ' Couple ', ' Studio Suite ...</td>\n",
       "      <td>531 day</td>\n",
       "      <td>51.507894</td>\n",
       "      <td>-0.143671</td>\n",
       "    </tr>\n",
       "    <tr>\n",
       "      <th>1</th>\n",
       "      <td>130 134 Southampton Row Camden London WC1B 5AF...</td>\n",
       "      <td>299</td>\n",
       "      <td>1/12/2017</td>\n",
       "      <td>8.3</td>\n",
       "      <td>Mercure London Bloomsbury Hotel</td>\n",
       "      <td>United Kingdom</td>\n",
       "      <td>poor breakfast</td>\n",
       "      <td>3</td>\n",
       "      <td>1361</td>\n",
       "      <td>location</td>\n",
       "      <td>2</td>\n",
       "      <td>14</td>\n",
       "      <td>6.3</td>\n",
       "      <td>[' Business trip ', ' Couple ', ' Standard Dou...</td>\n",
       "      <td>203 day</td>\n",
       "      <td>51.521009</td>\n",
       "      <td>-0.123097</td>\n",
       "    </tr>\n",
       "    <tr>\n",
       "      <th>2</th>\n",
       "      <td>151 bis Rue de Rennes 6th arr 75006 Paris France</td>\n",
       "      <td>32</td>\n",
       "      <td>10/18/2016</td>\n",
       "      <td>8.9</td>\n",
       "      <td>Legend Saint Germain by Elegancia</td>\n",
       "      <td>China</td>\n",
       "      <td>No kettle in room</td>\n",
       "      <td>6</td>\n",
       "      <td>406</td>\n",
       "      <td>No Positive</td>\n",
       "      <td>0</td>\n",
       "      <td>14</td>\n",
       "      <td>7.5</td>\n",
       "      <td>[' Leisure trip ', ' Solo traveler ', ' Modern...</td>\n",
       "      <td>289 day</td>\n",
       "      <td>48.845377</td>\n",
       "      <td>2.325643</td>\n",
       "    </tr>\n",
       "  </tbody>\n",
       "</table>\n",
       "</div>"
      ],
      "text/plain": [
       "                                       hotel_address  \\\n",
       "0  Stratton Street Mayfair Westminster Borough Lo...   \n",
       "1  130 134 Southampton Row Camden London WC1B 5AF...   \n",
       "2   151 bis Rue de Rennes 6th arr 75006 Paris France   \n",
       "\n",
       "   additional_number_of_scoring review_date  average_score  \\\n",
       "0                           581   2/19/2016            8.4   \n",
       "1                           299   1/12/2017            8.3   \n",
       "2                            32  10/18/2016            8.9   \n",
       "\n",
       "                          hotel_name reviewer_nationality  \\\n",
       "0                 The May Fair Hotel      United Kingdom    \n",
       "1    Mercure London Bloomsbury Hotel      United Kingdom    \n",
       "2  Legend Saint Germain by Elegancia               China    \n",
       "\n",
       "       negative_review  review_total_negative_word_counts  \\\n",
       "0             Leaving                                   3   \n",
       "1       poor breakfast                                  3   \n",
       "2   No kettle in room                                   6   \n",
       "\n",
       "   total_number_of_reviews      positive_review  \\\n",
       "0                     1994   Staff were amazing   \n",
       "1                     1361             location   \n",
       "2                      406          No Positive   \n",
       "\n",
       "   review_total_positive_word_counts  \\\n",
       "0                                  4   \n",
       "1                                  2   \n",
       "2                                  0   \n",
       "\n",
       "   total_number_of_reviews_reviewer_has_given  reviewer_score  \\\n",
       "0                                           7            10.0   \n",
       "1                                          14             6.3   \n",
       "2                                          14             7.5   \n",
       "\n",
       "                                                tags days_since_review  \\\n",
       "0  [' Leisure trip ', ' Couple ', ' Studio Suite ...           531 day   \n",
       "1  [' Business trip ', ' Couple ', ' Standard Dou...           203 day   \n",
       "2  [' Leisure trip ', ' Solo traveler ', ' Modern...           289 day   \n",
       "\n",
       "         lat       lng  \n",
       "0  51.507894 -0.143671  \n",
       "1  51.521009 -0.123097  \n",
       "2  48.845377  2.325643  "
      ]
     },
     "metadata": {},
     "output_type": "display_data"
    },
    {
     "name": "stdout",
     "output_type": "stream",
     "text": [
      "<class 'pandas.core.frame.DataFrame'>\n",
      "RangeIndex: 386803 entries, 0 to 386802\n",
      "Data columns (total 17 columns):\n",
      " #   Column                                      Non-Null Count   Dtype  \n",
      "---  ------                                      --------------   -----  \n",
      " 0   hotel_address                               386803 non-null  object \n",
      " 1   additional_number_of_scoring                386803 non-null  int64  \n",
      " 2   review_date                                 386803 non-null  object \n",
      " 3   average_score                               386803 non-null  float64\n",
      " 4   hotel_name                                  386803 non-null  object \n",
      " 5   reviewer_nationality                        386803 non-null  object \n",
      " 6   negative_review                             386803 non-null  object \n",
      " 7   review_total_negative_word_counts           386803 non-null  int64  \n",
      " 8   total_number_of_reviews                     386803 non-null  int64  \n",
      " 9   positive_review                             386803 non-null  object \n",
      " 10  review_total_positive_word_counts           386803 non-null  int64  \n",
      " 11  total_number_of_reviews_reviewer_has_given  386803 non-null  int64  \n",
      " 12  reviewer_score                              386803 non-null  float64\n",
      " 13  tags                                        386803 non-null  object \n",
      " 14  days_since_review                           386803 non-null  object \n",
      " 15  lat                                         384355 non-null  float64\n",
      " 16  lng                                         384355 non-null  float64\n",
      "dtypes: float64(4), int64(5), object(8)\n",
      "memory usage: 50.2+ MB\n"
     ]
    },
    {
     "data": {
      "text/plain": [
       "None"
      ]
     },
     "metadata": {},
     "output_type": "display_data"
    }
   ],
   "source": [
    "hotels = pd.read_csv('data/hotels.csv')\n",
    "display(hotels.head(3))\n",
    "display(hotels.info())"
   ]
  },
  {
   "cell_type": "markdown",
   "metadata": {},
   "source": [
    "***\n",
    "### **Создание и преобразвание признаков**"
   ]
  },
  {
   "cell_type": "markdown",
   "metadata": {},
   "source": [
    "Признак 1: **hotel_address**\n",
    "\n",
    "- возможно получить страну\n",
    "- возможно получить город"
   ]
  },
  {
   "cell_type": "code",
   "execution_count": 94,
   "metadata": {},
   "outputs": [
    {
     "data": {
      "text/plain": [
       "224"
      ]
     },
     "metadata": {},
     "output_type": "display_data"
    },
    {
     "data": {
      "text/plain": [
       "United Kingdom    196774\n",
       "Spain              45132\n",
       "France             44830\n",
       "Netherlands        43006\n",
       "Austria            29178\n",
       "Italy              27883\n",
       "dtype: int64"
      ]
     },
     "metadata": {},
     "output_type": "display_data"
    }
   ],
   "source": [
    "# получим страну и город из адреса отеля\n",
    "\n",
    "# составим список всех стран из признака национальности автора обзора\n",
    "country_set = set(hotels['reviewer_nationality'].str.strip())\n",
    "country_set.remove('')\n",
    "display(len(country_set)) # - всего 224 страны, этого должно хватить для вычленения страны из признака адреса отеля\n",
    "\n",
    "# Функция для поиска страны с конца строки в нашем датафрейме\n",
    "def get_countries(strs, countries):\n",
    "    countries_series = []\n",
    "    for string in strs:\n",
    "        for country in countries:\n",
    "            if country in ' '.join(string.split()[-2:]):\n",
    "                countries_series.append(country)\n",
    "    countries_series = pd.Series(countries_series)\n",
    "    return countries_series\n",
    "\n",
    "country_of_hotel = get_countries(hotels['hotel_address'],country_set)\n",
    "hotels['country_of_hotel'] = country_of_hotel\n",
    "display(country_of_hotel.value_counts())"
   ]
  },
  {
   "cell_type": "code",
   "execution_count": 116,
   "metadata": {},
   "outputs": [
    {
     "data": {
      "text/plain": [
       "London       196774\n",
       "Barcelona     45132\n",
       "Paris         44830\n",
       "Amsterdam     43006\n",
       "Vienna        29178\n",
       "Milan         27883\n",
       "dtype: int64"
      ]
     },
     "metadata": {},
     "output_type": "display_data"
    }
   ],
   "source": [
    "# функция для поиска города отеля\n",
    "def get_cities(strs,country):\n",
    "    cities_series = []\n",
    "    for string in range(0,strs.shape[0]):\n",
    "        if country.iloc[string]=='United Kingdom':\n",
    "            cities_series.append(''.join(strs.iloc[string].split()[-5:-2][0]))\n",
    "        else:\n",
    "            cities_series.append(''.join(strs.iloc[string].split()[-5:][3]))\n",
    "    cities_series = pd.Series(cities_series)\n",
    "    return cities_series\n",
    "\n",
    "city_of_hotel = get_cities(hotels['hotel_address'],hotels['country_of_hotel'])\n",
    "hotels['city_of_hotel'] = city_of_hotel\n",
    "display(city_of_hotel.value_counts())"
   ]
  },
  {
   "cell_type": "markdown",
   "metadata": {},
   "source": [
    "### **Признак 2-3: latitude-longitude**\n",
    "\n",
    "- можем вычислить примерное расстояние до центра города от отеля"
   ]
  },
  {
   "cell_type": "code",
   "execution_count": 121,
   "metadata": {},
   "outputs": [
    {
     "name": "stderr",
     "output_type": "stream",
     "text": [
      "C:\\Users\\Роман\\AppData\\Local\\Temp\\ipykernel_16080\\2989749930.py:1: SettingWithCopyWarning: \n",
      "A value is trying to be set on a copy of a slice from a DataFrame\n",
      "\n",
      "See the caveats in the documentation: https://pandas.pydata.org/pandas-docs/stable/user_guide/indexing.html#returning-a-view-versus-a-copy\n",
      "  hotels['city_of_hotel'][5]='Milan'\n"
     ]
    }
   ],
   "source": [
    "hotels['city_of_hotel'][5]='Milan'"
   ]
  },
  {
   "cell_type": "code",
   "execution_count": 125,
   "metadata": {},
   "outputs": [
    {
     "data": {
      "text/plain": [
       "0         -0.127647\n",
       "1         -0.127647\n",
       "2          2.320041\n",
       "3          2.320041\n",
       "4          4.893604\n",
       "            ...    \n",
       "386798    -0.127647\n",
       "386799    16.372504\n",
       "386800    -0.127647\n",
       "386801    -0.127647\n",
       "386802    -0.127647\n",
       "Name: longitude_by_city, Length: 386803, dtype: float64"
      ]
     },
     "metadata": {},
     "output_type": "display_data"
    }
   ],
   "source": [
    "# создадим признаки координат центра города (инфа взята с сайта https://www.gps-coordinates.net/)\n",
    "latitude_by_city={'London':51.5073219,'Barcelona':41.3828939,'Paris':48.8588897,'Amsterdam':52.3727598,'Vienna':48.2083537,'Milan':45.4641943}\n",
    "longitude_by_city={'London':-0.1276474,'Barcelona':2.1774322,'Paris':2.320041,'Amsterdam':4.8936041,'Vienna':16.3725042,'Milan':9.1896346}\n",
    "\n",
    "\n",
    "latitude_by_city_list=[]\n",
    "for i in range(0,hotels.shape[0]):\n",
    "    for key, value in latitude_by_city.items():\n",
    "        if key==hotels['city_of_hotel'][i]:\n",
    "            latitude_by_city_list.append(value)\n",
    "hotels['latitude_by_city']=latitude_by_city_list\n",
    "\n",
    "longitude_by_city_list=[]\n",
    "for i in range(0,hotels.shape[0]):\n",
    "    for key, value in longitude_by_city.items():\n",
    "        if key==hotels['city_of_hotel'][i]:\n",
    "            longitude_by_city_list.append(value)\n",
    "hotels['longitude_by_city']=longitude_by_city_list\n",
    "\n",
    "display(hotels['longitude_by_city'])\n",
    "\n",
    "# вычислим расстояние от отеля до центра города\n",
    "#def get_center_dist(lat_1,long_1,lat_2,long_2):\n",
    "\n"
   ]
  }
 ],
 "metadata": {
  "kernelspec": {
   "display_name": "Python 3.9.10 64-bit",
   "language": "python",
   "name": "python3"
  },
  "language_info": {
   "codemirror_mode": {
    "name": "ipython",
    "version": 3
   },
   "file_extension": ".py",
   "mimetype": "text/x-python",
   "name": "python",
   "nbconvert_exporter": "python",
   "pygments_lexer": "ipython3",
   "version": "3.9.10"
  },
  "orig_nbformat": 4,
  "vscode": {
   "interpreter": {
    "hash": "11938c6bc6919ae2720b4d5011047913343b08a43b18698fd82dedb0d4417594"
   }
  }
 },
 "nbformat": 4,
 "nbformat_minor": 2
}
