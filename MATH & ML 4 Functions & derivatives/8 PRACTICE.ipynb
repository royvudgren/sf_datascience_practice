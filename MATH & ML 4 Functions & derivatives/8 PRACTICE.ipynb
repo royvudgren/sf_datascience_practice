{
 "cells": [
  {
   "attachments": {},
   "cell_type": "markdown",
   "metadata": {},
   "source": [
    "# **Практика: исследование функции с помощью производных**"
   ]
  },
  {
   "attachments": {},
   "cell_type": "markdown",
   "metadata": {},
   "source": [
    "✍ В предыдущих юнитах мы познакомились со всеми этапами изучения функции, и теперь настало время обобщить полученные знания. Для этого мы возьмём функцию и полностью исследуем её."
   ]
  },
  {
   "attachments": {},
   "cell_type": "markdown",
   "id": "f468bf1e",
   "metadata": {},
   "source": [
    "## **Область определения**\n",
    "\n",
    "![](data/48.PNG)\n",
    "\n",
    "Начнём с области определения, то есть с поиска таких возможных значений аргументов, для которых существует данная функция.\n",
    "\n",
    "В знаменателе стоит выражение x^2-1. Мы помним, что в знаменателе может быть любое значение, кроме нуля. Таким образом, это выражение никогда не может быть равно нулю. Других ограничений у нас нет. Получаем, что x может быть любым, кроме - 1 и 1."
   ]
  },
  {
   "cell_type": "code",
   "execution_count": 1,
   "id": "c95eac41",
   "metadata": {},
   "outputs": [
    {
     "data": {
      "text/latex": [
       "$\\displaystyle \\left(-\\infty, -1\\right) \\cup \\left(-1, 1\\right) \\cup \\left(1, \\infty\\right)$"
      ],
      "text/plain": [
       "Union(Interval.open(-oo, -1), Interval.open(-1, 1), Interval.open(1, oo))"
      ]
     },
     "execution_count": 1,
     "metadata": {},
     "output_type": "execute_result"
    }
   ],
   "source": [
    "from sympy import Symbol, S\n",
    "from sympy.calculus.util import continuous_domain \n",
    "x = Symbol(\"x\") \n",
    "f = (x**3)/(x**2-1) \n",
    "continuous_domain(f, x, S.Reals)"
   ]
  },
  {
   "attachments": {},
   "cell_type": "markdown",
   "id": "3def5ae7",
   "metadata": {},
   "source": [
    "## **Область значений функции**\n",
    "\n",
    "Мы выяснили, для каких аргументов существует наша функция. Теперь давайте изучим, какие значения она может принимать.\n",
    "\n",
    "В числителе может быть абсолютно любое вещественное число, а в знаменателе — число не меньше -1. Так как в функции x^2 - 1 первое слагаемое (x^2) никогда не может быть отрицательным, то оно равно либо нулю, либо больше нуля. То есть мы из неотрицательного числа вычитаем единицу. Если x^2 равен нулю, то (x^2 - 1 = -1). А если x^2 больше нуля, то x^2 - 1 больше, чем -1. Получается, что в знаменателе должно быть значение -1 или больше при любых значениях аргумента.\n",
    "\n",
    "Несмотря на ограничения в знаменателе, за счёт числителя функция может принимать абсолютно любое значение."
   ]
  },
  {
   "cell_type": "code",
   "execution_count": 2,
   "id": "84f388ff",
   "metadata": {},
   "outputs": [
    {
     "data": {
      "text/latex": [
       "$\\displaystyle \\left(-\\infty, \\infty\\right)$"
      ],
      "text/plain": [
       "Interval(-oo, oo)"
      ]
     },
     "execution_count": 2,
     "metadata": {},
     "output_type": "execute_result"
    }
   ],
   "source": [
    "from sympy import Symbol, S\n",
    "from sympy.calculus.util import function_range\n",
    "x = Symbol(\"x\") \n",
    "f = (x**3)/(x**2-1) \n",
    "function_range(f, x, S.Reals)"
   ]
  },
  {
   "attachments": {},
   "cell_type": "markdown",
   "id": "39726364",
   "metadata": {},
   "source": [
    "## **Нахождение точек пересечения с осями координат**\n",
    "\n",
    "Теперь, когда область значений и область определения функции найдены, мы можем найти, в каких точках функция пересекает координатные оси.\n",
    "\n",
    "Начнём с точек пересечения с осью х. Для этого просто приравняем функцию к нулю.\n",
    "\n",
    "Для того чтобы дробь была равна 0, необходимо, чтобы числитель был равен 0. Значит, x = 0. То есть с осью абсцисс функция пересекается в точке (0;0)."
   ]
  },
  {
   "cell_type": "code",
   "execution_count": 3,
   "id": "c484f33f",
   "metadata": {},
   "outputs": [
    {
     "data": {
      "text/latex": [
       "$\\displaystyle \\left\\{0\\right\\}$"
      ],
      "text/plain": [
       "{0}"
      ]
     },
     "execution_count": 3,
     "metadata": {},
     "output_type": "execute_result"
    }
   ],
   "source": [
    "from sympy import solveset, Eq\n",
    "f = (x**3)/(x**2-1) \n",
    "solveset(Eq(f, 0), x)"
   ]
  },
  {
   "attachments": {},
   "cell_type": "markdown",
   "metadata": {},
   "source": [
    "Если нам нужна точка пересечения с осью у, то мы просто можем поставить 0 вместо x. Тогда вся функция обнулится и мы получим, что точка пересечения с осью ординат — также (0;0)."
   ]
  },
  {
   "cell_type": "code",
   "execution_count": 4,
   "id": "a11f173f",
   "metadata": {},
   "outputs": [
    {
     "data": {
      "text/latex": [
       "$\\displaystyle 0$"
      ],
      "text/plain": [
       "0"
      ]
     },
     "execution_count": 4,
     "metadata": {},
     "output_type": "execute_result"
    }
   ],
   "source": [
    "x = Symbol(\"x\")\n",
    "f = (x**3)/(x**2-1)\n",
    "f.subs(x, 0)"
   ]
  },
  {
   "attachments": {},
   "cell_type": "markdown",
   "metadata": {},
   "source": [
    "## **ИССЛЕДОВАНИЕ ФУНКЦИИ НА ЧЁТНОСТЬ И НЕЧЁТНОСТЬ**\n",
    "\n",
    "Переходим к следующему пункту исследования: узнаем, чётная перед нами функция или нечётная.\n",
    "\n",
    "Подставим в функцию вместо аргумента x аргумент -x и посмотрим, как она изменится:\n",
    "\n",
    "![](data/49.PNG)\n",
    "\n",
    "Мы видим, что выполняется условие f(-x) = -f(x), а значит функция является **нечётной** и её график симметричен относительно начала координат."
   ]
  },
  {
   "attachments": {},
   "cell_type": "markdown",
   "id": "14d60350",
   "metadata": {},
   "source": [
    "## **Нахождение производной**\n",
    "\n",
    "Перейдём к исследованию функции на предмет наличия точек максимума и минимума, а также найдём, где она возрастает, а где — убывает. Алгоритм решения такой задачи нам уже знаком, так что просто реализуем его.\n",
    "\n",
    "Найдём производную для нашей функции:\n",
    "\n",
    "![](data/50.PNG)"
   ]
  },
  {
   "cell_type": "code",
   "execution_count": 5,
   "id": "749f70c3",
   "metadata": {},
   "outputs": [
    {
     "data": {
      "text/latex": [
       "$\\displaystyle - \\frac{2 x^{4}}{\\left(x^{2} - 1\\right)^{2}} + \\frac{3 x^{2}}{x^{2} - 1}$"
      ],
      "text/plain": [
       "-2*x**4/(x**2 - 1)**2 + 3*x**2/(x**2 - 1)"
      ]
     },
     "execution_count": 5,
     "metadata": {},
     "output_type": "execute_result"
    }
   ],
   "source": [
    "import sympy\n",
    "from sympy import diff\n",
    "x = sympy.Symbol(\"x\")\n",
    "expr = (x**3)/(x**2-1)\n",
    "expr.diff(x)"
   ]
  },
  {
   "attachments": {},
   "cell_type": "markdown",
   "metadata": {},
   "source": [
    "Получили первую производную. Теперь находим точки, в которых она может менять знак: 0, sqrt(3), -sqrt(3), -1, 1.\n",
    "\n",
    "Расставляем их на числовой оси и определяем знаки на каждом промежутке:\n",
    "\n",
    "![](https://lms.skillfactory.ru/assets/courseware/v1/1e8e703a05c3de03fc588b2be8bd9acf/asset-v1:SkillFactory+DSPR-2.0+14JULY2021+type@asset+block/MATHML_md3_8_1.png)\n",
    "\n",
    "Мы видим, что в точке -sqrt(3) возрастание сменяется убыванием — это точка **максимума**. В точке sqrt(3) убывание сменяется возрастанием — это точка **минимума**."
   ]
  },
  {
   "cell_type": "code",
   "execution_count": 6,
   "id": "7d1093f9",
   "metadata": {},
   "outputs": [
    {
     "data": {
      "text/latex": [
       "$\\displaystyle \\left\\{0, - \\sqrt{3}, \\sqrt{3}\\right\\}$"
      ],
      "text/plain": [
       "{0, -sqrt(3), sqrt(3)}"
      ]
     },
     "execution_count": 6,
     "metadata": {},
     "output_type": "execute_result"
    }
   ],
   "source": [
    "y = expr.diff(x)\n",
    "solveset(Eq(y, 0), x)"
   ]
  },
  {
   "attachments": {},
   "cell_type": "markdown",
   "id": "10d568f8",
   "metadata": {},
   "source": [
    "## **ИССЛЕДОВАНИЕ ФУНКЦИИ НА ВЫПУКЛОСТИ**\n",
    "\n",
    "Время перейти к поиску **выпуклостей** функции. Для того чтобы это сделать, найдём **вторую производную** функции и приравняем её к нулю:\n",
    "\n",
    "![](data/51.PNG)"
   ]
  },
  {
   "cell_type": "code",
   "execution_count": 7,
   "id": "cfebc61b",
   "metadata": {},
   "outputs": [
    {
     "data": {
      "text/latex": [
       "$\\displaystyle \\frac{2 x \\left(\\frac{x^{2} \\cdot \\left(\\frac{4 x^{2}}{x^{2} - 1} - 1\\right)}{x^{2} - 1} - \\frac{6 x^{2}}{x^{2} - 1} + 3\\right)}{x^{2} - 1}$"
      ],
      "text/plain": [
       "2*x*(x**2*(4*x**2/(x**2 - 1) - 1)/(x**2 - 1) - 6*x**2/(x**2 - 1) + 3)/(x**2 - 1)"
      ]
     },
     "execution_count": 7,
     "metadata": {},
     "output_type": "execute_result"
    }
   ],
   "source": [
    "import sympy\n",
    "from sympy import diff\n",
    "x = sympy.Symbol(\"x\")\n",
    "expr = (x**3)/(x**2-1)\n",
    "expr.diff(x,2)"
   ]
  },
  {
   "cell_type": "code",
   "execution_count": 8,
   "id": "31d8a7c8",
   "metadata": {},
   "outputs": [
    {
     "data": {
      "text/latex": [
       "$\\displaystyle \\left\\{0, - \\sqrt{3} i, \\sqrt{3} i\\right\\}$"
      ],
      "text/plain": [
       "{0, -sqrt(3)*I, sqrt(3)*I}"
      ]
     },
     "execution_count": 8,
     "metadata": {},
     "output_type": "execute_result"
    }
   ],
   "source": [
    "y = expr.diff(x,2)\n",
    "solveset(Eq(y, 0), x)"
   ]
  },
  {
   "attachments": {},
   "cell_type": "markdown",
   "metadata": {},
   "source": [
    "Точки, в которых функция меняет знак: -1, 0, 1.\n",
    "\n",
    "Расставим данные точки на числовой оси, определим знаки второй производной и отметим промежутки, где мы можем наблюдать выпуклости вниз, а где — выпуклости вверх.\n",
    "\n",
    "![](https://lms.skillfactory.ru/assets/courseware/v1/1bcafe6e4bae2ada0d266a35a5bb5fe8/asset-v1:SkillFactory+DSPR-2.0+14JULY2021+type@asset+block/MATHML_md3_8_2.png)\n",
    "\n",
    "Получаем, что функция выпукла вверх на интервалах (-∞;-1) и (0;1) и выпукла вниз на интервалах (-1;0) и (1;∞).\n",
    "\n",
    "Также мы можем увидеть точку — перегиба 0 (-1 и 1 не являются точками перегиба, так как в них функция не существует)."
   ]
  },
  {
   "attachments": {},
   "cell_type": "markdown",
   "id": "fc9a293e",
   "metadata": {},
   "source": [
    "## **НАХОЖДЕНИЕ АСИМПТОТ ГРАФИКА**\n",
    "\n",
    "В одном из предыдущих юнитов мы упоминали, что в исследовании функции необходимо находить асимптоты графика, но не говорили о том, что это такое.\n",
    "***\n",
    "* **Асимптота** — это линия, к которой бесконечно приближается график, но так её никогда и не пересекает.\n",
    "***\n",
    "Асимптоты бывают трёх видов:\n",
    "\n",
    "![](https://lms.skillfactory.ru/assets/courseware/v1/ddb1537a148a9071e83dad49107e3833/asset-v1:SkillFactory+DSPR-2.0+14JULY2021+type@asset+block/MATHML_md3_8_3.png)\n",
    "\n",
    "Для поиска асимптот используют пределы, но их изучение не входит в наши задачи (но если вам очень интересно, можно почитать про них [**тут**](https://математика24.рф/kak-reshat-predely-dlya-chajnikov.html)). Однако чтобы исследование функции было полным, мы всё равно найдём асимптоты с помощью библиотеки SymPy, которая прекрасно умеет считать любые пределы."
   ]
  },
  {
   "attachments": {},
   "cell_type": "markdown",
   "metadata": {},
   "source": [
    "### **ГОРИЗОНТАЛЬНАЯ АСИМПТОТА**"
   ]
  },
  {
   "cell_type": "code",
   "execution_count": 9,
   "id": "9015fba6",
   "metadata": {},
   "outputs": [
    {
     "data": {
      "text/latex": [
       "$\\displaystyle \\infty$"
      ],
      "text/plain": [
       "oo"
      ]
     },
     "execution_count": 9,
     "metadata": {},
     "output_type": "execute_result"
    }
   ],
   "source": [
    "from sympy import Symbol, limit, oo\n",
    "x = Symbol(\"x\")\n",
    "f = (x**3)/(x**2-1)\n",
    "limit(f,x,oo)"
   ]
  },
  {
   "attachments": {},
   "cell_type": "markdown",
   "metadata": {},
   "source": [
    "Получаем oo — значит, горизонтальной асимптоты нет (по сути, здесь мы всегда получаем значение k для функции y = k)."
   ]
  },
  {
   "attachments": {},
   "cell_type": "markdown",
   "metadata": {},
   "source": [
    "### **ВЕРТИКАЛЬНАЯ АСИМПТОТА**\n",
    "\n",
    "В качестве вертикальных асимптот могут выступать точки, не вошедшие в область определения. Если предел функции в них равен бесконечности, то они являются асимптотами. Проверим:"
   ]
  },
  {
   "cell_type": "code",
   "execution_count": 10,
   "id": "ad626e7c",
   "metadata": {},
   "outputs": [
    {
     "data": {
      "text/latex": [
       "$\\displaystyle \\infty$"
      ],
      "text/plain": [
       "oo"
      ]
     },
     "execution_count": 10,
     "metadata": {},
     "output_type": "execute_result"
    }
   ],
   "source": [
    "from sympy import Symbol, limit, oo\n",
    "x = Symbol(\"x\")\n",
    "f = (x**3)/(x**2-1)\n",
    "limit(f,x,1)"
   ]
  },
  {
   "cell_type": "code",
   "execution_count": 11,
   "id": "13913fbf",
   "metadata": {},
   "outputs": [
    {
     "data": {
      "text/latex": [
       "$\\displaystyle \\infty$"
      ],
      "text/plain": [
       "oo"
      ]
     },
     "execution_count": 11,
     "metadata": {},
     "output_type": "execute_result"
    }
   ],
   "source": [
    "from sympy import Symbol, limit, oo\n",
    "x = Symbol(\"x\")\n",
    "f = (x**3)/(x**2-1)\n",
    "limit(f,x,-1)"
   ]
  },
  {
   "attachments": {},
   "cell_type": "markdown",
   "metadata": {},
   "source": [
    "Можно сделать вывод, что x = 1 и x = -1 — вертикальные асимптоты."
   ]
  },
  {
   "attachments": {},
   "cell_type": "markdown",
   "metadata": {},
   "source": [
    "### **НАКЛОННАЯ АСИМПТОТА**\n",
    "\n",
    "Для поиска наклонной асимптоты нам необходимо найти коэффициенты k и b для функции y = kx + b.\n",
    "\n",
    "Для поиска коэффициента k ищем предел функции, делённой на x:"
   ]
  },
  {
   "cell_type": "code",
   "execution_count": 12,
   "id": "dfb2adc9",
   "metadata": {},
   "outputs": [
    {
     "data": {
      "text/latex": [
       "$\\displaystyle 1$"
      ],
      "text/plain": [
       "1"
      ]
     },
     "execution_count": 12,
     "metadata": {},
     "output_type": "execute_result"
    }
   ],
   "source": [
    "from sympy import Symbol, limit, oo\n",
    "x = Symbol(\"x\")\n",
    "f = (x**3)/((x**2-1)*x)\n",
    "limit(f,x,oo)"
   ]
  },
  {
   "attachments": {},
   "cell_type": "markdown",
   "metadata": {},
   "source": [
    "Получаем 1 — это значит, что k = 1.\n",
    "\n",
    "Теперь ищем b. Для этого нужно найти предел для разности функции и произведения kx:"
   ]
  },
  {
   "cell_type": "code",
   "execution_count": 13,
   "id": "1ed7d557",
   "metadata": {},
   "outputs": [
    {
     "data": {
      "text/latex": [
       "$\\displaystyle 0$"
      ],
      "text/plain": [
       "0"
      ]
     },
     "execution_count": 13,
     "metadata": {},
     "output_type": "execute_result"
    }
   ],
   "source": [
    "from sympy import Symbol, limit, oo\n",
    "x = Symbol(\"x\")\n",
    "f = (x**3)/((x**2-1)) - 1*x\n",
    "limit(f,x,oo)"
   ]
  },
  {
   "attachments": {},
   "cell_type": "markdown",
   "metadata": {},
   "source": [
    "Получаем 0 — это значит, что наклонная асимптота задаётся уравнением y = x."
   ]
  },
  {
   "attachments": {},
   "cell_type": "markdown",
   "metadata": {},
   "source": [
    "Итак, мы провели полное исследование, узнали, как выглядит наша функция, и могли бы изобразить её следующим образом:\n",
    "\n",
    "![](https://lms.skillfactory.ru/assets/courseware/v1/ab9b285aa3a99608d23f3d1ed2ea78b1/asset-v1:SkillFactory+DSPR-2.0+14JULY2021+type@asset+block/MATHML_md3_8_4.png)\n",
    "\n",
    "Мы видим точки максимума и минимума в точках -sqrt(3) и sqrt(3):\n",
    "\n",
    "![](https://lms.skillfactory.ru/assets/courseware/v1/65a044cab719a33df0b91cdabd7ccda0/asset-v1:SkillFactory+DSPR-2.0+14JULY2021+type@asset+block/MATHML_md3_8_5.png)\n",
    "\n",
    "Кроме того, мы видим точку пересечения с осями:\n",
    "\n",
    "![](https://lms.skillfactory.ru/assets/courseware/v1/3a791d31a70c25b7057c01c19e16fa64/asset-v1:SkillFactory+DSPR-2.0+14JULY2021+type@asset+block/MATHML_md3_8_6.png)\n",
    "\n",
    "Асимптоты, к которым стремятся части графика:\n",
    "\n",
    "![](https://lms.skillfactory.ru/assets/courseware/v1/ef60a958355b2e64254c4e24c657502b/asset-v1:SkillFactory+DSPR-2.0+14JULY2021+type@asset+block/MATHML_md3_8_7.png)\n",
    "\n",
    "Также можно увидеть области выпуклости вверх\n",
    "\n",
    "![](https://lms.skillfactory.ru/assets/courseware/v1/9262a3df602b27e5d924c1c447c3cbee/asset-v1:SkillFactory+DSPR-2.0+14JULY2021+type@asset+block/MATHML_md3_8_8.png)\n",
    "\n",
    "и области выпуклости вниз\n",
    "\n",
    "![](https://lms.skillfactory.ru/assets/courseware/v1/8b0c11e8021eb058e03e4bcf371ec9be/asset-v1:SkillFactory+DSPR-2.0+14JULY2021+type@asset+block/MATHML_md3_8_9.png)\n",
    "\n",
    "Также мы можем отметить, что график симметричен относительно начала координат, так как функция нечетная."
   ]
  },
  {
   "attachments": {},
   "cell_type": "markdown",
   "metadata": {},
   "source": [
    "Таким образом, собрав всю информацию о графике, мы всегда можем сделать его «эскиз» на бумаге, и он будет достаточно точен. А вот построить такой график с помощью библиотеки Matplotlib в одно действие не получится, так как функция построения графиков попытается собрать весь график в одну линию, и результат будет далёк от истины.\n",
    "\n",
    "Конечно, можно разделить график на несколько частей и построить все части отдельно, но ведь сначала надо осознать, что график будет состоять из нескольких частей, а также понять, что это будут за части.\n",
    "\n",
    "Несмотря на огромное количество продвинутых функций и инструментов для построения графиков, очень сложно пользоваться ими, не понимая, как должна выглядеть функция — в таком случае можно принять за истину абсолютно неверный ответ. Умение самостоятельно исследовать функцию от начала и до конца даёт вам огромный бонус в плане понимания алгоритмов и оценки правильности выполняемых в Python действий.\n",
    "\n",
    "В виде функциональной зависимости можно выразить практически всё:\n",
    "\n",
    "* Временной ряд (можно понять, какой тренд у процесса, есть ли сезонность, предсказать будущие значения).\n",
    "* Функционал ошибки (можно понять, какие параметры лучше взять, чтобы модель была как можно эффективнее).\n",
    "* Различные биологические, экономические, физические процессы.\n",
    "\n",
    "Возможно, вы слышали о так называемом **техническом анализе**, который используют трейдеры для того, чтобы определять наилучшие моменты покупки или продажи акций. Если говорить упрощённо, это анализ графика функции, отражающей изменение цены. Считается, что изменения цен происходят по определённым паттернам, и для их изучения есть ряд приёмов: например, можно найти минимумы и максимумы и провести через них линии определённым образом. Такая манипуляция покажет, какой тренд на изменение цены можно наблюдать. Разумеется, есть целый ряд таких приёмов для изучения динамики цен, и для того, чтобы их использовать и получать доход, специалисты по инвестированию должны очень хорошо уметь исследовать функции."
   ]
  },
  {
   "attachments": {},
   "cell_type": "markdown",
   "metadata": {},
   "source": [
    "***\n",
    "## **ЗАДАЧИ**\n",
    "\n",
    "![](data/52.PNG)"
   ]
  },
  {
   "cell_type": "code",
   "execution_count": 15,
   "metadata": {},
   "outputs": [
    {
     "data": {
      "text/latex": [
       "$\\displaystyle \\left(-\\infty, -5\\right) \\cup \\left(-5, \\infty\\right)$"
      ],
      "text/plain": [
       "Union(Interval.open(-oo, -5), Interval.open(-5, oo))"
      ]
     },
     "execution_count": 15,
     "metadata": {},
     "output_type": "execute_result"
    }
   ],
   "source": [
    "# Найдите область определения функции\n",
    "x = Symbol(\"x\") \n",
    "f = (x**3)/(2*((x+5)**2))\n",
    "continuous_domain(f, x, S.Reals)"
   ]
  },
  {
   "cell_type": "code",
   "execution_count": 17,
   "metadata": {},
   "outputs": [
    {
     "data": {
      "text/latex": [
       "$\\displaystyle \\left(-\\infty, \\infty\\right)$"
      ],
      "text/plain": [
       "Interval(-oo, oo)"
      ]
     },
     "execution_count": 17,
     "metadata": {},
     "output_type": "execute_result"
    }
   ],
   "source": [
    "# Найдите область значений функции\n",
    "function_range(f, x, S.Reals)"
   ]
  },
  {
   "cell_type": "code",
   "execution_count": 21,
   "metadata": {},
   "outputs": [],
   "source": [
    "# Исследуйте функцию на чётность. Какой она является?\n",
    "\n",
    "# никакой"
   ]
  },
  {
   "cell_type": "code",
   "execution_count": 22,
   "metadata": {},
   "outputs": [
    {
     "data": {
      "text/latex": [
       "$\\displaystyle \\left\\{0\\right\\}$"
      ],
      "text/plain": [
       "{0}"
      ]
     },
     "execution_count": 22,
     "metadata": {},
     "output_type": "execute_result"
    }
   ],
   "source": [
    "# В какой точке график пересекает ось абсцисс?\n",
    "# В качестве ответа введите координату по х.\n",
    "\n",
    "solveset(Eq(f, 0), x)"
   ]
  },
  {
   "cell_type": "code",
   "execution_count": 23,
   "metadata": {},
   "outputs": [
    {
     "data": {
      "text/latex": [
       "$\\displaystyle 0$"
      ],
      "text/plain": [
       "0"
      ]
     },
     "execution_count": 23,
     "metadata": {},
     "output_type": "execute_result"
    }
   ],
   "source": [
    "# В какой точке график пересекает ось ординат?\n",
    "# В качестве ответа введите координату по y.\n",
    "\n",
    "f.subs(x, 0)"
   ]
  },
  {
   "cell_type": "code",
   "execution_count": 24,
   "metadata": {},
   "outputs": [
    {
     "data": {
      "text/latex": [
       "$\\displaystyle - \\frac{x^{3}}{\\left(x + 5\\right)^{3}} + \\frac{3 x^{2}}{2 \\left(x + 5\\right)^{2}}$"
      ],
      "text/plain": [
       "-x**3/(x + 5)**3 + 3*x**2/(2*(x + 5)**2)"
      ]
     },
     "execution_count": 24,
     "metadata": {},
     "output_type": "execute_result"
    }
   ],
   "source": [
    "# Найдите производную от функции\n",
    "f.diff(x)"
   ]
  },
  {
   "cell_type": "code",
   "execution_count": 27,
   "metadata": {},
   "outputs": [
    {
     "data": {
      "text/latex": [
       "$\\displaystyle \\left\\{-15, 0\\right\\}$"
      ],
      "text/plain": [
       "{-15, 0}"
      ]
     },
     "execution_count": 27,
     "metadata": {},
     "output_type": "execute_result"
    }
   ],
   "source": [
    "# Найдите точку максимума\n",
    "y = f.diff(x)\n",
    "solveset(Eq(y, 0), x)"
   ]
  },
  {
   "cell_type": "code",
   "execution_count": 42,
   "metadata": {},
   "outputs": [
    {
     "name": "stdout",
     "output_type": "stream",
     "text": [
      "128/1331\n",
      "-98/729\n",
      "27/4\n",
      "1573/4096\n"
     ]
    }
   ],
   "source": [
    "print(y.subs(x, -16)) # +\n",
    "print(y.subs(x, -14)) # -\n",
    "print(y.subs(x, -3)) # +\n",
    "print(y.subs(x, 11)) # +"
   ]
  },
  {
   "cell_type": "code",
   "execution_count": 46,
   "metadata": {},
   "outputs": [
    {
     "data": {
      "text/latex": [
       "$\\displaystyle \\frac{x^{3}}{2 \\left(x + 5\\right)^{2}}$"
      ],
      "text/plain": [
       "x**3/(2*(x + 5)**2)"
      ]
     },
     "execution_count": 46,
     "metadata": {},
     "output_type": "execute_result"
    }
   ],
   "source": [
    "f = (x**3)/(2*((x+5)**2))\n",
    "f"
   ]
  },
  {
   "cell_type": "code",
   "execution_count": 44,
   "metadata": {},
   "outputs": [
    {
     "data": {
      "text/latex": [
       "$\\displaystyle \\frac{75 x}{x^{4} + 20 x^{3} + 150 x^{2} + 500 x + 625}$"
      ],
      "text/plain": [
       "75*x/(x**4 + 20*x**3 + 150*x**2 + 500*x + 625)"
      ]
     },
     "execution_count": 44,
     "metadata": {},
     "output_type": "execute_result"
    }
   ],
   "source": [
    "# Вычислим вторую производную функции и упростим выражение:\n",
    "from sympy import simplify\n",
    "simplify(f.diff(x,2))"
   ]
  },
  {
   "cell_type": "code",
   "execution_count": 49,
   "metadata": {},
   "outputs": [
    {
     "data": {
      "text/latex": [
       "$\\displaystyle \\left\\{0\\right\\}$"
      ],
      "text/plain": [
       "{0}"
      ]
     },
     "execution_count": 49,
     "metadata": {},
     "output_type": "execute_result"
    }
   ],
   "source": [
    "# На каком(-их) интервале(-ах) функция выпукла вверх?\n",
    "\n",
    "y = f.diff(x,2)\n",
    "solveset(Eq(y, 0), x) # и ещё -5"
   ]
  },
  {
   "cell_type": "code",
   "execution_count": 50,
   "metadata": {},
   "outputs": [
    {
     "name": "stdout",
     "output_type": "stream",
     "text": [
      "-450\n",
      "-225/16\n",
      "25/432\n"
     ]
    }
   ],
   "source": [
    "print(y.subs(x, -6)) # - вверх\n",
    "print(y.subs(x, -3)) # - вверх\n",
    "print(y.subs(x, 1)) # + вниз"
   ]
  },
  {
   "cell_type": "code",
   "execution_count": 52,
   "metadata": {},
   "outputs": [
    {
     "data": {
      "text/latex": [
       "$\\displaystyle \\left\\{0, 2\\right\\}$"
      ],
      "text/plain": [
       "{0, 2}"
      ]
     },
     "execution_count": 52,
     "metadata": {},
     "output_type": "execute_result"
    }
   ],
   "source": [
    "# На каком(-их) интервале(-ах) убывает функция\n",
    "\n",
    "f = -(x**3)+3*(x**2)+9\n",
    "y = f.diff(x)\n",
    "solveset(Eq(y, 0), x)"
   ]
  },
  {
   "cell_type": "code",
   "execution_count": 53,
   "metadata": {},
   "outputs": [
    {
     "name": "stdout",
     "output_type": "stream",
     "text": [
      "-9\n",
      "3\n",
      "-9\n"
     ]
    }
   ],
   "source": [
    "print(y.subs(x, -1)) # -\n",
    "print(y.subs(x, 1)) # +\n",
    "print(y.subs(x, 3)) # -"
   ]
  },
  {
   "cell_type": "code",
   "execution_count": 55,
   "metadata": {},
   "outputs": [
    {
     "data": {
      "text/latex": [
       "$\\displaystyle 3 x^{2} + \\frac{1}{x}$"
      ],
      "text/plain": [
       "3*x**2 + 1/x"
      ]
     },
     "execution_count": 55,
     "metadata": {},
     "output_type": "execute_result"
    }
   ],
   "source": [
    "# Найдите производную для функции\n",
    "from sympy import ln\n",
    "f = ln(x)+x**3\n",
    "f.diff(x)"
   ]
  },
  {
   "cell_type": "code",
   "execution_count": 61,
   "metadata": {},
   "outputs": [
    {
     "data": {
      "text/latex": [
       "$\\displaystyle \\left\\{-1, 1\\right\\}$"
      ],
      "text/plain": [
       "{-1, 1}"
      ]
     },
     "execution_count": 61,
     "metadata": {},
     "output_type": "execute_result"
    }
   ],
   "source": [
    "# Найдите точку минимума для функции \n",
    "\n",
    "f = -((x**2+1)/x)\n",
    "y = f.diff(x)\n",
    "solveset(Eq(y, 0), x)"
   ]
  },
  {
   "cell_type": "code",
   "execution_count": 62,
   "metadata": {},
   "outputs": [
    {
     "name": "stdout",
     "output_type": "stream",
     "text": [
      "-3/4\n",
      "3.00000000000000\n",
      "3.00000000000000\n",
      "-3/4\n"
     ]
    }
   ],
   "source": [
    "print(y.subs(x, -2)) # -\n",
    "print(y.subs(x, -0.5)) # +\n",
    "print(y.subs(x, 0.5)) # +\n",
    "print(y.subs(x, 2)) # -"
   ]
  },
  {
   "cell_type": "code",
   "execution_count": 63,
   "metadata": {},
   "outputs": [
    {
     "data": {
      "text/latex": [
       "$\\displaystyle \\left[-1, 1\\right]$"
      ],
      "text/plain": [
       "Interval(-1, 1)"
      ]
     },
     "execution_count": 63,
     "metadata": {},
     "output_type": "execute_result"
    }
   ],
   "source": [
    "# Какая область значений у функции sin(x)?\n",
    "from sympy import sin\n",
    "function_range(sin(x), x, S.Reals)"
   ]
  }
 ],
 "metadata": {
  "kernelspec": {
   "display_name": "Python 3",
   "language": "python",
   "name": "python3"
  },
  "language_info": {
   "codemirror_mode": {
    "name": "ipython",
    "version": 3
   },
   "file_extension": ".py",
   "mimetype": "text/x-python",
   "name": "python",
   "nbconvert_exporter": "python",
   "pygments_lexer": "ipython3",
   "version": "3.10.8 (tags/v3.10.8:aaaf517, Oct 11 2022, 16:50:30) [MSC v.1933 64 bit (AMD64)]"
  },
  "orig_nbformat": 4,
  "vscode": {
   "interpreter": {
    "hash": "c68eacbc5a3a550d9b1f68bf11bf31e2b39ed4b9985227d4d8c7ee1d286013f5"
   }
  }
 },
 "nbformat": 4,
 "nbformat_minor": 2
}
