{
 "cells": [
  {
   "cell_type": "markdown",
   "metadata": {},
   "source": [
    "### Введение"
   ]
  },
  {
   "cell_type": "code",
   "execution_count": 4,
   "metadata": {},
   "outputs": [
    {
     "name": "stdout",
     "output_type": "stream",
     "text": [
      "pandas\n"
     ]
    }
   ],
   "source": [
    "# PANDAS импорт\n",
    "import pandas as pd\n",
    "pd.__version__ # узнать версию панд\n",
    "print(pd.__name__)"
   ]
  },
  {
   "cell_type": "markdown",
   "metadata": {},
   "source": [
    "### SERIES\n",
    "упорядоченная изменяемая коллекция объектов, имеющая так называемые ассоциативные метки"
   ]
  },
  {
   "cell_type": "code",
   "execution_count": 24,
   "metadata": {},
   "outputs": [
    {
     "data": {
      "text/plain": [
       "UK       Англия\n",
       "CA       Канада\n",
       "US          США\n",
       "RU       Россия\n",
       "UA      Украина\n",
       "BY     Беларусь\n",
       "KZ    Казахстан\n",
       "Name: countries, dtype: object"
      ]
     },
     "metadata": {},
     "output_type": "display_data"
    }
   ],
   "source": [
    "# создание при помощи свойств pd.series - создание радов (указывать dtype!)\n",
    "countries = pd.Series(\n",
    "    data = ['Англия', 'Канада', 'США', 'Россия', 'Украина', 'Беларусь', 'Казахстан'],\n",
    "    index = ['UK', 'CA', 'US', 'RU', 'UA', 'BY', 'KZ'], # если не указать, то индексы будут порядковыми номерами\n",
    "    name = 'countries',\n",
    "    dtype = str\n",
    ")\n",
    "display(countries) # это вместо print() для файлов-ноутбуков .ipynb (в .py не работает)"
   ]
  },
  {
   "cell_type": "code",
   "execution_count": 16,
   "metadata": {},
   "outputs": [
    {
     "data": {
      "text/plain": [
       "UK       Англия\n",
       "CA       Канада\n",
       "US          США\n",
       "RU       Россия\n",
       "UA      Украина\n",
       "BY     Беларусь\n",
       "KZ    Казахстан\n",
       "Name: countries, dtype: object"
      ]
     },
     "metadata": {},
     "output_type": "display_data"
    }
   ],
   "source": [
    "# создание при помощи словаря - создание радов (указывать dtype!)\n",
    "countries = pd.Series({\n",
    "    'UK': 'Англия',\n",
    "    'CA': 'Канада',\n",
    "    'US' : 'США',\n",
    "    'RU': 'Россия',\n",
    "    'UA': 'Украина',\n",
    "    'BY': 'Беларусь',\n",
    "    'KZ': 'Казахстан'},\n",
    "    name = 'countries'\n",
    ")\n",
    "display(countries)"
   ]
  },
  {
   "cell_type": "markdown",
   "metadata": {},
   "source": [
    "### ДОСТУП К ДАННЫМ В SERIES"
   ]
  },
  {
   "cell_type": "markdown",
   "metadata": {},
   "source": [
    ".loc - вернуть элемент из сириэс по *имени* индекса"
   ]
  },
  {
   "cell_type": "code",
   "execution_count": 20,
   "metadata": {},
   "outputs": [
    {
     "name": "stdout",
     "output_type": "stream",
     "text": [
      "США\n"
     ]
    }
   ],
   "source": [
    "# Доступ к одному элементу через LOC \n",
    "print(countries.loc['US']) # через квадратные скобки"
   ]
  },
  {
   "cell_type": "code",
   "execution_count": 21,
   "metadata": {},
   "outputs": [
    {
     "name": "stdout",
     "output_type": "stream",
     "text": [
      "US       США\n",
      "RU    Россия\n",
      "UK    Англия\n",
      "Name: countries, dtype: object\n"
     ]
    }
   ],
   "source": [
    "# Доступ к нескольким элементам через LOC\n",
    "print(countries.loc[['US', 'RU', 'UK']]) # обернуть в список"
   ]
  },
  {
   "cell_type": "markdown",
   "metadata": {},
   "source": [
    ".iloc  - вернуть элемент из сириэс по *номеру* индекса"
   ]
  },
  {
   "cell_type": "code",
   "execution_count": 19,
   "metadata": {},
   "outputs": [
    {
     "name": "stdout",
     "output_type": "stream",
     "text": [
      "Казахстан\n"
     ]
    }
   ],
   "source": [
    "# Доступ к одному элементу через ILOC \n",
    "print(countries.iloc[6]) # тоже через квадратные скобки"
   ]
  },
  {
   "cell_type": "code",
   "execution_count": 22,
   "metadata": {},
   "outputs": [
    {
     "name": "stdout",
     "output_type": "stream",
     "text": [
      "CA    Канада\n",
      "US       США\n",
      "RU    Россия\n",
      "Name: countries, dtype: object\n"
     ]
    }
   ],
   "source": [
    "# Доступ к нескольким элементам через ILOC (срезом)\n",
    "print(countries.iloc[1:4]) # сделать срез"
   ]
  },
  {
   "cell_type": "markdown",
   "metadata": {},
   "source": [
    "Задача:\n",
    " \n",
    "В аптеку поступают партии лекарств. Их названия находятся в списке names, количество единиц товара находится в списке counts\n",
    "\n",
    "Напишите функцию create_medications(names, counts), создающую Series medications, индексами которого являются названия лекарств names, а значениями — их количество в партии counts.\n",
    "\n",
    "Также напишите функцию get_percent(medications, name), которая возвращает долю товара с именем name от общего количества товаров в партии в процентах."
   ]
  },
  {
   "cell_type": "code",
   "execution_count": 28,
   "metadata": {},
   "outputs": [
    {
     "ename": "TypeError",
     "evalue": "unsupported operand type(s) for +: 'int' and 'str'",
     "output_type": "error",
     "traceback": [
      "\u001b[1;31m---------------------------------------------------------------------------\u001b[0m",
      "\u001b[1;31mTypeError\u001b[0m                                 Traceback (most recent call last)",
      "\u001b[1;32mc:\\DS\\Notebooks\\Python-10 PANDAS\\1 введение в pandas.ipynb Cell 14'\u001b[0m in \u001b[0;36m<module>\u001b[1;34m\u001b[0m\n\u001b[0;32m     <a href='vscode-notebook-cell:/c%3A/DS/Notebooks/Python-10%20PANDAS/1%20%D0%B2%D0%B2%D0%B5%D0%B4%D0%B5%D0%BD%D0%B8%D0%B5%20%D0%B2%20pandas.ipynb#ch0000015?line=21'>22</a>\u001b[0m counts\u001b[39m=\u001b[39m[\u001b[39m15\u001b[39m, \u001b[39m18\u001b[39m, \u001b[39m7\u001b[39m]\n\u001b[0;32m     <a href='vscode-notebook-cell:/c%3A/DS/Notebooks/Python-10%20PANDAS/1%20%D0%B2%D0%B2%D0%B5%D0%B4%D0%B5%D0%BD%D0%B8%D0%B5%20%D0%B2%20pandas.ipynb#ch0000015?line=22'>23</a>\u001b[0m medications \u001b[39m=\u001b[39m create_medications(names, counts)\n\u001b[1;32m---> <a href='vscode-notebook-cell:/c%3A/DS/Notebooks/Python-10%20PANDAS/1%20%D0%B2%D0%B2%D0%B5%D0%B4%D0%B5%D0%BD%D0%B8%D0%B5%20%D0%B2%20pandas.ipynb#ch0000015?line=23'>24</a>\u001b[0m \u001b[39mprint\u001b[39m(get_percent(medications, \u001b[39m\"\u001b[39;49m\u001b[39mchlorhexidine\u001b[39;49m\u001b[39m\"\u001b[39;49m))\n",
      "\u001b[1;32mc:\\DS\\Notebooks\\Python-10 PANDAS\\1 введение в pandas.ipynb Cell 14'\u001b[0m in \u001b[0;36mget_percent\u001b[1;34m(medications, name)\u001b[0m\n\u001b[0;32m     <a href='vscode-notebook-cell:/c%3A/DS/Notebooks/Python-10%20PANDAS/1%20%D0%B2%D0%B2%D0%B5%D0%B4%D0%B5%D0%BD%D0%B8%D0%B5%20%D0%B2%20pandas.ipynb#ch0000015?line=13'>14</a>\u001b[0m \u001b[39mdef\u001b[39;00m \u001b[39mget_percent\u001b[39m(medications, name):\n\u001b[1;32m---> <a href='vscode-notebook-cell:/c%3A/DS/Notebooks/Python-10%20PANDAS/1%20%D0%B2%D0%B2%D0%B5%D0%B4%D0%B5%D0%BD%D0%B8%D0%B5%20%D0%B2%20pandas.ipynb#ch0000015?line=14'>15</a>\u001b[0m     amount_of_drugs \u001b[39m=\u001b[39m \u001b[39msum\u001b[39;49m(medications\u001b[39m.\u001b[39;49miloc[:])\n\u001b[0;32m     <a href='vscode-notebook-cell:/c%3A/DS/Notebooks/Python-10%20PANDAS/1%20%D0%B2%D0%B2%D0%B5%D0%B4%D0%B5%D0%BD%D0%B8%D0%B5%20%D0%B2%20pandas.ipynb#ch0000015?line=15'>16</a>\u001b[0m     share \u001b[39m=\u001b[39m \u001b[39m100\u001b[39m\u001b[39m*\u001b[39mmedications\u001b[39m.\u001b[39mloc[name]\u001b[39m/\u001b[39mamount_of_drugs\n\u001b[0;32m     <a href='vscode-notebook-cell:/c%3A/DS/Notebooks/Python-10%20PANDAS/1%20%D0%B2%D0%B2%D0%B5%D0%B4%D0%B5%D0%BD%D0%B8%D0%B5%20%D0%B2%20pandas.ipynb#ch0000015?line=16'>17</a>\u001b[0m     \u001b[39mreturn\u001b[39;00m share\n",
      "\u001b[1;31mTypeError\u001b[0m: unsupported operand type(s) for +: 'int' and 'str'"
     ]
    }
   ],
   "source": [
    "import pandas as pd\n",
    "from IPython.display import display\n",
    "\n",
    "def create_medications(names, counts):\n",
    "    medications_series = pd.Series(\n",
    "    data = counts,\n",
    "    index = names,\n",
    "    name = 'drugs',\n",
    "    dtype = str\n",
    "    )\n",
    "    return medications_series\n",
    "   \n",
    "\n",
    "def get_percent(medications, name):\n",
    "    amount_of_drugs = sum(medications.iloc[:])\n",
    "    share = 100*medications.loc[name]/amount_of_drugs\n",
    "    return share\n",
    "\n",
    "\n",
    "if __name__ == '__main__':\n",
    "    names=['chlorhexidine', 'cyntomycin', 'afobazol']\n",
    "    counts=[15, 18, 7]\n",
    "    medications = create_medications(names, counts)\n",
    "    print(get_percent(medications, \"chlorhexidine\")) #37.5"
   ]
  }
 ],
 "metadata": {
  "interpreter": {
   "hash": "ac59ebe37160ed0dfa835113d9b8498d9f09ceb179beaac4002f036b9467c963"
  },
  "kernelspec": {
   "display_name": "Python 3.9.10 64-bit",
   "language": "python",
   "name": "python3"
  },
  "language_info": {
   "codemirror_mode": {
    "name": "ipython",
    "version": 3
   },
   "file_extension": ".py",
   "mimetype": "text/x-python",
   "name": "python",
   "nbconvert_exporter": "python",
   "pygments_lexer": "ipython3",
   "version": "3.9.10"
  },
  "orig_nbformat": 4
 },
 "nbformat": 4,
 "nbformat_minor": 2
}
