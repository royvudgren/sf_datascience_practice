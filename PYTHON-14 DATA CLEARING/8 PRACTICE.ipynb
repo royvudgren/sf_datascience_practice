{
 "cells": [
  {
   "cell_type": "markdown",
   "metadata": {},
   "source": [
    "# **Закрепление знаний**"
   ]
  },
  {
   "cell_type": "markdown",
   "metadata": {},
   "source": [
    "Этот набор данных создан для того, чтобы на основе определённых диагностических измерений предсказать, есть ли у пациента диабет. \n",
    "\n",
    "На выбор этих экземпляров из более крупной базы данных было наложено несколько ограничений. В частности, все пациенты здесь — женщины не моложе 21 года индейского происхождения Пима."
   ]
  },
  {
   "cell_type": "code",
   "execution_count": 45,
   "metadata": {},
   "outputs": [
    {
     "data": {
      "text/plain": [
       "778"
      ]
     },
     "metadata": {},
     "output_type": "display_data"
    },
    {
     "data": {
      "text/html": [
       "<div>\n",
       "<style scoped>\n",
       "    .dataframe tbody tr th:only-of-type {\n",
       "        vertical-align: middle;\n",
       "    }\n",
       "\n",
       "    .dataframe tbody tr th {\n",
       "        vertical-align: top;\n",
       "    }\n",
       "\n",
       "    .dataframe thead th {\n",
       "        text-align: right;\n",
       "    }\n",
       "</style>\n",
       "<table border=\"1\" class=\"dataframe\">\n",
       "  <thead>\n",
       "    <tr style=\"text-align: right;\">\n",
       "      <th></th>\n",
       "      <th>Pregnancies</th>\n",
       "      <th>Glucose</th>\n",
       "      <th>BloodPressure</th>\n",
       "      <th>SkinThickness</th>\n",
       "      <th>Insulin</th>\n",
       "      <th>BMI</th>\n",
       "      <th>DiabetesPedigreeFunction</th>\n",
       "      <th>Age</th>\n",
       "      <th>Outcome</th>\n",
       "      <th>Gender</th>\n",
       "    </tr>\n",
       "  </thead>\n",
       "  <tbody>\n",
       "    <tr>\n",
       "      <th>0</th>\n",
       "      <td>6</td>\n",
       "      <td>98</td>\n",
       "      <td>58</td>\n",
       "      <td>33</td>\n",
       "      <td>190</td>\n",
       "      <td>34.0</td>\n",
       "      <td>0.430</td>\n",
       "      <td>43</td>\n",
       "      <td>0</td>\n",
       "      <td>Female</td>\n",
       "    </tr>\n",
       "    <tr>\n",
       "      <th>1</th>\n",
       "      <td>2</td>\n",
       "      <td>112</td>\n",
       "      <td>75</td>\n",
       "      <td>32</td>\n",
       "      <td>0</td>\n",
       "      <td>35.7</td>\n",
       "      <td>0.148</td>\n",
       "      <td>21</td>\n",
       "      <td>0</td>\n",
       "      <td>Female</td>\n",
       "    </tr>\n",
       "    <tr>\n",
       "      <th>2</th>\n",
       "      <td>2</td>\n",
       "      <td>108</td>\n",
       "      <td>64</td>\n",
       "      <td>0</td>\n",
       "      <td>0</td>\n",
       "      <td>30.8</td>\n",
       "      <td>0.158</td>\n",
       "      <td>21</td>\n",
       "      <td>0</td>\n",
       "      <td>Female</td>\n",
       "    </tr>\n",
       "    <tr>\n",
       "      <th>3</th>\n",
       "      <td>8</td>\n",
       "      <td>107</td>\n",
       "      <td>80</td>\n",
       "      <td>0</td>\n",
       "      <td>0</td>\n",
       "      <td>24.6</td>\n",
       "      <td>0.856</td>\n",
       "      <td>34</td>\n",
       "      <td>0</td>\n",
       "      <td>Female</td>\n",
       "    </tr>\n",
       "    <tr>\n",
       "      <th>4</th>\n",
       "      <td>7</td>\n",
       "      <td>136</td>\n",
       "      <td>90</td>\n",
       "      <td>0</td>\n",
       "      <td>0</td>\n",
       "      <td>29.9</td>\n",
       "      <td>0.210</td>\n",
       "      <td>50</td>\n",
       "      <td>0</td>\n",
       "      <td>Female</td>\n",
       "    </tr>\n",
       "    <tr>\n",
       "      <th>5</th>\n",
       "      <td>6</td>\n",
       "      <td>103</td>\n",
       "      <td>72</td>\n",
       "      <td>32</td>\n",
       "      <td>190</td>\n",
       "      <td>37.7</td>\n",
       "      <td>0.324</td>\n",
       "      <td>55</td>\n",
       "      <td>0</td>\n",
       "      <td>Female</td>\n",
       "    </tr>\n",
       "    <tr>\n",
       "      <th>6</th>\n",
       "      <td>1</td>\n",
       "      <td>71</td>\n",
       "      <td>48</td>\n",
       "      <td>18</td>\n",
       "      <td>76</td>\n",
       "      <td>20.4</td>\n",
       "      <td>0.323</td>\n",
       "      <td>22</td>\n",
       "      <td>0</td>\n",
       "      <td>Female</td>\n",
       "    </tr>\n",
       "    <tr>\n",
       "      <th>7</th>\n",
       "      <td>0</td>\n",
       "      <td>117</td>\n",
       "      <td>0</td>\n",
       "      <td>0</td>\n",
       "      <td>0</td>\n",
       "      <td>33.8</td>\n",
       "      <td>0.932</td>\n",
       "      <td>44</td>\n",
       "      <td>0</td>\n",
       "      <td>Female</td>\n",
       "    </tr>\n",
       "    <tr>\n",
       "      <th>8</th>\n",
       "      <td>4</td>\n",
       "      <td>154</td>\n",
       "      <td>72</td>\n",
       "      <td>29</td>\n",
       "      <td>126</td>\n",
       "      <td>31.3</td>\n",
       "      <td>0.338</td>\n",
       "      <td>37</td>\n",
       "      <td>0</td>\n",
       "      <td>Female</td>\n",
       "    </tr>\n",
       "    <tr>\n",
       "      <th>9</th>\n",
       "      <td>5</td>\n",
       "      <td>147</td>\n",
       "      <td>78</td>\n",
       "      <td>0</td>\n",
       "      <td>0</td>\n",
       "      <td>33.7</td>\n",
       "      <td>0.218</td>\n",
       "      <td>65</td>\n",
       "      <td>0</td>\n",
       "      <td>Female</td>\n",
       "    </tr>\n",
       "    <tr>\n",
       "      <th>10</th>\n",
       "      <td>10</td>\n",
       "      <td>111</td>\n",
       "      <td>70</td>\n",
       "      <td>27</td>\n",
       "      <td>0</td>\n",
       "      <td>27.5</td>\n",
       "      <td>0.141</td>\n",
       "      <td>40</td>\n",
       "      <td>1</td>\n",
       "      <td>Female</td>\n",
       "    </tr>\n",
       "    <tr>\n",
       "      <th>11</th>\n",
       "      <td>7</td>\n",
       "      <td>179</td>\n",
       "      <td>95</td>\n",
       "      <td>31</td>\n",
       "      <td>0</td>\n",
       "      <td>34.2</td>\n",
       "      <td>0.164</td>\n",
       "      <td>60</td>\n",
       "      <td>0</td>\n",
       "      <td>Female</td>\n",
       "    </tr>\n",
       "    <tr>\n",
       "      <th>12</th>\n",
       "      <td>4</td>\n",
       "      <td>148</td>\n",
       "      <td>60</td>\n",
       "      <td>27</td>\n",
       "      <td>318</td>\n",
       "      <td>30.9</td>\n",
       "      <td>0.150</td>\n",
       "      <td>29</td>\n",
       "      <td>1</td>\n",
       "      <td>Female</td>\n",
       "    </tr>\n",
       "    <tr>\n",
       "      <th>13</th>\n",
       "      <td>5</td>\n",
       "      <td>96</td>\n",
       "      <td>74</td>\n",
       "      <td>18</td>\n",
       "      <td>67</td>\n",
       "      <td>33.6</td>\n",
       "      <td>0.997</td>\n",
       "      <td>43</td>\n",
       "      <td>0</td>\n",
       "      <td>Female</td>\n",
       "    </tr>\n",
       "    <tr>\n",
       "      <th>14</th>\n",
       "      <td>2</td>\n",
       "      <td>88</td>\n",
       "      <td>58</td>\n",
       "      <td>26</td>\n",
       "      <td>16</td>\n",
       "      <td>28.4</td>\n",
       "      <td>0.766</td>\n",
       "      <td>22</td>\n",
       "      <td>0</td>\n",
       "      <td>Female</td>\n",
       "    </tr>\n",
       "  </tbody>\n",
       "</table>\n",
       "</div>"
      ],
      "text/plain": [
       "    Pregnancies  Glucose  BloodPressure  SkinThickness  Insulin   BMI  \\\n",
       "0             6       98             58             33      190  34.0   \n",
       "1             2      112             75             32        0  35.7   \n",
       "2             2      108             64              0        0  30.8   \n",
       "3             8      107             80              0        0  24.6   \n",
       "4             7      136             90              0        0  29.9   \n",
       "5             6      103             72             32      190  37.7   \n",
       "6             1       71             48             18       76  20.4   \n",
       "7             0      117              0              0        0  33.8   \n",
       "8             4      154             72             29      126  31.3   \n",
       "9             5      147             78              0        0  33.7   \n",
       "10           10      111             70             27        0  27.5   \n",
       "11            7      179             95             31        0  34.2   \n",
       "12            4      148             60             27      318  30.9   \n",
       "13            5       96             74             18       67  33.6   \n",
       "14            2       88             58             26       16  28.4   \n",
       "\n",
       "    DiabetesPedigreeFunction  Age  Outcome  Gender  \n",
       "0                      0.430   43        0  Female  \n",
       "1                      0.148   21        0  Female  \n",
       "2                      0.158   21        0  Female  \n",
       "3                      0.856   34        0  Female  \n",
       "4                      0.210   50        0  Female  \n",
       "5                      0.324   55        0  Female  \n",
       "6                      0.323   22        0  Female  \n",
       "7                      0.932   44        0  Female  \n",
       "8                      0.338   37        0  Female  \n",
       "9                      0.218   65        0  Female  \n",
       "10                     0.141   40        1  Female  \n",
       "11                     0.164   60        0  Female  \n",
       "12                     0.150   29        1  Female  \n",
       "13                     0.997   43        0  Female  \n",
       "14                     0.766   22        0  Female  "
      ]
     },
     "execution_count": 45,
     "metadata": {},
     "output_type": "execute_result"
    }
   ],
   "source": [
    "import pandas as pd\n",
    "from IPython.display import display\n",
    "import numpy as np\n",
    "import math\n",
    "diabetes = pd.read_csv('data/diabetes_data.csv')\n",
    "display(diabetes.shape[0])\n",
    "diabetes.head(15)"
   ]
  },
  {
   "cell_type": "code",
   "execution_count": 46,
   "metadata": {},
   "outputs": [
    {
     "name": "stdout",
     "output_type": "stream",
     "text": [
      "Число найденных дубликатов: 10\n",
      "Результирующее число записей: 768\n"
     ]
    }
   ],
   "source": [
    "# Начнём с поиска дубликатов в данных. Найдите все повторяющиеся строки в данных и удалите их.\n",
    "# Для поиска используйте все признаки в данных. Сколько записей осталось в данных?\n",
    "\n",
    "dupl_columns = list(diabetes.columns)\n",
    "\n",
    "mask = diabetes.duplicated(subset=dupl_columns) # Создадим маску дубликатов с помощью метода duplicated() и произведём фильтрацию\n",
    "diabetes_duplicates = diabetes[mask]\n",
    "print(f'Число найденных дубликатов: {diabetes_duplicates.shape[0]}')\n",
    "\n",
    "diabetes = diabetes.drop_duplicates(subset=dupl_columns)\n",
    "print(f'Результирующее число записей: {diabetes.shape[0]}')"
   ]
  },
  {
   "cell_type": "code",
   "execution_count": 47,
   "metadata": {},
   "outputs": [
    {
     "name": "stdout",
     "output_type": "stream",
     "text": [
      "Gender: 100.0% одинаковых значений\n"
     ]
    },
    {
     "data": {
      "text/plain": [
       "9"
      ]
     },
     "metadata": {},
     "output_type": "display_data"
    }
   ],
   "source": [
    "# Далее найдите все неинформативные признаки в данных и избавьтесь от них.\n",
    "# В качестве порога информативности возьмите 0.99: удалите все признаки,\n",
    "# для которых 99 % значений повторяются или 99 % записей уникальны.\n",
    "# В ответ запишите имена признаков, которые вы нашли (без кавычек).\n",
    "\n",
    "#список неинформативных признаков\n",
    "low_information_cols = []\n",
    "\n",
    "#цикл по всем столбцам\n",
    "for col in diabetes.columns:\n",
    "    #наибольшая относительная частота в признаке\n",
    "    top_freq = diabetes[col].value_counts(normalize=True).max()\n",
    "    #доля уникальных значений от размера признака\n",
    "    nunique_ratio = diabetes[col].nunique() / diabetes[col].count()\n",
    "    # сравниваем наибольшую частоту с порогом\n",
    "    if top_freq > 0.95:\n",
    "        low_information_cols.append(col)\n",
    "        print(f'{col}: {round(top_freq*100, 2)}% одинаковых значений')\n",
    "    # сравниваем долю уникальных значений с порогом\n",
    "    if nunique_ratio > 0.95:\n",
    "        low_information_cols.append(col)\n",
    "        print(f'{col}: {round(nunique_ratio*100, 2)}% уникальных значений')\n",
    "        \n",
    "diabetes = diabetes.drop(low_information_cols, axis=1)\n",
    "display(diabetes.shape[1])"
   ]
  },
  {
   "cell_type": "code",
   "execution_count": 48,
   "metadata": {},
   "outputs": [
    {
     "data": {
      "text/plain": [
       "NaN      0.486979\n",
       "105.0    0.014323\n",
       "140.0    0.011719\n",
       "130.0    0.011719\n",
       "120.0    0.010417\n",
       "           ...   \n",
       "485.0    0.001302\n",
       "370.0    0.001302\n",
       "342.0    0.001302\n",
       "65.0     0.001302\n",
       "235.0    0.001302\n",
       "Name: Insulin, Length: 186, dtype: float64"
      ]
     },
     "metadata": {},
     "output_type": "display_data"
    }
   ],
   "source": [
    "# Замените все записи, равные 0, в столбцах Glucose, BloodPressure, SkinThickness,\n",
    "# Insulin и BMI на символ пропуска. Его вы можете взять из библиотеки numpy: np.nan.\n",
    "# Какая доля пропусков содержится в столбце Insulin? Ответ округлите до сотых.\n",
    "\n",
    "diabetes['Glucose']=diabetes['Glucose'].apply(lambda x: x if x!=0 else np.nan)\n",
    "diabetes['BloodPressure']=diabetes['BloodPressure'].apply(lambda x: x if x!=0 else np.nan)\n",
    "diabetes['SkinThickness']=diabetes['SkinThickness'].apply(lambda x: x if x!=0 else np.nan)\n",
    "diabetes['Insulin']=diabetes['Insulin'].apply(lambda x: x if x!=0 else np.nan)\n",
    "diabetes['BMI']=diabetes['BMI'].apply(lambda x: x if x!=0 else np.nan)\n",
    "\n",
    "display(diabetes['Insulin'].value_counts(normalize=True,dropna=False))"
   ]
  },
  {
   "cell_type": "code",
   "execution_count": 49,
   "metadata": {},
   "outputs": [
    {
     "data": {
      "text/plain": [
       "8"
      ]
     },
     "metadata": {},
     "output_type": "display_data"
    }
   ],
   "source": [
    "# Удалите из данных признаки, где число пропусков составляет более 30 %.\n",
    "# Сколько признаков осталось в ваших данных (с учетом удаленных неинформативных признаков в задании 8.2)?\n",
    "\n",
    "# отбрасываем столбцы с числом пропусков более 30% (100-30)\n",
    "n = diabetes.shape[0] # число строк в таблице\n",
    "thresh = math.ceil(n*0.7)\n",
    "diabetes = diabetes.dropna(how='any', thresh=thresh, axis=1)\n",
    "display(diabetes.shape[1])"
   ]
  },
  {
   "cell_type": "code",
   "execution_count": 50,
   "metadata": {},
   "outputs": [
    {
     "data": {
      "text/plain": [
       "761"
      ]
     },
     "metadata": {},
     "output_type": "display_data"
    }
   ],
   "source": [
    "# Удалите из данных только те строки, в которых содержится более двух пропусков одновременно.\n",
    "# Чему равно результирующее число записей в таблице\n",
    "\n",
    "# отбрасываем строки с числом пропусков более 2 в строке\n",
    "cols = diabetes.shape[1] #число признаков после удаления столбцов\n",
    "diabetes = diabetes.dropna(how='any', thresh=cols-2, axis=0)\n",
    "display(diabetes.shape[0])"
   ]
  },
  {
   "cell_type": "code",
   "execution_count": 58,
   "metadata": {},
   "outputs": [
    {
     "data": {
      "text/plain": [
       "29.1"
      ]
     },
     "metadata": {},
     "output_type": "display_data"
    }
   ],
   "source": [
    "# В оставшихся записях замените пропуски на медиану.\n",
    "# Чему равно среднее значение в столбце SkinThickness? Ответ округлите до десятых.\n",
    "diabetes=diabetes.fillna(value={'Glucose': diabetes['Glucose'].median(), 'BloodPressure': diabetes['BloodPressure'].median(), 'SkinThickness': diabetes['SkinThickness'].median(), 'BMI': diabetes['BMI'].median()}) \n",
    "display(diabetes['SkinThickness'].mean().round(1))"
   ]
  },
  {
   "cell_type": "code",
   "execution_count": 72,
   "metadata": {},
   "outputs": [
    {
     "name": "stdout",
     "output_type": "stream",
     "text": [
      "Число выбросов по методу Тьюки: 87\n",
      "Результирующее число записей: 674\n"
     ]
    }
   ],
   "source": [
    "# Сколько выбросов найдёт классический метод межквартильного размаха в признаке SkinThickness?\n",
    "\n",
    "def outliers_iqr_mod(data, feature, left=1.5, right=1.5, log_scale=False):\n",
    "    if log_scale==False:\n",
    "        x = data[feature]\n",
    "    else:\n",
    "        x = np.log(data[feature])\n",
    "    quartile_1, quartile_3 = x.quantile(0.25), x.quantile(0.75),\n",
    "    iqr = quartile_3 - quartile_1\n",
    "    lower_bound = quartile_1 - (iqr * left)\n",
    "    upper_bound = quartile_3 + (iqr * right)\n",
    "    outliers = data[(x<lower_bound) | (x > upper_bound)]\n",
    "    cleaned = data[(x>lower_bound) & (x < upper_bound)]\n",
    "    return outliers, cleaned\n",
    "\n",
    "outliers, cleaned = outliers_iqr_mod(diabetes, 'SkinThickness')\n",
    "print(f'Число выбросов по методу Тьюки: {outliers.shape[0]}')\n",
    "print(f'Результирующее число записей: {cleaned.shape[0]}')\n"
   ]
  },
  {
   "cell_type": "code",
   "execution_count": 63,
   "metadata": {},
   "outputs": [
    {
     "name": "stdout",
     "output_type": "stream",
     "text": [
      "Число выбросов по методу z-отклонения: 4\n",
      "Результирующее число записей: 757\n"
     ]
    }
   ],
   "source": [
    "# Сколько выбросов найдёт классический метод z-отклонения в признаке SkinThickness?\n",
    "\n",
    "def outliers_z_score(data, feature, log_scale=False):\n",
    "    if log_scale:\n",
    "        x = np.log(data[feature]+1)\n",
    "    else:\n",
    "        x = data[feature]\n",
    "    mu = x.mean()\n",
    "    sigma = x.std()\n",
    "    lower_bound = mu - 3 * sigma\n",
    "    upper_bound = mu + 3 * sigma\n",
    "    outliers = data[(x < lower_bound) | (x > upper_bound)]\n",
    "    cleaned = data[(x > lower_bound) & (x < upper_bound)]\n",
    "    return outliers, cleaned\n",
    "\n",
    "outliers, cleaned = outliers_z_score(diabetes, 'SkinThickness')\n",
    "print(f'Число выбросов по методу z-отклонения: {outliers.shape[0]}')\n",
    "print(f'Результирующее число записей: {cleaned.shape[0]}')"
   ]
  },
  {
   "cell_type": "code",
   "execution_count": 73,
   "metadata": {},
   "outputs": [
    {
     "name": "stdout",
     "output_type": "stream",
     "text": [
      "Число выбросов по методу Тьюки: 29\n",
      "Результирующее число записей: 732\n",
      "Число выбросов по методу Тьюки с логарифмированием: 0\n",
      "Результирующее число записей: 761\n"
     ]
    },
    {
     "data": {
      "text/plain": [
       "29"
      ]
     },
     "metadata": {},
     "output_type": "display_data"
    }
   ],
   "source": [
    "# Найдите сначала число выбросов в признаке DiabetesPedigreeFunction с помощью классического метода межквартильного размаха.\n",
    "# Затем найдите число выбросов в этом же признаке в логарифмическом масштабе (при логарифмировании единицу прибавлять не нужно!).\n",
    "# Какова разница между двумя этими числами\n",
    "\n",
    "outliers, cleaned = outliers_iqr_mod(diabetes, 'DiabetesPedigreeFunction')\n",
    "print(f'Число выбросов по методу Тьюки: {outliers.shape[0]}')\n",
    "print(f'Результирующее число записей: {cleaned.shape[0]}')\n",
    "\n",
    "outliers_LOG, cleaned_LOG = outliers_iqr_mod(diabetes, 'DiabetesPedigreeFunction',log_scale=True)\n",
    "print(f'Число выбросов по методу Тьюки с логарифмированием: {outliers_LOG.shape[0]}')\n",
    "print(f'Результирующее число записей: {cleaned_LOG.shape[0]}')\n",
    "\n",
    "difference = outliers.shape[0] - outliers_LOG.shape[0]\n",
    "display(difference)"
   ]
  }
 ],
 "metadata": {
  "interpreter": {
   "hash": "ac59ebe37160ed0dfa835113d9b8498d9f09ceb179beaac4002f036b9467c963"
  },
  "kernelspec": {
   "display_name": "Python 3.9.10 64-bit",
   "language": "python",
   "name": "python3"
  },
  "language_info": {
   "codemirror_mode": {
    "name": "ipython",
    "version": 3
   },
   "file_extension": ".py",
   "mimetype": "text/x-python",
   "name": "python",
   "nbconvert_exporter": "python",
   "pygments_lexer": "ipython3",
   "version": "3.9.10"
  },
  "orig_nbformat": 4
 },
 "nbformat": 4,
 "nbformat_minor": 2
}
